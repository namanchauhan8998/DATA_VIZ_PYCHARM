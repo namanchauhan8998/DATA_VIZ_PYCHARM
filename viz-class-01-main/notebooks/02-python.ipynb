{
 "cells": [
  {
   "cell_type": "markdown",
   "id": "d9c74ee4-a4b3-46ad-9554-da646c85624c",
   "metadata": {},
   "source": [
    "# Introduction to Python\n",
    "\n",
    "As mentioned this course is very hand-on and coding heavy...\n",
    "\n",
    "### Contents:\n",
    "\n",
    "* [What is Python?](#what-is-python)\n",
    "    * Jupyter\n",
    "* [Variables & Primitives](#variables-and-primitives)\n",
    "* [Function Basics](#function-basics)\n",
    "* [Conditional Statements](#conditional-statements)"
   ]
  },
  {
   "cell_type": "markdown",
   "id": "0698ee83-7fde-4dfc-abdc-a4f09a9945b2",
   "metadata": {},
   "source": [
    "<a id='what-is-python'></a>\n",
    "## What is Python\n",
    "\n",
    "Python is a high level programming language that is highly accessible to new and experienced software developers. We choose to write Python for a few reasons:\n",
    "\n",
    "* extremely easy to write\n",
    "* highly extensible\n",
    "* highly portable\n",
    "\n",
    "These spects of Python make it great for data scientists who may be less versed in coding. Python however is *slow*. Fortunately though in the majority of cases this slowness does not negate the above three benefits of Python. There have also been many pursuits to improve the performance of Python. There are many *packages* for Python geared for high performance computing that can entirely negate the performance issues that inherently come with Python. Some of these packages are:\n",
    "\n",
    "* NumPy [Is written in C to speed up the code run on python]\n",
    "* numba [Newer than NumPy. Converts python code and conversts to C code and runs it. Better than Numpy. Faster than Numpy]\n",
    "* dask [Used during end of sem. Has first class support for python]\n",
    "\n",
    "We will learn about these later. Python is an imperfect language, but it has a tremendously large community behind it, and the many years surrounding Python developement have enabled the language to effectively be able to do *anything* (even if not entirely well!). As a programming language, there are rules and expected syntax that must be followed. Breaking these rules results in code that does not work, and most of the time results in a critical error."
   ]
  },
  {
   "cell_type": "markdown",
   "id": "5d451b53-7157-4a73-836b-796d4dba5c25",
   "metadata": {},
   "source": [
    "<a id='jupyter'></a>\n",
    "### Jupyter\n",
    "\n",
    "It is through Python that we will load data, transform it, and visualize it. The visualizations that we will produce can be used for presentations, publications, and more. Python and the packages we will use give us a great amount of control over our data, and we will be able to very quickly produce analyses! *Jupyter* - which is this tool that we are using right now - allows us to combine code, results, and explanation all in one document. These documents are called *notebooks* and they allow us to write both *markdown* and *python* side by side. The Python code can be interactively executed in a *kernel*. This means that the code is actually executed on some computer, and that computer sends the results back to Jupyter. Notebooks are comprised of *cells*. You can execute cells in any order, and re-execute them as many times as you like!\n",
    "\n",
    "We will learn more about Jupyter as we dive into the material!"
   ]
  },
  {
   "cell_type": "markdown",
   "id": "ec8f6166-0469-4a8b-99bc-c3adfb731d16",
   "metadata": {},
   "source": [
    "<a id='variables-and-primitives'></a>\n",
    "## Variables & Primitives\n",
    "\n",
    "At the core of any Python program are *variables*. Variables are named objects in our code that hold onto data. There are many *types* of variables. A *type* refers to the kind of data a variable represents and what we can do with it. The four basic (*primitive*) types in Python are:\n",
    "\n",
    "* boolean (`bool`)\n",
    "* integer (`int`)\n",
    "* floating point number (`float`)\n",
    "* string (`str`)\n",
    "\n",
    "A boolean is a type that can only have one of two values: `True` or `False`. These are *logical* values to be used when computing if something is actually true or false.\n",
    "\n",
    "An integer is any number without a decimal.\n",
    "\n",
    "A floating point number is any number with a decimal.\n",
    "\n",
    "A string is a sequence of characters. Here are a few examples:"
   ]
  },
  {
   "cell_type": "code",
   "execution_count": 1,
   "id": "af3bcf5e-703f-4329-b776-e4a03f22f742",
   "metadata": {
    "ExecuteTime": {
     "end_time": "2023-10-21T19:10:33.007164Z",
     "start_time": "2023-10-21T19:10:33.000801Z"
    }
   },
   "outputs": [
    {
     "data": {
      "text/plain": "True"
     },
     "execution_count": 1,
     "metadata": {},
     "output_type": "execute_result"
    }
   ],
   "source": [
    "True"
   ]
  },
  {
   "cell_type": "code",
   "execution_count": 2,
   "id": "0deec6f4-6da9-4350-b492-d74b947aefde",
   "metadata": {
    "ExecuteTime": {
     "end_time": "2023-10-21T19:10:33.569803Z",
     "start_time": "2023-10-21T19:10:33.563007Z"
    }
   },
   "outputs": [
    {
     "data": {
      "text/plain": "1337"
     },
     "execution_count": 2,
     "metadata": {},
     "output_type": "execute_result"
    }
   ],
   "source": [
    "1337"
   ]
  },
  {
   "cell_type": "code",
   "execution_count": 3,
   "id": "c1609607-0f99-47d9-bd33-58f2c24fd2fe",
   "metadata": {
    "ExecuteTime": {
     "end_time": "2023-10-21T19:10:34.365953Z",
     "start_time": "2023-10-21T19:10:34.354913Z"
    }
   },
   "outputs": [
    {
     "data": {
      "text/plain": "3.141592653589"
     },
     "execution_count": 3,
     "metadata": {},
     "output_type": "execute_result"
    }
   ],
   "source": [
    "3.141592653589"
   ]
  },
  {
   "cell_type": "code",
   "execution_count": 4,
   "id": "3e0e7f2c-a8f0-43da-9863-ad89ad523405",
   "metadata": {
    "ExecuteTime": {
     "end_time": "2023-10-21T19:10:35.057200Z",
     "start_time": "2023-10-21T19:10:35.052958Z"
    }
   },
   "outputs": [
    {
     "data": {
      "text/plain": "'Hello World!'"
     },
     "execution_count": 4,
     "metadata": {},
     "output_type": "execute_result"
    }
   ],
   "source": [
    "'Hello World!'"
   ]
  },
  {
   "cell_type": "markdown",
   "id": "375f4627-c8de-48cb-90c2-cdde22301273",
   "metadata": {},
   "source": [
    "Each of these types of data can be used in specific contexts; these are usually intuitive and familiar already."
   ]
  },
  {
   "cell_type": "code",
   "execution_count": 5,
   "id": "19ba3140-f6ae-4b91-80d7-0eb3bcf352d4",
   "metadata": {
    "ExecuteTime": {
     "end_time": "2023-10-21T19:10:36.027011Z",
     "start_time": "2023-10-21T19:10:36.024029Z"
    }
   },
   "outputs": [
    {
     "data": {
      "text/plain": "False"
     },
     "execution_count": 5,
     "metadata": {},
     "output_type": "execute_result"
    }
   ],
   "source": [
    "True and False"
   ]
  },
  {
   "cell_type": "code",
   "execution_count": 6,
   "id": "ce5d3152-bebb-4c88-8370-5be6bea07095",
   "metadata": {
    "ExecuteTime": {
     "end_time": "2023-10-21T19:10:36.468521Z",
     "start_time": "2023-10-21T19:10:36.464700Z"
    }
   },
   "outputs": [
    {
     "data": {
      "text/plain": "191"
     },
     "execution_count": 6,
     "metadata": {},
     "output_type": "execute_result"
    }
   ],
   "source": [
    "1337 // 7"
   ]
  },
  {
   "cell_type": "markdown",
   "id": "1d92d826-cdf0-4db2-a6e6-688367baf767",
   "metadata": {},
   "source": [
    "3.141592653589 * 2.0 * 2.0"
   ]
  },
  {
   "cell_type": "markdown",
   "id": "6e6927c9-3310-4bec-a420-1307c72d7bec",
   "metadata": {},
   "source": [
    "Everything above here though are just data, not variables! We can *assign* a variable a value."
   ]
  },
  {
   "cell_type": "code",
   "execution_count": 7,
   "id": "6e356664-c50f-4970-a776-8c2a5ebf96ba",
   "metadata": {
    "ExecuteTime": {
     "end_time": "2023-10-21T19:10:37.553810Z",
     "start_time": "2023-10-21T19:10:37.547602Z"
    }
   },
   "outputs": [
    {
     "name": "stdout",
     "output_type": "stream",
     "text": [
      "True 1337 3.141592653589 Hello\n"
     ]
    },
    {
     "data": {
      "text/plain": "(True, 1337, 3.141592653589, 'Hello')"
     },
     "execution_count": 7,
     "metadata": {},
     "output_type": "execute_result"
    }
   ],
   "source": [
    "b = True\n",
    "i = 1337\n",
    "f = 3.141592653589\n",
    "s = 'Hello'\n",
    "print(b, i, f, s)\n",
    "(b, i, f, s) #THIS IS A TUPLE "
   ]
  },
  {
   "cell_type": "code",
   "execution_count": 8,
   "id": "582cdeea-e6b0-46b7-a676-0a1f1ad862bb",
   "metadata": {
    "ExecuteTime": {
     "end_time": "2023-10-21T19:10:38.035882Z",
     "start_time": "2023-10-21T19:10:38.032019Z"
    }
   },
   "outputs": [
    {
     "name": "stdout",
     "output_type": "stream",
     "text": [
      "True 7 4.0 Hello World!\n"
     ]
    }
   ],
   "source": [
    "bb = b or False\n",
    "ii = i // 191\n",
    "ff = f + 0.858407346411\n",
    "ss = s + ' World!'\n",
    "print(bb, ii, ff, ss)"
   ]
  },
  {
   "cell_type": "markdown",
   "id": "e98e1a9b-7db3-434c-a784-4fae13dc356a",
   "metadata": {},
   "source": [
    "We can use our variables in *expressions* and use operators to perform actions with them. With booleans we can evaluate logical statements; with integers and floating point numbers we can perform arithmetic; and with strings we can perform concatenations and other string manipulations. Given data and a *context* we can have our code represent basically anything! A float can be a distance, a string can be a direction, etc. We can use variable names to better describe what the variable is representing."
   ]
  },
  {
   "cell_type": "code",
   "execution_count": 9,
   "id": "fa640bb4-3d8d-44fa-a009-495d79774ad7",
   "metadata": {
    "ExecuteTime": {
     "end_time": "2023-10-21T19:10:38.573554Z",
     "start_time": "2023-10-21T19:10:38.570269Z"
    }
   },
   "outputs": [
    {
     "data": {
      "text/plain": "8.2387"
     },
     "execution_count": 9,
     "metadata": {},
     "output_type": "execute_result"
    }
   ],
   "source": [
    "d = 8.2387           # bad\n",
    "distance = 8.2387    # better\n",
    "distance_m = 8.2387  # best!\n",
    "distance_m"
   ]
  },
  {
   "cell_type": "markdown",
   "id": "5d7175fb-44d2-41c9-8def-b51ff503429b",
   "metadata": {},
   "source": [
    "It is imoprtant that we choose variable names that are descriptive and make sense. In the above example, `d` is probably ok for representing distance, but perhaps `d` means something different to someone else. In this case `d` is not descriptive enough. So you may change it and use `distance`. This is much better, as it is clear that you are intending to represent a distance. But at what scale ar we talking about? A distance can be micro or macro in scale. We can just name our variable with the intended units to help guide the reader. Therefore, naming a variable for distance as `distance_m` indicates to the reader that the variable is a distance *and* its value is in meters.\n",
    "\n",
    "Note that it is very possible to use variables in an incorrect way. Consider trying to add an integer and a string:"
   ]
  },
  {
   "cell_type": "code",
   "execution_count": 10,
   "id": "fd26cdfe-6ca2-40a7-9797-063abe05cc97",
   "metadata": {
    "ExecuteTime": {
     "end_time": "2023-10-21T19:10:39.312313Z",
     "start_time": "2023-10-21T19:10:39.173569Z"
    }
   },
   "outputs": [
    {
     "ename": "TypeError",
     "evalue": "unsupported operand type(s) for +: 'float' and 'str'",
     "output_type": "error",
     "traceback": [
      "\u001B[0;31m---------------------------------------------------------------------------\u001B[0m",
      "\u001B[0;31mTypeError\u001B[0m                                 Traceback (most recent call last)",
      "Cell \u001B[0;32mIn[10], line 1\u001B[0m\n\u001B[0;32m----> 1\u001B[0m distance_string_km \u001B[38;5;241m=\u001B[39m \u001B[43mdistance_m\u001B[49m\u001B[43m \u001B[49m\u001B[38;5;241;43m/\u001B[39;49m\u001B[43m \u001B[49m\u001B[38;5;241;43m1000.0\u001B[39;49m\u001B[43m \u001B[49m\u001B[38;5;241;43m+\u001B[39;49m\u001B[43m \u001B[49m\u001B[38;5;124;43m'\u001B[39;49m\u001B[38;5;124;43mkm\u001B[39;49m\u001B[38;5;124;43m'\u001B[39;49m\n",
      "\u001B[0;31mTypeError\u001B[0m: unsupported operand type(s) for +: 'float' and 'str'"
     ]
    }
   ],
   "source": [
    "distance_string_km = distance_m / 1000.0 + 'km'"
   ]
  },
  {
   "cell_type": "markdown",
   "id": "6ecfa877-485c-4541-91fc-20fcb428e125",
   "metadata": {},
   "source": [
    "This operation is not allowed - while `distance_m / 1000.0` is totally valid and results in another float, we try to add a string to that new float. What would it even mean to add a float and a string? Python prevents this from happening and instead returns an *error* explaining what went wrong. Note here that because of the error, `distance_string_km` is never created!\n"
   ]
  },
  {
   "cell_type": "code",
   "execution_count": 11,
   "id": "fb933fc9-2622-4c1a-a86a-44d3b13d2ab3",
   "metadata": {
    "ExecuteTime": {
     "end_time": "2023-10-21T19:10:40.342780Z",
     "start_time": "2023-10-21T19:10:40.322048Z"
    }
   },
   "outputs": [
    {
     "ename": "NameError",
     "evalue": "name 'distance_string_km' is not defined",
     "output_type": "error",
     "traceback": [
      "\u001B[0;31m---------------------------------------------------------------------------\u001B[0m",
      "\u001B[0;31mNameError\u001B[0m                                 Traceback (most recent call last)",
      "Cell \u001B[0;32mIn[11], line 1\u001B[0m\n\u001B[0;32m----> 1\u001B[0m \u001B[43mdistance_string_km\u001B[49m \n",
      "\u001B[0;31mNameError\u001B[0m: name 'distance_string_km' is not defined"
     ]
    }
   ],
   "source": [
    "distance_string_km "
   ]
  },
  {
   "cell_type": "code",
   "execution_count": 12,
   "id": "905927ad-1c2f-4feb-8bba-5123549490b1",
   "metadata": {
    "ExecuteTime": {
     "end_time": "2023-10-21T19:10:40.620567Z",
     "start_time": "2023-10-21T19:10:40.616948Z"
    }
   },
   "outputs": [
    {
     "data": {
      "text/plain": "'0.0082387 km'"
     },
     "execution_count": 12,
     "metadata": {},
     "output_type": "execute_result"
    }
   ],
   "source": [
    "distance_string_km = str(distance_m / 1000.0) + ' km'\n",
    "distance_string_km"
   ]
  },
  {
   "cell_type": "markdown",
   "id": "63214c57-19fc-436f-b432-76ba94bc4d2a",
   "metadata": {},
   "source": [
    "<a id='function-basics'></a>\n",
    "## Function Basics\n",
    "\n",
    "As expected we can also define *functions*. Functions are pieces of code that we can invoke to perform some defined set of actions. Functions can take in *arguments* (e.g. inputs) and can return data (e.g. outputs). Every function is defined using the following format:\n",
    "\n",
    "```python\n",
    "def function_name(a, b):\n",
    "    # do stuff\n",
    "```\n",
    "\n",
    "Maybe we have a function that converts an input float to Celsius!"
   ]
  },
  {
   "cell_type": "code",
   "execution_count": 13,
   "id": "0cccb377-2113-4418-932c-49e4fcfd342f",
   "metadata": {
    "ExecuteTime": {
     "end_time": "2023-10-21T19:10:40.988024Z",
     "start_time": "2023-10-21T19:10:40.984832Z"
    }
   },
   "outputs": [],
   "source": [
    "def fahrenheit_to_celsius(temp_f):\n",
    "    temp_c = (temp_f - 32.0) * 5.0 / 9.0\n",
    "    return temp_c"
   ]
  },
  {
   "cell_type": "markdown",
   "id": "a8cb8e7f-5ef1-4c83-815e-d569f3b66ae3",
   "metadata": {},
   "source": [
    "This is only a *definition*. We need to *call* the function to use it!"
   ]
  },
  {
   "cell_type": "code",
   "execution_count": 14,
   "id": "03344316-eaa1-4b1d-b210-656482b94e21",
   "metadata": {
    "ExecuteTime": {
     "end_time": "2023-10-21T19:10:41.270052Z",
     "start_time": "2023-10-21T19:10:41.266318Z"
    }
   },
   "outputs": [
    {
     "data": {
      "text/plain": "100.0"
     },
     "execution_count": 14,
     "metadata": {},
     "output_type": "execute_result"
    }
   ],
   "source": [
    "fahrenheit_to_celsius(212.0)"
   ]
  },
  {
   "cell_type": "code",
   "execution_count": 14,
   "id": "32f11349-f66e-484c-9b3b-cc9930d66ce7",
   "metadata": {
    "ExecuteTime": {
     "end_time": "2023-10-21T19:10:41.410236Z",
     "start_time": "2023-10-21T19:10:41.407692Z"
    }
   },
   "outputs": [],
   "source": []
  },
  {
   "cell_type": "markdown",
   "id": "aabd82e3-266e-42fb-a6e3-f8bd74c62216",
   "metadata": {},
   "source": [
    "Try writing a function called `celsius_to_fahrenheit` that converts an input temperature `temp_c` to Fahrenheit."
   ]
  },
  {
   "cell_type": "code",
   "execution_count": 15,
   "id": "ce1492f0-6ee6-4fad-b21a-2a773fad70dd",
   "metadata": {
    "ExecuteTime": {
     "end_time": "2023-10-21T19:10:42.146014Z",
     "start_time": "2023-10-21T19:10:42.142646Z"
    }
   },
   "outputs": [],
   "source": [
    "# write a new function in this cell!\n",
    "\n",
    "def celsius_to_fahrenheit(temp_c):\n",
    "    temp_f=((temp_c*9.0)/5.0)+32\n",
    "    return temp_f\n",
    "    "
   ]
  },
  {
   "cell_type": "code",
   "execution_count": 16,
   "id": "81e0d213-fcb7-4a2a-9c67-293464b51fe5",
   "metadata": {
    "ExecuteTime": {
     "end_time": "2023-10-21T19:10:42.304583Z",
     "start_time": "2023-10-21T19:10:42.301425Z"
    }
   },
   "outputs": [
    {
     "data": {
      "text/plain": "212.0"
     },
     "execution_count": 16,
     "metadata": {},
     "output_type": "execute_result"
    }
   ],
   "source": [
    "celsius_to_fahrenheit(100)"
   ]
  },
  {
   "cell_type": "markdown",
   "id": "39c265a5-20fd-4d57-a6be-8bcd182e2e62",
   "metadata": {},
   "source": [
    "Functions can take 0, 1 or many arguments. They do not need to return anything, but but return 0, 1, or many things at once! Consider the following function that takes in a speed and a time and computes the distance traveled:"
   ]
  },
  {
   "cell_type": "code",
   "execution_count": 17,
   "id": "a2bb1509-0b9c-4f5e-a090-41f9475bdbea",
   "metadata": {
    "ExecuteTime": {
     "end_time": "2023-10-21T19:10:42.586457Z",
     "start_time": "2023-10-21T19:10:42.583155Z"
    }
   },
   "outputs": [
    {
     "data": {
      "text/plain": "200.0"
     },
     "execution_count": 17,
     "metadata": {},
     "output_type": "execute_result"
    }
   ],
   "source": [
    "def compute_distance_m(speed_mps, time_s):\n",
    "    distance_m = speed_mps * time_s\n",
    "    return distance_m \n",
    "\n",
    "compute_distance_m(100.0, 2.0)"
   ]
  },
  {
   "cell_type": "markdown",
   "id": "14f49894-69c1-427b-a553-a4a667a87ff9",
   "metadata": {},
   "source": [
    "While this function is trivial, it is clear from the *function name* what this function is doing. As you may suspect, this is nothing stopping someone from using this function incorrectly. Someone might try to use a string here..."
   ]
  },
  {
   "cell_type": "code",
   "execution_count": 18,
   "id": "4e96dea1-a47e-4ea4-a02a-dd196e69334c",
   "metadata": {
    "ExecuteTime": {
     "end_time": "2023-10-21T19:10:43.078205Z",
     "start_time": "2023-10-21T19:10:43.074816Z"
    }
   },
   "outputs": [
    {
     "ename": "TypeError",
     "evalue": "can't multiply sequence by non-int of type 'float'",
     "output_type": "error",
     "traceback": [
      "\u001B[0;31m---------------------------------------------------------------------------\u001B[0m",
      "\u001B[0;31mTypeError\u001B[0m                                 Traceback (most recent call last)",
      "Cell \u001B[0;32mIn[18], line 1\u001B[0m\n\u001B[0;32m----> 1\u001B[0m \u001B[43mcompute_distance_m\u001B[49m\u001B[43m(\u001B[49m\u001B[38;5;124;43m'\u001B[39;49m\u001B[38;5;124;43m100.0 m/s\u001B[39;49m\u001B[38;5;124;43m'\u001B[39;49m\u001B[43m,\u001B[49m\u001B[43m \u001B[49m\u001B[38;5;241;43m10.0\u001B[39;49m\u001B[43m)\u001B[49m\n",
      "Cell \u001B[0;32mIn[17], line 2\u001B[0m, in \u001B[0;36mcompute_distance_m\u001B[0;34m(speed_mps, time_s)\u001B[0m\n\u001B[1;32m      1\u001B[0m \u001B[38;5;28;01mdef\u001B[39;00m \u001B[38;5;21mcompute_distance_m\u001B[39m(speed_mps, time_s):\n\u001B[0;32m----> 2\u001B[0m     distance_m \u001B[38;5;241m=\u001B[39m \u001B[43mspeed_mps\u001B[49m\u001B[43m \u001B[49m\u001B[38;5;241;43m*\u001B[39;49m\u001B[43m \u001B[49m\u001B[43mtime_s\u001B[49m\n\u001B[1;32m      3\u001B[0m     \u001B[38;5;28;01mreturn\u001B[39;00m distance_m\n",
      "\u001B[0;31mTypeError\u001B[0m: can't multiply sequence by non-int of type 'float'"
     ]
    }
   ],
   "source": [
    "compute_distance_m('100.0 m/s', 10.0)"
   ]
  },
  {
   "cell_type": "markdown",
   "id": "7bc6441d-44a7-4ee1-8692-38d08fd404e2",
   "metadata": {},
   "source": [
    "We can add *type hints* to hint to the coder how they should try to use a function. Let's rewrite our function above with type hints."
   ]
  },
  {
   "cell_type": "code",
   "execution_count": 19,
   "id": "7b653930-5b78-44ca-8d03-7d38018c7908",
   "metadata": {
    "ExecuteTime": {
     "end_time": "2023-10-21T19:10:43.871652Z",
     "start_time": "2023-10-21T19:10:43.868387Z"
    }
   },
   "outputs": [
    {
     "data": {
      "text/plain": "200.0"
     },
     "execution_count": 19,
     "metadata": {},
     "output_type": "execute_result"
    }
   ],
   "source": [
    "def compute_distance_m(speed_mps: float, time_s: float) -> float:\n",
    "    distance_m = speed_mps * time_s\n",
    "    return distance_m \n",
    "\n",
    "compute_distance_m(100.0, 2.0)"
   ]
  },
  {
   "cell_type": "markdown",
   "id": "f4402c26-b3f4-4a21-8eae-7aede09caae1",
   "metadata": {},
   "source": [
    "Above we have just added *hints* to the function that state that the input variables are each a float, and that the function returns a float. **Note that this still does not prevent someone from using the function incorrectly.** Note that below we are passing a bool instead of a float, *and it works*. Bool values can be used in arthimetic expressions, and so the function code could be executed perfectly fine. The type hints are simply hints, not hard rules. This means that anyone is free to ignore them!"
   ]
  },
  {
   "cell_type": "code",
   "execution_count": 20,
   "id": "01630dd0-0a0d-4093-a71e-7717ed12679e",
   "metadata": {
    "ExecuteTime": {
     "end_time": "2023-10-21T19:10:44.555479Z",
     "start_time": "2023-10-21T19:10:44.549169Z"
    }
   },
   "outputs": [
    {
     "data": {
      "text/plain": "10.0"
     },
     "execution_count": 20,
     "metadata": {},
     "output_type": "execute_result"
    }
   ],
   "source": [
    "compute_distance_m(True, 10.0)"
   ]
  },
  {
   "cell_type": "markdown",
   "id": "aef16b61-03ce-4f47-a8d2-4b8449f216a8",
   "metadata": {},
   "source": [
    "We can also define functions with *default values* so that additional flexibilty can be given to those that need it, but is otherwise hidden from the users that do not need it!"
   ]
  },
  {
   "cell_type": "code",
   "execution_count": 21,
   "id": "c2e010e0-9bca-47f6-b785-c600ccfd6db5",
   "metadata": {
    "ExecuteTime": {
     "end_time": "2023-10-21T19:10:44.895841Z",
     "start_time": "2023-10-21T19:10:44.893217Z"
    }
   },
   "outputs": [
    {
     "data": {
      "text/plain": "200.0"
     },
     "execution_count": 21,
     "metadata": {},
     "output_type": "execute_result"
    }
   ],
   "source": [
    "def compute_position_m(speed_mps: float, time_s: float, starting_position_m: float = 0.0):\n",
    "    position_m = starting_position_m + speed_mps * time_s\n",
    "    return position_m \n",
    "\n",
    "compute_position_m(100.0, 2.0)"
   ]
  },
  {
   "cell_type": "code",
   "execution_count": 22,
   "id": "ae0dac24-2adc-421e-aa33-68b092874806",
   "metadata": {
    "ExecuteTime": {
     "end_time": "2023-10-21T19:10:45.067268Z",
     "start_time": "2023-10-21T19:10:45.063917Z"
    }
   },
   "outputs": [
    {
     "data": {
      "text/plain": "500.0"
     },
     "execution_count": 22,
     "metadata": {},
     "output_type": "execute_result"
    }
   ],
   "source": [
    "compute_position_m(100.0, 2.0, 300.0)"
   ]
  },
  {
   "cell_type": "markdown",
   "id": "dda28920-b80c-4116-9836-4343b8d27796",
   "metadata": {},
   "source": [
    "We can *omit* the final input to the function, because it is given a default value of *0.0* when one is not supplied. We can use this to great effect for creating configurable functions!"
   ]
  },
  {
   "cell_type": "markdown",
   "id": "8ff93060-d1af-4d6c-a877-dda302fc64fd",
   "metadata": {},
   "source": [
    "<a id='conditional-statements'></a>\n",
    "### Conditional Statements\n",
    "\n",
    "Python also provides the typical control flow mechanisms - let's start with conditional statements. In a conditional statement we are checking if some value is logically true or false (think boolean!). If the statement is true, then we proceed to execute the code contained by the conditional statement; otherwise if the value is false then we do nothing. Simple conditional statements are of the form:\n",
    "\n",
    "```python\n",
    "if statement:\n",
    "    # do stuff\n",
    "```\n",
    "\n",
    "In this simple setup if `statement` is `True` then we proceed to \"do stuff\". Otherwise we would do nothing! Here `statement` is a bool - `True` or `False`. We can generate boolean values from other data by using *comparisons*. Comparisons simply check how one value compares to another. We can check if two values are equal, or if one is greater than another. We have a number of operators for comparing values.\n",
    "\n",
    "* `==` - checks if two values are equal\n",
    "* `!=` - checks if two values are inequal\n",
    "* `>` - checks if one value is greater than the other\n",
    "* `>=` - checks if one value is greater than or equal to the other\n",
    "* `<` - checks if one value is lesser than the other\n",
    "* `<=` - checks if one value is lesser than or equal to the other\n",
    "\n",
    "We can even perform compound conditions using `and` and `or` keywords.\n",
    "\n",
    "Here are a few examples:\n",
    "\n",
    "```python\n",
    "1 == 2              # False\n",
    "'hello' != 'world'  # True\n",
    "5 <= x <= 10        # depends on what x is!\n",
    "0.0 > 0.0           # False\n",
    "```\n",
    "\n",
    "Let's generate a random integer inclusively between 1 and 6 (like rolling a die) and check if the value if equal to 6. Let's try running it a few times!"
   ]
  },
  {
   "cell_type": "code",
   "execution_count": 23,
   "id": "51fbdc37-db19-49fe-a3e3-b08d7fa9bf5c",
   "metadata": {
    "ExecuteTime": {
     "end_time": "2023-10-21T19:10:46.794542Z",
     "start_time": "2023-10-21T19:10:46.792218Z"
    }
   },
   "outputs": [],
   "source": [
    "import random\n",
    "x = random.randint(1, 6)\n",
    "if x == 6:\n",
    "    print('Woo!')"
   ]
  },
  {
   "cell_type": "markdown",
   "id": "be270eb2-6bae-415d-9d32-775ebda24683",
   "metadata": {},
   "source": [
    "In the code above we are checking if a random integer between 1 and 6 is equal to 6. Other than the import and randomness shown, there are a few things to point out.\n",
    "\n",
    "```python\n",
    "if x == 6:\n",
    "```\n",
    "\n",
    "This is the conditional statement. We are using the equality operation `==` to check if `x` is equal to the value `6`. This operation returns a bool, either `True` or `False`. If the value of that bool is `True` then the *body* of the conditional statement is executed. Here the body is\n",
    "\n",
    "```python\n",
    "    print('Woo!')\n",
    "```\n",
    "\n",
    "This just prints the string `'Woo!'`, but only if `x` has a value of `6`.\n",
    "\n",
    "We can also check multiple different conditions to set up if-else sort of logic. The Python keywords `elif` and `else` allow us to check if other conditions are true if some other condition(s) is false."
   ]
  },
  {
   "cell_type": "code",
   "execution_count": 26,
   "id": "d47d9541-ab39-403c-a0b3-bea624b891a3",
   "metadata": {},
   "outputs": [
    {
     "name": "stdout",
     "output_type": "stream",
     "text": [
      "try again!\n"
     ]
    }
   ],
   "source": [
    "x = random.randint(1, 6)\n",
    "y = random.randint(1, 6)\n",
    "if x == y:\n",
    "    print(f'double {x}s')\n",
    "else:\n",
    "    print('try again!')"
   ]
  },
  {
   "cell_type": "code",
   "execution_count": 27,
   "id": "da57ca30-a78e-49b6-aa71-dba83ec222d0",
   "metadata": {},
   "outputs": [
    {
     "data": {
      "text/plain": [
       "(4, 3, 1)"
      ]
     },
     "execution_count": 27,
     "metadata": {},
     "output_type": "execute_result"
    }
   ],
   "source": [
    "x = random.randint(1, 6)\n",
    "y = random.randint(1, 6)\n",
    "if x > y:\n",
    "    z = 1\n",
    "elif y > x:\n",
    "    z = 2\n",
    "else:\n",
    "    z = 3\n",
    "(x, y, z)"
   ]
  },
  {
   "cell_type": "markdown",
   "id": "0169a435-40c5-4526-b5c5-27d9d1e44dba",
   "metadata": {},
   "source": [
    "Let's try writing a new function called `convert_temperature` that takes in a float and a string. The function should convert the float to Celsius if the string is equal to `'celsius'` and otherwise convert the temperature to Fahrenheit. The function should **return** the converted temperature."
   ]
  },
  {
   "cell_type": "code",
   "execution_count": 28,
   "id": "5eaf3ac9-e26a-4858-ac33-07d86b10dc09",
   "metadata": {},
   "outputs": [],
   "source": [
    "# write your function here!"
   ]
  },
  {
   "cell_type": "code",
   "execution_count": 29,
   "id": "e87f26b5-188d-4d3d-9a2b-4335c800b358",
   "metadata": {},
   "outputs": [
    {
     "ename": "NameError",
     "evalue": "name 'convert_temperature_to' is not defined",
     "output_type": "error",
     "traceback": [
      "\u001B[0;31m---------------------------------------------------------------------------\u001B[0m",
      "\u001B[0;31mNameError\u001B[0m                                 Traceback (most recent call last)",
      "Cell \u001B[0;32mIn[29], line 1\u001B[0m\n\u001B[0;32m----> 1\u001B[0m \u001B[43mconvert_temperature_to\u001B[49m(\u001B[38;5;241m34.0\u001B[39m, \u001B[38;5;124m'\u001B[39m\u001B[38;5;124mcelsius\u001B[39m\u001B[38;5;124m'\u001B[39m)  \u001B[38;5;66;03m# 1.1111111111111112\u001B[39;00m\n",
      "\u001B[0;31mNameError\u001B[0m: name 'convert_temperature_to' is not defined"
     ]
    }
   ],
   "source": [
    "convert_temperature_to(34.0, 'celsius')  # 1.1111111111111112"
   ]
  },
  {
   "cell_type": "code",
   "execution_count": 30,
   "id": "b72556bc-62d3-40ab-bd03-c29c64aed8f0",
   "metadata": {},
   "outputs": [
    {
     "ename": "NameError",
     "evalue": "name 'convert_temperature_to' is not defined",
     "output_type": "error",
     "traceback": [
      "\u001B[0;31m---------------------------------------------------------------------------\u001B[0m",
      "\u001B[0;31mNameError\u001B[0m                                 Traceback (most recent call last)",
      "Cell \u001B[0;32mIn[30], line 1\u001B[0m\n\u001B[0;32m----> 1\u001B[0m \u001B[43mconvert_temperature_to\u001B[49m(\u001B[38;5;241m98.6\u001B[39m, \u001B[38;5;124m'\u001B[39m\u001B[38;5;124mfahrenheit\u001B[39m\u001B[38;5;124m'\u001B[39m)  \u001B[38;5;66;03m# 209.48\u001B[39;00m\n",
      "\u001B[0;31mNameError\u001B[0m: name 'convert_temperature_to' is not defined"
     ]
    }
   ],
   "source": [
    "convert_temperature_to(98.6, 'fahrenheit')  # 209.48"
   ]
  },
  {
   "cell_type": "code",
   "execution_count": null,
   "id": "8d66c017-8c39-4ce7-930f-1b2035dbe407",
   "metadata": {},
   "outputs": [],
   "source": []
  },
  {
   "cell_type": "code",
   "execution_count": null,
   "id": "cfc0fbd1-4307-4716-8348-2e4129fe770b",
   "metadata": {},
   "outputs": [],
   "source": []
  },
  {
   "cell_type": "code",
   "execution_count": null,
   "id": "b3aa8182-1e22-40b3-8734-e81ae61447bd",
   "metadata": {},
   "outputs": [],
   "source": []
  },
  {
   "cell_type": "code",
   "execution_count": null,
   "id": "2d0d2860-51ee-4f03-a631-e8281e8df7a0",
   "metadata": {},
   "outputs": [],
   "source": []
  }
 ],
 "metadata": {
  "kernelspec": {
   "display_name": "Python 3 (ipykernel)",
   "language": "python",
   "name": "python3"
  },
  "language_info": {
   "codemirror_mode": {
    "name": "ipython",
    "version": 3
   },
   "file_extension": ".py",
   "mimetype": "text/x-python",
   "name": "python",
   "nbconvert_exporter": "python",
   "pygments_lexer": "ipython3",
   "version": "3.11.4"
  }
 },
 "nbformat": 4,
 "nbformat_minor": 5
}
