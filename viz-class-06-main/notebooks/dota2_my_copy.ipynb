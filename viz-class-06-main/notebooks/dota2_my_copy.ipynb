{
 "cells": [
  {
   "cell_type": "code",
   "execution_count": 65,
   "id": "20908a54",
   "metadata": {
    "ExecuteTime": {
     "end_time": "2023-10-22T23:18:56.690474Z",
     "start_time": "2023-10-22T23:18:56.657489Z"
    }
   },
   "outputs": [],
   "source": [
    "import warnings\n",
    "warnings.simplefilter(action='ignore', category=FutureWarning)"
   ]
  },
  {
   "cell_type": "markdown",
   "id": "d6b8eed4-8836-4005-a267-ee1752fd206c",
   "metadata": {},
   "source": [
    "# DotA2 Copy\n",
    "\n",
    "*Defense of the Ancients 2* is a MOBA developed by Valve, the sequel to the custom user map in Blizzard's *Warcraft III: The Frozen Throne*. It is one of the most popular games in all of eSports, and by far has the highest pay out pool of any game in history. *The International* (TI)is the premiere world championship Dota2 tournament, held annually. While the prize-pool changes year to year, 1st place takes home millions of dollars (8.5m in 2022, $18m in 2021, $15.6m in 2019, etc.). Leading up to TI are a series of leagues and qualifiers to determine participation.\n",
    "\n",
    "Dota2 is known for its extreme complexity and steep learning curve. There are 124 heroes (each with usually at least 4 abilities), 200+ items, and teams consisting of 5 heroes each. Parametrically this makes for an absurd number of combinations just in player selections - the complexity skyrockets even more when you consider lane pairings, item builds, and more. The amount of information one needs to know to competetively play DotA2 is astronomical (not to mention the general skill needed to control a character, coordinate with a team, and react to your opponents!). Trying to quantify the complexity and meta within the game is a near impossible task, but we can sift through large amounts of match data in order to understand trends in how the game is played today.\n",
    "\n",
    "In this notebook we are going to leverage match data from various professional leagues in 2023 leading up to TI2023 (Starting October 12,2023!). The website [OpenDota](https://docs.opendota.com/) has a complete API for requesting data. While it is free they do implement rate limiting (at which point they require paypent while limiting is in effect). So long as we keep our requsts below 60 calls per minute no rate limiting will be imposed (however... the data we need is going to be provided, so that we do not need to request data!).\n",
    "\n",
    "We are going to work with match data from the following majors/professional brackets:\n",
    "\n",
    "* [DreamLeague Season 19](https://liquipedia.net/dota2/DreamLeague/Season_19) (2023-04-09 - 2023-04-23)\n",
    "* [DreamLeague Season 20](https://liquipedia.net/dota2/DreamLeague/Season_20) (2023-06-11 - 2023-06-25)\n",
    "* [DreamLeague Season 21](https://liquipedia.net/dota2/DreamLeague/Season_21) (2023-09-18 - 2023-09-24)\n",
    "* [Lima Major 2023](https://liquipedia.net/dota2/Lima_Major/2023) (2023-02-22 - 2023-03-05)\n",
    "* [ESL One Berlin Major 2023](https://liquipedia.net/dota2/ESL_One/Berlin_Major/2023) (2023-04-26 - 2023-05-07)\n",
    "* [Bali Major 2023](https://liquipedia.net/dota2/Bali_Major/2023) (2023-06-29 - 2023-07-09)\n",
    "\n",
    "\n",
    "## Goals\n",
    "\n",
    "1. Determine the most popular heroes played\n",
    "2. Determine the most successful heroes played\n",
    "3. Determine how successful the most popular heroes are\n",
    "4. Determine the most *bannned* heroes; i.e. the heroes that teams do not wish to play against\n",
    "5. Determine the success of the most banned heroes *in games where they are not banned*\n",
    "6. Determine the most and least successful heroes against the statistically strongest hero in the pro circuit\n",
    "\n",
    "### Secondary Goals\n",
    "\n",
    "1. Learn to manipulate dataframes and explore data in tandem\n",
    "2. Learn how to focus our view of the data by looking at higher-impact data and deriving new data\n",
    "3. Learn how to merge multiple datasets together"
   ]
  },
  {
   "cell_type": "markdown",
   "id": "1388fbe9",
   "metadata": {},
   "source": [
    "## The Analysis\n",
    "\n",
    "We need to load our data first - this code is given to us!"
   ]
  },
  {
   "cell_type": "code",
   "execution_count": 66,
   "id": "30ff6a6d-508f-4800-b827-3085c3a5c917",
   "metadata": {
    "ExecuteTime": {
     "end_time": "2023-10-22T23:18:58.318392Z",
     "start_time": "2023-10-22T23:18:57.796084Z"
    }
   },
   "outputs": [
    {
     "data": {
      "text/plain": "        match_id  match_seq_num  radiant_win          start_time  duration  \\\n0     7102649472     5966088132        False 2023-04-11 14:59:51      3878   \n1     7114527708     5976670868        False 2023-04-19 16:58:38      2727   \n2     7099683300     5963412092        False 2023-04-09 13:33:07      2671   \n3     7102222768     5965674453         True 2023-04-11 09:55:14      2000   \n4     7115496899     5977534560         True 2023-04-20 12:25:02      2663   \n...          ...            ...          ...                 ...       ...   \n1057  7220548968     6071023256        False 2023-06-29 08:33:53      1835   \n1058  7226053436     6075962402        False 2023-07-03 03:35:56      2395   \n1059  7224774802     6074812509         True 2023-07-02 07:53:13      1805   \n1060  7224708614     6074758569        False 2023-07-02 06:55:07      1863   \n1061  7223294867     6073512927        False 2023-07-01 08:22:06      3421   \n\n      tower_status_radiant  tower_status_dire  barracks_status_radiant  \\\n0                        0               1828                        0   \n1                        0               1828                        0   \n2                     1536               2036                        0   \n3                     1975               1824                       63   \n4                     1542                260                       15   \n...                    ...                ...                      ...   \n1057                  1792               1974                       48   \n1058                     0               2036                        0   \n1059                  1983               1572                       63   \n1060                  1792               1974                       48   \n1061                  1028               1952                        3   \n\n      barracks_status_dire  cluster  ...  \\\n0                       63      274  ...   \n1                       63      272  ...   \n2                       63      274  ...   \n3                       60      274  ...   \n4                       51      271  ...   \n...                    ...      ...  ...   \n1057                    63      151  ...   \n1058                    63      151  ...   \n1059                    15      151  ...   \n1060                    63      154  ...   \n1061                    63      151  ...   \n\n                                       radiant_gold_adv  \\\n0     [416, 1124, 1330, 2115, 1858, 2024, 1445, 1756...   \n1     [-100, -64, 15, 616, 193, 31, -241, -1421, -60...   \n2     [0, 158, -233, -560, -510, -654, -719, -1168, ...   \n3     [0, 5, -279, -456, -108, 28, 97, 278, 385, 314...   \n4     [-312, -254, -181, 4, 832, 29, -12, -1259, -13...   \n...                                                 ...   \n1057  [0, 347, 242, -66, 48, 71, -478, -63, 1209, 79...   \n1058  [100, 18, -380, -624, -828, -1061, -1468, -152...   \n1059  [-463, -113, -260, -201, -244, 164, 221, 1064,...   \n1060  [0, -581, -480, -471, -438, -67, 457, 711, 685...   \n1061  [0, 52, 252, 458, 331, 306, 157, 223, 1969, 28...   \n\n                                         radiant_xp_adv  \\\n0     [150, -93, 427, 1133, 718, 888, 619, 864, 559,...   \n1     [-50, 35, -239, 490, -111, -456, -207, -939, -...   \n2     [0, 177, -440, -387, -727, -822, -614, -1053, ...   \n3     [0, -30, -155, -254, 88, -154, -175, -328, -22...   \n4     [-100, -96, 229, 223, 685, -87, 229, -1240, -7...   \n...                                                 ...   \n1057  [0, 370, 73, -99, -405, -246, -809, -415, 1563...   \n1058  [70, -14, -122, -432, -256, -558, -1009, -1101...   \n1059  [-99, -162, 101, -82, 154, 96, 271, 1136, 1986...   \n1060  [0, -422, -106, 25, 51, 31, 430, -223, -166, 1...   \n1061  [0, -124, 246, 240, 453, 536, 361, 1457, 2552,...   \n\n                                             teamfights  version  \\\n0     [{'start': 187, 'end': 240, 'last_death': 225,...     21.0   \n1     [{'start': 182, 'end': 225, 'last_death': 210,...     21.0   \n2     [{'start': 748, 'end': 798, 'last_death': 783,...     21.0   \n3     [{'start': 532, 'end': 574, 'last_death': 559,...     21.0   \n4     [{'start': 571, 'end': 632, 'last_death': 617,...     21.0   \n...                                                 ...      ...   \n1057  [{'start': 712, 'end': 762, 'last_death': 747,...     21.0   \n1058  [{'start': -13, 'end': 33, 'last_death': 18, '...     21.0   \n1059  [{'start': 1691, 'end': 1751, 'last_death': 17...     21.0   \n1060  [{'start': 1167, 'end': 1213, 'last_death': 11...     21.0   \n1061  [{'start': 1999, 'end': 2037, 'last_death': 20...     21.0   \n\n                                              cosmetics  radiant_score  \\\n0     {'647': 129, '5470': 129, '6199': 1, '6694': 1...             40   \n1     {'647': 4, '4487': 4, '7146': 1, '7147': 1, '7...             31   \n2     {'647': 1, '4450': 0, '5386': 128, '5833': 130...             35   \n3     {'647': 129, '6042': 3, '6045': 3, '6224': 1, ...             35   \n4     {'647': 132, '4212': 0, '4214': 0, '4215': 0, ...             48   \n...                                                 ...            ...   \n1057  {'647': 0, '7277': 0, '7580': 1, '7581': 130, ...             17   \n1058  {'647': 131, '4869': 130, '4870': 130, '4872':...             14   \n1059  {'647': 132, '4648': 2, '4885': 2, '5101': 0, ...             20   \n1060  {'647': 128, '746': 2, '5810': 130, '5919': 13...              5   \n1061  {'647': 131, '5917': 0, '6423': 131, '6431': 1...             19   \n\n      dire_score                                      draft_timings series_id  \\\n0             42  [{'order': 1, 'pick': False, 'active_team': 3,...    768803   \n1             44  [{'order': 1, 'pick': False, 'active_team': 3,...    771054   \n2             39  [{'order': 1, 'pick': False, 'active_team': 3,...    768282   \n3             19  [{'order': 1, 'pick': False, 'active_team': 3,...    768751   \n4             40  [{'order': 1, 'pick': False, 'active_team': 3,...    771259   \n...          ...                                                ...       ...   \n1057          27  [{'order': 1, 'pick': False, 'active_team': 3,...    788348   \n1058          40  [{'order': 1, 'pick': False, 'active_team': 3,...    789394   \n1059          10  [{'order': 1, 'pick': False, 'active_team': 3,...    789147   \n1060          31  [{'order': 1, 'pick': False, 'active_team': 3,...    789147   \n1061          24  [{'order': 1, 'pick': False, 'active_team': 3,...    788906   \n\n      series_type  \n0               1  \n1               1  \n2               1  \n3               1  \n4               1  \n...           ...  \n1057            1  \n1058            1  \n1059            1  \n1060            1  \n1061            1  \n\n[1056 rows x 39 columns]",
      "text/html": "<div>\n<style scoped>\n    .dataframe tbody tr th:only-of-type {\n        vertical-align: middle;\n    }\n\n    .dataframe tbody tr th {\n        vertical-align: top;\n    }\n\n    .dataframe thead th {\n        text-align: right;\n    }\n</style>\n<table border=\"1\" class=\"dataframe\">\n  <thead>\n    <tr style=\"text-align: right;\">\n      <th></th>\n      <th>match_id</th>\n      <th>match_seq_num</th>\n      <th>radiant_win</th>\n      <th>start_time</th>\n      <th>duration</th>\n      <th>tower_status_radiant</th>\n      <th>tower_status_dire</th>\n      <th>barracks_status_radiant</th>\n      <th>barracks_status_dire</th>\n      <th>cluster</th>\n      <th>...</th>\n      <th>radiant_gold_adv</th>\n      <th>radiant_xp_adv</th>\n      <th>teamfights</th>\n      <th>version</th>\n      <th>cosmetics</th>\n      <th>radiant_score</th>\n      <th>dire_score</th>\n      <th>draft_timings</th>\n      <th>series_id</th>\n      <th>series_type</th>\n    </tr>\n  </thead>\n  <tbody>\n    <tr>\n      <th>0</th>\n      <td>7102649472</td>\n      <td>5966088132</td>\n      <td>False</td>\n      <td>2023-04-11 14:59:51</td>\n      <td>3878</td>\n      <td>0</td>\n      <td>1828</td>\n      <td>0</td>\n      <td>63</td>\n      <td>274</td>\n      <td>...</td>\n      <td>[416, 1124, 1330, 2115, 1858, 2024, 1445, 1756...</td>\n      <td>[150, -93, 427, 1133, 718, 888, 619, 864, 559,...</td>\n      <td>[{'start': 187, 'end': 240, 'last_death': 225,...</td>\n      <td>21.0</td>\n      <td>{'647': 129, '5470': 129, '6199': 1, '6694': 1...</td>\n      <td>40</td>\n      <td>42</td>\n      <td>[{'order': 1, 'pick': False, 'active_team': 3,...</td>\n      <td>768803</td>\n      <td>1</td>\n    </tr>\n    <tr>\n      <th>1</th>\n      <td>7114527708</td>\n      <td>5976670868</td>\n      <td>False</td>\n      <td>2023-04-19 16:58:38</td>\n      <td>2727</td>\n      <td>0</td>\n      <td>1828</td>\n      <td>0</td>\n      <td>63</td>\n      <td>272</td>\n      <td>...</td>\n      <td>[-100, -64, 15, 616, 193, 31, -241, -1421, -60...</td>\n      <td>[-50, 35, -239, 490, -111, -456, -207, -939, -...</td>\n      <td>[{'start': 182, 'end': 225, 'last_death': 210,...</td>\n      <td>21.0</td>\n      <td>{'647': 4, '4487': 4, '7146': 1, '7147': 1, '7...</td>\n      <td>31</td>\n      <td>44</td>\n      <td>[{'order': 1, 'pick': False, 'active_team': 3,...</td>\n      <td>771054</td>\n      <td>1</td>\n    </tr>\n    <tr>\n      <th>2</th>\n      <td>7099683300</td>\n      <td>5963412092</td>\n      <td>False</td>\n      <td>2023-04-09 13:33:07</td>\n      <td>2671</td>\n      <td>1536</td>\n      <td>2036</td>\n      <td>0</td>\n      <td>63</td>\n      <td>274</td>\n      <td>...</td>\n      <td>[0, 158, -233, -560, -510, -654, -719, -1168, ...</td>\n      <td>[0, 177, -440, -387, -727, -822, -614, -1053, ...</td>\n      <td>[{'start': 748, 'end': 798, 'last_death': 783,...</td>\n      <td>21.0</td>\n      <td>{'647': 1, '4450': 0, '5386': 128, '5833': 130...</td>\n      <td>35</td>\n      <td>39</td>\n      <td>[{'order': 1, 'pick': False, 'active_team': 3,...</td>\n      <td>768282</td>\n      <td>1</td>\n    </tr>\n    <tr>\n      <th>3</th>\n      <td>7102222768</td>\n      <td>5965674453</td>\n      <td>True</td>\n      <td>2023-04-11 09:55:14</td>\n      <td>2000</td>\n      <td>1975</td>\n      <td>1824</td>\n      <td>63</td>\n      <td>60</td>\n      <td>274</td>\n      <td>...</td>\n      <td>[0, 5, -279, -456, -108, 28, 97, 278, 385, 314...</td>\n      <td>[0, -30, -155, -254, 88, -154, -175, -328, -22...</td>\n      <td>[{'start': 532, 'end': 574, 'last_death': 559,...</td>\n      <td>21.0</td>\n      <td>{'647': 129, '6042': 3, '6045': 3, '6224': 1, ...</td>\n      <td>35</td>\n      <td>19</td>\n      <td>[{'order': 1, 'pick': False, 'active_team': 3,...</td>\n      <td>768751</td>\n      <td>1</td>\n    </tr>\n    <tr>\n      <th>4</th>\n      <td>7115496899</td>\n      <td>5977534560</td>\n      <td>True</td>\n      <td>2023-04-20 12:25:02</td>\n      <td>2663</td>\n      <td>1542</td>\n      <td>260</td>\n      <td>15</td>\n      <td>51</td>\n      <td>271</td>\n      <td>...</td>\n      <td>[-312, -254, -181, 4, 832, 29, -12, -1259, -13...</td>\n      <td>[-100, -96, 229, 223, 685, -87, 229, -1240, -7...</td>\n      <td>[{'start': 571, 'end': 632, 'last_death': 617,...</td>\n      <td>21.0</td>\n      <td>{'647': 132, '4212': 0, '4214': 0, '4215': 0, ...</td>\n      <td>48</td>\n      <td>40</td>\n      <td>[{'order': 1, 'pick': False, 'active_team': 3,...</td>\n      <td>771259</td>\n      <td>1</td>\n    </tr>\n    <tr>\n      <th>...</th>\n      <td>...</td>\n      <td>...</td>\n      <td>...</td>\n      <td>...</td>\n      <td>...</td>\n      <td>...</td>\n      <td>...</td>\n      <td>...</td>\n      <td>...</td>\n      <td>...</td>\n      <td>...</td>\n      <td>...</td>\n      <td>...</td>\n      <td>...</td>\n      <td>...</td>\n      <td>...</td>\n      <td>...</td>\n      <td>...</td>\n      <td>...</td>\n      <td>...</td>\n      <td>...</td>\n    </tr>\n    <tr>\n      <th>1057</th>\n      <td>7220548968</td>\n      <td>6071023256</td>\n      <td>False</td>\n      <td>2023-06-29 08:33:53</td>\n      <td>1835</td>\n      <td>1792</td>\n      <td>1974</td>\n      <td>48</td>\n      <td>63</td>\n      <td>151</td>\n      <td>...</td>\n      <td>[0, 347, 242, -66, 48, 71, -478, -63, 1209, 79...</td>\n      <td>[0, 370, 73, -99, -405, -246, -809, -415, 1563...</td>\n      <td>[{'start': 712, 'end': 762, 'last_death': 747,...</td>\n      <td>21.0</td>\n      <td>{'647': 0, '7277': 0, '7580': 1, '7581': 130, ...</td>\n      <td>17</td>\n      <td>27</td>\n      <td>[{'order': 1, 'pick': False, 'active_team': 3,...</td>\n      <td>788348</td>\n      <td>1</td>\n    </tr>\n    <tr>\n      <th>1058</th>\n      <td>7226053436</td>\n      <td>6075962402</td>\n      <td>False</td>\n      <td>2023-07-03 03:35:56</td>\n      <td>2395</td>\n      <td>0</td>\n      <td>2036</td>\n      <td>0</td>\n      <td>63</td>\n      <td>151</td>\n      <td>...</td>\n      <td>[100, 18, -380, -624, -828, -1061, -1468, -152...</td>\n      <td>[70, -14, -122, -432, -256, -558, -1009, -1101...</td>\n      <td>[{'start': -13, 'end': 33, 'last_death': 18, '...</td>\n      <td>21.0</td>\n      <td>{'647': 131, '4869': 130, '4870': 130, '4872':...</td>\n      <td>14</td>\n      <td>40</td>\n      <td>[{'order': 1, 'pick': False, 'active_team': 3,...</td>\n      <td>789394</td>\n      <td>1</td>\n    </tr>\n    <tr>\n      <th>1059</th>\n      <td>7224774802</td>\n      <td>6074812509</td>\n      <td>True</td>\n      <td>2023-07-02 07:53:13</td>\n      <td>1805</td>\n      <td>1983</td>\n      <td>1572</td>\n      <td>63</td>\n      <td>15</td>\n      <td>151</td>\n      <td>...</td>\n      <td>[-463, -113, -260, -201, -244, 164, 221, 1064,...</td>\n      <td>[-99, -162, 101, -82, 154, 96, 271, 1136, 1986...</td>\n      <td>[{'start': 1691, 'end': 1751, 'last_death': 17...</td>\n      <td>21.0</td>\n      <td>{'647': 132, '4648': 2, '4885': 2, '5101': 0, ...</td>\n      <td>20</td>\n      <td>10</td>\n      <td>[{'order': 1, 'pick': False, 'active_team': 3,...</td>\n      <td>789147</td>\n      <td>1</td>\n    </tr>\n    <tr>\n      <th>1060</th>\n      <td>7224708614</td>\n      <td>6074758569</td>\n      <td>False</td>\n      <td>2023-07-02 06:55:07</td>\n      <td>1863</td>\n      <td>1792</td>\n      <td>1974</td>\n      <td>48</td>\n      <td>63</td>\n      <td>154</td>\n      <td>...</td>\n      <td>[0, -581, -480, -471, -438, -67, 457, 711, 685...</td>\n      <td>[0, -422, -106, 25, 51, 31, 430, -223, -166, 1...</td>\n      <td>[{'start': 1167, 'end': 1213, 'last_death': 11...</td>\n      <td>21.0</td>\n      <td>{'647': 128, '746': 2, '5810': 130, '5919': 13...</td>\n      <td>5</td>\n      <td>31</td>\n      <td>[{'order': 1, 'pick': False, 'active_team': 3,...</td>\n      <td>789147</td>\n      <td>1</td>\n    </tr>\n    <tr>\n      <th>1061</th>\n      <td>7223294867</td>\n      <td>6073512927</td>\n      <td>False</td>\n      <td>2023-07-01 08:22:06</td>\n      <td>3421</td>\n      <td>1028</td>\n      <td>1952</td>\n      <td>3</td>\n      <td>63</td>\n      <td>151</td>\n      <td>...</td>\n      <td>[0, 52, 252, 458, 331, 306, 157, 223, 1969, 28...</td>\n      <td>[0, -124, 246, 240, 453, 536, 361, 1457, 2552,...</td>\n      <td>[{'start': 1999, 'end': 2037, 'last_death': 20...</td>\n      <td>21.0</td>\n      <td>{'647': 131, '5917': 0, '6423': 131, '6431': 1...</td>\n      <td>19</td>\n      <td>24</td>\n      <td>[{'order': 1, 'pick': False, 'active_team': 3,...</td>\n      <td>788906</td>\n      <td>1</td>\n    </tr>\n  </tbody>\n</table>\n<p>1056 rows × 39 columns</p>\n</div>"
     },
     "execution_count": 66,
     "metadata": {},
     "output_type": "execute_result"
    }
   ],
   "source": [
    "import pandas as pd\n",
    "\n",
    "# list of files containing match data\n",
    "match_list = [\n",
    "    'matches_dreamleague_19.json',\n",
    "    'matches_dreamleague_20.json',\n",
    "    'matches_dreamleague_21.json',\n",
    "    'matches_major_lima.json',\n",
    "    'matches_major_berlin.json',\n",
    "    'matches_major_bali.json',\n",
    "]\n",
    "\n",
    "# create a list of dataframes\n",
    "match_data = [pd.read_json(i) for i in match_list]\n",
    "\n",
    "# concatenate all of the dataframes into a single, monolithic dataframe\n",
    "matches = pd.concat(match_data, ignore_index=True)\n",
    "\n",
    "# there are `picks_bans` entries with null values\n",
    "matches.dropna(subset=['picks_bans'],inplace=True)\n",
    "matches"
   ]
  },
  {
   "cell_type": "markdown",
   "id": "afa9895b-1696-4306-b90c-b3ec32438aaf",
   "metadata": {},
   "source": [
    "The data is very complex and very structured. A number of columns are nested with complex structures of data. Additionally, the use of ID numbers (also known as *categoricals*) is heavy throughout. This makes the data harder to read as a human, but is much more efficient and easier to manage in code.\n",
    "\n",
    "We want to grab the set of heroes available. Our match data uses ID numbers to represent hero selections, and so we need a way to determine which ID corresponds to which hero."
   ]
  },
  {
   "cell_type": "code",
   "execution_count": 67,
   "id": "171acd6c-a47c-4740-98ad-25e7e133b87b",
   "metadata": {
    "ExecuteTime": {
     "end_time": "2023-10-22T23:18:59.922697Z",
     "start_time": "2023-10-22T23:18:59.883909Z"
    }
   },
   "outputs": [
    {
     "data": {
      "text/plain": "                             name  localized_name primary_attr attack_type  \\\nid                                                                           \n1          npc_dota_hero_antimage       Anti-Mage          agi       Melee   \n2               npc_dota_hero_axe             Axe          str       Melee   \n3              npc_dota_hero_bane            Bane          all      Ranged   \n4       npc_dota_hero_bloodseeker     Bloodseeker          agi       Melee   \n5    npc_dota_hero_crystal_maiden  Crystal Maiden          int      Ranged   \n..                            ...             ...          ...         ...   \n129            npc_dota_hero_mars            Mars          str       Melee   \n135     npc_dota_hero_dawnbreaker     Dawnbreaker          str       Melee   \n136           npc_dota_hero_marci           Marci          all       Melee   \n137    npc_dota_hero_primal_beast    Primal Beast          str       Melee   \n138          npc_dota_hero_muerta          Muerta          int      Ranged   \n\n                                             roles  legs  \nid                                                        \n1                           [Carry, Escape, Nuker]     2  \n2            [Initiator, Durable, Disabler, Carry]     2  \n3              [Support, Disabler, Nuker, Durable]     4  \n4              [Carry, Disabler, Nuker, Initiator]     2  \n5                       [Support, Disabler, Nuker]     2  \n..                                             ...   ...  \n129          [Carry, Initiator, Disabler, Durable]     2  \n135                               [Carry, Durable]     2  \n136  [Support, Carry, Initiator, Disabler, Escape]     2  \n137                 [Initiator, Durable, Disabler]     2  \n138                       [Carry, Nuker, Disabler]     2  \n\n[124 rows x 6 columns]",
      "text/html": "<div>\n<style scoped>\n    .dataframe tbody tr th:only-of-type {\n        vertical-align: middle;\n    }\n\n    .dataframe tbody tr th {\n        vertical-align: top;\n    }\n\n    .dataframe thead th {\n        text-align: right;\n    }\n</style>\n<table border=\"1\" class=\"dataframe\">\n  <thead>\n    <tr style=\"text-align: right;\">\n      <th></th>\n      <th>name</th>\n      <th>localized_name</th>\n      <th>primary_attr</th>\n      <th>attack_type</th>\n      <th>roles</th>\n      <th>legs</th>\n    </tr>\n    <tr>\n      <th>id</th>\n      <th></th>\n      <th></th>\n      <th></th>\n      <th></th>\n      <th></th>\n      <th></th>\n    </tr>\n  </thead>\n  <tbody>\n    <tr>\n      <th>1</th>\n      <td>npc_dota_hero_antimage</td>\n      <td>Anti-Mage</td>\n      <td>agi</td>\n      <td>Melee</td>\n      <td>[Carry, Escape, Nuker]</td>\n      <td>2</td>\n    </tr>\n    <tr>\n      <th>2</th>\n      <td>npc_dota_hero_axe</td>\n      <td>Axe</td>\n      <td>str</td>\n      <td>Melee</td>\n      <td>[Initiator, Durable, Disabler, Carry]</td>\n      <td>2</td>\n    </tr>\n    <tr>\n      <th>3</th>\n      <td>npc_dota_hero_bane</td>\n      <td>Bane</td>\n      <td>all</td>\n      <td>Ranged</td>\n      <td>[Support, Disabler, Nuker, Durable]</td>\n      <td>4</td>\n    </tr>\n    <tr>\n      <th>4</th>\n      <td>npc_dota_hero_bloodseeker</td>\n      <td>Bloodseeker</td>\n      <td>agi</td>\n      <td>Melee</td>\n      <td>[Carry, Disabler, Nuker, Initiator]</td>\n      <td>2</td>\n    </tr>\n    <tr>\n      <th>5</th>\n      <td>npc_dota_hero_crystal_maiden</td>\n      <td>Crystal Maiden</td>\n      <td>int</td>\n      <td>Ranged</td>\n      <td>[Support, Disabler, Nuker]</td>\n      <td>2</td>\n    </tr>\n    <tr>\n      <th>...</th>\n      <td>...</td>\n      <td>...</td>\n      <td>...</td>\n      <td>...</td>\n      <td>...</td>\n      <td>...</td>\n    </tr>\n    <tr>\n      <th>129</th>\n      <td>npc_dota_hero_mars</td>\n      <td>Mars</td>\n      <td>str</td>\n      <td>Melee</td>\n      <td>[Carry, Initiator, Disabler, Durable]</td>\n      <td>2</td>\n    </tr>\n    <tr>\n      <th>135</th>\n      <td>npc_dota_hero_dawnbreaker</td>\n      <td>Dawnbreaker</td>\n      <td>str</td>\n      <td>Melee</td>\n      <td>[Carry, Durable]</td>\n      <td>2</td>\n    </tr>\n    <tr>\n      <th>136</th>\n      <td>npc_dota_hero_marci</td>\n      <td>Marci</td>\n      <td>all</td>\n      <td>Melee</td>\n      <td>[Support, Carry, Initiator, Disabler, Escape]</td>\n      <td>2</td>\n    </tr>\n    <tr>\n      <th>137</th>\n      <td>npc_dota_hero_primal_beast</td>\n      <td>Primal Beast</td>\n      <td>str</td>\n      <td>Melee</td>\n      <td>[Initiator, Durable, Disabler]</td>\n      <td>2</td>\n    </tr>\n    <tr>\n      <th>138</th>\n      <td>npc_dota_hero_muerta</td>\n      <td>Muerta</td>\n      <td>int</td>\n      <td>Ranged</td>\n      <td>[Carry, Nuker, Disabler]</td>\n      <td>2</td>\n    </tr>\n  </tbody>\n</table>\n<p>124 rows × 6 columns</p>\n</div>"
     },
     "execution_count": 67,
     "metadata": {},
     "output_type": "execute_result"
    }
   ],
   "source": [
    "# read heroes.json\n",
    "heroes = pd.read_json('heroes.json')\n",
    "heroes.set_index('id',inplace=True)\n",
    "heroes"
   ]
  },
  {
   "cell_type": "markdown",
   "id": "61b67c91-fcbf-4ccf-bc5d-7296edc6d4e0",
   "metadata": {},
   "source": [
    "The hero data is pretty standard - **importantly though it allows us to match ID numbers to hero names!**\n",
    "\n",
    "Let's walk through a quick example on how we can look at the hero selections for a particular match. First we can grab the `picks_bans` data for the first match in our list. *The `picks_bans` data is yet another table!* We can take a single entry from that columne, and construct a brand new dataframe from it (as in its raw form it is still just JSON (list of dictionaries))."
   ]
  },
  {
   "cell_type": "code",
   "execution_count": 68,
   "id": "a3fcf454-76af-461b-bc80-f909b596992a",
   "metadata": {
    "ExecuteTime": {
     "end_time": "2023-10-22T23:19:00.583615Z",
     "start_time": "2023-10-22T23:19:00.535816Z"
    }
   },
   "outputs": [
    {
     "data": {
      "text/plain": "    is_pick  hero_id  team  order\n0     False       87     1      0\n1     False       65     0      1\n2     False       51     1      2\n3     False       61     0      3\n4      True       43     1      4\n5      True       74     0      5\n6      True       85     0      6\n7      True       46     1      7\n8     False        6     1      8\n9     False      137     0      9\n10    False      109     1     10\n11    False      136     0     11\n12    False       19     1     12\n13    False       32     0     13\n14     True       86     0     14\n15     True       26     1     15\n16     True       75     1     16\n17     True       38     0     17\n18    False       53     1     18\n19    False       60     0     19\n20    False       81     1     20\n21    False       95     0     21\n22     True       23     1     22\n23     True       14     0     23",
      "text/html": "<div>\n<style scoped>\n    .dataframe tbody tr th:only-of-type {\n        vertical-align: middle;\n    }\n\n    .dataframe tbody tr th {\n        vertical-align: top;\n    }\n\n    .dataframe thead th {\n        text-align: right;\n    }\n</style>\n<table border=\"1\" class=\"dataframe\">\n  <thead>\n    <tr style=\"text-align: right;\">\n      <th></th>\n      <th>is_pick</th>\n      <th>hero_id</th>\n      <th>team</th>\n      <th>order</th>\n    </tr>\n  </thead>\n  <tbody>\n    <tr>\n      <th>0</th>\n      <td>False</td>\n      <td>87</td>\n      <td>1</td>\n      <td>0</td>\n    </tr>\n    <tr>\n      <th>1</th>\n      <td>False</td>\n      <td>65</td>\n      <td>0</td>\n      <td>1</td>\n    </tr>\n    <tr>\n      <th>2</th>\n      <td>False</td>\n      <td>51</td>\n      <td>1</td>\n      <td>2</td>\n    </tr>\n    <tr>\n      <th>3</th>\n      <td>False</td>\n      <td>61</td>\n      <td>0</td>\n      <td>3</td>\n    </tr>\n    <tr>\n      <th>4</th>\n      <td>True</td>\n      <td>43</td>\n      <td>1</td>\n      <td>4</td>\n    </tr>\n    <tr>\n      <th>5</th>\n      <td>True</td>\n      <td>74</td>\n      <td>0</td>\n      <td>5</td>\n    </tr>\n    <tr>\n      <th>6</th>\n      <td>True</td>\n      <td>85</td>\n      <td>0</td>\n      <td>6</td>\n    </tr>\n    <tr>\n      <th>7</th>\n      <td>True</td>\n      <td>46</td>\n      <td>1</td>\n      <td>7</td>\n    </tr>\n    <tr>\n      <th>8</th>\n      <td>False</td>\n      <td>6</td>\n      <td>1</td>\n      <td>8</td>\n    </tr>\n    <tr>\n      <th>9</th>\n      <td>False</td>\n      <td>137</td>\n      <td>0</td>\n      <td>9</td>\n    </tr>\n    <tr>\n      <th>10</th>\n      <td>False</td>\n      <td>109</td>\n      <td>1</td>\n      <td>10</td>\n    </tr>\n    <tr>\n      <th>11</th>\n      <td>False</td>\n      <td>136</td>\n      <td>0</td>\n      <td>11</td>\n    </tr>\n    <tr>\n      <th>12</th>\n      <td>False</td>\n      <td>19</td>\n      <td>1</td>\n      <td>12</td>\n    </tr>\n    <tr>\n      <th>13</th>\n      <td>False</td>\n      <td>32</td>\n      <td>0</td>\n      <td>13</td>\n    </tr>\n    <tr>\n      <th>14</th>\n      <td>True</td>\n      <td>86</td>\n      <td>0</td>\n      <td>14</td>\n    </tr>\n    <tr>\n      <th>15</th>\n      <td>True</td>\n      <td>26</td>\n      <td>1</td>\n      <td>15</td>\n    </tr>\n    <tr>\n      <th>16</th>\n      <td>True</td>\n      <td>75</td>\n      <td>1</td>\n      <td>16</td>\n    </tr>\n    <tr>\n      <th>17</th>\n      <td>True</td>\n      <td>38</td>\n      <td>0</td>\n      <td>17</td>\n    </tr>\n    <tr>\n      <th>18</th>\n      <td>False</td>\n      <td>53</td>\n      <td>1</td>\n      <td>18</td>\n    </tr>\n    <tr>\n      <th>19</th>\n      <td>False</td>\n      <td>60</td>\n      <td>0</td>\n      <td>19</td>\n    </tr>\n    <tr>\n      <th>20</th>\n      <td>False</td>\n      <td>81</td>\n      <td>1</td>\n      <td>20</td>\n    </tr>\n    <tr>\n      <th>21</th>\n      <td>False</td>\n      <td>95</td>\n      <td>0</td>\n      <td>21</td>\n    </tr>\n    <tr>\n      <th>22</th>\n      <td>True</td>\n      <td>23</td>\n      <td>1</td>\n      <td>22</td>\n    </tr>\n    <tr>\n      <th>23</th>\n      <td>True</td>\n      <td>14</td>\n      <td>0</td>\n      <td>23</td>\n    </tr>\n  </tbody>\n</table>\n</div>"
     },
     "execution_count": 68,
     "metadata": {},
     "output_type": "execute_result"
    }
   ],
   "source": [
    "# unpack a single record of picks_bans\n",
    "pick_bans = pd.DataFrame(matches['picks_bans'].iloc[0])\n",
    "pick_bans   "
   ]
  },
  {
   "cell_type": "markdown",
   "id": "c7bc0284-df7d-4aca-b757-6cc35d53de32",
   "metadata": {},
   "source": [
    "This shows us whether a hero was picked or banned. We do not care much for the heros banned (for now), but we do care about which ones were picked! We also care about the team that picked them, as it will allow us to build out a dataset describing the frequency of wins for heroes throughout the professional circuit.\n",
    "\n",
    "We can use the fact that the `is_pick` column is a *series of booleans*, which means that we can *use it as a mask!*. Let's mask our `picks_bans` from the previous cell using the `is_pick` column."
   ]
  },
  {
   "cell_type": "code",
   "execution_count": 69,
   "id": "504bee11-e55c-4519-9839-6bf2be8ff2be",
   "metadata": {
    "ExecuteTime": {
     "end_time": "2023-10-22T23:19:00.957763Z",
     "start_time": "2023-10-22T23:19:00.926082Z"
    }
   },
   "outputs": [
    {
     "data": {
      "text/plain": "    is_pick  hero_id  team  order\n4      True       43     1      4\n5      True       74     0      5\n6      True       85     0      6\n7      True       46     1      7\n14     True       86     0     14\n15     True       26     1     15\n16     True       75     1     16\n17     True       38     0     17\n22     True       23     1     22\n23     True       14     0     23",
      "text/html": "<div>\n<style scoped>\n    .dataframe tbody tr th:only-of-type {\n        vertical-align: middle;\n    }\n\n    .dataframe tbody tr th {\n        vertical-align: top;\n    }\n\n    .dataframe thead th {\n        text-align: right;\n    }\n</style>\n<table border=\"1\" class=\"dataframe\">\n  <thead>\n    <tr style=\"text-align: right;\">\n      <th></th>\n      <th>is_pick</th>\n      <th>hero_id</th>\n      <th>team</th>\n      <th>order</th>\n    </tr>\n  </thead>\n  <tbody>\n    <tr>\n      <th>4</th>\n      <td>True</td>\n      <td>43</td>\n      <td>1</td>\n      <td>4</td>\n    </tr>\n    <tr>\n      <th>5</th>\n      <td>True</td>\n      <td>74</td>\n      <td>0</td>\n      <td>5</td>\n    </tr>\n    <tr>\n      <th>6</th>\n      <td>True</td>\n      <td>85</td>\n      <td>0</td>\n      <td>6</td>\n    </tr>\n    <tr>\n      <th>7</th>\n      <td>True</td>\n      <td>46</td>\n      <td>1</td>\n      <td>7</td>\n    </tr>\n    <tr>\n      <th>14</th>\n      <td>True</td>\n      <td>86</td>\n      <td>0</td>\n      <td>14</td>\n    </tr>\n    <tr>\n      <th>15</th>\n      <td>True</td>\n      <td>26</td>\n      <td>1</td>\n      <td>15</td>\n    </tr>\n    <tr>\n      <th>16</th>\n      <td>True</td>\n      <td>75</td>\n      <td>1</td>\n      <td>16</td>\n    </tr>\n    <tr>\n      <th>17</th>\n      <td>True</td>\n      <td>38</td>\n      <td>0</td>\n      <td>17</td>\n    </tr>\n    <tr>\n      <th>22</th>\n      <td>True</td>\n      <td>23</td>\n      <td>1</td>\n      <td>22</td>\n    </tr>\n    <tr>\n      <th>23</th>\n      <td>True</td>\n      <td>14</td>\n      <td>0</td>\n      <td>23</td>\n    </tr>\n  </tbody>\n</table>\n</div>"
     },
     "execution_count": 69,
     "metadata": {},
     "output_type": "execute_result"
    }
   ],
   "source": [
    "# mask for picks\n",
    "picks_mask = pick_bans.is_pick == True\n",
    "picks = pick_bans[picks_mask]\n",
    "picks"
   ]
  },
  {
   "cell_type": "markdown",
   "id": "f2ee963b-84e3-4533-a465-8a9df029d25c",
   "metadata": {},
   "source": [
    "This tells us... nothing... not directly at least! This is because we do not care about hero IDs! We need to find a way to map the hero ID numbers to hero names.\n",
    "\n",
    "We can use `pandas.merge` to merge the `picks` and `heroes` tables together. This merging process will smash our two tables together matching records in each set to one another where the hero IDs in the picks and bans table match the hero IDs from the heroes table."
   ]
  },
  {
   "cell_type": "code",
   "execution_count": 70,
   "id": "19f03803",
   "metadata": {
    "ExecuteTime": {
     "end_time": "2023-10-22T23:19:01.270823Z",
     "start_time": "2023-10-22T23:19:01.243087Z"
    }
   },
   "outputs": [
    {
     "data": {
      "text/plain": "                                       name    localized_name primary_attr  \\\nattack_type                                                                  \nMelee                   npc_dota_hero_pudge             Pudge          str   \nMelee                  npc_dota_hero_kunkka            Kunkka          str   \nRanged                   npc_dota_hero_lion              Lion          int   \nMelee             npc_dota_hero_beastmaster       Beastmaster          all   \nRanged          npc_dota_hero_death_prophet     Death Prophet          int   \nRanged       npc_dota_hero_templar_assassin  Templar Assassin          agi   \nRanged                npc_dota_hero_invoker           Invoker          all   \nRanged               npc_dota_hero_silencer          Silencer          int   \nMelee                 npc_dota_hero_undying           Undying          str   \nRanged                 npc_dota_hero_rubick            Rubick          int   \n\n                                                         roles  legs  is_pick  \\\nattack_type                                                                     \nMelee                    [Disabler, Initiator, Durable, Nuker]     2     True   \nMelee        [Carry, Support, Disabler, Initiator, Durable,...     2     True   \nRanged                   [Support, Disabler, Nuker, Initiator]     2     True   \nMelee                    [Initiator, Disabler, Durable, Nuker]     2     True   \nRanged                        [Carry, Pusher, Nuker, Disabler]     2     True   \nRanged                                         [Carry, Escape]     2     True   \nRanged                [Carry, Nuker, Disabler, Escape, Pusher]     2     True   \nRanged            [Carry, Support, Disabler, Initiator, Nuker]     2     True   \nMelee                      [Support, Durable, Disabler, Nuker]     2     True   \nRanged                              [Support, Disabler, Nuker]     2     True   \n\n             hero_id  team  order  \nattack_type                        \nMelee             14     0     23  \nMelee             23     1     22  \nRanged            26     1     15  \nMelee             38     0     17  \nRanged            43     1      4  \nRanged            46     1      7  \nRanged            74     0      5  \nRanged            75     1     16  \nMelee             85     0      6  \nRanged            86     0     14  ",
      "text/html": "<div>\n<style scoped>\n    .dataframe tbody tr th:only-of-type {\n        vertical-align: middle;\n    }\n\n    .dataframe tbody tr th {\n        vertical-align: top;\n    }\n\n    .dataframe thead th {\n        text-align: right;\n    }\n</style>\n<table border=\"1\" class=\"dataframe\">\n  <thead>\n    <tr style=\"text-align: right;\">\n      <th></th>\n      <th>name</th>\n      <th>localized_name</th>\n      <th>primary_attr</th>\n      <th>roles</th>\n      <th>legs</th>\n      <th>is_pick</th>\n      <th>hero_id</th>\n      <th>team</th>\n      <th>order</th>\n    </tr>\n    <tr>\n      <th>attack_type</th>\n      <th></th>\n      <th></th>\n      <th></th>\n      <th></th>\n      <th></th>\n      <th></th>\n      <th></th>\n      <th></th>\n      <th></th>\n    </tr>\n  </thead>\n  <tbody>\n    <tr>\n      <th>Melee</th>\n      <td>npc_dota_hero_pudge</td>\n      <td>Pudge</td>\n      <td>str</td>\n      <td>[Disabler, Initiator, Durable, Nuker]</td>\n      <td>2</td>\n      <td>True</td>\n      <td>14</td>\n      <td>0</td>\n      <td>23</td>\n    </tr>\n    <tr>\n      <th>Melee</th>\n      <td>npc_dota_hero_kunkka</td>\n      <td>Kunkka</td>\n      <td>str</td>\n      <td>[Carry, Support, Disabler, Initiator, Durable,...</td>\n      <td>2</td>\n      <td>True</td>\n      <td>23</td>\n      <td>1</td>\n      <td>22</td>\n    </tr>\n    <tr>\n      <th>Ranged</th>\n      <td>npc_dota_hero_lion</td>\n      <td>Lion</td>\n      <td>int</td>\n      <td>[Support, Disabler, Nuker, Initiator]</td>\n      <td>2</td>\n      <td>True</td>\n      <td>26</td>\n      <td>1</td>\n      <td>15</td>\n    </tr>\n    <tr>\n      <th>Melee</th>\n      <td>npc_dota_hero_beastmaster</td>\n      <td>Beastmaster</td>\n      <td>all</td>\n      <td>[Initiator, Disabler, Durable, Nuker]</td>\n      <td>2</td>\n      <td>True</td>\n      <td>38</td>\n      <td>0</td>\n      <td>17</td>\n    </tr>\n    <tr>\n      <th>Ranged</th>\n      <td>npc_dota_hero_death_prophet</td>\n      <td>Death Prophet</td>\n      <td>int</td>\n      <td>[Carry, Pusher, Nuker, Disabler]</td>\n      <td>2</td>\n      <td>True</td>\n      <td>43</td>\n      <td>1</td>\n      <td>4</td>\n    </tr>\n    <tr>\n      <th>Ranged</th>\n      <td>npc_dota_hero_templar_assassin</td>\n      <td>Templar Assassin</td>\n      <td>agi</td>\n      <td>[Carry, Escape]</td>\n      <td>2</td>\n      <td>True</td>\n      <td>46</td>\n      <td>1</td>\n      <td>7</td>\n    </tr>\n    <tr>\n      <th>Ranged</th>\n      <td>npc_dota_hero_invoker</td>\n      <td>Invoker</td>\n      <td>all</td>\n      <td>[Carry, Nuker, Disabler, Escape, Pusher]</td>\n      <td>2</td>\n      <td>True</td>\n      <td>74</td>\n      <td>0</td>\n      <td>5</td>\n    </tr>\n    <tr>\n      <th>Ranged</th>\n      <td>npc_dota_hero_silencer</td>\n      <td>Silencer</td>\n      <td>int</td>\n      <td>[Carry, Support, Disabler, Initiator, Nuker]</td>\n      <td>2</td>\n      <td>True</td>\n      <td>75</td>\n      <td>1</td>\n      <td>16</td>\n    </tr>\n    <tr>\n      <th>Melee</th>\n      <td>npc_dota_hero_undying</td>\n      <td>Undying</td>\n      <td>str</td>\n      <td>[Support, Durable, Disabler, Nuker]</td>\n      <td>2</td>\n      <td>True</td>\n      <td>85</td>\n      <td>0</td>\n      <td>6</td>\n    </tr>\n    <tr>\n      <th>Ranged</th>\n      <td>npc_dota_hero_rubick</td>\n      <td>Rubick</td>\n      <td>int</td>\n      <td>[Support, Disabler, Nuker]</td>\n      <td>2</td>\n      <td>True</td>\n      <td>86</td>\n      <td>0</td>\n      <td>14</td>\n    </tr>\n  </tbody>\n</table>\n</div>"
     },
     "execution_count": 70,
     "metadata": {},
     "output_type": "execute_result"
    }
   ],
   "source": [
    "# merge picks and heroes\n",
    "named_picks = pd.merge(heroes,picks,left_on='id',right_on='hero_id')\n",
    "named_picks.set_index('attack_type',inplace=True)\n",
    "named_picks"
   ]
  },
  {
   "cell_type": "markdown",
   "id": "dfdb0170",
   "metadata": {},
   "source": [
    "Really what we want to do here is combine the picks (and bans) data with the match results. This will let us understand how effective some heroes may be. We can see the winning team by observing the `radiant_win` column."
   ]
  },
  {
   "cell_type": "code",
   "execution_count": 71,
   "id": "275f6bb9-648b-43a7-88f5-62cd0d8a306e",
   "metadata": {
    "ExecuteTime": {
     "end_time": "2023-10-22T23:19:01.599818Z",
     "start_time": "2023-10-22T23:19:01.550778Z"
    }
   },
   "outputs": [],
   "source": [
    "# inspect win value\n"
   ]
  },
  {
   "cell_type": "markdown",
   "id": "b68b6912-f257-4fe4-b61a-04fd2715fd3f",
   "metadata": {},
   "source": [
    "There are two teams in DotA2 - *The Radiant* and *The Dire*. There are no draws, and so the result of any match is always a Radiant win or a Dire win.\n",
    "\n",
    "This allows the data maintainers to use a simple boolean to manage this aspect of the data - there is no `dire_win` column! What we know though is that \"team 0\" refers to Radiant, and \"team 1\" refers to Dire. All we need to do is use that boolean to assign a `win` column to the `picks_bans` table.\n",
    "\n",
    "We can use a little trick when dealing with boolean values - we can directly compare integers and booleans *when the integers are 0 and 1*. This is very convenient for us, all we need to do is check if the `team` column in the `picks_bans` table *is not equal* to the `radiant_win` value from the match!\n",
    "\n",
    "This gives us four combinations:\n",
    "\n",
    "* Radiant Win (True) and hero picked by Radiant (0, or False)\n",
    "* Radiant Win (True) and hero picked by Dire (1, or True)\n",
    "* Radiant Loss (False) and hero picked by Radiant (0, or False)\n",
    "* Radiant Loss (False) and hero picked by Dire (1, or True)\n",
    "\n",
    "Again, note that a hero wins a match when the column indicating who won is not equal to the column indicating what team they played on."
   ]
  },
  {
   "cell_type": "markdown",
   "source": [
    "# add wins column\n",
    "0 = Team is Radiant \n",
    "1 = Team is Dire"
   ],
   "metadata": {
    "collapsed": false
   },
   "id": "2573cbf93b1ba512"
  },
  {
   "cell_type": "markdown",
   "id": "a1ab979b-0b93-48a8-9d79-8c3db6ffcc7b",
   "metadata": {},
   "source": [
    "This is just for a single match though! What we need to do is apply this sort of processing to every match in our table. We need to create a dataframe that includes all of the hero statistics across all matches. This requires us to convert every `picks_ban` element into a  dataframe, and then concatenate all of those dataframes into a single dataframe. \n",
    "\n",
    "To do this, we need to define a new function "
   ]
  },
  {
   "cell_type": "code",
   "execution_count": 73,
   "id": "9b38925a-307e-492a-b732-2befdbbe25b3",
   "metadata": {
    "ExecuteTime": {
     "end_time": "2023-10-22T23:19:03.020660Z",
     "start_time": "2023-10-22T23:19:02.236973Z"
    }
   },
   "outputs": [
    {
     "data": {
      "text/plain": "       hero_id  team  order    match_id    win\n0           43     1      4  7102649472   True\n1           74     0      5  7102649472  False\n2           85     0      6  7102649472  False\n3           46     1      7  7102649472   True\n4           86     0     14  7102649472  False\n...        ...   ...    ...         ...    ...\n10555       86     1     15  7223294867   True\n10556       69     1     16  7223294867   True\n10557      136     0     17  7223294867  False\n10558       89     1     22  7223294867   True\n10559       55     0     23  7223294867  False\n\n[10560 rows x 5 columns]",
      "text/html": "<div>\n<style scoped>\n    .dataframe tbody tr th:only-of-type {\n        vertical-align: middle;\n    }\n\n    .dataframe tbody tr th {\n        vertical-align: top;\n    }\n\n    .dataframe thead th {\n        text-align: right;\n    }\n</style>\n<table border=\"1\" class=\"dataframe\">\n  <thead>\n    <tr style=\"text-align: right;\">\n      <th></th>\n      <th>hero_id</th>\n      <th>team</th>\n      <th>order</th>\n      <th>match_id</th>\n      <th>win</th>\n    </tr>\n  </thead>\n  <tbody>\n    <tr>\n      <th>0</th>\n      <td>43</td>\n      <td>1</td>\n      <td>4</td>\n      <td>7102649472</td>\n      <td>True</td>\n    </tr>\n    <tr>\n      <th>1</th>\n      <td>74</td>\n      <td>0</td>\n      <td>5</td>\n      <td>7102649472</td>\n      <td>False</td>\n    </tr>\n    <tr>\n      <th>2</th>\n      <td>85</td>\n      <td>0</td>\n      <td>6</td>\n      <td>7102649472</td>\n      <td>False</td>\n    </tr>\n    <tr>\n      <th>3</th>\n      <td>46</td>\n      <td>1</td>\n      <td>7</td>\n      <td>7102649472</td>\n      <td>True</td>\n    </tr>\n    <tr>\n      <th>4</th>\n      <td>86</td>\n      <td>0</td>\n      <td>14</td>\n      <td>7102649472</td>\n      <td>False</td>\n    </tr>\n    <tr>\n      <th>...</th>\n      <td>...</td>\n      <td>...</td>\n      <td>...</td>\n      <td>...</td>\n      <td>...</td>\n    </tr>\n    <tr>\n      <th>10555</th>\n      <td>86</td>\n      <td>1</td>\n      <td>15</td>\n      <td>7223294867</td>\n      <td>True</td>\n    </tr>\n    <tr>\n      <th>10556</th>\n      <td>69</td>\n      <td>1</td>\n      <td>16</td>\n      <td>7223294867</td>\n      <td>True</td>\n    </tr>\n    <tr>\n      <th>10557</th>\n      <td>136</td>\n      <td>0</td>\n      <td>17</td>\n      <td>7223294867</td>\n      <td>False</td>\n    </tr>\n    <tr>\n      <th>10558</th>\n      <td>89</td>\n      <td>1</td>\n      <td>22</td>\n      <td>7223294867</td>\n      <td>True</td>\n    </tr>\n    <tr>\n      <th>10559</th>\n      <td>55</td>\n      <td>0</td>\n      <td>23</td>\n      <td>7223294867</td>\n      <td>False</td>\n    </tr>\n  </tbody>\n</table>\n<p>10560 rows × 5 columns</p>\n</div>"
     },
     "execution_count": 73,
     "metadata": {},
     "output_type": "execute_result"
    }
   ],
   "source": [
    "# build out pick statistics\n",
    "def get_hero_statistics(match_data):\n",
    "    picks_bans = pd.DataFrame(match_data.picks_bans)\n",
    "    picks = picks_bans[picks_bans.is_pick].drop(['is_pick'], axis=1)\n",
    "    picks['match_id'] = match_data.match_id\n",
    "    picks['win'] = picks.team != match_data.radiant_win\n",
    "    return picks.reset_index(drop=True)\n",
    "\n",
    "\n",
    "# We are telling the pandas to strip the data and send the values after applying the applied selection. \n",
    "# Here we are getting a slice of the data and we apply the get_hero_statistics function to each row. \n",
    "# Axis= 1 means apply to the row and axis =0 means apply to each col\n",
    "matches_heroes = matches[['match_id', 'radiant_win', 'picks_bans']].apply(get_hero_statistics, axis=1)\n",
    "matches_heroes = pd.concat(matches_heroes.tolist(), ignore_index=True)\n",
    "matches_heroes"
   ]
  },
  {
   "cell_type": "markdown",
   "id": "4ffd161a-1546-4db3-a30e-b8bfa12fcdfc",
   "metadata": {},
   "source": [
    "Now that our hero stats table is complete, we are ready to merge it with the actual hero metadata to form a complete set of hero data."
   ]
  },
  {
   "cell_type": "code",
   "execution_count": 74,
   "id": "f6d2eb05-4c8e-48ec-a3b4-cddd9d262c14",
   "metadata": {
    "ExecuteTime": {
     "end_time": "2023-10-22T23:19:03.021022Z",
     "start_time": "2023-10-22T23:19:02.998785Z"
    }
   },
   "outputs": [
    {
     "data": {
      "text/plain": "       hero_id  team  order    match_id    win                         name  \\\n0           43     1      4  7102649472   True  npc_dota_hero_death_prophet   \n1           43     0      4  7102798112   True  npc_dota_hero_death_prophet   \n2           43     1     15  7103690699   True  npc_dota_hero_death_prophet   \n3           43     0      5  7101146267  False  npc_dota_hero_death_prophet   \n4           43     1      7  7101260263  False  npc_dota_hero_death_prophet   \n...        ...   ...    ...         ...    ...                          ...   \n10555       50     1     15  7342166210  False         npc_dota_hero_dazzle   \n10556       50     1      6  7126048768  False         npc_dota_hero_dazzle   \n10557       27     1     22  7341448039  False  npc_dota_hero_shadow_shaman   \n10558       27     0     22  7033635338   True  npc_dota_hero_shadow_shaman   \n10559       27     0     15  7128914194  False  npc_dota_hero_shadow_shaman   \n\n      localized_name primary_attr attack_type  \\\n0      Death Prophet          int      Ranged   \n1      Death Prophet          int      Ranged   \n2      Death Prophet          int      Ranged   \n3      Death Prophet          int      Ranged   \n4      Death Prophet          int      Ranged   \n...              ...          ...         ...   \n10555         Dazzle          all      Ranged   \n10556         Dazzle          all      Ranged   \n10557  Shadow Shaman          int      Ranged   \n10558  Shadow Shaman          int      Ranged   \n10559  Shadow Shaman          int      Ranged   \n\n                                               roles  legs  \n0                   [Carry, Pusher, Nuker, Disabler]     2  \n1                   [Carry, Pusher, Nuker, Disabler]     2  \n2                   [Carry, Pusher, Nuker, Disabler]     2  \n3                   [Carry, Pusher, Nuker, Disabler]     2  \n4                   [Carry, Pusher, Nuker, Disabler]     2  \n...                                              ...   ...  \n10555                     [Support, Nuker, Disabler]     2  \n10556                     [Support, Nuker, Disabler]     2  \n10557  [Support, Pusher, Disabler, Nuker, Initiator]     2  \n10558  [Support, Pusher, Disabler, Nuker, Initiator]     2  \n10559  [Support, Pusher, Disabler, Nuker, Initiator]     2  \n\n[10560 rows x 11 columns]",
      "text/html": "<div>\n<style scoped>\n    .dataframe tbody tr th:only-of-type {\n        vertical-align: middle;\n    }\n\n    .dataframe tbody tr th {\n        vertical-align: top;\n    }\n\n    .dataframe thead th {\n        text-align: right;\n    }\n</style>\n<table border=\"1\" class=\"dataframe\">\n  <thead>\n    <tr style=\"text-align: right;\">\n      <th></th>\n      <th>hero_id</th>\n      <th>team</th>\n      <th>order</th>\n      <th>match_id</th>\n      <th>win</th>\n      <th>name</th>\n      <th>localized_name</th>\n      <th>primary_attr</th>\n      <th>attack_type</th>\n      <th>roles</th>\n      <th>legs</th>\n    </tr>\n  </thead>\n  <tbody>\n    <tr>\n      <th>0</th>\n      <td>43</td>\n      <td>1</td>\n      <td>4</td>\n      <td>7102649472</td>\n      <td>True</td>\n      <td>npc_dota_hero_death_prophet</td>\n      <td>Death Prophet</td>\n      <td>int</td>\n      <td>Ranged</td>\n      <td>[Carry, Pusher, Nuker, Disabler]</td>\n      <td>2</td>\n    </tr>\n    <tr>\n      <th>1</th>\n      <td>43</td>\n      <td>0</td>\n      <td>4</td>\n      <td>7102798112</td>\n      <td>True</td>\n      <td>npc_dota_hero_death_prophet</td>\n      <td>Death Prophet</td>\n      <td>int</td>\n      <td>Ranged</td>\n      <td>[Carry, Pusher, Nuker, Disabler]</td>\n      <td>2</td>\n    </tr>\n    <tr>\n      <th>2</th>\n      <td>43</td>\n      <td>1</td>\n      <td>15</td>\n      <td>7103690699</td>\n      <td>True</td>\n      <td>npc_dota_hero_death_prophet</td>\n      <td>Death Prophet</td>\n      <td>int</td>\n      <td>Ranged</td>\n      <td>[Carry, Pusher, Nuker, Disabler]</td>\n      <td>2</td>\n    </tr>\n    <tr>\n      <th>3</th>\n      <td>43</td>\n      <td>0</td>\n      <td>5</td>\n      <td>7101146267</td>\n      <td>False</td>\n      <td>npc_dota_hero_death_prophet</td>\n      <td>Death Prophet</td>\n      <td>int</td>\n      <td>Ranged</td>\n      <td>[Carry, Pusher, Nuker, Disabler]</td>\n      <td>2</td>\n    </tr>\n    <tr>\n      <th>4</th>\n      <td>43</td>\n      <td>1</td>\n      <td>7</td>\n      <td>7101260263</td>\n      <td>False</td>\n      <td>npc_dota_hero_death_prophet</td>\n      <td>Death Prophet</td>\n      <td>int</td>\n      <td>Ranged</td>\n      <td>[Carry, Pusher, Nuker, Disabler]</td>\n      <td>2</td>\n    </tr>\n    <tr>\n      <th>...</th>\n      <td>...</td>\n      <td>...</td>\n      <td>...</td>\n      <td>...</td>\n      <td>...</td>\n      <td>...</td>\n      <td>...</td>\n      <td>...</td>\n      <td>...</td>\n      <td>...</td>\n      <td>...</td>\n    </tr>\n    <tr>\n      <th>10555</th>\n      <td>50</td>\n      <td>1</td>\n      <td>15</td>\n      <td>7342166210</td>\n      <td>False</td>\n      <td>npc_dota_hero_dazzle</td>\n      <td>Dazzle</td>\n      <td>all</td>\n      <td>Ranged</td>\n      <td>[Support, Nuker, Disabler]</td>\n      <td>2</td>\n    </tr>\n    <tr>\n      <th>10556</th>\n      <td>50</td>\n      <td>1</td>\n      <td>6</td>\n      <td>7126048768</td>\n      <td>False</td>\n      <td>npc_dota_hero_dazzle</td>\n      <td>Dazzle</td>\n      <td>all</td>\n      <td>Ranged</td>\n      <td>[Support, Nuker, Disabler]</td>\n      <td>2</td>\n    </tr>\n    <tr>\n      <th>10557</th>\n      <td>27</td>\n      <td>1</td>\n      <td>22</td>\n      <td>7341448039</td>\n      <td>False</td>\n      <td>npc_dota_hero_shadow_shaman</td>\n      <td>Shadow Shaman</td>\n      <td>int</td>\n      <td>Ranged</td>\n      <td>[Support, Pusher, Disabler, Nuker, Initiator]</td>\n      <td>2</td>\n    </tr>\n    <tr>\n      <th>10558</th>\n      <td>27</td>\n      <td>0</td>\n      <td>22</td>\n      <td>7033635338</td>\n      <td>True</td>\n      <td>npc_dota_hero_shadow_shaman</td>\n      <td>Shadow Shaman</td>\n      <td>int</td>\n      <td>Ranged</td>\n      <td>[Support, Pusher, Disabler, Nuker, Initiator]</td>\n      <td>2</td>\n    </tr>\n    <tr>\n      <th>10559</th>\n      <td>27</td>\n      <td>0</td>\n      <td>15</td>\n      <td>7128914194</td>\n      <td>False</td>\n      <td>npc_dota_hero_shadow_shaman</td>\n      <td>Shadow Shaman</td>\n      <td>int</td>\n      <td>Ranged</td>\n      <td>[Support, Pusher, Disabler, Nuker, Initiator]</td>\n      <td>2</td>\n    </tr>\n  </tbody>\n</table>\n<p>10560 rows × 11 columns</p>\n</div>"
     },
     "execution_count": 74,
     "metadata": {},
     "output_type": "execute_result"
    }
   ],
   "source": [
    "# merge pick statistics with heroes\n",
    "matches_heroes = matches_heroes.merge(heroes, left_on='hero_id', right_on='id')\n",
    "matches_heroes"
   ]
  },
  {
   "cell_type": "markdown",
   "id": "7244bb7a-7bb5-4a6a-a1d2-d5f6fc960e7c",
   "metadata": {},
   "source": [
    "We want to look at how popular and how successful heroes are. We want to get the total number of wins, total number of picks, and average pick place (how early was a hero picked in the draft).\n",
    "\n",
    "We can treat booleans like integers here and so simply applying a sum to the `win` column tells us how many wins that hero has. Similarly, we can just count the column to get the total number of picks. Then all we need to do is take the mean of the `order` column and we have our data!\n",
    "\n",
    "Here we are applying the aggregation and then sorting by the number of wins (it looks a bit odd though - our column name that we are sorting by is... `('win', 'sum')`?)"
   ]
  },
  {
   "cell_type": "code",
   "execution_count": 75,
   "id": "8cd4ee93-2c90-4503-9b3a-cc4ed441b4df",
   "metadata": {
    "ExecuteTime": {
     "end_time": "2023-10-22T23:19:03.021287Z",
     "start_time": "2023-10-22T23:19:03.012362Z"
    }
   },
   "outputs": [
    {
     "data": {
      "text/plain": "                win            order\n                sum count       mean\nlocalized_name                      \nRubick          184   388   9.969072\nUndying         145   275   7.472727\nDoom            141   267   8.599251\nEnchantress     140   270   7.888889\nEmber Spirit    130   251  14.685259\nBeastmaster     129   245   9.938776\nPangolier       114   207  13.531401\nDisruptor       113   222  10.941441\nTechies         110   222   8.238739\nStorm Spirit    105   213  12.366197",
      "text/html": "<div>\n<style scoped>\n    .dataframe tbody tr th:only-of-type {\n        vertical-align: middle;\n    }\n\n    .dataframe tbody tr th {\n        vertical-align: top;\n    }\n\n    .dataframe thead tr th {\n        text-align: left;\n    }\n\n    .dataframe thead tr:last-of-type th {\n        text-align: right;\n    }\n</style>\n<table border=\"1\" class=\"dataframe\">\n  <thead>\n    <tr>\n      <th></th>\n      <th colspan=\"2\" halign=\"left\">win</th>\n      <th>order</th>\n    </tr>\n    <tr>\n      <th></th>\n      <th>sum</th>\n      <th>count</th>\n      <th>mean</th>\n    </tr>\n    <tr>\n      <th>localized_name</th>\n      <th></th>\n      <th></th>\n      <th></th>\n    </tr>\n  </thead>\n  <tbody>\n    <tr>\n      <th>Rubick</th>\n      <td>184</td>\n      <td>388</td>\n      <td>9.969072</td>\n    </tr>\n    <tr>\n      <th>Undying</th>\n      <td>145</td>\n      <td>275</td>\n      <td>7.472727</td>\n    </tr>\n    <tr>\n      <th>Doom</th>\n      <td>141</td>\n      <td>267</td>\n      <td>8.599251</td>\n    </tr>\n    <tr>\n      <th>Enchantress</th>\n      <td>140</td>\n      <td>270</td>\n      <td>7.888889</td>\n    </tr>\n    <tr>\n      <th>Ember Spirit</th>\n      <td>130</td>\n      <td>251</td>\n      <td>14.685259</td>\n    </tr>\n    <tr>\n      <th>Beastmaster</th>\n      <td>129</td>\n      <td>245</td>\n      <td>9.938776</td>\n    </tr>\n    <tr>\n      <th>Pangolier</th>\n      <td>114</td>\n      <td>207</td>\n      <td>13.531401</td>\n    </tr>\n    <tr>\n      <th>Disruptor</th>\n      <td>113</td>\n      <td>222</td>\n      <td>10.941441</td>\n    </tr>\n    <tr>\n      <th>Techies</th>\n      <td>110</td>\n      <td>222</td>\n      <td>8.238739</td>\n    </tr>\n    <tr>\n      <th>Storm Spirit</th>\n      <td>105</td>\n      <td>213</td>\n      <td>12.366197</td>\n    </tr>\n  </tbody>\n</table>\n</div>"
     },
     "execution_count": 75,
     "metadata": {},
     "output_type": "execute_result"
    }
   ],
   "source": [
    "# aggregate data\n",
    "aggregator = {\n",
    "    'win': ['sum', 'count'],\n",
    "    'order': ['mean']\n",
    "}\n",
    "\n",
    "pick_data = matches_heroes.groupby('localized_name').agg(aggregator)\n",
    "pick_data.sort_values(by=('win', 'sum'), ascending=False).head(10)"
   ]
  },
  {
   "cell_type": "markdown",
   "id": "95890f91-36ef-4fc7-be11-731d5adacf33",
   "metadata": {},
   "source": [
    "Let's fix our columns - they are not the easiest to work with and we can be a little more descriptive. We then provide the same sorting as before to view the same data:"
   ]
  },
  {
   "cell_type": "code",
   "execution_count": 76,
   "id": "7fbb424c-7927-40c6-a147-907ba3ef5957",
   "metadata": {
    "ExecuteTime": {
     "end_time": "2023-10-22T23:19:03.483196Z",
     "start_time": "2023-10-22T23:19:03.239255Z"
    }
   },
   "outputs": [
    {
     "data": {
      "text/plain": "                wins  picks   avg_pick\nlocalized_name                        \nRubick           184    388   9.969072\nUndying          145    275   7.472727\nDoom             141    267   8.599251\nEnchantress      140    270   7.888889\nEmber Spirit     130    251  14.685259\nBeastmaster      129    245   9.938776\nPangolier        114    207  13.531401\nDisruptor        113    222  10.941441\nTechies          110    222   8.238739\nStorm Spirit     105    213  12.366197",
      "text/html": "<div>\n<style scoped>\n    .dataframe tbody tr th:only-of-type {\n        vertical-align: middle;\n    }\n\n    .dataframe tbody tr th {\n        vertical-align: top;\n    }\n\n    .dataframe thead th {\n        text-align: right;\n    }\n</style>\n<table border=\"1\" class=\"dataframe\">\n  <thead>\n    <tr style=\"text-align: right;\">\n      <th></th>\n      <th>wins</th>\n      <th>picks</th>\n      <th>avg_pick</th>\n    </tr>\n    <tr>\n      <th>localized_name</th>\n      <th></th>\n      <th></th>\n      <th></th>\n    </tr>\n  </thead>\n  <tbody>\n    <tr>\n      <th>Rubick</th>\n      <td>184</td>\n      <td>388</td>\n      <td>9.969072</td>\n    </tr>\n    <tr>\n      <th>Undying</th>\n      <td>145</td>\n      <td>275</td>\n      <td>7.472727</td>\n    </tr>\n    <tr>\n      <th>Doom</th>\n      <td>141</td>\n      <td>267</td>\n      <td>8.599251</td>\n    </tr>\n    <tr>\n      <th>Enchantress</th>\n      <td>140</td>\n      <td>270</td>\n      <td>7.888889</td>\n    </tr>\n    <tr>\n      <th>Ember Spirit</th>\n      <td>130</td>\n      <td>251</td>\n      <td>14.685259</td>\n    </tr>\n    <tr>\n      <th>Beastmaster</th>\n      <td>129</td>\n      <td>245</td>\n      <td>9.938776</td>\n    </tr>\n    <tr>\n      <th>Pangolier</th>\n      <td>114</td>\n      <td>207</td>\n      <td>13.531401</td>\n    </tr>\n    <tr>\n      <th>Disruptor</th>\n      <td>113</td>\n      <td>222</td>\n      <td>10.941441</td>\n    </tr>\n    <tr>\n      <th>Techies</th>\n      <td>110</td>\n      <td>222</td>\n      <td>8.238739</td>\n    </tr>\n    <tr>\n      <th>Storm Spirit</th>\n      <td>105</td>\n      <td>213</td>\n      <td>12.366197</td>\n    </tr>\n  </tbody>\n</table>\n</div>"
     },
     "execution_count": 76,
     "metadata": {},
     "output_type": "execute_result"
    }
   ],
   "source": [
    "# clean and sort pick data\n",
    "pick_data.columns = ['wins', 'picks', 'avg_pick']\n",
    "pick_data.sort_values(by='wins', ascending=False).head(10)"
   ]
  },
  {
   "cell_type": "markdown",
   "id": "e1f71c2e-46cc-48d3-b6ba-54fd96ff015b",
   "metadata": {},
   "source": [
    "From here we can do a lot! We can compute the win percentage of each hero; let's only select the heroes that have been selected 200 or more times (~20% of matches picked):"
   ]
  },
  {
   "cell_type": "code",
   "execution_count": 86,
   "id": "b392cb13-a93b-4a6d-8e6c-ab1f2cdcd264",
   "metadata": {
    "ExecuteTime": {
     "end_time": "2023-10-22T23:19:26.976940Z",
     "start_time": "2023-10-22T23:19:26.946667Z"
    }
   },
   "outputs": [
    {
     "data": {
      "text/plain": "                  wins  picks   avg_pick    win_pct\nlocalized_name                                     \nMedusa              78    128  10.015625  60.937500\nLeshrac             71    121  11.396694  58.677686\nTreant Protector    60    104   7.990385  57.692308\nBroodmother         63    110   9.263636  57.272727\nUnderlord           73    128  13.187500  57.031250\nPangolier          114    207  13.531401  55.072464\nEnigma              58    107  11.598131  54.205607\nVoid Spirit         63    117  15.470085  53.846154\nClockwerk           78    146  12.917808  53.424658\nPugna               81    152   8.250000  53.289474\nTiny                79    149  13.281879  53.020134\nSlark               63    119  15.739496  52.941176\nDoom               141    267   8.599251  52.808989\nUndying            145    275   7.472727  52.727273\nBeastmaster        129    245   9.938776  52.653061\nEnchantress        140    270   7.888889  51.851852\nEmber Spirit       130    251  14.685259  51.792829\nDark Seer           58    113  17.752212  51.327434\nBatrider            99    193   9.709845  51.295337\nSilencer            75    147  13.054422  51.020408",
      "text/html": "<div>\n<style scoped>\n    .dataframe tbody tr th:only-of-type {\n        vertical-align: middle;\n    }\n\n    .dataframe tbody tr th {\n        vertical-align: top;\n    }\n\n    .dataframe thead th {\n        text-align: right;\n    }\n</style>\n<table border=\"1\" class=\"dataframe\">\n  <thead>\n    <tr style=\"text-align: right;\">\n      <th></th>\n      <th>wins</th>\n      <th>picks</th>\n      <th>avg_pick</th>\n      <th>win_pct</th>\n    </tr>\n    <tr>\n      <th>localized_name</th>\n      <th></th>\n      <th></th>\n      <th></th>\n      <th></th>\n    </tr>\n  </thead>\n  <tbody>\n    <tr>\n      <th>Medusa</th>\n      <td>78</td>\n      <td>128</td>\n      <td>10.015625</td>\n      <td>60.937500</td>\n    </tr>\n    <tr>\n      <th>Leshrac</th>\n      <td>71</td>\n      <td>121</td>\n      <td>11.396694</td>\n      <td>58.677686</td>\n    </tr>\n    <tr>\n      <th>Treant Protector</th>\n      <td>60</td>\n      <td>104</td>\n      <td>7.990385</td>\n      <td>57.692308</td>\n    </tr>\n    <tr>\n      <th>Broodmother</th>\n      <td>63</td>\n      <td>110</td>\n      <td>9.263636</td>\n      <td>57.272727</td>\n    </tr>\n    <tr>\n      <th>Underlord</th>\n      <td>73</td>\n      <td>128</td>\n      <td>13.187500</td>\n      <td>57.031250</td>\n    </tr>\n    <tr>\n      <th>Pangolier</th>\n      <td>114</td>\n      <td>207</td>\n      <td>13.531401</td>\n      <td>55.072464</td>\n    </tr>\n    <tr>\n      <th>Enigma</th>\n      <td>58</td>\n      <td>107</td>\n      <td>11.598131</td>\n      <td>54.205607</td>\n    </tr>\n    <tr>\n      <th>Void Spirit</th>\n      <td>63</td>\n      <td>117</td>\n      <td>15.470085</td>\n      <td>53.846154</td>\n    </tr>\n    <tr>\n      <th>Clockwerk</th>\n      <td>78</td>\n      <td>146</td>\n      <td>12.917808</td>\n      <td>53.424658</td>\n    </tr>\n    <tr>\n      <th>Pugna</th>\n      <td>81</td>\n      <td>152</td>\n      <td>8.250000</td>\n      <td>53.289474</td>\n    </tr>\n    <tr>\n      <th>Tiny</th>\n      <td>79</td>\n      <td>149</td>\n      <td>13.281879</td>\n      <td>53.020134</td>\n    </tr>\n    <tr>\n      <th>Slark</th>\n      <td>63</td>\n      <td>119</td>\n      <td>15.739496</td>\n      <td>52.941176</td>\n    </tr>\n    <tr>\n      <th>Doom</th>\n      <td>141</td>\n      <td>267</td>\n      <td>8.599251</td>\n      <td>52.808989</td>\n    </tr>\n    <tr>\n      <th>Undying</th>\n      <td>145</td>\n      <td>275</td>\n      <td>7.472727</td>\n      <td>52.727273</td>\n    </tr>\n    <tr>\n      <th>Beastmaster</th>\n      <td>129</td>\n      <td>245</td>\n      <td>9.938776</td>\n      <td>52.653061</td>\n    </tr>\n    <tr>\n      <th>Enchantress</th>\n      <td>140</td>\n      <td>270</td>\n      <td>7.888889</td>\n      <td>51.851852</td>\n    </tr>\n    <tr>\n      <th>Ember Spirit</th>\n      <td>130</td>\n      <td>251</td>\n      <td>14.685259</td>\n      <td>51.792829</td>\n    </tr>\n    <tr>\n      <th>Dark Seer</th>\n      <td>58</td>\n      <td>113</td>\n      <td>17.752212</td>\n      <td>51.327434</td>\n    </tr>\n    <tr>\n      <th>Batrider</th>\n      <td>99</td>\n      <td>193</td>\n      <td>9.709845</td>\n      <td>51.295337</td>\n    </tr>\n    <tr>\n      <th>Silencer</th>\n      <td>75</td>\n      <td>147</td>\n      <td>13.054422</td>\n      <td>51.020408</td>\n    </tr>\n  </tbody>\n</table>\n</div>"
     },
     "execution_count": 86,
     "metadata": {},
     "output_type": "execute_result"
    }
   ],
   "source": [
    "# add win_pct column to pick data\n",
    "pick_data['win_pct'] = 100.0*pick_data.wins/pick_data.picks\n",
    "pick_data[pick_data.picks >= 100].sort_values(by=['win_pct', 'picks'], ascending=False).head(20)"
   ]
  },
  {
   "cell_type": "markdown",
   "id": "61694157-76dc-4526-89ab-28d4e1278a0c",
   "metadata": {},
   "source": [
    "Or we can sort by `avg_pick` to figure out how eagerly some heroes are selected! The lower the average pick, the earlier the hero was selected."
   ]
  },
  {
   "cell_type": "code",
   "execution_count": 87,
   "id": "ff310f3d-5e33-498f-a843-e2f2609e662c",
   "metadata": {
    "ExecuteTime": {
     "end_time": "2023-10-22T23:19:28.004100Z",
     "start_time": "2023-10-22T23:19:27.981868Z"
    }
   },
   "outputs": [
    {
     "data": {
      "text/plain": "                wins  picks   avg_pick    win_pct\nlocalized_name                                   \nUndying          145    275   7.472727  52.727273\nEnchantress      140    270   7.888889  51.851852\nTechies          110    222   8.238739  49.549550\nDoom             141    267   8.599251  52.808989\nBeastmaster      129    245   9.938776  52.653061\nRubick           184    388   9.969072  47.422680\nDisruptor        113    222  10.941441  50.900901\nMorphling         96    201  11.532338  47.761194\nStorm Spirit     105    213  12.366197  49.295775\nPangolier        114    207  13.531401  55.072464",
      "text/html": "<div>\n<style scoped>\n    .dataframe tbody tr th:only-of-type {\n        vertical-align: middle;\n    }\n\n    .dataframe tbody tr th {\n        vertical-align: top;\n    }\n\n    .dataframe thead th {\n        text-align: right;\n    }\n</style>\n<table border=\"1\" class=\"dataframe\">\n  <thead>\n    <tr style=\"text-align: right;\">\n      <th></th>\n      <th>wins</th>\n      <th>picks</th>\n      <th>avg_pick</th>\n      <th>win_pct</th>\n    </tr>\n    <tr>\n      <th>localized_name</th>\n      <th></th>\n      <th></th>\n      <th></th>\n      <th></th>\n    </tr>\n  </thead>\n  <tbody>\n    <tr>\n      <th>Undying</th>\n      <td>145</td>\n      <td>275</td>\n      <td>7.472727</td>\n      <td>52.727273</td>\n    </tr>\n    <tr>\n      <th>Enchantress</th>\n      <td>140</td>\n      <td>270</td>\n      <td>7.888889</td>\n      <td>51.851852</td>\n    </tr>\n    <tr>\n      <th>Techies</th>\n      <td>110</td>\n      <td>222</td>\n      <td>8.238739</td>\n      <td>49.549550</td>\n    </tr>\n    <tr>\n      <th>Doom</th>\n      <td>141</td>\n      <td>267</td>\n      <td>8.599251</td>\n      <td>52.808989</td>\n    </tr>\n    <tr>\n      <th>Beastmaster</th>\n      <td>129</td>\n      <td>245</td>\n      <td>9.938776</td>\n      <td>52.653061</td>\n    </tr>\n    <tr>\n      <th>Rubick</th>\n      <td>184</td>\n      <td>388</td>\n      <td>9.969072</td>\n      <td>47.422680</td>\n    </tr>\n    <tr>\n      <th>Disruptor</th>\n      <td>113</td>\n      <td>222</td>\n      <td>10.941441</td>\n      <td>50.900901</td>\n    </tr>\n    <tr>\n      <th>Morphling</th>\n      <td>96</td>\n      <td>201</td>\n      <td>11.532338</td>\n      <td>47.761194</td>\n    </tr>\n    <tr>\n      <th>Storm Spirit</th>\n      <td>105</td>\n      <td>213</td>\n      <td>12.366197</td>\n      <td>49.295775</td>\n    </tr>\n    <tr>\n      <th>Pangolier</th>\n      <td>114</td>\n      <td>207</td>\n      <td>13.531401</td>\n      <td>55.072464</td>\n    </tr>\n  </tbody>\n</table>\n</div>"
     },
     "execution_count": 87,
     "metadata": {},
     "output_type": "execute_result"
    }
   ],
   "source": [
    "# sort pick data by the avg_pick\n",
    "pick_data[pick_data.picks > 200].sort_values(by='avg_pick').head(10)"
   ]
  },
  {
   "cell_type": "markdown",
   "id": "ce89e047-2475-4b3e-8bf5-931689850e0f",
   "metadata": {},
   "source": [
    "## Bans\n",
    "\n",
    "Something we explicitly cut out of the above analysis is the *ban* aspect of the hero selection data. In competitive matches, not only are heroes picked, but they are also *banned*. When a hero is banned, they cannot be selected by either team. Some teams may be exceptionalyl adept at playing certain heroes and so the other team may want to remove those heroes from the game. Or perhaps a team is susceptible to a particular hero, so they ban that hero. Or perhaps a hero is known to be exceptionally powerful and difficult to play against, and so a team decides to ban that hero simply so that no one can have them.\n",
    "\n",
    "We want to perform the above analysis, but instead of looking at picks and win percentages, we want to take a look at how often heroes are banned.\n",
    "\n",
    "Follow along with the steps below:"
   ]
  },
  {
   "cell_type": "markdown",
   "id": "a2a3d741-a0c2-4878-9999-76986364f578",
   "metadata": {},
   "source": [
    "Create a new data frame named `matches_banned_heroes` very similar to our `matches_heroes` data frame, except we want to only work with the heroes that have been banned! This requires us to negate `picks_bans.is_pick`. This data set also does not benefit from having a `win` column, and so we do not need to produce that for this part."
   ]
  },
  {
   "cell_type": "markdown",
   "id": "ac30fcbf",
   "metadata": {},
   "source": [
    "## We add the ~sign to negate the picks_bans: See the comment in the tab"
   ]
  },
  {
   "cell_type": "code",
   "execution_count": 88,
   "id": "5ffc551e-3299-4669-83e1-03da671e00b8",
   "metadata": {
    "ExecuteTime": {
     "end_time": "2023-10-22T23:19:30.483491Z",
     "start_time": "2023-10-22T23:19:29.873251Z"
    }
   },
   "outputs": [
    {
     "data": {
      "text/plain": "       hero_id  team  order    match_id\n0           87     1      0  7102649472\n1           65     0      1  7102649472\n2           51     1      2  7102649472\n3           61     0      3  7102649472\n4            6     1      8  7102649472\n...        ...   ...    ...         ...\n14778        9     0     13  7223294867\n14779       82     1     18  7223294867\n14780        4     0     19  7223294867\n14781       12     1     20  7223294867\n14782       46     0     21  7223294867\n\n[14783 rows x 4 columns]",
      "text/html": "<div>\n<style scoped>\n    .dataframe tbody tr th:only-of-type {\n        vertical-align: middle;\n    }\n\n    .dataframe tbody tr th {\n        vertical-align: top;\n    }\n\n    .dataframe thead th {\n        text-align: right;\n    }\n</style>\n<table border=\"1\" class=\"dataframe\">\n  <thead>\n    <tr style=\"text-align: right;\">\n      <th></th>\n      <th>hero_id</th>\n      <th>team</th>\n      <th>order</th>\n      <th>match_id</th>\n    </tr>\n  </thead>\n  <tbody>\n    <tr>\n      <th>0</th>\n      <td>87</td>\n      <td>1</td>\n      <td>0</td>\n      <td>7102649472</td>\n    </tr>\n    <tr>\n      <th>1</th>\n      <td>65</td>\n      <td>0</td>\n      <td>1</td>\n      <td>7102649472</td>\n    </tr>\n    <tr>\n      <th>2</th>\n      <td>51</td>\n      <td>1</td>\n      <td>2</td>\n      <td>7102649472</td>\n    </tr>\n    <tr>\n      <th>3</th>\n      <td>61</td>\n      <td>0</td>\n      <td>3</td>\n      <td>7102649472</td>\n    </tr>\n    <tr>\n      <th>4</th>\n      <td>6</td>\n      <td>1</td>\n      <td>8</td>\n      <td>7102649472</td>\n    </tr>\n    <tr>\n      <th>...</th>\n      <td>...</td>\n      <td>...</td>\n      <td>...</td>\n      <td>...</td>\n    </tr>\n    <tr>\n      <th>14778</th>\n      <td>9</td>\n      <td>0</td>\n      <td>13</td>\n      <td>7223294867</td>\n    </tr>\n    <tr>\n      <th>14779</th>\n      <td>82</td>\n      <td>1</td>\n      <td>18</td>\n      <td>7223294867</td>\n    </tr>\n    <tr>\n      <th>14780</th>\n      <td>4</td>\n      <td>0</td>\n      <td>19</td>\n      <td>7223294867</td>\n    </tr>\n    <tr>\n      <th>14781</th>\n      <td>12</td>\n      <td>1</td>\n      <td>20</td>\n      <td>7223294867</td>\n    </tr>\n    <tr>\n      <th>14782</th>\n      <td>46</td>\n      <td>0</td>\n      <td>21</td>\n      <td>7223294867</td>\n    </tr>\n  </tbody>\n</table>\n<p>14783 rows × 4 columns</p>\n</div>"
     },
     "execution_count": 88,
     "metadata": {},
     "output_type": "execute_result"
    }
   ],
   "source": [
    "# get ban statistics\n",
    "# build out pick statistics\n",
    "def get_baned_hero_statistics(match_data):\n",
    "    picks_bans = pd.DataFrame(match_data.picks_bans)\n",
    "    # We added ~ which means not picked\n",
    "    bans = picks_bans[~picks_bans.is_pick].drop(['is_pick'], axis=1)\n",
    "    bans['match_id'] = match_data.match_id\n",
    "    return bans.reset_index(drop=True)\n",
    "\n",
    "\n",
    "# We are telling the pandas to strip the data and send the values after applying the applied selection. \n",
    "# Here we are getting a slice of the data and we apply the get_hero_statistics function to each row. \n",
    "# Axis= 1 means apply to the row and axis =0 means apply to each col\n",
    "banned_matches_heroes = matches[['match_id', 'radiant_win', 'picks_bans']].apply(get_baned_hero_statistics, axis=1)\n",
    "banned_matches_heroes = pd.concat(banned_matches_heroes.tolist(), ignore_index=True)\n",
    "banned_matches_heroes\n"
   ]
  },
  {
   "cell_type": "markdown",
   "id": "c5f27903-e053-4997-8c6a-c81066c42280",
   "metadata": {},
   "source": [
    "Next we will merge `matches_banned_heroes` with our `heroes` data frame from before just as we did when working with the previous pieces of data. Here we can just overwrite `matches_banned_heroes` with the merged data."
   ]
  },
  {
   "cell_type": "code",
   "execution_count": 89,
   "id": "61159cca-764c-4fe6-a4ee-664b22c2e665",
   "metadata": {
    "ExecuteTime": {
     "end_time": "2023-10-22T23:19:31.160979Z",
     "start_time": "2023-10-22T23:19:31.135783Z"
    }
   },
   "outputs": [
    {
     "data": {
      "text/plain": "       hero_id  team  order    match_id                     name  \\\n0           87     1      0  7102649472  npc_dota_hero_disruptor   \n1           87     0      8  7114527708  npc_dota_hero_disruptor   \n2           87     0      3  7102222768  npc_dota_hero_disruptor   \n3           87     0      0  7099972924  npc_dota_hero_disruptor   \n4           87     1      8  7099579762  npc_dota_hero_disruptor   \n...        ...   ...    ...         ...                      ...   \n14778       16     1     21  7130880883  npc_dota_hero_sand_king   \n14779       16     1     19  7127536763  npc_dota_hero_sand_king   \n14780       63     1     12  7034090902     npc_dota_hero_weaver   \n14781       63     1     18  7032319356     npc_dota_hero_weaver   \n14782       63     1     18  7134156892     npc_dota_hero_weaver   \n\n      localized_name primary_attr attack_type  \\\n0          Disruptor          int      Ranged   \n1          Disruptor          int      Ranged   \n2          Disruptor          int      Ranged   \n3          Disruptor          int      Ranged   \n4          Disruptor          int      Ranged   \n...              ...          ...         ...   \n14778      Sand King          all       Melee   \n14779      Sand King          all       Melee   \n14780         Weaver          agi      Ranged   \n14781         Weaver          agi      Ranged   \n14782         Weaver          agi      Ranged   \n\n                                               roles  legs  \n0              [Support, Disabler, Nuker, Initiator]     2  \n1              [Support, Disabler, Nuker, Initiator]     2  \n2              [Support, Disabler, Nuker, Initiator]     2  \n3              [Support, Disabler, Nuker, Initiator]     2  \n4              [Support, Disabler, Nuker, Initiator]     2  \n...                                              ...   ...  \n14778  [Initiator, Disabler, Support, Nuker, Escape]     6  \n14779  [Initiator, Disabler, Support, Nuker, Escape]     6  \n14780                                [Carry, Escape]     4  \n14781                                [Carry, Escape]     4  \n14782                                [Carry, Escape]     4  \n\n[14783 rows x 10 columns]",
      "text/html": "<div>\n<style scoped>\n    .dataframe tbody tr th:only-of-type {\n        vertical-align: middle;\n    }\n\n    .dataframe tbody tr th {\n        vertical-align: top;\n    }\n\n    .dataframe thead th {\n        text-align: right;\n    }\n</style>\n<table border=\"1\" class=\"dataframe\">\n  <thead>\n    <tr style=\"text-align: right;\">\n      <th></th>\n      <th>hero_id</th>\n      <th>team</th>\n      <th>order</th>\n      <th>match_id</th>\n      <th>name</th>\n      <th>localized_name</th>\n      <th>primary_attr</th>\n      <th>attack_type</th>\n      <th>roles</th>\n      <th>legs</th>\n    </tr>\n  </thead>\n  <tbody>\n    <tr>\n      <th>0</th>\n      <td>87</td>\n      <td>1</td>\n      <td>0</td>\n      <td>7102649472</td>\n      <td>npc_dota_hero_disruptor</td>\n      <td>Disruptor</td>\n      <td>int</td>\n      <td>Ranged</td>\n      <td>[Support, Disabler, Nuker, Initiator]</td>\n      <td>2</td>\n    </tr>\n    <tr>\n      <th>1</th>\n      <td>87</td>\n      <td>0</td>\n      <td>8</td>\n      <td>7114527708</td>\n      <td>npc_dota_hero_disruptor</td>\n      <td>Disruptor</td>\n      <td>int</td>\n      <td>Ranged</td>\n      <td>[Support, Disabler, Nuker, Initiator]</td>\n      <td>2</td>\n    </tr>\n    <tr>\n      <th>2</th>\n      <td>87</td>\n      <td>0</td>\n      <td>3</td>\n      <td>7102222768</td>\n      <td>npc_dota_hero_disruptor</td>\n      <td>Disruptor</td>\n      <td>int</td>\n      <td>Ranged</td>\n      <td>[Support, Disabler, Nuker, Initiator]</td>\n      <td>2</td>\n    </tr>\n    <tr>\n      <th>3</th>\n      <td>87</td>\n      <td>0</td>\n      <td>0</td>\n      <td>7099972924</td>\n      <td>npc_dota_hero_disruptor</td>\n      <td>Disruptor</td>\n      <td>int</td>\n      <td>Ranged</td>\n      <td>[Support, Disabler, Nuker, Initiator]</td>\n      <td>2</td>\n    </tr>\n    <tr>\n      <th>4</th>\n      <td>87</td>\n      <td>1</td>\n      <td>8</td>\n      <td>7099579762</td>\n      <td>npc_dota_hero_disruptor</td>\n      <td>Disruptor</td>\n      <td>int</td>\n      <td>Ranged</td>\n      <td>[Support, Disabler, Nuker, Initiator]</td>\n      <td>2</td>\n    </tr>\n    <tr>\n      <th>...</th>\n      <td>...</td>\n      <td>...</td>\n      <td>...</td>\n      <td>...</td>\n      <td>...</td>\n      <td>...</td>\n      <td>...</td>\n      <td>...</td>\n      <td>...</td>\n      <td>...</td>\n    </tr>\n    <tr>\n      <th>14778</th>\n      <td>16</td>\n      <td>1</td>\n      <td>21</td>\n      <td>7130880883</td>\n      <td>npc_dota_hero_sand_king</td>\n      <td>Sand King</td>\n      <td>all</td>\n      <td>Melee</td>\n      <td>[Initiator, Disabler, Support, Nuker, Escape]</td>\n      <td>6</td>\n    </tr>\n    <tr>\n      <th>14779</th>\n      <td>16</td>\n      <td>1</td>\n      <td>19</td>\n      <td>7127536763</td>\n      <td>npc_dota_hero_sand_king</td>\n      <td>Sand King</td>\n      <td>all</td>\n      <td>Melee</td>\n      <td>[Initiator, Disabler, Support, Nuker, Escape]</td>\n      <td>6</td>\n    </tr>\n    <tr>\n      <th>14780</th>\n      <td>63</td>\n      <td>1</td>\n      <td>12</td>\n      <td>7034090902</td>\n      <td>npc_dota_hero_weaver</td>\n      <td>Weaver</td>\n      <td>agi</td>\n      <td>Ranged</td>\n      <td>[Carry, Escape]</td>\n      <td>4</td>\n    </tr>\n    <tr>\n      <th>14781</th>\n      <td>63</td>\n      <td>1</td>\n      <td>18</td>\n      <td>7032319356</td>\n      <td>npc_dota_hero_weaver</td>\n      <td>Weaver</td>\n      <td>agi</td>\n      <td>Ranged</td>\n      <td>[Carry, Escape]</td>\n      <td>4</td>\n    </tr>\n    <tr>\n      <th>14782</th>\n      <td>63</td>\n      <td>1</td>\n      <td>18</td>\n      <td>7134156892</td>\n      <td>npc_dota_hero_weaver</td>\n      <td>Weaver</td>\n      <td>agi</td>\n      <td>Ranged</td>\n      <td>[Carry, Escape]</td>\n      <td>4</td>\n    </tr>\n  </tbody>\n</table>\n<p>14783 rows × 10 columns</p>\n</div>"
     },
     "execution_count": 89,
     "metadata": {},
     "output_type": "execute_result"
    }
   ],
   "source": [
    "# merge with heroes\n",
    "\n",
    "banned_matches_heroes = banned_matches_heroes.merge(heroes, left_on='hero_id', right_on='id')\n",
    "banned_matches_heroes"
   ]
  },
  {
   "cell_type": "markdown",
   "id": "30c835b7-5789-4edd-926f-dd3e039b30ee",
   "metadata": {},
   "source": [
    "With our ban data ready we can group `matches_banned_heroes` by the `localized_name` and then apply a `count` aggregation to the `id` column. This will produce a series object with the total number of bans per hero (the heroes' localized names will appear in the index). We can save off these counts in new variable named `ban_data`.\n",
    "\n",
    "We will also want to ensure that `ban_data` is a data frame and not a series - we can use the following to ensure it is a dataframe with the proper column names:"
   ]
  },
  {
   "cell_type": "markdown",
   "id": "7726c4d3",
   "metadata": {},
   "source": [
    "# QUIZ: find the band_ hero that is not showing the below list "
   ]
  },
  {
   "cell_type": "code",
   "execution_count": 90,
   "id": "25c66b85-c8c8-458f-a160-439048c3c3fb",
   "metadata": {
    "ExecuteTime": {
     "end_time": "2023-10-22T23:19:33.027300Z",
     "start_time": "2023-10-22T23:19:32.990119Z"
    }
   },
   "outputs": [
    {
     "ename": "AttributeError",
     "evalue": "'DataFrameGroupBy' object has no attribute 'id'",
     "output_type": "error",
     "traceback": [
      "\u001B[0;31m---------------------------------------------------------------------------\u001B[0m",
      "\u001B[0;31mAttributeError\u001B[0m                            Traceback (most recent call last)",
      "Cell \u001B[0;32mIn[90], line 1\u001B[0m\n\u001B[0;32m----> 1\u001B[0m ban_data \u001B[38;5;241m=\u001B[39m \u001B[43mbanned_matches_heroes\u001B[49m\u001B[38;5;241;43m.\u001B[39;49m\u001B[43mgroupby\u001B[49m\u001B[43m(\u001B[49m\u001B[38;5;124;43m'\u001B[39;49m\u001B[38;5;124;43mlocalized_name\u001B[39;49m\u001B[38;5;124;43m'\u001B[39;49m\u001B[43m)\u001B[49m\u001B[38;5;241;43m.\u001B[39;49m\u001B[43mid\u001B[49m\u001B[38;5;241m.\u001B[39mcount()\u001B[38;5;241m.\u001B[39mto_frame()\n\u001B[1;32m      2\u001B[0m ban_data\u001B[38;5;241m.\u001B[39mcolumns \u001B[38;5;241m=\u001B[39m [\u001B[38;5;124m'\u001B[39m\u001B[38;5;124mbans\u001B[39m\u001B[38;5;124m'\u001B[39m]\n\u001B[1;32m      3\u001B[0m ban_data\n",
      "File \u001B[0;32m~/STUDY/DATA VISUAL/DATA_VIZ_PYCHARM/venv/lib/python3.9/site-packages/pandas/core/groupby/groupby.py:1308\u001B[0m, in \u001B[0;36mGroupBy.__getattr__\u001B[0;34m(self, attr)\u001B[0m\n\u001B[1;32m   1305\u001B[0m \u001B[38;5;28;01mif\u001B[39;00m attr \u001B[38;5;129;01min\u001B[39;00m \u001B[38;5;28mself\u001B[39m\u001B[38;5;241m.\u001B[39mobj:\n\u001B[1;32m   1306\u001B[0m     \u001B[38;5;28;01mreturn\u001B[39;00m \u001B[38;5;28mself\u001B[39m[attr]\n\u001B[0;32m-> 1308\u001B[0m \u001B[38;5;28;01mraise\u001B[39;00m \u001B[38;5;167;01mAttributeError\u001B[39;00m(\n\u001B[1;32m   1309\u001B[0m     \u001B[38;5;124mf\u001B[39m\u001B[38;5;124m\"\u001B[39m\u001B[38;5;124m'\u001B[39m\u001B[38;5;132;01m{\u001B[39;00m\u001B[38;5;28mtype\u001B[39m(\u001B[38;5;28mself\u001B[39m)\u001B[38;5;241m.\u001B[39m\u001B[38;5;18m__name__\u001B[39m\u001B[38;5;132;01m}\u001B[39;00m\u001B[38;5;124m'\u001B[39m\u001B[38;5;124m object has no attribute \u001B[39m\u001B[38;5;124m'\u001B[39m\u001B[38;5;132;01m{\u001B[39;00mattr\u001B[38;5;132;01m}\u001B[39;00m\u001B[38;5;124m'\u001B[39m\u001B[38;5;124m\"\u001B[39m\n\u001B[1;32m   1310\u001B[0m )\n",
      "\u001B[0;31mAttributeError\u001B[0m: 'DataFrameGroupBy' object has no attribute 'id'"
     ]
    }
   ],
   "source": [
    "ban_data = banned_matches_heroes.groupby('localized_name').id.count().to_frame()\n",
    "ban_data.columns = ['bans']\n",
    "ban_data"
   ]
  },
  {
   "cell_type": "markdown",
   "id": "d1c76e92-a5ef-480b-a60f-7dac9755eaf7",
   "metadata": {},
   "source": [
    "Next we want to grab the 10 most banned heroes - we can do this by sorting `ban_data` descending and then taking 10 values from the `head` of the resulting data frame."
   ]
  },
  {
   "cell_type": "code",
   "execution_count": 91,
   "id": "3b591844-86c1-4c3c-aca6-50f67f564be1",
   "metadata": {
    "ExecuteTime": {
     "end_time": "2023-10-22T23:19:34.346075Z",
     "start_time": "2023-10-22T23:19:34.321929Z"
    }
   },
   "outputs": [
    {
     "ename": "NameError",
     "evalue": "name 'ban_data' is not defined",
     "output_type": "error",
     "traceback": [
      "\u001B[0;31m---------------------------------------------------------------------------\u001B[0m",
      "\u001B[0;31mNameError\u001B[0m                                 Traceback (most recent call last)",
      "Cell \u001B[0;32mIn[91], line 2\u001B[0m\n\u001B[1;32m      1\u001B[0m \u001B[38;5;66;03m# sort ban data\u001B[39;00m\n\u001B[0;32m----> 2\u001B[0m most_banned_heroes \u001B[38;5;241m=\u001B[39m \u001B[43mban_data\u001B[49m\u001B[38;5;241m.\u001B[39msort_values(by\u001B[38;5;241m=\u001B[39m\u001B[38;5;124m'\u001B[39m\u001B[38;5;124mbans\u001B[39m\u001B[38;5;124m'\u001B[39m,ascending\u001B[38;5;241m=\u001B[39m\u001B[38;5;28;01mFalse\u001B[39;00m)\u001B[38;5;241m.\u001B[39mhead(\u001B[38;5;241m10\u001B[39m)\n\u001B[1;32m      3\u001B[0m most_banned_heroes\n",
      "\u001B[0;31mNameError\u001B[0m: name 'ban_data' is not defined"
     ]
    }
   ],
   "source": [
    "# sort ban data\n",
    "most_banned_heroes = ban_data.sort_values(by='bans',ascending=False).head(10)\n",
    "most_banned_heroes"
   ]
  },
  {
   "cell_type": "markdown",
   "id": "a4a87bac-af9e-4e20-8a7e-b632d0e3f42d",
   "metadata": {},
   "source": [
    "## Putting it all Together\n",
    "\n",
    "Next we want to extract the performance of the 10 most banned heroes and merge that with the pick data from the first section (`pick_data`)."
   ]
  },
  {
   "cell_type": "code",
   "execution_count": 83,
   "id": "3be3f4d6-6e11-4a0f-ab20-a1290fd6518b",
   "metadata": {
    "ExecuteTime": {
     "end_time": "2023-10-22T23:19:07.074610Z",
     "start_time": "2023-10-22T23:19:07.041353Z"
    }
   },
   "outputs": [
    {
     "ename": "NameError",
     "evalue": "name 'most_banned_heroes' is not defined",
     "output_type": "error",
     "traceback": [
      "\u001B[0;31m---------------------------------------------------------------------------\u001B[0m",
      "\u001B[0;31mNameError\u001B[0m                                 Traceback (most recent call last)",
      "Cell \u001B[0;32mIn[83], line 1\u001B[0m\n\u001B[0;32m----> 1\u001B[0m most_banned_hero_performances \u001B[38;5;241m=\u001B[39m \u001B[43mmost_banned_heroes\u001B[49m\u001B[38;5;241m.\u001B[39mmerge(\n\u001B[1;32m      2\u001B[0m     pick_data,\n\u001B[1;32m      3\u001B[0m     left_index\u001B[38;5;241m=\u001B[39m\u001B[38;5;28;01mTrue\u001B[39;00m,\n\u001B[1;32m      4\u001B[0m     right_index\u001B[38;5;241m=\u001B[39m\u001B[38;5;28;01mTrue\u001B[39;00m\n\u001B[1;32m      5\u001B[0m )\n\u001B[1;32m      6\u001B[0m most_banned_hero_performances\n",
      "\u001B[0;31mNameError\u001B[0m: name 'most_banned_heroes' is not defined"
     ]
    }
   ],
   "source": [
    "most_banned_hero_performances = most_banned_heroes.merge(\n",
    "    pick_data,\n",
    "    left_index=True,\n",
    "    right_index=True\n",
    ")\n",
    "most_banned_hero_performances"
   ]
  },
  {
   "cell_type": "markdown",
   "id": "9d8695b1-9c19-4970-b72d-b979eaebb884",
   "metadata": {},
   "source": [
    "Now we can scatter this data, putting the `picks` on the x, `bans` on the y, and coloring by `win_pct` (it is also a good idea to use a different colormap (`cmap`) as the default is not the most useful)."
   ]
  },
  {
   "cell_type": "code",
   "execution_count": 85,
   "id": "9b0d06a3-2293-4f9c-a410-3df2399ee5fc",
   "metadata": {
    "ExecuteTime": {
     "end_time": "2023-10-22T23:19:21.384899Z",
     "start_time": "2023-10-22T23:19:21.336738Z"
    }
   },
   "outputs": [
    {
     "ename": "NameError",
     "evalue": "name 'most_banned_hero_performances' is not defined",
     "output_type": "error",
     "traceback": [
      "\u001B[0;31m---------------------------------------------------------------------------\u001B[0m",
      "\u001B[0;31mNameError\u001B[0m                                 Traceback (most recent call last)",
      "Cell \u001B[0;32mIn[85], line 2\u001B[0m\n\u001B[1;32m      1\u001B[0m \u001B[38;5;28;01mimport\u001B[39;00m \u001B[38;5;21;01mhvplot\u001B[39;00m\u001B[38;5;21;01m.\u001B[39;00m\u001B[38;5;21;01mpandas\u001B[39;00m\n\u001B[0;32m----> 2\u001B[0m \u001B[43mmost_banned_hero_performances\u001B[49m\u001B[38;5;241m.\u001B[39mhvplot\u001B[38;5;241m.\u001B[39mscatter(\n\u001B[1;32m      3\u001B[0m     x\u001B[38;5;241m=\u001B[39m\u001B[38;5;124m'\u001B[39m\u001B[38;5;124mpicks\u001B[39m\u001B[38;5;124m'\u001B[39m,\n\u001B[1;32m      4\u001B[0m     y\u001B[38;5;241m=\u001B[39m\u001B[38;5;124m'\u001B[39m\u001B[38;5;124mbans\u001B[39m\u001B[38;5;124m'\u001B[39m,\n\u001B[1;32m      5\u001B[0m     c\u001B[38;5;241m=\u001B[39m\u001B[38;5;124m'\u001B[39m\u001B[38;5;124mwin_pct\u001B[39m\u001B[38;5;124m'\u001B[39m,\n\u001B[1;32m      6\u001B[0m     hover_cols\u001B[38;5;241m=\u001B[39m[\u001B[38;5;124m'\u001B[39m\u001B[38;5;124mlocalized_name\u001B[39m\u001B[38;5;124m'\u001B[39m]\n\u001B[1;32m      7\u001B[0m )\u001B[38;5;241m.\u001B[39mopts(\n\u001B[1;32m      8\u001B[0m     default_tools\u001B[38;5;241m=\u001B[39m[\u001B[38;5;124m'\u001B[39m\u001B[38;5;124mbox_zoom\u001B[39m\u001B[38;5;124m'\u001B[39m, \u001B[38;5;124m'\u001B[39m\u001B[38;5;124mreset\u001B[39m\u001B[38;5;124m'\u001B[39m],\n\u001B[1;32m      9\u001B[0m     show_grid\u001B[38;5;241m=\u001B[39m\u001B[38;5;28;01mTrue\u001B[39;00m,\n\u001B[1;32m     10\u001B[0m     width\u001B[38;5;241m=\u001B[39m\u001B[38;5;241m768\u001B[39m,\n\u001B[1;32m     11\u001B[0m     height\u001B[38;5;241m=\u001B[39m\u001B[38;5;241m512\u001B[39m\n\u001B[1;32m     12\u001B[0m )\n",
      "\u001B[0;31mNameError\u001B[0m: name 'most_banned_hero_performances' is not defined"
     ]
    }
   ],
   "source": [
    "import hvplot.pandas\n",
    "most_banned_hero_performances.hvplot.scatter(\n",
    "    x='picks',\n",
    "    y='bans',\n",
    "    c='win_pct',\n",
    "    hover_cols=['localized_name']\n",
    ").opts(\n",
    "    default_tools=['box_zoom', 'reset'],\n",
    "    show_grid=True,\n",
    "    width=768,\n",
    "    height=512\n",
    ")"
   ]
  },
  {
   "cell_type": "markdown",
   "id": "2fb91d0a-29d4-45c3-9d48-8aeda07521bd",
   "metadata": {},
   "source": [
    "This plot is fine, but it does not show us much. It would be great to look at these data points in the context of all of the other heroes in our data set. We need to merge our `pick_data` with the `ban_data` to get the complete picture. use the following code:"
   ]
  },
  {
   "cell_type": "code",
   "execution_count": null,
   "id": "40cbc20b-b0ab-4663-80c5-11a1c5d1de7c",
   "metadata": {
    "ExecuteTime": {
     "start_time": "2023-10-22T23:18:37.661666Z"
    }
   },
   "outputs": [],
   "source": [
    "all_picks_vs_bans = pick_data.merge(\n",
    "    ban_data,\n",
    "    left_index=True,\n",
    "    right_index=True,\n",
    "    how='left'\n",
    ").fillna(0).astype({'bans': int})\n",
    "all_picks_vs_bans"
   ]
  },
  {
   "cell_type": "markdown",
   "id": "ac9b8cac-b02c-48e3-8b0f-fdc06115ee65",
   "metadata": {},
   "source": [
    "In the code above we are merging `pick_data` and `ban_data` by their indices. The problem here though is that there are some heroes that were never picked/banned, and so we need to account for that. After the merge is completed we end up with some values that are `NaN`, or not-a-number. This happens because there are some heroes that were picked but never banned, and so when the `bans` column is merged in, those heroes do not have ban data to incorporate. `pandas` in this case defaults them to `NaN` and converts the column to a floating point type. To get around this we need to fill the `NaN` values with 0, and then cast the `bans` column to an `int` type.\n",
    "\n",
    "With that behind us we can now scatter plot the `picks` vs `wins`, sizing *and* coloring the points by the number of `bans`. The use of `bans` to both color and size the points gives a reinforced view of the data."
   ]
  },
  {
   "cell_type": "code",
   "execution_count": 63,
   "id": "eb4ba423-4bac-416e-94d1-cae62313c4b2",
   "metadata": {
    "ExecuteTime": {
     "end_time": "2023-10-22T23:18:43.095253Z",
     "start_time": "2023-10-22T23:18:43.056366Z"
    }
   },
   "outputs": [
    {
     "ename": "NameError",
     "evalue": "name 'all_picks_vs_bans' is not defined",
     "output_type": "error",
     "traceback": [
      "\u001B[0;31m---------------------------------------------------------------------------\u001B[0m",
      "\u001B[0;31mNameError\u001B[0m                                 Traceback (most recent call last)",
      "Cell \u001B[0;32mIn[63], line 2\u001B[0m\n\u001B[1;32m      1\u001B[0m \u001B[38;5;66;03m# scatter all_picks_vs_bans as specified above\u001B[39;00m\n\u001B[0;32m----> 2\u001B[0m \u001B[43mall_picks_vs_bans\u001B[49m\u001B[38;5;241m.\u001B[39mhvplot\u001B[38;5;241m.\u001B[39mscatter(\n\u001B[1;32m      3\u001B[0m     x\u001B[38;5;241m=\u001B[39m\u001B[38;5;124m'\u001B[39m\u001B[38;5;124mpicks\u001B[39m\u001B[38;5;124m'\u001B[39m,\n\u001B[1;32m      4\u001B[0m     y\u001B[38;5;241m=\u001B[39m\u001B[38;5;124m'\u001B[39m\u001B[38;5;124mavg_pick\u001B[39m\u001B[38;5;124m'\u001B[39m,\n\u001B[1;32m      5\u001B[0m     c\u001B[38;5;241m=\u001B[39m\u001B[38;5;124m'\u001B[39m\u001B[38;5;124mbans\u001B[39m\u001B[38;5;124m'\u001B[39m,\n\u001B[1;32m      6\u001B[0m     s\u001B[38;5;241m=\u001B[39m\u001B[38;5;124m'\u001B[39m\u001B[38;5;124mbans\u001B[39m\u001B[38;5;124m'\u001B[39m,\n\u001B[1;32m      7\u001B[0m     hover_cols\u001B[38;5;241m=\u001B[39m[\u001B[38;5;124m'\u001B[39m\u001B[38;5;124mlocalized_name\u001B[39m\u001B[38;5;124m'\u001B[39m],\n\u001B[1;32m      8\u001B[0m )\u001B[38;5;241m.\u001B[39mopts(\n\u001B[1;32m      9\u001B[0m     default_tools\u001B[38;5;241m=\u001B[39m[\u001B[38;5;124m'\u001B[39m\u001B[38;5;124mbox_zoom\u001B[39m\u001B[38;5;124m'\u001B[39m, \u001B[38;5;124m'\u001B[39m\u001B[38;5;124mreset\u001B[39m\u001B[38;5;124m'\u001B[39m],\n\u001B[1;32m     10\u001B[0m     show_grid\u001B[38;5;241m=\u001B[39m\u001B[38;5;28;01mTrue\u001B[39;00m,\n\u001B[1;32m     11\u001B[0m     width\u001B[38;5;241m=\u001B[39m\u001B[38;5;241m768\u001B[39m,\n\u001B[1;32m     12\u001B[0m     height\u001B[38;5;241m=\u001B[39m\u001B[38;5;241m512\u001B[39m\n\u001B[1;32m     13\u001B[0m )\n",
      "\u001B[0;31mNameError\u001B[0m: name 'all_picks_vs_bans' is not defined"
     ]
    }
   ],
   "source": [
    "# scatter all_picks_vs_bans as specified above\n",
    "all_picks_vs_bans.hvplot.scatter(\n",
    "    x='picks',\n",
    "    y='avg_pick',\n",
    "    c='bans',\n",
    "    s='bans',\n",
    "    hover_cols=['localized_name'],\n",
    ").opts(\n",
    "    default_tools=['box_zoom', 'reset'],\n",
    "    show_grid=True,\n",
    "    width=768,\n",
    "    height=512\n",
    ")"
   ]
  },
  {
   "cell_type": "markdown",
   "id": "7ded7988",
   "metadata": {},
   "source": [
    "## Looking Further into the Data\n",
    "\n",
    "While our analysis helps us understand what players are doing when they select, we have not answered why. We want to take the most successful and popular heroes, and attempt to find the heroes that Pangolier is most successful against, and most unsuccessful against.\n",
    "\n",
    "We will take a look at a single hero - *Pangolier*. Pangolier is the most successful hero that has been picked at least 20% of the time in matches. To find which heroes Pangolier accels against and the ones he struggles against, we first need to find all of the matches in which Pangolier was picked. As we find those matches, we can use another mask to split the matches where Pangolier wins from those where he loses. Ultimately we want to find the match IDs of all of these matches, and so we will utilize the `match_id` column. Your task is to perform the following:\n",
    "\n",
    "1. Create a mask on `matches_heroes` to select the localized name `Pangolier`\n",
    "\n",
    "2. Create variables `pangolier_matches_wins` and `pangolier_matches_losses` that combines the above mask with the `wins` column (which we can use as a mask) and pull out the `match_id`\n",
    "    * you can *negate* a mask by putting a `~` in front of it!\n",
    "\n",
    "3. Create a new aggregator dictionary that applies a `count` operation to the `win` column \n",
    "\n",
    "4. Create a new mask on `matches_heroes` to select losses and where the `match_id` is one of the values in `pangolier_matches_wins`\n",
    "    * for the first piece of the mask just negate the `win` column\n",
    "    * for the secon piece of the mask we can use the special `isin` operator of a series\n",
    "\n",
    "5. Create a new mask on `matches_heroes` to select wins and where the `match_id` is one of the values in `pangolier_matches_losses`\n",
    "    * for the first piece of the mask just use the `win` column as it is\n",
    "    * for the secon piece of the mask we can use the special `isin` operator of a series\n",
    "\n",
    "6. Create a new variable `pangolier_wins` by applying the mask from step 4 to `matches_heroes`, then group the dataframe by `localized_name` and apply the aggregation\n",
    "    * rename the columns in `pangolier_wins` to `['losses_to_pangolier']`\n",
    "\n",
    "7. Create a new variable `pangolier_losses` by applying the mask from step 5 to `matches_heroes`, then group the dataframe by `localized_name` and apply the aggregation\n",
    "    * rename the columns in `pangolier_losses` to `['wins_against_pangolier']`\n",
    "\n",
    "8. Merge `pangolier_wins` and `pangolier_losses` using:\n",
    "\n",
    "    `pangolier_stats = pw.merge(pl, left_index=True, right_index=True).fillna(0)`\n",
    "\n",
    "9. Add a `win_pct` column using the `losses_to_pangolier` and `wins_against_pangolier` columns"
   ]
  },
  {
   "cell_type": "code",
   "execution_count": null,
   "id": "51a070a1",
   "metadata": {
    "ExecuteTime": {
     "start_time": "2023-10-22T23:18:37.663608Z"
    }
   },
   "outputs": [],
   "source": [
    "# perform steps 1-2 here"
   ]
  },
  {
   "cell_type": "markdown",
   "id": "d789efa2",
   "metadata": {},
   "source": [
    "With the matches identified, we can now filter our matches on those match IDs to find all heroes involved in those matches."
   ]
  },
  {
   "cell_type": "code",
   "execution_count": null,
   "id": "04ea378e",
   "metadata": {
    "ExecuteTime": {
     "start_time": "2023-10-22T23:18:37.664537Z"
    }
   },
   "outputs": [],
   "source": [
    "# perform steps 3-7 here"
   ]
  },
  {
   "cell_type": "code",
   "execution_count": null,
   "id": "36eec284",
   "metadata": {
    "ExecuteTime": {
     "start_time": "2023-10-22T23:18:37.665596Z"
    }
   },
   "outputs": [],
   "source": [
    "# perform steps 8-9 here"
   ]
  },
  {
   "cell_type": "code",
   "execution_count": null,
   "id": "13d9e40e",
   "metadata": {
    "ExecuteTime": {
     "start_time": "2023-10-22T23:18:37.666592Z"
    }
   },
   "outputs": [],
   "source": [
    "pangolier_stats.sort_values('win_pct', ascending=False).head(20)"
   ]
  },
  {
   "cell_type": "markdown",
   "id": "fc859619",
   "metadata": {},
   "source": [
    "Now that we have our data for the success rates against `Pangolier`, we can plot the data along with an identity line to help us identify the best and worst heroes to play against `Pangolier`."
   ]
  },
  {
   "cell_type": "code",
   "execution_count": null,
   "id": "18db6acb",
   "metadata": {
    "ExecuteTime": {
     "start_time": "2023-10-22T23:18:37.667724Z"
    }
   },
   "outputs": [],
   "source": [
    "import holoviews as hv\n",
    "(\n",
    "    pangolier_stats.hvplot.scatter(\n",
    "        x='losses_to_pangolier',\n",
    "        y='wins_against_pangolier',\n",
    "        s='win_pct',\n",
    "        c='win_pct',\n",
    "        hover_cols=['localized_name']\n",
    "    ).opts(default_tools=['box_zoom', 'reset']) * hv.Path(\n",
    "        [[[0,0,0], [30,30,0]]]\n",
    "    ).opts(color='red', default_tools=['box_zoom', 'reset'],\n",
    ")\n",
    ").opts(\n",
    "    show_grid=True,\n",
    "    width=768,\n",
    "    height=512\n",
    ")"
   ]
  },
  {
   "cell_type": "markdown",
   "id": "fcab5769",
   "metadata": {},
   "source": [
    "The red line represents the even win/loss ratio for a hero against Pangolier. The farther above the line, the more successful a hero is against `Pangolier`, whereas the father below the line, the less successful a hero is. We can clearly see that the hero `Leshrac` is the most successful hero against `Pangolier`, and `Storm Spirit` is the least successful.\n",
    "\n",
    "What else can we analyze?"
   ]
  }
 ],
 "metadata": {
  "kernelspec": {
   "display_name": "Python 3 (ipykernel)",
   "language": "python",
   "name": "python3"
  },
  "language_info": {
   "codemirror_mode": {
    "name": "ipython",
    "version": 3
   },
   "file_extension": ".py",
   "mimetype": "text/x-python",
   "name": "python",
   "nbconvert_exporter": "python",
   "pygments_lexer": "ipython3",
   "version": "3.11.4"
  }
 },
 "nbformat": 4,
 "nbformat_minor": 5
}
