{
 "cells": [
  {
   "cell_type": "code",
   "execution_count": 33,
   "id": "20908a54",
   "metadata": {
    "ExecuteTime": {
     "end_time": "2023-10-25T20:51:48.930008Z",
     "start_time": "2023-10-25T20:51:48.916713Z"
    }
   },
   "outputs": [],
   "source": [
    "import warnings\n",
    "warnings.simplefilter(action='ignore', category=FutureWarning)"
   ]
  },
  {
   "cell_type": "markdown",
   "id": "d6b8eed4-8836-4005-a267-ee1752fd206c",
   "metadata": {},
   "source": [
    "# DotA2\n",
    "\n",
    "*Defense of the Ancients 2* is a MOBA developed by Valve, the sequel to the custom user map in Blizzard's *Warcraft III: The Frozen Throne*. It is one of the most popular games in all of eSports, and by far has the highest pay out pool of any game in history. *The International* (TI)is the premiere world championship Dota2 tournament, held annually. While the prize-pool changes year to year, 1st place takes home millions of dollars (8.5m in 2022, $18m in 2021, $15.6m in 2019, etc.). Leading up to TI are a series of leagues and qualifiers to determine participation.\n",
    "\n",
    "Dota2 is known for its extreme complexity and steep learning curve. There are 124 heroes (each with usually at least 4 abilities), 200+ items, and teams consisting of 5 heroes each. Parametrically this makes for an absurd number of combinations just in player selections - the complexity skyrockets even more when you consider lane pairings, item builds, and more. The amount of information one needs to know to competetively play DotA2 is astronomical (not to mention the general skill needed to control a character, coordinate with a team, and react to your opponents!). Trying to quantify the complexity and meta within the game is a near impossible task, but we can sift through large amounts of match data in order to understand trends in how the game is played today.\n",
    "\n",
    "In this notebook we are going to leverage match data from various professional leagues in 2023 leading up to TI2023 (Starting October 12,2023!). The website [OpenDota](https://docs.opendota.com/) has a complete API for requesting data. While it is free they do implement rate limiting (at which point they require paypent while limiting is in effect). So long as we keep our requsts below 60 calls per minute no rate limiting will be imposed (however... the data we need is going to be provided, so that we do not need to request data!).\n",
    "\n",
    "We are going to work with match data from the following majors/professional brackets:\n",
    "\n",
    "* [DreamLeague Season 19](https://liquipedia.net/dota2/DreamLeague/Season_19) (2023-04-09 - 2023-04-23)\n",
    "* [DreamLeague Season 20](https://liquipedia.net/dota2/DreamLeague/Season_20) (2023-06-11 - 2023-06-25)\n",
    "* [DreamLeague Season 21](https://liquipedia.net/dota2/DreamLeague/Season_21) (2023-09-18 - 2023-09-24)\n",
    "* [Lima Major 2023](https://liquipedia.net/dota2/Lima_Major/2023) (2023-02-22 - 2023-03-05)\n",
    "* [ESL One Berlin Major 2023](https://liquipedia.net/dota2/ESL_One/Berlin_Major/2023) (2023-04-26 - 2023-05-07)\n",
    "* [Bali Major 2023](https://liquipedia.net/dota2/Bali_Major/2023) (2023-06-29 - 2023-07-09)\n",
    "\n",
    "\n",
    "## Goals\n",
    "\n",
    "1. Determine the most popular heroes played\n",
    "2. Determine the most successful heroes played\n",
    "3. Determine how successful the most popular heroes are\n",
    "4. Determine the most *bannned* heroes; i.e. the heroes that teams do not wish to play against\n",
    "5. Determine the success of the most banned heroes *in games where they are not banned*\n",
    "6. Determine the most and least successful heroes against the statistically strongest hero in the pro circuit\n",
    "\n",
    "### Secondary Goals\n",
    "\n",
    "1. Learn to manipulate dataframes and explore data in tandem\n",
    "2. Learn how to focus our view of the data by looking at higher-impact data and deriving new data\n",
    "3. Learn how to merge multiple datasets together"
   ]
  },
  {
   "cell_type": "markdown",
   "id": "1388fbe9",
   "metadata": {},
   "source": [
    "## The Analysis\n",
    "\n",
    "We need to load our data first - this code is given to us!"
   ]
  },
  {
   "cell_type": "code",
   "execution_count": 34,
   "id": "30ff6a6d-508f-4800-b827-3085c3a5c917",
   "metadata": {
    "ExecuteTime": {
     "end_time": "2023-10-25T20:51:50.128047Z",
     "start_time": "2023-10-25T20:51:49.477583Z"
    }
   },
   "outputs": [
    {
     "data": {
      "text/plain": "        match_id  match_seq_num  radiant_win          start_time  duration  \\\n0     7102649472     5966088132        False 2023-04-11 14:59:51      3878   \n1     7114527708     5976670868        False 2023-04-19 16:58:38      2727   \n2     7099683300     5963412092        False 2023-04-09 13:33:07      2671   \n3     7102222768     5965674453         True 2023-04-11 09:55:14      2000   \n4     7115496899     5977534560         True 2023-04-20 12:25:02      2663   \n...          ...            ...          ...                 ...       ...   \n1057  7220548968     6071023256        False 2023-06-29 08:33:53      1835   \n1058  7226053436     6075962402        False 2023-07-03 03:35:56      2395   \n1059  7224774802     6074812509         True 2023-07-02 07:53:13      1805   \n1060  7224708614     6074758569        False 2023-07-02 06:55:07      1863   \n1061  7223294867     6073512927        False 2023-07-01 08:22:06      3421   \n\n      tower_status_radiant  tower_status_dire  barracks_status_radiant  \\\n0                        0               1828                        0   \n1                        0               1828                        0   \n2                     1536               2036                        0   \n3                     1975               1824                       63   \n4                     1542                260                       15   \n...                    ...                ...                      ...   \n1057                  1792               1974                       48   \n1058                     0               2036                        0   \n1059                  1983               1572                       63   \n1060                  1792               1974                       48   \n1061                  1028               1952                        3   \n\n      barracks_status_dire  cluster  ...  \\\n0                       63      274  ...   \n1                       63      272  ...   \n2                       63      274  ...   \n3                       60      274  ...   \n4                       51      271  ...   \n...                    ...      ...  ...   \n1057                    63      151  ...   \n1058                    63      151  ...   \n1059                    15      151  ...   \n1060                    63      154  ...   \n1061                    63      151  ...   \n\n                                       radiant_gold_adv  \\\n0     [416, 1124, 1330, 2115, 1858, 2024, 1445, 1756...   \n1     [-100, -64, 15, 616, 193, 31, -241, -1421, -60...   \n2     [0, 158, -233, -560, -510, -654, -719, -1168, ...   \n3     [0, 5, -279, -456, -108, 28, 97, 278, 385, 314...   \n4     [-312, -254, -181, 4, 832, 29, -12, -1259, -13...   \n...                                                 ...   \n1057  [0, 347, 242, -66, 48, 71, -478, -63, 1209, 79...   \n1058  [100, 18, -380, -624, -828, -1061, -1468, -152...   \n1059  [-463, -113, -260, -201, -244, 164, 221, 1064,...   \n1060  [0, -581, -480, -471, -438, -67, 457, 711, 685...   \n1061  [0, 52, 252, 458, 331, 306, 157, 223, 1969, 28...   \n\n                                         radiant_xp_adv  \\\n0     [150, -93, 427, 1133, 718, 888, 619, 864, 559,...   \n1     [-50, 35, -239, 490, -111, -456, -207, -939, -...   \n2     [0, 177, -440, -387, -727, -822, -614, -1053, ...   \n3     [0, -30, -155, -254, 88, -154, -175, -328, -22...   \n4     [-100, -96, 229, 223, 685, -87, 229, -1240, -7...   \n...                                                 ...   \n1057  [0, 370, 73, -99, -405, -246, -809, -415, 1563...   \n1058  [70, -14, -122, -432, -256, -558, -1009, -1101...   \n1059  [-99, -162, 101, -82, 154, 96, 271, 1136, 1986...   \n1060  [0, -422, -106, 25, 51, 31, 430, -223, -166, 1...   \n1061  [0, -124, 246, 240, 453, 536, 361, 1457, 2552,...   \n\n                                             teamfights  version  \\\n0     [{'start': 187, 'end': 240, 'last_death': 225,...     21.0   \n1     [{'start': 182, 'end': 225, 'last_death': 210,...     21.0   \n2     [{'start': 748, 'end': 798, 'last_death': 783,...     21.0   \n3     [{'start': 532, 'end': 574, 'last_death': 559,...     21.0   \n4     [{'start': 571, 'end': 632, 'last_death': 617,...     21.0   \n...                                                 ...      ...   \n1057  [{'start': 712, 'end': 762, 'last_death': 747,...     21.0   \n1058  [{'start': -13, 'end': 33, 'last_death': 18, '...     21.0   \n1059  [{'start': 1691, 'end': 1751, 'last_death': 17...     21.0   \n1060  [{'start': 1167, 'end': 1213, 'last_death': 11...     21.0   \n1061  [{'start': 1999, 'end': 2037, 'last_death': 20...     21.0   \n\n                                              cosmetics  radiant_score  \\\n0     {'647': 129, '5470': 129, '6199': 1, '6694': 1...             40   \n1     {'647': 4, '4487': 4, '7146': 1, '7147': 1, '7...             31   \n2     {'647': 1, '4450': 0, '5386': 128, '5833': 130...             35   \n3     {'647': 129, '6042': 3, '6045': 3, '6224': 1, ...             35   \n4     {'647': 132, '4212': 0, '4214': 0, '4215': 0, ...             48   \n...                                                 ...            ...   \n1057  {'647': 0, '7277': 0, '7580': 1, '7581': 130, ...             17   \n1058  {'647': 131, '4869': 130, '4870': 130, '4872':...             14   \n1059  {'647': 132, '4648': 2, '4885': 2, '5101': 0, ...             20   \n1060  {'647': 128, '746': 2, '5810': 130, '5919': 13...              5   \n1061  {'647': 131, '5917': 0, '6423': 131, '6431': 1...             19   \n\n      dire_score                                      draft_timings series_id  \\\n0             42  [{'order': 1, 'pick': False, 'active_team': 3,...    768803   \n1             44  [{'order': 1, 'pick': False, 'active_team': 3,...    771054   \n2             39  [{'order': 1, 'pick': False, 'active_team': 3,...    768282   \n3             19  [{'order': 1, 'pick': False, 'active_team': 3,...    768751   \n4             40  [{'order': 1, 'pick': False, 'active_team': 3,...    771259   \n...          ...                                                ...       ...   \n1057          27  [{'order': 1, 'pick': False, 'active_team': 3,...    788348   \n1058          40  [{'order': 1, 'pick': False, 'active_team': 3,...    789394   \n1059          10  [{'order': 1, 'pick': False, 'active_team': 3,...    789147   \n1060          31  [{'order': 1, 'pick': False, 'active_team': 3,...    789147   \n1061          24  [{'order': 1, 'pick': False, 'active_team': 3,...    788906   \n\n      series_type  \n0               1  \n1               1  \n2               1  \n3               1  \n4               1  \n...           ...  \n1057            1  \n1058            1  \n1059            1  \n1060            1  \n1061            1  \n\n[1056 rows x 39 columns]",
      "text/html": "<div>\n<style scoped>\n    .dataframe tbody tr th:only-of-type {\n        vertical-align: middle;\n    }\n\n    .dataframe tbody tr th {\n        vertical-align: top;\n    }\n\n    .dataframe thead th {\n        text-align: right;\n    }\n</style>\n<table border=\"1\" class=\"dataframe\">\n  <thead>\n    <tr style=\"text-align: right;\">\n      <th></th>\n      <th>match_id</th>\n      <th>match_seq_num</th>\n      <th>radiant_win</th>\n      <th>start_time</th>\n      <th>duration</th>\n      <th>tower_status_radiant</th>\n      <th>tower_status_dire</th>\n      <th>barracks_status_radiant</th>\n      <th>barracks_status_dire</th>\n      <th>cluster</th>\n      <th>...</th>\n      <th>radiant_gold_adv</th>\n      <th>radiant_xp_adv</th>\n      <th>teamfights</th>\n      <th>version</th>\n      <th>cosmetics</th>\n      <th>radiant_score</th>\n      <th>dire_score</th>\n      <th>draft_timings</th>\n      <th>series_id</th>\n      <th>series_type</th>\n    </tr>\n  </thead>\n  <tbody>\n    <tr>\n      <th>0</th>\n      <td>7102649472</td>\n      <td>5966088132</td>\n      <td>False</td>\n      <td>2023-04-11 14:59:51</td>\n      <td>3878</td>\n      <td>0</td>\n      <td>1828</td>\n      <td>0</td>\n      <td>63</td>\n      <td>274</td>\n      <td>...</td>\n      <td>[416, 1124, 1330, 2115, 1858, 2024, 1445, 1756...</td>\n      <td>[150, -93, 427, 1133, 718, 888, 619, 864, 559,...</td>\n      <td>[{'start': 187, 'end': 240, 'last_death': 225,...</td>\n      <td>21.0</td>\n      <td>{'647': 129, '5470': 129, '6199': 1, '6694': 1...</td>\n      <td>40</td>\n      <td>42</td>\n      <td>[{'order': 1, 'pick': False, 'active_team': 3,...</td>\n      <td>768803</td>\n      <td>1</td>\n    </tr>\n    <tr>\n      <th>1</th>\n      <td>7114527708</td>\n      <td>5976670868</td>\n      <td>False</td>\n      <td>2023-04-19 16:58:38</td>\n      <td>2727</td>\n      <td>0</td>\n      <td>1828</td>\n      <td>0</td>\n      <td>63</td>\n      <td>272</td>\n      <td>...</td>\n      <td>[-100, -64, 15, 616, 193, 31, -241, -1421, -60...</td>\n      <td>[-50, 35, -239, 490, -111, -456, -207, -939, -...</td>\n      <td>[{'start': 182, 'end': 225, 'last_death': 210,...</td>\n      <td>21.0</td>\n      <td>{'647': 4, '4487': 4, '7146': 1, '7147': 1, '7...</td>\n      <td>31</td>\n      <td>44</td>\n      <td>[{'order': 1, 'pick': False, 'active_team': 3,...</td>\n      <td>771054</td>\n      <td>1</td>\n    </tr>\n    <tr>\n      <th>2</th>\n      <td>7099683300</td>\n      <td>5963412092</td>\n      <td>False</td>\n      <td>2023-04-09 13:33:07</td>\n      <td>2671</td>\n      <td>1536</td>\n      <td>2036</td>\n      <td>0</td>\n      <td>63</td>\n      <td>274</td>\n      <td>...</td>\n      <td>[0, 158, -233, -560, -510, -654, -719, -1168, ...</td>\n      <td>[0, 177, -440, -387, -727, -822, -614, -1053, ...</td>\n      <td>[{'start': 748, 'end': 798, 'last_death': 783,...</td>\n      <td>21.0</td>\n      <td>{'647': 1, '4450': 0, '5386': 128, '5833': 130...</td>\n      <td>35</td>\n      <td>39</td>\n      <td>[{'order': 1, 'pick': False, 'active_team': 3,...</td>\n      <td>768282</td>\n      <td>1</td>\n    </tr>\n    <tr>\n      <th>3</th>\n      <td>7102222768</td>\n      <td>5965674453</td>\n      <td>True</td>\n      <td>2023-04-11 09:55:14</td>\n      <td>2000</td>\n      <td>1975</td>\n      <td>1824</td>\n      <td>63</td>\n      <td>60</td>\n      <td>274</td>\n      <td>...</td>\n      <td>[0, 5, -279, -456, -108, 28, 97, 278, 385, 314...</td>\n      <td>[0, -30, -155, -254, 88, -154, -175, -328, -22...</td>\n      <td>[{'start': 532, 'end': 574, 'last_death': 559,...</td>\n      <td>21.0</td>\n      <td>{'647': 129, '6042': 3, '6045': 3, '6224': 1, ...</td>\n      <td>35</td>\n      <td>19</td>\n      <td>[{'order': 1, 'pick': False, 'active_team': 3,...</td>\n      <td>768751</td>\n      <td>1</td>\n    </tr>\n    <tr>\n      <th>4</th>\n      <td>7115496899</td>\n      <td>5977534560</td>\n      <td>True</td>\n      <td>2023-04-20 12:25:02</td>\n      <td>2663</td>\n      <td>1542</td>\n      <td>260</td>\n      <td>15</td>\n      <td>51</td>\n      <td>271</td>\n      <td>...</td>\n      <td>[-312, -254, -181, 4, 832, 29, -12, -1259, -13...</td>\n      <td>[-100, -96, 229, 223, 685, -87, 229, -1240, -7...</td>\n      <td>[{'start': 571, 'end': 632, 'last_death': 617,...</td>\n      <td>21.0</td>\n      <td>{'647': 132, '4212': 0, '4214': 0, '4215': 0, ...</td>\n      <td>48</td>\n      <td>40</td>\n      <td>[{'order': 1, 'pick': False, 'active_team': 3,...</td>\n      <td>771259</td>\n      <td>1</td>\n    </tr>\n    <tr>\n      <th>...</th>\n      <td>...</td>\n      <td>...</td>\n      <td>...</td>\n      <td>...</td>\n      <td>...</td>\n      <td>...</td>\n      <td>...</td>\n      <td>...</td>\n      <td>...</td>\n      <td>...</td>\n      <td>...</td>\n      <td>...</td>\n      <td>...</td>\n      <td>...</td>\n      <td>...</td>\n      <td>...</td>\n      <td>...</td>\n      <td>...</td>\n      <td>...</td>\n      <td>...</td>\n      <td>...</td>\n    </tr>\n    <tr>\n      <th>1057</th>\n      <td>7220548968</td>\n      <td>6071023256</td>\n      <td>False</td>\n      <td>2023-06-29 08:33:53</td>\n      <td>1835</td>\n      <td>1792</td>\n      <td>1974</td>\n      <td>48</td>\n      <td>63</td>\n      <td>151</td>\n      <td>...</td>\n      <td>[0, 347, 242, -66, 48, 71, -478, -63, 1209, 79...</td>\n      <td>[0, 370, 73, -99, -405, -246, -809, -415, 1563...</td>\n      <td>[{'start': 712, 'end': 762, 'last_death': 747,...</td>\n      <td>21.0</td>\n      <td>{'647': 0, '7277': 0, '7580': 1, '7581': 130, ...</td>\n      <td>17</td>\n      <td>27</td>\n      <td>[{'order': 1, 'pick': False, 'active_team': 3,...</td>\n      <td>788348</td>\n      <td>1</td>\n    </tr>\n    <tr>\n      <th>1058</th>\n      <td>7226053436</td>\n      <td>6075962402</td>\n      <td>False</td>\n      <td>2023-07-03 03:35:56</td>\n      <td>2395</td>\n      <td>0</td>\n      <td>2036</td>\n      <td>0</td>\n      <td>63</td>\n      <td>151</td>\n      <td>...</td>\n      <td>[100, 18, -380, -624, -828, -1061, -1468, -152...</td>\n      <td>[70, -14, -122, -432, -256, -558, -1009, -1101...</td>\n      <td>[{'start': -13, 'end': 33, 'last_death': 18, '...</td>\n      <td>21.0</td>\n      <td>{'647': 131, '4869': 130, '4870': 130, '4872':...</td>\n      <td>14</td>\n      <td>40</td>\n      <td>[{'order': 1, 'pick': False, 'active_team': 3,...</td>\n      <td>789394</td>\n      <td>1</td>\n    </tr>\n    <tr>\n      <th>1059</th>\n      <td>7224774802</td>\n      <td>6074812509</td>\n      <td>True</td>\n      <td>2023-07-02 07:53:13</td>\n      <td>1805</td>\n      <td>1983</td>\n      <td>1572</td>\n      <td>63</td>\n      <td>15</td>\n      <td>151</td>\n      <td>...</td>\n      <td>[-463, -113, -260, -201, -244, 164, 221, 1064,...</td>\n      <td>[-99, -162, 101, -82, 154, 96, 271, 1136, 1986...</td>\n      <td>[{'start': 1691, 'end': 1751, 'last_death': 17...</td>\n      <td>21.0</td>\n      <td>{'647': 132, '4648': 2, '4885': 2, '5101': 0, ...</td>\n      <td>20</td>\n      <td>10</td>\n      <td>[{'order': 1, 'pick': False, 'active_team': 3,...</td>\n      <td>789147</td>\n      <td>1</td>\n    </tr>\n    <tr>\n      <th>1060</th>\n      <td>7224708614</td>\n      <td>6074758569</td>\n      <td>False</td>\n      <td>2023-07-02 06:55:07</td>\n      <td>1863</td>\n      <td>1792</td>\n      <td>1974</td>\n      <td>48</td>\n      <td>63</td>\n      <td>154</td>\n      <td>...</td>\n      <td>[0, -581, -480, -471, -438, -67, 457, 711, 685...</td>\n      <td>[0, -422, -106, 25, 51, 31, 430, -223, -166, 1...</td>\n      <td>[{'start': 1167, 'end': 1213, 'last_death': 11...</td>\n      <td>21.0</td>\n      <td>{'647': 128, '746': 2, '5810': 130, '5919': 13...</td>\n      <td>5</td>\n      <td>31</td>\n      <td>[{'order': 1, 'pick': False, 'active_team': 3,...</td>\n      <td>789147</td>\n      <td>1</td>\n    </tr>\n    <tr>\n      <th>1061</th>\n      <td>7223294867</td>\n      <td>6073512927</td>\n      <td>False</td>\n      <td>2023-07-01 08:22:06</td>\n      <td>3421</td>\n      <td>1028</td>\n      <td>1952</td>\n      <td>3</td>\n      <td>63</td>\n      <td>151</td>\n      <td>...</td>\n      <td>[0, 52, 252, 458, 331, 306, 157, 223, 1969, 28...</td>\n      <td>[0, -124, 246, 240, 453, 536, 361, 1457, 2552,...</td>\n      <td>[{'start': 1999, 'end': 2037, 'last_death': 20...</td>\n      <td>21.0</td>\n      <td>{'647': 131, '5917': 0, '6423': 131, '6431': 1...</td>\n      <td>19</td>\n      <td>24</td>\n      <td>[{'order': 1, 'pick': False, 'active_team': 3,...</td>\n      <td>788906</td>\n      <td>1</td>\n    </tr>\n  </tbody>\n</table>\n<p>1056 rows × 39 columns</p>\n</div>"
     },
     "execution_count": 34,
     "metadata": {},
     "output_type": "execute_result"
    }
   ],
   "source": [
    "import pandas as pd\n",
    "\n",
    "# list of files containing match data\n",
    "match_list = [\n",
    "    'matches_dreamleague_19.json',\n",
    "    'matches_dreamleague_20.json',\n",
    "    'matches_dreamleague_21.json',\n",
    "    'matches_major_lima.json',\n",
    "    'matches_major_berlin.json',\n",
    "    'matches_major_bali.json',\n",
    "]\n",
    "\n",
    "# create a list of dataframes\n",
    "match_data = [pd.read_json(m) for m in match_list]\n",
    "\n",
    "# concatenate all of the dataframes into a single, monolithic dataframe\n",
    "matches = pd.concat(\n",
    "    match_data,\n",
    "    ignore_index=True\n",
    ")\n",
    "\n",
    "# there are `picks_bans` entries with null values\n",
    "matches.dropna(subset=['picks_bans'], inplace=True)\n",
    "\n",
    "matches"
   ]
  },
  {
   "cell_type": "code",
   "execution_count": 35,
   "outputs": [
    {
     "name": "stdout",
     "output_type": "stream",
     "text": [
      "match_id\n",
      "match_seq_num\n",
      "radiant_win\n",
      "start_time\n",
      "duration\n",
      "tower_status_radiant\n",
      "tower_status_dire\n",
      "barracks_status_radiant\n",
      "barracks_status_dire\n",
      "cluster\n",
      "first_blood_time\n",
      "lobby_type\n",
      "human_players\n",
      "leagueid\n",
      "positive_votes\n",
      "negative_votes\n",
      "game_mode\n",
      "engine\n",
      "picks_bans\n",
      "radiant_team_id\n",
      "dire_team_id\n",
      "radiant_team_name\n",
      "dire_team_name\n",
      "radiant_team_complete\n",
      "dire_team_complete\n",
      "radiant_captain\n",
      "dire_captain\n",
      "chat\n",
      "objectives\n",
      "radiant_gold_adv\n",
      "radiant_xp_adv\n",
      "teamfights\n",
      "version\n",
      "cosmetics\n",
      "radiant_score\n",
      "dire_score\n",
      "draft_timings\n",
      "series_id\n",
      "series_type\n"
     ]
    }
   ],
   "source": [
    "for i in matches.columns:\n",
    "    print(i)"
   ],
   "metadata": {
    "collapsed": false,
    "ExecuteTime": {
     "end_time": "2023-10-25T20:51:50.143338Z",
     "start_time": "2023-10-25T20:51:50.128796Z"
    }
   },
   "id": "795e96e773c45571"
  },
  {
   "cell_type": "markdown",
   "source": [],
   "metadata": {
    "collapsed": false
   },
   "id": "e59dedc40f7de044"
  },
  {
   "cell_type": "markdown",
   "id": "afa9895b-1696-4306-b90c-b3ec32438aaf",
   "metadata": {},
   "source": [
    "The data is very complex and very structured. A number of columns are nested with complex structures of data. Additionally, the use of ID numbers (also known as *categoricals*) is heavy throughout. This makes the data harder to read as a human, but is much more efficient and easier to manage in code.\n",
    "\n",
    "We want to grab the set of heroes available. Our match data uses ID numbers to represent hero selections, and so we need a way to determine which ID corresponds to which hero."
   ]
  },
  {
   "cell_type": "code",
   "execution_count": 36,
   "id": "171acd6c-a47c-4740-98ad-25e7e133b87b",
   "metadata": {
    "ExecuteTime": {
     "end_time": "2023-10-25T20:51:50.936127Z",
     "start_time": "2023-10-25T20:51:50.897128Z"
    }
   },
   "outputs": [
    {
     "data": {
      "text/plain": "      id                          name  localized_name primary_attr  \\\n0      1        npc_dota_hero_antimage       Anti-Mage          agi   \n1      2             npc_dota_hero_axe             Axe          str   \n2      3            npc_dota_hero_bane            Bane          all   \n3      4     npc_dota_hero_bloodseeker     Bloodseeker          agi   \n4      5  npc_dota_hero_crystal_maiden  Crystal Maiden          int   \n..   ...                           ...             ...          ...   \n119  129            npc_dota_hero_mars            Mars          str   \n120  135     npc_dota_hero_dawnbreaker     Dawnbreaker          str   \n121  136           npc_dota_hero_marci           Marci          all   \n122  137    npc_dota_hero_primal_beast    Primal Beast          str   \n123  138          npc_dota_hero_muerta          Muerta          int   \n\n    attack_type                                          roles  legs  \n0         Melee                         [Carry, Escape, Nuker]     2  \n1         Melee          [Initiator, Durable, Disabler, Carry]     2  \n2        Ranged            [Support, Disabler, Nuker, Durable]     4  \n3         Melee            [Carry, Disabler, Nuker, Initiator]     2  \n4        Ranged                     [Support, Disabler, Nuker]     2  \n..          ...                                            ...   ...  \n119       Melee          [Carry, Initiator, Disabler, Durable]     2  \n120       Melee                               [Carry, Durable]     2  \n121       Melee  [Support, Carry, Initiator, Disabler, Escape]     2  \n122       Melee                 [Initiator, Durable, Disabler]     2  \n123      Ranged                       [Carry, Nuker, Disabler]     2  \n\n[124 rows x 7 columns]",
      "text/html": "<div>\n<style scoped>\n    .dataframe tbody tr th:only-of-type {\n        vertical-align: middle;\n    }\n\n    .dataframe tbody tr th {\n        vertical-align: top;\n    }\n\n    .dataframe thead th {\n        text-align: right;\n    }\n</style>\n<table border=\"1\" class=\"dataframe\">\n  <thead>\n    <tr style=\"text-align: right;\">\n      <th></th>\n      <th>id</th>\n      <th>name</th>\n      <th>localized_name</th>\n      <th>primary_attr</th>\n      <th>attack_type</th>\n      <th>roles</th>\n      <th>legs</th>\n    </tr>\n  </thead>\n  <tbody>\n    <tr>\n      <th>0</th>\n      <td>1</td>\n      <td>npc_dota_hero_antimage</td>\n      <td>Anti-Mage</td>\n      <td>agi</td>\n      <td>Melee</td>\n      <td>[Carry, Escape, Nuker]</td>\n      <td>2</td>\n    </tr>\n    <tr>\n      <th>1</th>\n      <td>2</td>\n      <td>npc_dota_hero_axe</td>\n      <td>Axe</td>\n      <td>str</td>\n      <td>Melee</td>\n      <td>[Initiator, Durable, Disabler, Carry]</td>\n      <td>2</td>\n    </tr>\n    <tr>\n      <th>2</th>\n      <td>3</td>\n      <td>npc_dota_hero_bane</td>\n      <td>Bane</td>\n      <td>all</td>\n      <td>Ranged</td>\n      <td>[Support, Disabler, Nuker, Durable]</td>\n      <td>4</td>\n    </tr>\n    <tr>\n      <th>3</th>\n      <td>4</td>\n      <td>npc_dota_hero_bloodseeker</td>\n      <td>Bloodseeker</td>\n      <td>agi</td>\n      <td>Melee</td>\n      <td>[Carry, Disabler, Nuker, Initiator]</td>\n      <td>2</td>\n    </tr>\n    <tr>\n      <th>4</th>\n      <td>5</td>\n      <td>npc_dota_hero_crystal_maiden</td>\n      <td>Crystal Maiden</td>\n      <td>int</td>\n      <td>Ranged</td>\n      <td>[Support, Disabler, Nuker]</td>\n      <td>2</td>\n    </tr>\n    <tr>\n      <th>...</th>\n      <td>...</td>\n      <td>...</td>\n      <td>...</td>\n      <td>...</td>\n      <td>...</td>\n      <td>...</td>\n      <td>...</td>\n    </tr>\n    <tr>\n      <th>119</th>\n      <td>129</td>\n      <td>npc_dota_hero_mars</td>\n      <td>Mars</td>\n      <td>str</td>\n      <td>Melee</td>\n      <td>[Carry, Initiator, Disabler, Durable]</td>\n      <td>2</td>\n    </tr>\n    <tr>\n      <th>120</th>\n      <td>135</td>\n      <td>npc_dota_hero_dawnbreaker</td>\n      <td>Dawnbreaker</td>\n      <td>str</td>\n      <td>Melee</td>\n      <td>[Carry, Durable]</td>\n      <td>2</td>\n    </tr>\n    <tr>\n      <th>121</th>\n      <td>136</td>\n      <td>npc_dota_hero_marci</td>\n      <td>Marci</td>\n      <td>all</td>\n      <td>Melee</td>\n      <td>[Support, Carry, Initiator, Disabler, Escape]</td>\n      <td>2</td>\n    </tr>\n    <tr>\n      <th>122</th>\n      <td>137</td>\n      <td>npc_dota_hero_primal_beast</td>\n      <td>Primal Beast</td>\n      <td>str</td>\n      <td>Melee</td>\n      <td>[Initiator, Durable, Disabler]</td>\n      <td>2</td>\n    </tr>\n    <tr>\n      <th>123</th>\n      <td>138</td>\n      <td>npc_dota_hero_muerta</td>\n      <td>Muerta</td>\n      <td>int</td>\n      <td>Ranged</td>\n      <td>[Carry, Nuker, Disabler]</td>\n      <td>2</td>\n    </tr>\n  </tbody>\n</table>\n<p>124 rows × 7 columns</p>\n</div>"
     },
     "execution_count": 36,
     "metadata": {},
     "output_type": "execute_result"
    }
   ],
   "source": [
    "# read heroes.json\n",
    "heroes = pd.read_json('heroes.json')\n",
    "heroes"
   ]
  },
  {
   "cell_type": "markdown",
   "id": "61b67c91-fcbf-4ccf-bc5d-7296edc6d4e0",
   "metadata": {},
   "source": [
    "The hero data is pretty standard - **importantly though it allows us to match ID numbers to hero names!**\n",
    "\n",
    "Let's walk through a quick example on how we can look at the hero selections for a particular match. First we can grab the `picks_bans` data for the first match in our list. *The `picks_bans` data is yet another table!* We can take a single entry from that columne, and construct a brand new dataframe from it (as in its raw form it is still just JSON (list of dictionaries))."
   ]
  },
  {
   "cell_type": "code",
   "execution_count": 37,
   "id": "a3fcf454-76af-461b-bc80-f909b596992a",
   "metadata": {
    "ExecuteTime": {
     "end_time": "2023-10-25T20:51:51.416757Z",
     "start_time": "2023-10-25T20:51:51.412417Z"
    }
   },
   "outputs": [
    {
     "data": {
      "text/plain": "    is_pick  hero_id  team  order\n0     False       87     1      0\n1     False       65     0      1\n2     False       51     1      2\n3     False       61     0      3\n4      True       43     1      4\n5      True       74     0      5\n6      True       85     0      6\n7      True       46     1      7\n8     False        6     1      8\n9     False      137     0      9\n10    False      109     1     10\n11    False      136     0     11\n12    False       19     1     12\n13    False       32     0     13\n14     True       86     0     14\n15     True       26     1     15\n16     True       75     1     16\n17     True       38     0     17\n18    False       53     1     18\n19    False       60     0     19\n20    False       81     1     20\n21    False       95     0     21\n22     True       23     1     22\n23     True       14     0     23",
      "text/html": "<div>\n<style scoped>\n    .dataframe tbody tr th:only-of-type {\n        vertical-align: middle;\n    }\n\n    .dataframe tbody tr th {\n        vertical-align: top;\n    }\n\n    .dataframe thead th {\n        text-align: right;\n    }\n</style>\n<table border=\"1\" class=\"dataframe\">\n  <thead>\n    <tr style=\"text-align: right;\">\n      <th></th>\n      <th>is_pick</th>\n      <th>hero_id</th>\n      <th>team</th>\n      <th>order</th>\n    </tr>\n  </thead>\n  <tbody>\n    <tr>\n      <th>0</th>\n      <td>False</td>\n      <td>87</td>\n      <td>1</td>\n      <td>0</td>\n    </tr>\n    <tr>\n      <th>1</th>\n      <td>False</td>\n      <td>65</td>\n      <td>0</td>\n      <td>1</td>\n    </tr>\n    <tr>\n      <th>2</th>\n      <td>False</td>\n      <td>51</td>\n      <td>1</td>\n      <td>2</td>\n    </tr>\n    <tr>\n      <th>3</th>\n      <td>False</td>\n      <td>61</td>\n      <td>0</td>\n      <td>3</td>\n    </tr>\n    <tr>\n      <th>4</th>\n      <td>True</td>\n      <td>43</td>\n      <td>1</td>\n      <td>4</td>\n    </tr>\n    <tr>\n      <th>5</th>\n      <td>True</td>\n      <td>74</td>\n      <td>0</td>\n      <td>5</td>\n    </tr>\n    <tr>\n      <th>6</th>\n      <td>True</td>\n      <td>85</td>\n      <td>0</td>\n      <td>6</td>\n    </tr>\n    <tr>\n      <th>7</th>\n      <td>True</td>\n      <td>46</td>\n      <td>1</td>\n      <td>7</td>\n    </tr>\n    <tr>\n      <th>8</th>\n      <td>False</td>\n      <td>6</td>\n      <td>1</td>\n      <td>8</td>\n    </tr>\n    <tr>\n      <th>9</th>\n      <td>False</td>\n      <td>137</td>\n      <td>0</td>\n      <td>9</td>\n    </tr>\n    <tr>\n      <th>10</th>\n      <td>False</td>\n      <td>109</td>\n      <td>1</td>\n      <td>10</td>\n    </tr>\n    <tr>\n      <th>11</th>\n      <td>False</td>\n      <td>136</td>\n      <td>0</td>\n      <td>11</td>\n    </tr>\n    <tr>\n      <th>12</th>\n      <td>False</td>\n      <td>19</td>\n      <td>1</td>\n      <td>12</td>\n    </tr>\n    <tr>\n      <th>13</th>\n      <td>False</td>\n      <td>32</td>\n      <td>0</td>\n      <td>13</td>\n    </tr>\n    <tr>\n      <th>14</th>\n      <td>True</td>\n      <td>86</td>\n      <td>0</td>\n      <td>14</td>\n    </tr>\n    <tr>\n      <th>15</th>\n      <td>True</td>\n      <td>26</td>\n      <td>1</td>\n      <td>15</td>\n    </tr>\n    <tr>\n      <th>16</th>\n      <td>True</td>\n      <td>75</td>\n      <td>1</td>\n      <td>16</td>\n    </tr>\n    <tr>\n      <th>17</th>\n      <td>True</td>\n      <td>38</td>\n      <td>0</td>\n      <td>17</td>\n    </tr>\n    <tr>\n      <th>18</th>\n      <td>False</td>\n      <td>53</td>\n      <td>1</td>\n      <td>18</td>\n    </tr>\n    <tr>\n      <th>19</th>\n      <td>False</td>\n      <td>60</td>\n      <td>0</td>\n      <td>19</td>\n    </tr>\n    <tr>\n      <th>20</th>\n      <td>False</td>\n      <td>81</td>\n      <td>1</td>\n      <td>20</td>\n    </tr>\n    <tr>\n      <th>21</th>\n      <td>False</td>\n      <td>95</td>\n      <td>0</td>\n      <td>21</td>\n    </tr>\n    <tr>\n      <th>22</th>\n      <td>True</td>\n      <td>23</td>\n      <td>1</td>\n      <td>22</td>\n    </tr>\n    <tr>\n      <th>23</th>\n      <td>True</td>\n      <td>14</td>\n      <td>0</td>\n      <td>23</td>\n    </tr>\n  </tbody>\n</table>\n</div>"
     },
     "execution_count": 37,
     "metadata": {},
     "output_type": "execute_result"
    }
   ],
   "source": [
    "# unpack a single record of picks_bans\n",
    "picks_bans = pd.DataFrame(matches.picks_bans.iloc[0])\n",
    "picks_bans"
   ]
  },
  {
   "cell_type": "markdown",
   "id": "c7bc0284-df7d-4aca-b757-6cc35d53de32",
   "metadata": {},
   "source": [
    "This shows us whether a hero was picked or banned. We do not care much for the heros banned (for now), but we do care about which ones were picked! We also care about the team that picked them, as it will allow us to build out a dataset describing the frequency of wins for heroes throughout the professional circuit.\n",
    "\n",
    "We can use the fact that the `is_pick` column is a *series of booleans*, which means that we can *use it as a mask!*. Let's mask our `picks_bans` from the previous cell using the `is_pick` column."
   ]
  },
  {
   "cell_type": "code",
   "execution_count": 38,
   "id": "504bee11-e55c-4519-9839-6bf2be8ff2be",
   "metadata": {
    "ExecuteTime": {
     "end_time": "2023-10-25T20:51:54.945449Z",
     "start_time": "2023-10-25T20:51:54.926809Z"
    }
   },
   "outputs": [
    {
     "data": {
      "text/plain": "    is_pick  hero_id  team  order\n4      True       43     1      4\n5      True       74     0      5\n6      True       85     0      6\n7      True       46     1      7\n14     True       86     0     14\n15     True       26     1     15\n16     True       75     1     16\n17     True       38     0     17\n22     True       23     1     22\n23     True       14     0     23",
      "text/html": "<div>\n<style scoped>\n    .dataframe tbody tr th:only-of-type {\n        vertical-align: middle;\n    }\n\n    .dataframe tbody tr th {\n        vertical-align: top;\n    }\n\n    .dataframe thead th {\n        text-align: right;\n    }\n</style>\n<table border=\"1\" class=\"dataframe\">\n  <thead>\n    <tr style=\"text-align: right;\">\n      <th></th>\n      <th>is_pick</th>\n      <th>hero_id</th>\n      <th>team</th>\n      <th>order</th>\n    </tr>\n  </thead>\n  <tbody>\n    <tr>\n      <th>4</th>\n      <td>True</td>\n      <td>43</td>\n      <td>1</td>\n      <td>4</td>\n    </tr>\n    <tr>\n      <th>5</th>\n      <td>True</td>\n      <td>74</td>\n      <td>0</td>\n      <td>5</td>\n    </tr>\n    <tr>\n      <th>6</th>\n      <td>True</td>\n      <td>85</td>\n      <td>0</td>\n      <td>6</td>\n    </tr>\n    <tr>\n      <th>7</th>\n      <td>True</td>\n      <td>46</td>\n      <td>1</td>\n      <td>7</td>\n    </tr>\n    <tr>\n      <th>14</th>\n      <td>True</td>\n      <td>86</td>\n      <td>0</td>\n      <td>14</td>\n    </tr>\n    <tr>\n      <th>15</th>\n      <td>True</td>\n      <td>26</td>\n      <td>1</td>\n      <td>15</td>\n    </tr>\n    <tr>\n      <th>16</th>\n      <td>True</td>\n      <td>75</td>\n      <td>1</td>\n      <td>16</td>\n    </tr>\n    <tr>\n      <th>17</th>\n      <td>True</td>\n      <td>38</td>\n      <td>0</td>\n      <td>17</td>\n    </tr>\n    <tr>\n      <th>22</th>\n      <td>True</td>\n      <td>23</td>\n      <td>1</td>\n      <td>22</td>\n    </tr>\n    <tr>\n      <th>23</th>\n      <td>True</td>\n      <td>14</td>\n      <td>0</td>\n      <td>23</td>\n    </tr>\n  </tbody>\n</table>\n</div>"
     },
     "execution_count": 38,
     "metadata": {},
     "output_type": "execute_result"
    }
   ],
   "source": [
    "# mask for picks\n",
    "mask_is_pick_true = picks_bans.is_pick == True\n",
    "picks = picks_bans[mask_is_pick_true]\n",
    "picks"
   ]
  },
  {
   "cell_type": "markdown",
   "id": "f2ee963b-84e3-4533-a465-8a9df029d25c",
   "metadata": {},
   "source": [
    "This tells us... nothing... not directly at least! This is because we do not care about hero IDs! We need to find a way to map the hero ID numbers to hero names.\n",
    "\n",
    "We can use `pandas.merge` to merge the `picks` and `heroes` tables together. This merging process will smash our two tables together matching records in each set to one another where the hero IDs in the picks and bans table match the hero IDs from the heroes table."
   ]
  },
  {
   "cell_type": "code",
   "execution_count": 39,
   "id": "19f03803",
   "metadata": {
    "ExecuteTime": {
     "end_time": "2023-10-25T20:51:56.013680Z",
     "start_time": "2023-10-25T20:51:55.998185Z"
    }
   },
   "outputs": [
    {
     "data": {
      "text/plain": "   is_pick  hero_id  team  order  id                            name  \\\n0     True       43     1      4  43     npc_dota_hero_death_prophet   \n1     True       74     0      5  74           npc_dota_hero_invoker   \n2     True       85     0      6  85           npc_dota_hero_undying   \n3     True       46     1      7  46  npc_dota_hero_templar_assassin   \n4     True       86     0     14  86            npc_dota_hero_rubick   \n5     True       26     1     15  26              npc_dota_hero_lion   \n6     True       75     1     16  75          npc_dota_hero_silencer   \n7     True       38     0     17  38       npc_dota_hero_beastmaster   \n8     True       23     1     22  23            npc_dota_hero_kunkka   \n9     True       14     0     23  14             npc_dota_hero_pudge   \n\n     localized_name primary_attr attack_type  \\\n0     Death Prophet          int      Ranged   \n1           Invoker          all      Ranged   \n2           Undying          str       Melee   \n3  Templar Assassin          agi      Ranged   \n4            Rubick          int      Ranged   \n5              Lion          int      Ranged   \n6          Silencer          int      Ranged   \n7       Beastmaster          all       Melee   \n8            Kunkka          str       Melee   \n9             Pudge          str       Melee   \n\n                                               roles  legs  \n0                   [Carry, Pusher, Nuker, Disabler]     2  \n1           [Carry, Nuker, Disabler, Escape, Pusher]     2  \n2                [Support, Durable, Disabler, Nuker]     2  \n3                                    [Carry, Escape]     2  \n4                         [Support, Disabler, Nuker]     2  \n5              [Support, Disabler, Nuker, Initiator]     2  \n6       [Carry, Support, Disabler, Initiator, Nuker]     2  \n7              [Initiator, Disabler, Durable, Nuker]     2  \n8  [Carry, Support, Disabler, Initiator, Durable,...     2  \n9              [Disabler, Initiator, Durable, Nuker]     2  ",
      "text/html": "<div>\n<style scoped>\n    .dataframe tbody tr th:only-of-type {\n        vertical-align: middle;\n    }\n\n    .dataframe tbody tr th {\n        vertical-align: top;\n    }\n\n    .dataframe thead th {\n        text-align: right;\n    }\n</style>\n<table border=\"1\" class=\"dataframe\">\n  <thead>\n    <tr style=\"text-align: right;\">\n      <th></th>\n      <th>is_pick</th>\n      <th>hero_id</th>\n      <th>team</th>\n      <th>order</th>\n      <th>id</th>\n      <th>name</th>\n      <th>localized_name</th>\n      <th>primary_attr</th>\n      <th>attack_type</th>\n      <th>roles</th>\n      <th>legs</th>\n    </tr>\n  </thead>\n  <tbody>\n    <tr>\n      <th>0</th>\n      <td>True</td>\n      <td>43</td>\n      <td>1</td>\n      <td>4</td>\n      <td>43</td>\n      <td>npc_dota_hero_death_prophet</td>\n      <td>Death Prophet</td>\n      <td>int</td>\n      <td>Ranged</td>\n      <td>[Carry, Pusher, Nuker, Disabler]</td>\n      <td>2</td>\n    </tr>\n    <tr>\n      <th>1</th>\n      <td>True</td>\n      <td>74</td>\n      <td>0</td>\n      <td>5</td>\n      <td>74</td>\n      <td>npc_dota_hero_invoker</td>\n      <td>Invoker</td>\n      <td>all</td>\n      <td>Ranged</td>\n      <td>[Carry, Nuker, Disabler, Escape, Pusher]</td>\n      <td>2</td>\n    </tr>\n    <tr>\n      <th>2</th>\n      <td>True</td>\n      <td>85</td>\n      <td>0</td>\n      <td>6</td>\n      <td>85</td>\n      <td>npc_dota_hero_undying</td>\n      <td>Undying</td>\n      <td>str</td>\n      <td>Melee</td>\n      <td>[Support, Durable, Disabler, Nuker]</td>\n      <td>2</td>\n    </tr>\n    <tr>\n      <th>3</th>\n      <td>True</td>\n      <td>46</td>\n      <td>1</td>\n      <td>7</td>\n      <td>46</td>\n      <td>npc_dota_hero_templar_assassin</td>\n      <td>Templar Assassin</td>\n      <td>agi</td>\n      <td>Ranged</td>\n      <td>[Carry, Escape]</td>\n      <td>2</td>\n    </tr>\n    <tr>\n      <th>4</th>\n      <td>True</td>\n      <td>86</td>\n      <td>0</td>\n      <td>14</td>\n      <td>86</td>\n      <td>npc_dota_hero_rubick</td>\n      <td>Rubick</td>\n      <td>int</td>\n      <td>Ranged</td>\n      <td>[Support, Disabler, Nuker]</td>\n      <td>2</td>\n    </tr>\n    <tr>\n      <th>5</th>\n      <td>True</td>\n      <td>26</td>\n      <td>1</td>\n      <td>15</td>\n      <td>26</td>\n      <td>npc_dota_hero_lion</td>\n      <td>Lion</td>\n      <td>int</td>\n      <td>Ranged</td>\n      <td>[Support, Disabler, Nuker, Initiator]</td>\n      <td>2</td>\n    </tr>\n    <tr>\n      <th>6</th>\n      <td>True</td>\n      <td>75</td>\n      <td>1</td>\n      <td>16</td>\n      <td>75</td>\n      <td>npc_dota_hero_silencer</td>\n      <td>Silencer</td>\n      <td>int</td>\n      <td>Ranged</td>\n      <td>[Carry, Support, Disabler, Initiator, Nuker]</td>\n      <td>2</td>\n    </tr>\n    <tr>\n      <th>7</th>\n      <td>True</td>\n      <td>38</td>\n      <td>0</td>\n      <td>17</td>\n      <td>38</td>\n      <td>npc_dota_hero_beastmaster</td>\n      <td>Beastmaster</td>\n      <td>all</td>\n      <td>Melee</td>\n      <td>[Initiator, Disabler, Durable, Nuker]</td>\n      <td>2</td>\n    </tr>\n    <tr>\n      <th>8</th>\n      <td>True</td>\n      <td>23</td>\n      <td>1</td>\n      <td>22</td>\n      <td>23</td>\n      <td>npc_dota_hero_kunkka</td>\n      <td>Kunkka</td>\n      <td>str</td>\n      <td>Melee</td>\n      <td>[Carry, Support, Disabler, Initiator, Durable,...</td>\n      <td>2</td>\n    </tr>\n    <tr>\n      <th>9</th>\n      <td>True</td>\n      <td>14</td>\n      <td>0</td>\n      <td>23</td>\n      <td>14</td>\n      <td>npc_dota_hero_pudge</td>\n      <td>Pudge</td>\n      <td>str</td>\n      <td>Melee</td>\n      <td>[Disabler, Initiator, Durable, Nuker]</td>\n      <td>2</td>\n    </tr>\n  </tbody>\n</table>\n</div>"
     },
     "execution_count": 39,
     "metadata": {},
     "output_type": "execute_result"
    }
   ],
   "source": [
    "# merge picks and heroes\n",
    "named_picks = pd.merge(picks, heroes, left_on='hero_id', right_on='id')\n",
    "named_picks"
   ]
  },
  {
   "cell_type": "markdown",
   "id": "dfdb0170",
   "metadata": {},
   "source": [
    "Really what we want to do here is combine the picks (and bans) data with the match results. This will let us understand how effective some heroes may be. We can see the winning team by observing the `radiant_win` column."
   ]
  },
  {
   "cell_type": "code",
   "execution_count": 40,
   "id": "275f6bb9-648b-43a7-88f5-62cd0d8a306e",
   "metadata": {
    "ExecuteTime": {
     "end_time": "2023-10-25T20:51:56.905248Z",
     "start_time": "2023-10-25T20:51:56.899074Z"
    }
   },
   "outputs": [
    {
     "data": {
      "text/plain": "False"
     },
     "execution_count": 40,
     "metadata": {},
     "output_type": "execute_result"
    }
   ],
   "source": [
    "# inspect win value\n",
    "matches.radiant_win.iloc[0]"
   ]
  },
  {
   "cell_type": "markdown",
   "id": "b68b6912-f257-4fe4-b61a-04fd2715fd3f",
   "metadata": {},
   "source": [
    "There are two teams in DotA2 - *The Radiant* and *The Dire*. There are no draws, and so the result of any match is always a Radiant win or a Dire win.\n",
    "\n",
    "This allows the data maintainers to use a simple boolean to manage this aspect of the data - there is no `dire_win` column! What we know though is that \"team 0\" refers to Radiant, and \"team 1\" refers to Dire. All we need to do is use that boolean to assign a `win` column to the `picks_bans` table.\n",
    "\n",
    "We can use a little trick when dealing with boolean values - we can directly compare integers and booleans *when the integers are 0 and 1*. This is very convenient for us, all we need to do is check if the `team` column in the `picks_bans` table *is not equal* to the `radiant_win` value from the match!\n",
    "\n",
    "This gives us four combinations:\n",
    "\n",
    "* Radiant Win (True) and hero picked by Radiant (0, or False)\n",
    "* Radiant Win (True) and hero picked by Dire (1, or True)\n",
    "* Radiant Loss (False) and hero picked by Radiant (0, or False)\n",
    "* Radiant Loss (False) and hero picked by Dire (1, or True)\n",
    "\n",
    "Again, note that a hero wins a match when the column indicating who won is not equal to the column indicating what team they played on."
   ]
  },
  {
   "cell_type": "markdown",
   "source": [
    "- 0 = Radiant \n",
    "- 1 = Dire \n",
    "- True = Radiant Win \n",
    "- False = Dire Win "
   ],
   "metadata": {
    "collapsed": false
   },
   "id": "98a6219bc267e969"
  },
  {
   "cell_type": "code",
   "execution_count": 41,
   "outputs": [
    {
     "data": {
      "text/plain": "True"
     },
     "execution_count": 41,
     "metadata": {},
     "output_type": "execute_result"
    }
   ],
   "source": [
    "True != False"
   ],
   "metadata": {
    "collapsed": false,
    "ExecuteTime": {
     "end_time": "2023-10-25T20:51:58.796063Z",
     "start_time": "2023-10-25T20:51:58.789908Z"
    }
   },
   "id": "6044b233345a2671"
  },
  {
   "cell_type": "code",
   "execution_count": 41,
   "outputs": [],
   "source": [],
   "metadata": {
    "collapsed": false,
    "ExecuteTime": {
     "end_time": "2023-10-25T20:51:59.135530Z",
     "start_time": "2023-10-25T20:51:59.124922Z"
    }
   },
   "id": "1bbcdad68b4c9cde"
  },
  {
   "cell_type": "code",
   "execution_count": 42,
   "outputs": [
    {
     "data": {
      "text/plain": "   team     team_name  Radiant_win            heroes    win\n0     0  radiant_pick        False           Undying  False\n1     0  radiant_pick        False  Templar Assassin  False\n2     0  radiant_pick        False          Silencer  False\n3     0  radiant_pick        False            Rubick  False\n4     0  radiant_pick        False             Pudge  False\n5     1     Dire_pick        False              Lion   True\n6     1     Dire_pick        False            Kunkka   True\n7     1     Dire_pick        False           Invoker   True\n8     1     Dire_pick        False     Death Prophet   True\n9     1     Dire_pick        False       Beastmaster   True",
      "text/html": "<div>\n<style scoped>\n    .dataframe tbody tr th:only-of-type {\n        vertical-align: middle;\n    }\n\n    .dataframe tbody tr th {\n        vertical-align: top;\n    }\n\n    .dataframe thead th {\n        text-align: right;\n    }\n</style>\n<table border=\"1\" class=\"dataframe\">\n  <thead>\n    <tr style=\"text-align: right;\">\n      <th></th>\n      <th>team</th>\n      <th>team_name</th>\n      <th>Radiant_win</th>\n      <th>heroes</th>\n      <th>win</th>\n    </tr>\n  </thead>\n  <tbody>\n    <tr>\n      <th>0</th>\n      <td>0</td>\n      <td>radiant_pick</td>\n      <td>False</td>\n      <td>Undying</td>\n      <td>False</td>\n    </tr>\n    <tr>\n      <th>1</th>\n      <td>0</td>\n      <td>radiant_pick</td>\n      <td>False</td>\n      <td>Templar Assassin</td>\n      <td>False</td>\n    </tr>\n    <tr>\n      <th>2</th>\n      <td>0</td>\n      <td>radiant_pick</td>\n      <td>False</td>\n      <td>Silencer</td>\n      <td>False</td>\n    </tr>\n    <tr>\n      <th>3</th>\n      <td>0</td>\n      <td>radiant_pick</td>\n      <td>False</td>\n      <td>Rubick</td>\n      <td>False</td>\n    </tr>\n    <tr>\n      <th>4</th>\n      <td>0</td>\n      <td>radiant_pick</td>\n      <td>False</td>\n      <td>Pudge</td>\n      <td>False</td>\n    </tr>\n    <tr>\n      <th>5</th>\n      <td>1</td>\n      <td>Dire_pick</td>\n      <td>False</td>\n      <td>Lion</td>\n      <td>True</td>\n    </tr>\n    <tr>\n      <th>6</th>\n      <td>1</td>\n      <td>Dire_pick</td>\n      <td>False</td>\n      <td>Kunkka</td>\n      <td>True</td>\n    </tr>\n    <tr>\n      <th>7</th>\n      <td>1</td>\n      <td>Dire_pick</td>\n      <td>False</td>\n      <td>Invoker</td>\n      <td>True</td>\n    </tr>\n    <tr>\n      <th>8</th>\n      <td>1</td>\n      <td>Dire_pick</td>\n      <td>False</td>\n      <td>Death Prophet</td>\n      <td>True</td>\n    </tr>\n    <tr>\n      <th>9</th>\n      <td>1</td>\n      <td>Dire_pick</td>\n      <td>False</td>\n      <td>Beastmaster</td>\n      <td>True</td>\n    </tr>\n  </tbody>\n</table>\n</div>"
     },
     "execution_count": 42,
     "metadata": {},
     "output_type": "execute_result"
    }
   ],
   "source": [
    "import pandas as pd\n",
    "\n",
    "# Create a sample DataFrame with the data\n",
    "data = {'team':[0,0,0,0,0,1,1,1,1,1],'team_name': ['radiant_pick','radiant_pick' , 'radiant_pick', 'radiant_pick', 'radiant_pick', 'Dire_pick','Dire_pick' , 'Dire_pick', 'Dire_pick', 'Dire_pick'], 'Radiant_win':[False for i in range(0,10)],'heroes':[\n",
    "    \"Undying\",\n",
    "    \"Templar Assassin\",\n",
    "    \"Silencer\",\n",
    "    \"Rubick\",\n",
    "    \"Pudge\",\n",
    "    \"Lion\",\n",
    "    \"Kunkka\",\n",
    "    \"Invoker\",\n",
    "    \"Death Prophet\",\n",
    "    \"Beastmaster\"\n",
    "]}\n",
    "\n",
    "named_picks = pd.DataFrame(data)\n",
    "named_picks.set_index('team')\n",
    "# Set the win column based on the comparison\n",
    "named_picks['win'] = named_picks.team != matches.radiant_win.iloc[0]\n",
    "\n",
    "# Display the result\n",
    "named_picks"
   ],
   "metadata": {
    "collapsed": false,
    "ExecuteTime": {
     "end_time": "2023-10-25T20:51:59.571113Z",
     "start_time": "2023-10-25T20:51:59.521974Z"
    }
   },
   "id": "ba44c0a093275c4f"
  },
  {
   "cell_type": "code",
   "execution_count": 43,
   "id": "5050d630-912d-4239-92de-9e0490c52c8c",
   "metadata": {
    "ExecuteTime": {
     "end_time": "2023-10-25T20:51:59.900276Z",
     "start_time": "2023-10-25T20:51:59.892588Z"
    }
   },
   "outputs": [
    {
     "data": {
      "text/plain": "   team     team_name  Radiant_win            heroes    win\n0     0  radiant_pick        False           Undying  False\n1     0  radiant_pick        False  Templar Assassin  False\n2     0  radiant_pick        False          Silencer  False\n3     0  radiant_pick        False            Rubick  False\n4     0  radiant_pick        False             Pudge  False\n5     1     Dire_pick        False              Lion   True\n6     1     Dire_pick        False            Kunkka   True\n7     1     Dire_pick        False           Invoker   True\n8     1     Dire_pick        False     Death Prophet   True\n9     1     Dire_pick        False       Beastmaster   True",
      "text/html": "<div>\n<style scoped>\n    .dataframe tbody tr th:only-of-type {\n        vertical-align: middle;\n    }\n\n    .dataframe tbody tr th {\n        vertical-align: top;\n    }\n\n    .dataframe thead th {\n        text-align: right;\n    }\n</style>\n<table border=\"1\" class=\"dataframe\">\n  <thead>\n    <tr style=\"text-align: right;\">\n      <th></th>\n      <th>team</th>\n      <th>team_name</th>\n      <th>Radiant_win</th>\n      <th>heroes</th>\n      <th>win</th>\n    </tr>\n  </thead>\n  <tbody>\n    <tr>\n      <th>0</th>\n      <td>0</td>\n      <td>radiant_pick</td>\n      <td>False</td>\n      <td>Undying</td>\n      <td>False</td>\n    </tr>\n    <tr>\n      <th>1</th>\n      <td>0</td>\n      <td>radiant_pick</td>\n      <td>False</td>\n      <td>Templar Assassin</td>\n      <td>False</td>\n    </tr>\n    <tr>\n      <th>2</th>\n      <td>0</td>\n      <td>radiant_pick</td>\n      <td>False</td>\n      <td>Silencer</td>\n      <td>False</td>\n    </tr>\n    <tr>\n      <th>3</th>\n      <td>0</td>\n      <td>radiant_pick</td>\n      <td>False</td>\n      <td>Rubick</td>\n      <td>False</td>\n    </tr>\n    <tr>\n      <th>4</th>\n      <td>0</td>\n      <td>radiant_pick</td>\n      <td>False</td>\n      <td>Pudge</td>\n      <td>False</td>\n    </tr>\n    <tr>\n      <th>5</th>\n      <td>1</td>\n      <td>Dire_pick</td>\n      <td>False</td>\n      <td>Lion</td>\n      <td>True</td>\n    </tr>\n    <tr>\n      <th>6</th>\n      <td>1</td>\n      <td>Dire_pick</td>\n      <td>False</td>\n      <td>Kunkka</td>\n      <td>True</td>\n    </tr>\n    <tr>\n      <th>7</th>\n      <td>1</td>\n      <td>Dire_pick</td>\n      <td>False</td>\n      <td>Invoker</td>\n      <td>True</td>\n    </tr>\n    <tr>\n      <th>8</th>\n      <td>1</td>\n      <td>Dire_pick</td>\n      <td>False</td>\n      <td>Death Prophet</td>\n      <td>True</td>\n    </tr>\n    <tr>\n      <th>9</th>\n      <td>1</td>\n      <td>Dire_pick</td>\n      <td>False</td>\n      <td>Beastmaster</td>\n      <td>True</td>\n    </tr>\n  </tbody>\n</table>\n</div>"
     },
     "execution_count": 43,
     "metadata": {},
     "output_type": "execute_result"
    }
   ],
   "source": [
    "    # add wins column\n",
    "named_picks['win'] = named_picks.team != matches.radiant_win.iloc[0]\n",
    "named_picks"
   ]
  },
  {
   "cell_type": "markdown",
   "id": "a1ab979b-0b93-48a8-9d79-8c3db6ffcc7b",
   "metadata": {},
   "source": [
    "This is just for a single match though! What we need to do is apply this sort of processing to every match in our table. We need to create a dataframe that includes all of the hero statistics across all matches. This requires us to convert every `picks_ban` element into a  dataframe, and then concatenate all of those dataframes into a single dataframe. \n",
    "\n",
    "To do this, we need to define a new function "
   ]
  },
  {
   "cell_type": "code",
   "execution_count": 44,
   "outputs": [
    {
     "data": {
      "text/plain": "    is_pick  hero_id  team  order\n4      True       43     1      4\n5      True       74     0      5\n6      True       85     0      6\n7      True       46     1      7\n14     True       86     0     14\n15     True       26     1     15\n16     True       75     1     16\n17     True       38     0     17\n22     True       23     1     22\n23     True       14     0     23",
      "text/html": "<div>\n<style scoped>\n    .dataframe tbody tr th:only-of-type {\n        vertical-align: middle;\n    }\n\n    .dataframe tbody tr th {\n        vertical-align: top;\n    }\n\n    .dataframe thead th {\n        text-align: right;\n    }\n</style>\n<table border=\"1\" class=\"dataframe\">\n  <thead>\n    <tr style=\"text-align: right;\">\n      <th></th>\n      <th>is_pick</th>\n      <th>hero_id</th>\n      <th>team</th>\n      <th>order</th>\n    </tr>\n  </thead>\n  <tbody>\n    <tr>\n      <th>4</th>\n      <td>True</td>\n      <td>43</td>\n      <td>1</td>\n      <td>4</td>\n    </tr>\n    <tr>\n      <th>5</th>\n      <td>True</td>\n      <td>74</td>\n      <td>0</td>\n      <td>5</td>\n    </tr>\n    <tr>\n      <th>6</th>\n      <td>True</td>\n      <td>85</td>\n      <td>0</td>\n      <td>6</td>\n    </tr>\n    <tr>\n      <th>7</th>\n      <td>True</td>\n      <td>46</td>\n      <td>1</td>\n      <td>7</td>\n    </tr>\n    <tr>\n      <th>14</th>\n      <td>True</td>\n      <td>86</td>\n      <td>0</td>\n      <td>14</td>\n    </tr>\n    <tr>\n      <th>15</th>\n      <td>True</td>\n      <td>26</td>\n      <td>1</td>\n      <td>15</td>\n    </tr>\n    <tr>\n      <th>16</th>\n      <td>True</td>\n      <td>75</td>\n      <td>1</td>\n      <td>16</td>\n    </tr>\n    <tr>\n      <th>17</th>\n      <td>True</td>\n      <td>38</td>\n      <td>0</td>\n      <td>17</td>\n    </tr>\n    <tr>\n      <th>22</th>\n      <td>True</td>\n      <td>23</td>\n      <td>1</td>\n      <td>22</td>\n    </tr>\n    <tr>\n      <th>23</th>\n      <td>True</td>\n      <td>14</td>\n      <td>0</td>\n      <td>23</td>\n    </tr>\n  </tbody>\n</table>\n</div>"
     },
     "execution_count": 44,
     "metadata": {},
     "output_type": "execute_result"
    }
   ],
   "source": [
    "for_match_7102649472_pick_bans = pd.DataFrame(matches[matches.match_id == 7102649472].picks_bans[0])\n",
    "for_match_7102649472_pick_bans_win_mask = for_match_7102649472_pick_bans.is_pick ==True\n",
    "for_match_7102649472_pick_bans[for_match_7102649472_pick_bans_win_mask]\n"
   ],
   "metadata": {
    "collapsed": false,
    "ExecuteTime": {
     "end_time": "2023-10-25T20:52:01.123150Z",
     "start_time": "2023-10-25T20:52:01.098960Z"
    }
   },
   "id": "3b5c062d5c2c1688"
  },
  {
   "cell_type": "code",
   "execution_count": 45,
   "outputs": [
    {
     "data": {
      "text/plain": "     match_id  match_seq_num  radiant_win          start_time  duration  \\\n0  7102649472     5966088132        False 2023-04-11 14:59:51      3878   \n\n   tower_status_radiant  tower_status_dire  barracks_status_radiant  \\\n0                     0               1828                        0   \n\n   barracks_status_dire  cluster  ...  \\\n0                    63      274  ...   \n\n                                    radiant_gold_adv  \\\n0  [416, 1124, 1330, 2115, 1858, 2024, 1445, 1756...   \n\n                                      radiant_xp_adv  \\\n0  [150, -93, 427, 1133, 718, 888, 619, 864, 559,...   \n\n                                          teamfights  version  \\\n0  [{'start': 187, 'end': 240, 'last_death': 225,...     21.0   \n\n                                           cosmetics  radiant_score  \\\n0  {'647': 129, '5470': 129, '6199': 1, '6694': 1...             40   \n\n   dire_score                                      draft_timings series_id  \\\n0          42  [{'order': 1, 'pick': False, 'active_team': 3,...    768803   \n\n   series_type  \n0            1  \n\n[1 rows x 39 columns]",
      "text/html": "<div>\n<style scoped>\n    .dataframe tbody tr th:only-of-type {\n        vertical-align: middle;\n    }\n\n    .dataframe tbody tr th {\n        vertical-align: top;\n    }\n\n    .dataframe thead th {\n        text-align: right;\n    }\n</style>\n<table border=\"1\" class=\"dataframe\">\n  <thead>\n    <tr style=\"text-align: right;\">\n      <th></th>\n      <th>match_id</th>\n      <th>match_seq_num</th>\n      <th>radiant_win</th>\n      <th>start_time</th>\n      <th>duration</th>\n      <th>tower_status_radiant</th>\n      <th>tower_status_dire</th>\n      <th>barracks_status_radiant</th>\n      <th>barracks_status_dire</th>\n      <th>cluster</th>\n      <th>...</th>\n      <th>radiant_gold_adv</th>\n      <th>radiant_xp_adv</th>\n      <th>teamfights</th>\n      <th>version</th>\n      <th>cosmetics</th>\n      <th>radiant_score</th>\n      <th>dire_score</th>\n      <th>draft_timings</th>\n      <th>series_id</th>\n      <th>series_type</th>\n    </tr>\n  </thead>\n  <tbody>\n    <tr>\n      <th>0</th>\n      <td>7102649472</td>\n      <td>5966088132</td>\n      <td>False</td>\n      <td>2023-04-11 14:59:51</td>\n      <td>3878</td>\n      <td>0</td>\n      <td>1828</td>\n      <td>0</td>\n      <td>63</td>\n      <td>274</td>\n      <td>...</td>\n      <td>[416, 1124, 1330, 2115, 1858, 2024, 1445, 1756...</td>\n      <td>[150, -93, 427, 1133, 718, 888, 619, 864, 559,...</td>\n      <td>[{'start': 187, 'end': 240, 'last_death': 225,...</td>\n      <td>21.0</td>\n      <td>{'647': 129, '5470': 129, '6199': 1, '6694': 1...</td>\n      <td>40</td>\n      <td>42</td>\n      <td>[{'order': 1, 'pick': False, 'active_team': 3,...</td>\n      <td>768803</td>\n      <td>1</td>\n    </tr>\n  </tbody>\n</table>\n<p>1 rows × 39 columns</p>\n</div>"
     },
     "execution_count": 45,
     "metadata": {},
     "output_type": "execute_result"
    }
   ],
   "source": [
    "matches[matches.match_id ==7102649472]"
   ],
   "metadata": {
    "collapsed": false,
    "ExecuteTime": {
     "end_time": "2023-10-25T20:52:01.386115Z",
     "start_time": "2023-10-25T20:52:01.364094Z"
    }
   },
   "id": "c8815f78f3316d41"
  },
  {
   "cell_type": "markdown",
   "source": [],
   "metadata": {
    "collapsed": false
   },
   "id": "2883f7db8605b0cf"
  },
  {
   "cell_type": "code",
   "execution_count": 46,
   "outputs": [
    {
     "data": {
      "text/plain": "       hero_id  team  order    match_id    win\n0           43     1      4  7102649472   True\n1           74     0      5  7102649472  False\n2           85     0      6  7102649472  False\n3           46     1      7  7102649472   True\n4           86     0     14  7102649472  False\n...        ...   ...    ...         ...    ...\n10555       86     1     15  7223294867   True\n10556       69     1     16  7223294867   True\n10557      136     0     17  7223294867  False\n10558       89     1     22  7223294867   True\n10559       55     0     23  7223294867  False\n\n[10560 rows x 5 columns]",
      "text/html": "<div>\n<style scoped>\n    .dataframe tbody tr th:only-of-type {\n        vertical-align: middle;\n    }\n\n    .dataframe tbody tr th {\n        vertical-align: top;\n    }\n\n    .dataframe thead th {\n        text-align: right;\n    }\n</style>\n<table border=\"1\" class=\"dataframe\">\n  <thead>\n    <tr style=\"text-align: right;\">\n      <th></th>\n      <th>hero_id</th>\n      <th>team</th>\n      <th>order</th>\n      <th>match_id</th>\n      <th>win</th>\n    </tr>\n  </thead>\n  <tbody>\n    <tr>\n      <th>0</th>\n      <td>43</td>\n      <td>1</td>\n      <td>4</td>\n      <td>7102649472</td>\n      <td>True</td>\n    </tr>\n    <tr>\n      <th>1</th>\n      <td>74</td>\n      <td>0</td>\n      <td>5</td>\n      <td>7102649472</td>\n      <td>False</td>\n    </tr>\n    <tr>\n      <th>2</th>\n      <td>85</td>\n      <td>0</td>\n      <td>6</td>\n      <td>7102649472</td>\n      <td>False</td>\n    </tr>\n    <tr>\n      <th>3</th>\n      <td>46</td>\n      <td>1</td>\n      <td>7</td>\n      <td>7102649472</td>\n      <td>True</td>\n    </tr>\n    <tr>\n      <th>4</th>\n      <td>86</td>\n      <td>0</td>\n      <td>14</td>\n      <td>7102649472</td>\n      <td>False</td>\n    </tr>\n    <tr>\n      <th>...</th>\n      <td>...</td>\n      <td>...</td>\n      <td>...</td>\n      <td>...</td>\n      <td>...</td>\n    </tr>\n    <tr>\n      <th>10555</th>\n      <td>86</td>\n      <td>1</td>\n      <td>15</td>\n      <td>7223294867</td>\n      <td>True</td>\n    </tr>\n    <tr>\n      <th>10556</th>\n      <td>69</td>\n      <td>1</td>\n      <td>16</td>\n      <td>7223294867</td>\n      <td>True</td>\n    </tr>\n    <tr>\n      <th>10557</th>\n      <td>136</td>\n      <td>0</td>\n      <td>17</td>\n      <td>7223294867</td>\n      <td>False</td>\n    </tr>\n    <tr>\n      <th>10558</th>\n      <td>89</td>\n      <td>1</td>\n      <td>22</td>\n      <td>7223294867</td>\n      <td>True</td>\n    </tr>\n    <tr>\n      <th>10559</th>\n      <td>55</td>\n      <td>0</td>\n      <td>23</td>\n      <td>7223294867</td>\n      <td>False</td>\n    </tr>\n  </tbody>\n</table>\n<p>10560 rows × 5 columns</p>\n</div>"
     },
     "execution_count": 46,
     "metadata": {},
     "output_type": "execute_result"
    }
   ],
   "source": [
    "# build out pick statistics\n",
    "def get_hero_statistics(x):\n",
    "    # print(x)\n",
    "    picks_bans = pd.DataFrame(x.picks_bans)\n",
    "    picks = picks_bans[picks_bans.is_pick].drop(['is_pick'], axis=1)\n",
    "    picks['match_id'] = x.match_id\n",
    "    picks['win'] = picks.team != x.radiant_win\n",
    "    return picks.reset_index(drop=True)\n",
    "# We are telling the pandas to strip the data and send the values after applying the applied selection. \n",
    "# Here we are getting a slice of the data and we apply the get_hero_statistics function to each row. \n",
    "# Axis= 1 means apply to the row and axis =0 means apply to each col\n",
    "matches_heroes = matches[['match_id', 'radiant_win', 'picks_bans']].apply(get_hero_statistics, axis=1)\n",
    "y = matches_heroes.tolist()\n",
    "matches_heroes = pd.concat(y, ignore_index=True)\n",
    "matches_heroes"
   ],
   "metadata": {
    "collapsed": false,
    "ExecuteTime": {
     "end_time": "2023-10-25T20:52:03.571580Z",
     "start_time": "2023-10-25T20:52:02.848956Z"
    }
   },
   "id": "13f7a154b56b28a1"
  },
  {
   "cell_type": "code",
   "execution_count": 47,
   "outputs": [
    {
     "data": {
      "text/plain": "   hero_id  team  order    match_id    win\n0       43     1      4  7102649472   True\n1       74     0      5  7102649472  False\n2       85     0      6  7102649472  False\n3       46     1      7  7102649472   True\n4       86     0     14  7102649472  False\n5       26     1     15  7102649472   True\n6       75     1     16  7102649472   True\n7       38     0     17  7102649472  False\n8       23     1     22  7102649472   True\n9       14     0     23  7102649472  False",
      "text/html": "<div>\n<style scoped>\n    .dataframe tbody tr th:only-of-type {\n        vertical-align: middle;\n    }\n\n    .dataframe tbody tr th {\n        vertical-align: top;\n    }\n\n    .dataframe thead th {\n        text-align: right;\n    }\n</style>\n<table border=\"1\" class=\"dataframe\">\n  <thead>\n    <tr style=\"text-align: right;\">\n      <th></th>\n      <th>hero_id</th>\n      <th>team</th>\n      <th>order</th>\n      <th>match_id</th>\n      <th>win</th>\n    </tr>\n  </thead>\n  <tbody>\n    <tr>\n      <th>0</th>\n      <td>43</td>\n      <td>1</td>\n      <td>4</td>\n      <td>7102649472</td>\n      <td>True</td>\n    </tr>\n    <tr>\n      <th>1</th>\n      <td>74</td>\n      <td>0</td>\n      <td>5</td>\n      <td>7102649472</td>\n      <td>False</td>\n    </tr>\n    <tr>\n      <th>2</th>\n      <td>85</td>\n      <td>0</td>\n      <td>6</td>\n      <td>7102649472</td>\n      <td>False</td>\n    </tr>\n    <tr>\n      <th>3</th>\n      <td>46</td>\n      <td>1</td>\n      <td>7</td>\n      <td>7102649472</td>\n      <td>True</td>\n    </tr>\n    <tr>\n      <th>4</th>\n      <td>86</td>\n      <td>0</td>\n      <td>14</td>\n      <td>7102649472</td>\n      <td>False</td>\n    </tr>\n    <tr>\n      <th>5</th>\n      <td>26</td>\n      <td>1</td>\n      <td>15</td>\n      <td>7102649472</td>\n      <td>True</td>\n    </tr>\n    <tr>\n      <th>6</th>\n      <td>75</td>\n      <td>1</td>\n      <td>16</td>\n      <td>7102649472</td>\n      <td>True</td>\n    </tr>\n    <tr>\n      <th>7</th>\n      <td>38</td>\n      <td>0</td>\n      <td>17</td>\n      <td>7102649472</td>\n      <td>False</td>\n    </tr>\n    <tr>\n      <th>8</th>\n      <td>23</td>\n      <td>1</td>\n      <td>22</td>\n      <td>7102649472</td>\n      <td>True</td>\n    </tr>\n    <tr>\n      <th>9</th>\n      <td>14</td>\n      <td>0</td>\n      <td>23</td>\n      <td>7102649472</td>\n      <td>False</td>\n    </tr>\n  </tbody>\n</table>\n</div>"
     },
     "execution_count": 47,
     "metadata": {},
     "output_type": "execute_result"
    }
   ],
   "source": [
    "matches_heroes[matches_heroes.match_id == 7102649472]"
   ],
   "metadata": {
    "collapsed": false,
    "ExecuteTime": {
     "end_time": "2023-10-25T20:52:03.579008Z",
     "start_time": "2023-10-25T20:52:03.574269Z"
    }
   },
   "id": "518442c547448d24"
  },
  {
   "cell_type": "markdown",
   "source": [
    "# MY CODE BELOW "
   ],
   "metadata": {
    "collapsed": false
   },
   "id": "5f211a072be2ec1d"
  },
  {
   "cell_type": "code",
   "execution_count": 48,
   "id": "9b38925a-307e-492a-b732-2befdbbe25b3",
   "metadata": {
    "ExecuteTime": {
     "end_time": "2023-10-25T20:52:09.730507Z",
     "start_time": "2023-10-25T20:52:08.824453Z"
    }
   },
   "outputs": [
    {
     "data": {
      "text/plain": "       hero_id  team  order    match_id    win\n0           43     1      4  7102649472   True\n1           74     0      5  7102649472  False\n2           85     0      6  7102649472  False\n3           46     1      7  7102649472   True\n4           86     0     14  7102649472  False\n...        ...   ...    ...         ...    ...\n10555       86     1     15  7223294867   True\n10556       69     1     16  7223294867   True\n10557      136     0     17  7223294867  False\n10558       89     1     22  7223294867   True\n10559       55     0     23  7223294867  False\n\n[10560 rows x 5 columns]",
      "text/html": "<div>\n<style scoped>\n    .dataframe tbody tr th:only-of-type {\n        vertical-align: middle;\n    }\n\n    .dataframe tbody tr th {\n        vertical-align: top;\n    }\n\n    .dataframe thead th {\n        text-align: right;\n    }\n</style>\n<table border=\"1\" class=\"dataframe\">\n  <thead>\n    <tr style=\"text-align: right;\">\n      <th></th>\n      <th>hero_id</th>\n      <th>team</th>\n      <th>order</th>\n      <th>match_id</th>\n      <th>win</th>\n    </tr>\n  </thead>\n  <tbody>\n    <tr>\n      <th>0</th>\n      <td>43</td>\n      <td>1</td>\n      <td>4</td>\n      <td>7102649472</td>\n      <td>True</td>\n    </tr>\n    <tr>\n      <th>1</th>\n      <td>74</td>\n      <td>0</td>\n      <td>5</td>\n      <td>7102649472</td>\n      <td>False</td>\n    </tr>\n    <tr>\n      <th>2</th>\n      <td>85</td>\n      <td>0</td>\n      <td>6</td>\n      <td>7102649472</td>\n      <td>False</td>\n    </tr>\n    <tr>\n      <th>3</th>\n      <td>46</td>\n      <td>1</td>\n      <td>7</td>\n      <td>7102649472</td>\n      <td>True</td>\n    </tr>\n    <tr>\n      <th>4</th>\n      <td>86</td>\n      <td>0</td>\n      <td>14</td>\n      <td>7102649472</td>\n      <td>False</td>\n    </tr>\n    <tr>\n      <th>...</th>\n      <td>...</td>\n      <td>...</td>\n      <td>...</td>\n      <td>...</td>\n      <td>...</td>\n    </tr>\n    <tr>\n      <th>10555</th>\n      <td>86</td>\n      <td>1</td>\n      <td>15</td>\n      <td>7223294867</td>\n      <td>True</td>\n    </tr>\n    <tr>\n      <th>10556</th>\n      <td>69</td>\n      <td>1</td>\n      <td>16</td>\n      <td>7223294867</td>\n      <td>True</td>\n    </tr>\n    <tr>\n      <th>10557</th>\n      <td>136</td>\n      <td>0</td>\n      <td>17</td>\n      <td>7223294867</td>\n      <td>False</td>\n    </tr>\n    <tr>\n      <th>10558</th>\n      <td>89</td>\n      <td>1</td>\n      <td>22</td>\n      <td>7223294867</td>\n      <td>True</td>\n    </tr>\n    <tr>\n      <th>10559</th>\n      <td>55</td>\n      <td>0</td>\n      <td>23</td>\n      <td>7223294867</td>\n      <td>False</td>\n    </tr>\n  </tbody>\n</table>\n<p>10560 rows × 5 columns</p>\n</div>"
     },
     "execution_count": 48,
     "metadata": {},
     "output_type": "execute_result"
    }
   ],
   "source": [
    "# build out pick statistics\n",
    "def get_hero_statistics(x):\n",
    "    # print(x)\n",
    "    picks_bans = pd.DataFrame(x.picks_bans)\n",
    "    picks = picks_bans[picks_bans.is_pick].drop(['is_pick'], axis=1)\n",
    "    # print(f\"Picks value = picks = picks_bans[picks_bans.is_pick].drop([/'is_pick/'], axis=1 ) \\n\",picks)\n",
    "    picks['match_id'] = x.match_id\n",
    "    # print('Value of Picks with match Id \\n',picks)\n",
    "    picks['win'] = picks.team != x.radiant_win\n",
    "    # print('Value of Picks with Win Mask Id \\n',picks)\n",
    "    # picks.reset_index(drop=True)\n",
    "    # print('after Reset Index \\n',picks.reset_index(drop=True))\n",
    "    return picks.reset_index(drop=True)\n",
    "\n",
    "# We are telling the pandas to strip the data and send the values after applying the applied selection. \n",
    "# Here we are getting a slice of the data and we apply the get_hero_statistics function to each row. \n",
    "# Axis= 1 means apply to the row and axis =0 means apply to each col\n",
    "matches_heroes = matches[['match_id', 'radiant_win', 'picks_bans']].apply(get_hero_statistics, axis=1)\n",
    "y = matches_heroes.tolist()\n",
    "matches_heroes = pd.concat(y, ignore_index=True)\n",
    "matches_heroes"
   ]
  },
  {
   "cell_type": "markdown",
   "id": "4ffd161a-1546-4db3-a30e-b8bfa12fcdfc",
   "metadata": {},
   "source": [
    "Now that our hero stats table is complete, we are ready to merge it with the actual hero metadata to form a complete set of hero data."
   ]
  },
  {
   "cell_type": "code",
   "execution_count": 49,
   "id": "f6d2eb05-4c8e-48ec-a3b4-cddd9d262c14",
   "metadata": {
    "ExecuteTime": {
     "end_time": "2023-10-25T20:52:10.412210Z",
     "start_time": "2023-10-25T20:52:10.394208Z"
    }
   },
   "outputs": [
    {
     "data": {
      "text/plain": "       hero_id  team  order    match_id    win  id  \\\n0           43     1      4  7102649472   True  43   \n1           43     0      4  7102798112   True  43   \n2           43     1     15  7103690699   True  43   \n3           43     0      5  7101146267  False  43   \n4           43     1      7  7101260263  False  43   \n...        ...   ...    ...         ...    ...  ..   \n10555       50     1     15  7342166210  False  50   \n10556       50     1      6  7126048768  False  50   \n10557       27     1     22  7341448039  False  27   \n10558       27     0     22  7033635338   True  27   \n10559       27     0     15  7128914194  False  27   \n\n                              name localized_name primary_attr attack_type  \\\n0      npc_dota_hero_death_prophet  Death Prophet          int      Ranged   \n1      npc_dota_hero_death_prophet  Death Prophet          int      Ranged   \n2      npc_dota_hero_death_prophet  Death Prophet          int      Ranged   \n3      npc_dota_hero_death_prophet  Death Prophet          int      Ranged   \n4      npc_dota_hero_death_prophet  Death Prophet          int      Ranged   \n...                            ...            ...          ...         ...   \n10555         npc_dota_hero_dazzle         Dazzle          all      Ranged   \n10556         npc_dota_hero_dazzle         Dazzle          all      Ranged   \n10557  npc_dota_hero_shadow_shaman  Shadow Shaman          int      Ranged   \n10558  npc_dota_hero_shadow_shaman  Shadow Shaman          int      Ranged   \n10559  npc_dota_hero_shadow_shaman  Shadow Shaman          int      Ranged   \n\n                                               roles  legs  \n0                   [Carry, Pusher, Nuker, Disabler]     2  \n1                   [Carry, Pusher, Nuker, Disabler]     2  \n2                   [Carry, Pusher, Nuker, Disabler]     2  \n3                   [Carry, Pusher, Nuker, Disabler]     2  \n4                   [Carry, Pusher, Nuker, Disabler]     2  \n...                                              ...   ...  \n10555                     [Support, Nuker, Disabler]     2  \n10556                     [Support, Nuker, Disabler]     2  \n10557  [Support, Pusher, Disabler, Nuker, Initiator]     2  \n10558  [Support, Pusher, Disabler, Nuker, Initiator]     2  \n10559  [Support, Pusher, Disabler, Nuker, Initiator]     2  \n\n[10560 rows x 12 columns]",
      "text/html": "<div>\n<style scoped>\n    .dataframe tbody tr th:only-of-type {\n        vertical-align: middle;\n    }\n\n    .dataframe tbody tr th {\n        vertical-align: top;\n    }\n\n    .dataframe thead th {\n        text-align: right;\n    }\n</style>\n<table border=\"1\" class=\"dataframe\">\n  <thead>\n    <tr style=\"text-align: right;\">\n      <th></th>\n      <th>hero_id</th>\n      <th>team</th>\n      <th>order</th>\n      <th>match_id</th>\n      <th>win</th>\n      <th>id</th>\n      <th>name</th>\n      <th>localized_name</th>\n      <th>primary_attr</th>\n      <th>attack_type</th>\n      <th>roles</th>\n      <th>legs</th>\n    </tr>\n  </thead>\n  <tbody>\n    <tr>\n      <th>0</th>\n      <td>43</td>\n      <td>1</td>\n      <td>4</td>\n      <td>7102649472</td>\n      <td>True</td>\n      <td>43</td>\n      <td>npc_dota_hero_death_prophet</td>\n      <td>Death Prophet</td>\n      <td>int</td>\n      <td>Ranged</td>\n      <td>[Carry, Pusher, Nuker, Disabler]</td>\n      <td>2</td>\n    </tr>\n    <tr>\n      <th>1</th>\n      <td>43</td>\n      <td>0</td>\n      <td>4</td>\n      <td>7102798112</td>\n      <td>True</td>\n      <td>43</td>\n      <td>npc_dota_hero_death_prophet</td>\n      <td>Death Prophet</td>\n      <td>int</td>\n      <td>Ranged</td>\n      <td>[Carry, Pusher, Nuker, Disabler]</td>\n      <td>2</td>\n    </tr>\n    <tr>\n      <th>2</th>\n      <td>43</td>\n      <td>1</td>\n      <td>15</td>\n      <td>7103690699</td>\n      <td>True</td>\n      <td>43</td>\n      <td>npc_dota_hero_death_prophet</td>\n      <td>Death Prophet</td>\n      <td>int</td>\n      <td>Ranged</td>\n      <td>[Carry, Pusher, Nuker, Disabler]</td>\n      <td>2</td>\n    </tr>\n    <tr>\n      <th>3</th>\n      <td>43</td>\n      <td>0</td>\n      <td>5</td>\n      <td>7101146267</td>\n      <td>False</td>\n      <td>43</td>\n      <td>npc_dota_hero_death_prophet</td>\n      <td>Death Prophet</td>\n      <td>int</td>\n      <td>Ranged</td>\n      <td>[Carry, Pusher, Nuker, Disabler]</td>\n      <td>2</td>\n    </tr>\n    <tr>\n      <th>4</th>\n      <td>43</td>\n      <td>1</td>\n      <td>7</td>\n      <td>7101260263</td>\n      <td>False</td>\n      <td>43</td>\n      <td>npc_dota_hero_death_prophet</td>\n      <td>Death Prophet</td>\n      <td>int</td>\n      <td>Ranged</td>\n      <td>[Carry, Pusher, Nuker, Disabler]</td>\n      <td>2</td>\n    </tr>\n    <tr>\n      <th>...</th>\n      <td>...</td>\n      <td>...</td>\n      <td>...</td>\n      <td>...</td>\n      <td>...</td>\n      <td>...</td>\n      <td>...</td>\n      <td>...</td>\n      <td>...</td>\n      <td>...</td>\n      <td>...</td>\n      <td>...</td>\n    </tr>\n    <tr>\n      <th>10555</th>\n      <td>50</td>\n      <td>1</td>\n      <td>15</td>\n      <td>7342166210</td>\n      <td>False</td>\n      <td>50</td>\n      <td>npc_dota_hero_dazzle</td>\n      <td>Dazzle</td>\n      <td>all</td>\n      <td>Ranged</td>\n      <td>[Support, Nuker, Disabler]</td>\n      <td>2</td>\n    </tr>\n    <tr>\n      <th>10556</th>\n      <td>50</td>\n      <td>1</td>\n      <td>6</td>\n      <td>7126048768</td>\n      <td>False</td>\n      <td>50</td>\n      <td>npc_dota_hero_dazzle</td>\n      <td>Dazzle</td>\n      <td>all</td>\n      <td>Ranged</td>\n      <td>[Support, Nuker, Disabler]</td>\n      <td>2</td>\n    </tr>\n    <tr>\n      <th>10557</th>\n      <td>27</td>\n      <td>1</td>\n      <td>22</td>\n      <td>7341448039</td>\n      <td>False</td>\n      <td>27</td>\n      <td>npc_dota_hero_shadow_shaman</td>\n      <td>Shadow Shaman</td>\n      <td>int</td>\n      <td>Ranged</td>\n      <td>[Support, Pusher, Disabler, Nuker, Initiator]</td>\n      <td>2</td>\n    </tr>\n    <tr>\n      <th>10558</th>\n      <td>27</td>\n      <td>0</td>\n      <td>22</td>\n      <td>7033635338</td>\n      <td>True</td>\n      <td>27</td>\n      <td>npc_dota_hero_shadow_shaman</td>\n      <td>Shadow Shaman</td>\n      <td>int</td>\n      <td>Ranged</td>\n      <td>[Support, Pusher, Disabler, Nuker, Initiator]</td>\n      <td>2</td>\n    </tr>\n    <tr>\n      <th>10559</th>\n      <td>27</td>\n      <td>0</td>\n      <td>15</td>\n      <td>7128914194</td>\n      <td>False</td>\n      <td>27</td>\n      <td>npc_dota_hero_shadow_shaman</td>\n      <td>Shadow Shaman</td>\n      <td>int</td>\n      <td>Ranged</td>\n      <td>[Support, Pusher, Disabler, Nuker, Initiator]</td>\n      <td>2</td>\n    </tr>\n  </tbody>\n</table>\n<p>10560 rows × 12 columns</p>\n</div>"
     },
     "execution_count": 49,
     "metadata": {},
     "output_type": "execute_result"
    }
   ],
   "source": [
    "# merge pick statistics with heroes\n",
    "matches_heroes = matches_heroes.merge(heroes, left_on='hero_id', right_on='id')\n",
    "matches_heroes"
   ]
  },
  {
   "cell_type": "markdown",
   "id": "7244bb7a-7bb5-4a6a-a1d2-d5f6fc960e7c",
   "metadata": {},
   "source": [
    "We want to look at how popular and how successful heroes are. We want to get the total number of wins, total number of picks, and average pick place (how early was a hero picked in the draft).\n",
    "\n",
    "We can treat booleans like integers here and so simply applying a sum to the `win` column tells us how many wins that hero has. Similarly, we can just count the column to get the total number of picks. Then all we need to do is take the mean of the `order` column and we have our data!\n",
    "\n",
    "Here we are applying the aggregation and then sorting by the number of wins (it looks a bit odd though - our column name that we are sorting by is... `('win', 'sum')`?)"
   ]
  },
  {
   "cell_type": "code",
   "execution_count": 50,
   "outputs": [
    {
     "data": {
      "text/plain": "     hero_id  team  order    match_id    win  id                         name  \\\n0         43     1      4  7102649472   True  43  npc_dota_hero_death_prophet   \n1         43     0      4  7102798112   True  43  npc_dota_hero_death_prophet   \n2         43     1     15  7103690699   True  43  npc_dota_hero_death_prophet   \n3         43     0      5  7101146267  False  43  npc_dota_hero_death_prophet   \n4         43     1      7  7101260263  False  43  npc_dota_hero_death_prophet   \n..       ...   ...    ...         ...    ...  ..                          ...   \n99        43     1      6  7126054805  False  43  npc_dota_hero_death_prophet   \n100       43     1     16  7128286493  False  43  npc_dota_hero_death_prophet   \n101       43     0     16  7224971628   True  43  npc_dota_hero_death_prophet   \n102       43     0     23  7232498660   True  43  npc_dota_hero_death_prophet   \n103       43     0     22  7225993831   True  43  npc_dota_hero_death_prophet   \n\n    localized_name primary_attr attack_type                             roles  \\\n0    Death Prophet          int      Ranged  [Carry, Pusher, Nuker, Disabler]   \n1    Death Prophet          int      Ranged  [Carry, Pusher, Nuker, Disabler]   \n2    Death Prophet          int      Ranged  [Carry, Pusher, Nuker, Disabler]   \n3    Death Prophet          int      Ranged  [Carry, Pusher, Nuker, Disabler]   \n4    Death Prophet          int      Ranged  [Carry, Pusher, Nuker, Disabler]   \n..             ...          ...         ...                               ...   \n99   Death Prophet          int      Ranged  [Carry, Pusher, Nuker, Disabler]   \n100  Death Prophet          int      Ranged  [Carry, Pusher, Nuker, Disabler]   \n101  Death Prophet          int      Ranged  [Carry, Pusher, Nuker, Disabler]   \n102  Death Prophet          int      Ranged  [Carry, Pusher, Nuker, Disabler]   \n103  Death Prophet          int      Ranged  [Carry, Pusher, Nuker, Disabler]   \n\n     legs  \n0       2  \n1       2  \n2       2  \n3       2  \n4       2  \n..    ...  \n99      2  \n100     2  \n101     2  \n102     2  \n103     2  \n\n[104 rows x 12 columns]",
      "text/html": "<div>\n<style scoped>\n    .dataframe tbody tr th:only-of-type {\n        vertical-align: middle;\n    }\n\n    .dataframe tbody tr th {\n        vertical-align: top;\n    }\n\n    .dataframe thead th {\n        text-align: right;\n    }\n</style>\n<table border=\"1\" class=\"dataframe\">\n  <thead>\n    <tr style=\"text-align: right;\">\n      <th></th>\n      <th>hero_id</th>\n      <th>team</th>\n      <th>order</th>\n      <th>match_id</th>\n      <th>win</th>\n      <th>id</th>\n      <th>name</th>\n      <th>localized_name</th>\n      <th>primary_attr</th>\n      <th>attack_type</th>\n      <th>roles</th>\n      <th>legs</th>\n    </tr>\n  </thead>\n  <tbody>\n    <tr>\n      <th>0</th>\n      <td>43</td>\n      <td>1</td>\n      <td>4</td>\n      <td>7102649472</td>\n      <td>True</td>\n      <td>43</td>\n      <td>npc_dota_hero_death_prophet</td>\n      <td>Death Prophet</td>\n      <td>int</td>\n      <td>Ranged</td>\n      <td>[Carry, Pusher, Nuker, Disabler]</td>\n      <td>2</td>\n    </tr>\n    <tr>\n      <th>1</th>\n      <td>43</td>\n      <td>0</td>\n      <td>4</td>\n      <td>7102798112</td>\n      <td>True</td>\n      <td>43</td>\n      <td>npc_dota_hero_death_prophet</td>\n      <td>Death Prophet</td>\n      <td>int</td>\n      <td>Ranged</td>\n      <td>[Carry, Pusher, Nuker, Disabler]</td>\n      <td>2</td>\n    </tr>\n    <tr>\n      <th>2</th>\n      <td>43</td>\n      <td>1</td>\n      <td>15</td>\n      <td>7103690699</td>\n      <td>True</td>\n      <td>43</td>\n      <td>npc_dota_hero_death_prophet</td>\n      <td>Death Prophet</td>\n      <td>int</td>\n      <td>Ranged</td>\n      <td>[Carry, Pusher, Nuker, Disabler]</td>\n      <td>2</td>\n    </tr>\n    <tr>\n      <th>3</th>\n      <td>43</td>\n      <td>0</td>\n      <td>5</td>\n      <td>7101146267</td>\n      <td>False</td>\n      <td>43</td>\n      <td>npc_dota_hero_death_prophet</td>\n      <td>Death Prophet</td>\n      <td>int</td>\n      <td>Ranged</td>\n      <td>[Carry, Pusher, Nuker, Disabler]</td>\n      <td>2</td>\n    </tr>\n    <tr>\n      <th>4</th>\n      <td>43</td>\n      <td>1</td>\n      <td>7</td>\n      <td>7101260263</td>\n      <td>False</td>\n      <td>43</td>\n      <td>npc_dota_hero_death_prophet</td>\n      <td>Death Prophet</td>\n      <td>int</td>\n      <td>Ranged</td>\n      <td>[Carry, Pusher, Nuker, Disabler]</td>\n      <td>2</td>\n    </tr>\n    <tr>\n      <th>...</th>\n      <td>...</td>\n      <td>...</td>\n      <td>...</td>\n      <td>...</td>\n      <td>...</td>\n      <td>...</td>\n      <td>...</td>\n      <td>...</td>\n      <td>...</td>\n      <td>...</td>\n      <td>...</td>\n      <td>...</td>\n    </tr>\n    <tr>\n      <th>99</th>\n      <td>43</td>\n      <td>1</td>\n      <td>6</td>\n      <td>7126054805</td>\n      <td>False</td>\n      <td>43</td>\n      <td>npc_dota_hero_death_prophet</td>\n      <td>Death Prophet</td>\n      <td>int</td>\n      <td>Ranged</td>\n      <td>[Carry, Pusher, Nuker, Disabler]</td>\n      <td>2</td>\n    </tr>\n    <tr>\n      <th>100</th>\n      <td>43</td>\n      <td>1</td>\n      <td>16</td>\n      <td>7128286493</td>\n      <td>False</td>\n      <td>43</td>\n      <td>npc_dota_hero_death_prophet</td>\n      <td>Death Prophet</td>\n      <td>int</td>\n      <td>Ranged</td>\n      <td>[Carry, Pusher, Nuker, Disabler]</td>\n      <td>2</td>\n    </tr>\n    <tr>\n      <th>101</th>\n      <td>43</td>\n      <td>0</td>\n      <td>16</td>\n      <td>7224971628</td>\n      <td>True</td>\n      <td>43</td>\n      <td>npc_dota_hero_death_prophet</td>\n      <td>Death Prophet</td>\n      <td>int</td>\n      <td>Ranged</td>\n      <td>[Carry, Pusher, Nuker, Disabler]</td>\n      <td>2</td>\n    </tr>\n    <tr>\n      <th>102</th>\n      <td>43</td>\n      <td>0</td>\n      <td>23</td>\n      <td>7232498660</td>\n      <td>True</td>\n      <td>43</td>\n      <td>npc_dota_hero_death_prophet</td>\n      <td>Death Prophet</td>\n      <td>int</td>\n      <td>Ranged</td>\n      <td>[Carry, Pusher, Nuker, Disabler]</td>\n      <td>2</td>\n    </tr>\n    <tr>\n      <th>103</th>\n      <td>43</td>\n      <td>0</td>\n      <td>22</td>\n      <td>7225993831</td>\n      <td>True</td>\n      <td>43</td>\n      <td>npc_dota_hero_death_prophet</td>\n      <td>Death Prophet</td>\n      <td>int</td>\n      <td>Ranged</td>\n      <td>[Carry, Pusher, Nuker, Disabler]</td>\n      <td>2</td>\n    </tr>\n  </tbody>\n</table>\n<p>104 rows × 12 columns</p>\n</div>"
     },
     "execution_count": 50,
     "metadata": {},
     "output_type": "execute_result"
    }
   ],
   "source": [
    "mask_death = matches_heroes.localized_name == 'Death Prophet'\n",
    "x = matches_heroes[mask_death]\n",
    "x"
   ],
   "metadata": {
    "collapsed": false,
    "ExecuteTime": {
     "end_time": "2023-10-25T20:52:11.304425Z",
     "start_time": "2023-10-25T20:52:11.299024Z"
    }
   },
   "id": "6c4fa50bd1f965ef"
  },
  {
   "cell_type": "code",
   "execution_count": 51,
   "outputs": [
    {
     "data": {
      "text/plain": "0.4807692307692308"
     },
     "execution_count": 51,
     "metadata": {},
     "output_type": "execute_result"
    }
   ],
   "source": [
    "50/104\n"
   ],
   "metadata": {
    "collapsed": false,
    "ExecuteTime": {
     "end_time": "2023-10-25T20:52:11.947760Z",
     "start_time": "2023-10-25T20:52:11.941656Z"
    }
   },
   "id": "ba1936927d5fccb2"
  },
  {
   "cell_type": "code",
   "execution_count": 52,
   "outputs": [
    {
     "ename": "NameError",
     "evalue": "name 'pick_da' is not defined",
     "output_type": "error",
     "traceback": [
      "\u001B[0;31m---------------------------------------------------------------------------\u001B[0m",
      "\u001B[0;31mNameError\u001B[0m                                 Traceback (most recent call last)",
      "Cell \u001B[0;32mIn[52], line 1\u001B[0m\n\u001B[0;32m----> 1\u001B[0m \u001B[43mpick_da\u001B[49m\n",
      "\u001B[0;31mNameError\u001B[0m: name 'pick_da' is not defined"
     ]
    }
   ],
   "source": [
    "pick_da"
   ],
   "metadata": {
    "collapsed": false,
    "ExecuteTime": {
     "end_time": "2023-10-25T20:52:12.432564Z",
     "start_time": "2023-10-25T20:52:12.375730Z"
    }
   },
   "id": "21238fbc9aa30da5"
  },
  {
   "cell_type": "code",
   "execution_count": 53,
   "id": "8cd4ee93-2c90-4503-9b3a-cc4ed441b4df",
   "metadata": {
    "ExecuteTime": {
     "end_time": "2023-10-25T20:52:12.891079Z",
     "start_time": "2023-10-25T20:52:12.867513Z"
    }
   },
   "outputs": [
    {
     "data": {
      "text/plain": "                    win            order\n                    sum count       mean\nlocalized_name                          \nRubick              184   388   9.969072\nUndying             145   275   7.472727\nDoom                141   267   8.599251\nEnchantress         140   270   7.888889\nEmber Spirit        130   251  14.685259\n...                 ...   ...        ...\nMeepo                 4     8  21.375000\nSlardar               4     7  22.714286\nOutworld Destroyer    3     6  20.500000\nArc Warden            1     6  20.333333\nShadow Shaman         1     3  19.666667\n\n[124 rows x 3 columns]",
      "text/html": "<div>\n<style scoped>\n    .dataframe tbody tr th:only-of-type {\n        vertical-align: middle;\n    }\n\n    .dataframe tbody tr th {\n        vertical-align: top;\n    }\n\n    .dataframe thead tr th {\n        text-align: left;\n    }\n\n    .dataframe thead tr:last-of-type th {\n        text-align: right;\n    }\n</style>\n<table border=\"1\" class=\"dataframe\">\n  <thead>\n    <tr>\n      <th></th>\n      <th colspan=\"2\" halign=\"left\">win</th>\n      <th>order</th>\n    </tr>\n    <tr>\n      <th></th>\n      <th>sum</th>\n      <th>count</th>\n      <th>mean</th>\n    </tr>\n    <tr>\n      <th>localized_name</th>\n      <th></th>\n      <th></th>\n      <th></th>\n    </tr>\n  </thead>\n  <tbody>\n    <tr>\n      <th>Rubick</th>\n      <td>184</td>\n      <td>388</td>\n      <td>9.969072</td>\n    </tr>\n    <tr>\n      <th>Undying</th>\n      <td>145</td>\n      <td>275</td>\n      <td>7.472727</td>\n    </tr>\n    <tr>\n      <th>Doom</th>\n      <td>141</td>\n      <td>267</td>\n      <td>8.599251</td>\n    </tr>\n    <tr>\n      <th>Enchantress</th>\n      <td>140</td>\n      <td>270</td>\n      <td>7.888889</td>\n    </tr>\n    <tr>\n      <th>Ember Spirit</th>\n      <td>130</td>\n      <td>251</td>\n      <td>14.685259</td>\n    </tr>\n    <tr>\n      <th>...</th>\n      <td>...</td>\n      <td>...</td>\n      <td>...</td>\n    </tr>\n    <tr>\n      <th>Meepo</th>\n      <td>4</td>\n      <td>8</td>\n      <td>21.375000</td>\n    </tr>\n    <tr>\n      <th>Slardar</th>\n      <td>4</td>\n      <td>7</td>\n      <td>22.714286</td>\n    </tr>\n    <tr>\n      <th>Outworld Destroyer</th>\n      <td>3</td>\n      <td>6</td>\n      <td>20.500000</td>\n    </tr>\n    <tr>\n      <th>Arc Warden</th>\n      <td>1</td>\n      <td>6</td>\n      <td>20.333333</td>\n    </tr>\n    <tr>\n      <th>Shadow Shaman</th>\n      <td>1</td>\n      <td>3</td>\n      <td>19.666667</td>\n    </tr>\n  </tbody>\n</table>\n<p>124 rows × 3 columns</p>\n</div>"
     },
     "execution_count": 53,
     "metadata": {},
     "output_type": "execute_result"
    }
   ],
   "source": [
    "# aggregate data\n",
    "aggregator = {\n",
    "    'win': ['sum', 'count'],\n",
    "    'order': ['mean'],\n",
    "}\n",
    "\n",
    "pick_data = matches_heroes.groupby('localized_name').agg(aggregator)\n",
    "\n",
    "pick_data.sort_values(by=('win', 'sum'), ascending=False)"
   ]
  },
  {
   "cell_type": "code",
   "execution_count": 53,
   "outputs": [],
   "source": [],
   "metadata": {
    "collapsed": false,
    "ExecuteTime": {
     "end_time": "2023-10-25T20:52:13.576570Z",
     "start_time": "2023-10-25T20:52:13.570212Z"
    }
   },
   "id": "3323717b98ebef3"
  },
  {
   "cell_type": "markdown",
   "source": [
    "## MY CODE BELOW "
   ],
   "metadata": {
    "collapsed": false
   },
   "id": "992d6af05530eff9"
  },
  {
   "cell_type": "markdown",
   "source": [
    "```# aggregate data\n",
    "aggregator = {\n",
    "    'win': ['sum', 'count'],\n",
    "    'order': ['mean'],\n",
    "}\n",
    "\n",
    "pick_data = matches_heroes.groupby('localized_name').agg(aggregator)\n",
    "\n",
    "pick_data.sort_values(by=('win', 'sum'), ascending=True)\n",
    "pick_data['index'] = ([i for i in range(0,124)])\n",
    "# pick_data.set_index('index',inplace=True)\n",
    "pick_data.sort_values(('win','sum'),ascending=False)\n",
    "sorted_data = pick_data.sort_values(by=('win', 'sum'), ascending=False)\n",
    "sorted_data\n",
    "```"
   ],
   "metadata": {
    "collapsed": false
   },
   "id": "13b38a1875b5df9e"
  },
  {
   "cell_type": "markdown",
   "id": "95890f91-36ef-4fc7-be11-731d5adacf33",
   "metadata": {},
   "source": [
    "Let's fix our columns - they are not the easiest to work with and we can be a little more descriptive. We then provide the same sorting as before to view the same data:"
   ]
  },
  {
   "cell_type": "code",
   "execution_count": 54,
   "id": "7fbb424c-7927-40c6-a147-907ba3ef5957",
   "metadata": {
    "ExecuteTime": {
     "end_time": "2023-10-25T20:52:15.858128Z",
     "start_time": "2023-10-25T20:52:15.830624Z"
    }
   },
   "outputs": [
    {
     "data": {
      "text/plain": "                wins  picks   avg_pick\nlocalized_name                        \nRubick           184    388   9.969072\nUndying          145    275   7.472727\nDoom             141    267   8.599251\nEnchantress      140    270   7.888889\nEmber Spirit     130    251  14.685259\nBeastmaster      129    245   9.938776\nPangolier        114    207  13.531401\nDisruptor        113    222  10.941441\nTechies          110    222   8.238739\nStorm Spirit     105    213  12.366197",
      "text/html": "<div>\n<style scoped>\n    .dataframe tbody tr th:only-of-type {\n        vertical-align: middle;\n    }\n\n    .dataframe tbody tr th {\n        vertical-align: top;\n    }\n\n    .dataframe thead th {\n        text-align: right;\n    }\n</style>\n<table border=\"1\" class=\"dataframe\">\n  <thead>\n    <tr style=\"text-align: right;\">\n      <th></th>\n      <th>wins</th>\n      <th>picks</th>\n      <th>avg_pick</th>\n    </tr>\n    <tr>\n      <th>localized_name</th>\n      <th></th>\n      <th></th>\n      <th></th>\n    </tr>\n  </thead>\n  <tbody>\n    <tr>\n      <th>Rubick</th>\n      <td>184</td>\n      <td>388</td>\n      <td>9.969072</td>\n    </tr>\n    <tr>\n      <th>Undying</th>\n      <td>145</td>\n      <td>275</td>\n      <td>7.472727</td>\n    </tr>\n    <tr>\n      <th>Doom</th>\n      <td>141</td>\n      <td>267</td>\n      <td>8.599251</td>\n    </tr>\n    <tr>\n      <th>Enchantress</th>\n      <td>140</td>\n      <td>270</td>\n      <td>7.888889</td>\n    </tr>\n    <tr>\n      <th>Ember Spirit</th>\n      <td>130</td>\n      <td>251</td>\n      <td>14.685259</td>\n    </tr>\n    <tr>\n      <th>Beastmaster</th>\n      <td>129</td>\n      <td>245</td>\n      <td>9.938776</td>\n    </tr>\n    <tr>\n      <th>Pangolier</th>\n      <td>114</td>\n      <td>207</td>\n      <td>13.531401</td>\n    </tr>\n    <tr>\n      <th>Disruptor</th>\n      <td>113</td>\n      <td>222</td>\n      <td>10.941441</td>\n    </tr>\n    <tr>\n      <th>Techies</th>\n      <td>110</td>\n      <td>222</td>\n      <td>8.238739</td>\n    </tr>\n    <tr>\n      <th>Storm Spirit</th>\n      <td>105</td>\n      <td>213</td>\n      <td>12.366197</td>\n    </tr>\n  </tbody>\n</table>\n</div>"
     },
     "execution_count": 54,
     "metadata": {},
     "output_type": "execute_result"
    }
   ],
   "source": [
    "# clean and sort pick data\n",
    "pick_data.columns = ['wins', 'picks', 'avg_pick']\n",
    "pick_data.sort_values(by='wins', ascending=False).head(10)\n"
   ]
  },
  {
   "cell_type": "markdown",
   "id": "e1f71c2e-46cc-48d3-b6ba-54fd96ff015b",
   "metadata": {},
   "source": [
    "From here we can do a lot! We can compute the win percentage of each hero; let's only select the heroes that have been selected 200 or more times (~20% of matches picked):"
   ]
  },
  {
   "cell_type": "code",
   "execution_count": 55,
   "id": "b392cb13-a93b-4a6d-8e6c-ab1f2cdcd264",
   "metadata": {
    "ExecuteTime": {
     "end_time": "2023-10-25T20:52:17.018181Z",
     "start_time": "2023-10-25T20:52:17.000420Z"
    }
   },
   "outputs": [
    {
     "data": {
      "text/plain": "                  wins  picks   avg_pick    win_pct\nlocalized_name                                     \nMedusa              78    128  10.015625  60.937500\nLeshrac             71    121  11.396694  58.677686\nTreant Protector    60    104   7.990385  57.692308\nBroodmother         63    110   9.263636  57.272727\nUnderlord           73    128  13.187500  57.031250\nPangolier          114    207  13.531401  55.072464\nEnigma              58    107  11.598131  54.205607\nVoid Spirit         63    117  15.470085  53.846154\nClockwerk           78    146  12.917808  53.424658\nPugna               81    152   8.250000  53.289474\nTiny                79    149  13.281879  53.020134\nSlark               63    119  15.739496  52.941176\nDoom               141    267   8.599251  52.808989\nUndying            145    275   7.472727  52.727273\nBeastmaster        129    245   9.938776  52.653061\nEnchantress        140    270   7.888889  51.851852\nEmber Spirit       130    251  14.685259  51.792829\nDark Seer           58    113  17.752212  51.327434\nBatrider            99    193   9.709845  51.295337\nSilencer            75    147  13.054422  51.020408",
      "text/html": "<div>\n<style scoped>\n    .dataframe tbody tr th:only-of-type {\n        vertical-align: middle;\n    }\n\n    .dataframe tbody tr th {\n        vertical-align: top;\n    }\n\n    .dataframe thead th {\n        text-align: right;\n    }\n</style>\n<table border=\"1\" class=\"dataframe\">\n  <thead>\n    <tr style=\"text-align: right;\">\n      <th></th>\n      <th>wins</th>\n      <th>picks</th>\n      <th>avg_pick</th>\n      <th>win_pct</th>\n    </tr>\n    <tr>\n      <th>localized_name</th>\n      <th></th>\n      <th></th>\n      <th></th>\n      <th></th>\n    </tr>\n  </thead>\n  <tbody>\n    <tr>\n      <th>Medusa</th>\n      <td>78</td>\n      <td>128</td>\n      <td>10.015625</td>\n      <td>60.937500</td>\n    </tr>\n    <tr>\n      <th>Leshrac</th>\n      <td>71</td>\n      <td>121</td>\n      <td>11.396694</td>\n      <td>58.677686</td>\n    </tr>\n    <tr>\n      <th>Treant Protector</th>\n      <td>60</td>\n      <td>104</td>\n      <td>7.990385</td>\n      <td>57.692308</td>\n    </tr>\n    <tr>\n      <th>Broodmother</th>\n      <td>63</td>\n      <td>110</td>\n      <td>9.263636</td>\n      <td>57.272727</td>\n    </tr>\n    <tr>\n      <th>Underlord</th>\n      <td>73</td>\n      <td>128</td>\n      <td>13.187500</td>\n      <td>57.031250</td>\n    </tr>\n    <tr>\n      <th>Pangolier</th>\n      <td>114</td>\n      <td>207</td>\n      <td>13.531401</td>\n      <td>55.072464</td>\n    </tr>\n    <tr>\n      <th>Enigma</th>\n      <td>58</td>\n      <td>107</td>\n      <td>11.598131</td>\n      <td>54.205607</td>\n    </tr>\n    <tr>\n      <th>Void Spirit</th>\n      <td>63</td>\n      <td>117</td>\n      <td>15.470085</td>\n      <td>53.846154</td>\n    </tr>\n    <tr>\n      <th>Clockwerk</th>\n      <td>78</td>\n      <td>146</td>\n      <td>12.917808</td>\n      <td>53.424658</td>\n    </tr>\n    <tr>\n      <th>Pugna</th>\n      <td>81</td>\n      <td>152</td>\n      <td>8.250000</td>\n      <td>53.289474</td>\n    </tr>\n    <tr>\n      <th>Tiny</th>\n      <td>79</td>\n      <td>149</td>\n      <td>13.281879</td>\n      <td>53.020134</td>\n    </tr>\n    <tr>\n      <th>Slark</th>\n      <td>63</td>\n      <td>119</td>\n      <td>15.739496</td>\n      <td>52.941176</td>\n    </tr>\n    <tr>\n      <th>Doom</th>\n      <td>141</td>\n      <td>267</td>\n      <td>8.599251</td>\n      <td>52.808989</td>\n    </tr>\n    <tr>\n      <th>Undying</th>\n      <td>145</td>\n      <td>275</td>\n      <td>7.472727</td>\n      <td>52.727273</td>\n    </tr>\n    <tr>\n      <th>Beastmaster</th>\n      <td>129</td>\n      <td>245</td>\n      <td>9.938776</td>\n      <td>52.653061</td>\n    </tr>\n    <tr>\n      <th>Enchantress</th>\n      <td>140</td>\n      <td>270</td>\n      <td>7.888889</td>\n      <td>51.851852</td>\n    </tr>\n    <tr>\n      <th>Ember Spirit</th>\n      <td>130</td>\n      <td>251</td>\n      <td>14.685259</td>\n      <td>51.792829</td>\n    </tr>\n    <tr>\n      <th>Dark Seer</th>\n      <td>58</td>\n      <td>113</td>\n      <td>17.752212</td>\n      <td>51.327434</td>\n    </tr>\n    <tr>\n      <th>Batrider</th>\n      <td>99</td>\n      <td>193</td>\n      <td>9.709845</td>\n      <td>51.295337</td>\n    </tr>\n    <tr>\n      <th>Silencer</th>\n      <td>75</td>\n      <td>147</td>\n      <td>13.054422</td>\n      <td>51.020408</td>\n    </tr>\n  </tbody>\n</table>\n</div>"
     },
     "execution_count": 55,
     "metadata": {},
     "output_type": "execute_result"
    }
   ],
   "source": [
    "# add win_pct column to pick data\n",
    "pick_data['win_pct'] = 100.0*pick_data.wins/pick_data.picks\n",
    "pick_data[pick_data.picks >= 100].sort_values(by=['win_pct', 'picks'], ascending=False).head(20)"
   ]
  },
  {
   "cell_type": "markdown",
   "id": "61694157-76dc-4526-89ab-28d4e1278a0c",
   "metadata": {},
   "source": [
    "Or we can sort by `avg_pick` to figure out how eagerly some heroes are selected! The lower the average pick, the earlier the hero was selected."
   ]
  },
  {
   "cell_type": "code",
   "execution_count": 56,
   "id": "ff310f3d-5e33-498f-a843-e2f2609e662c",
   "metadata": {
    "ExecuteTime": {
     "end_time": "2023-10-25T20:52:18.667628Z",
     "start_time": "2023-10-25T20:52:18.663915Z"
    }
   },
   "outputs": [
    {
     "data": {
      "text/plain": "                wins  picks   avg_pick    win_pct\nlocalized_name                                   \nUndying          145    275   7.472727  52.727273\nEnchantress      140    270   7.888889  51.851852\nTechies          110    222   8.238739  49.549550\nDoom             141    267   8.599251  52.808989\nBeastmaster      129    245   9.938776  52.653061\nRubick           184    388   9.969072  47.422680\nDisruptor        113    222  10.941441  50.900901\nMorphling         96    201  11.532338  47.761194\nStorm Spirit     105    213  12.366197  49.295775\nPangolier        114    207  13.531401  55.072464",
      "text/html": "<div>\n<style scoped>\n    .dataframe tbody tr th:only-of-type {\n        vertical-align: middle;\n    }\n\n    .dataframe tbody tr th {\n        vertical-align: top;\n    }\n\n    .dataframe thead th {\n        text-align: right;\n    }\n</style>\n<table border=\"1\" class=\"dataframe\">\n  <thead>\n    <tr style=\"text-align: right;\">\n      <th></th>\n      <th>wins</th>\n      <th>picks</th>\n      <th>avg_pick</th>\n      <th>win_pct</th>\n    </tr>\n    <tr>\n      <th>localized_name</th>\n      <th></th>\n      <th></th>\n      <th></th>\n      <th></th>\n    </tr>\n  </thead>\n  <tbody>\n    <tr>\n      <th>Undying</th>\n      <td>145</td>\n      <td>275</td>\n      <td>7.472727</td>\n      <td>52.727273</td>\n    </tr>\n    <tr>\n      <th>Enchantress</th>\n      <td>140</td>\n      <td>270</td>\n      <td>7.888889</td>\n      <td>51.851852</td>\n    </tr>\n    <tr>\n      <th>Techies</th>\n      <td>110</td>\n      <td>222</td>\n      <td>8.238739</td>\n      <td>49.549550</td>\n    </tr>\n    <tr>\n      <th>Doom</th>\n      <td>141</td>\n      <td>267</td>\n      <td>8.599251</td>\n      <td>52.808989</td>\n    </tr>\n    <tr>\n      <th>Beastmaster</th>\n      <td>129</td>\n      <td>245</td>\n      <td>9.938776</td>\n      <td>52.653061</td>\n    </tr>\n    <tr>\n      <th>Rubick</th>\n      <td>184</td>\n      <td>388</td>\n      <td>9.969072</td>\n      <td>47.422680</td>\n    </tr>\n    <tr>\n      <th>Disruptor</th>\n      <td>113</td>\n      <td>222</td>\n      <td>10.941441</td>\n      <td>50.900901</td>\n    </tr>\n    <tr>\n      <th>Morphling</th>\n      <td>96</td>\n      <td>201</td>\n      <td>11.532338</td>\n      <td>47.761194</td>\n    </tr>\n    <tr>\n      <th>Storm Spirit</th>\n      <td>105</td>\n      <td>213</td>\n      <td>12.366197</td>\n      <td>49.295775</td>\n    </tr>\n    <tr>\n      <th>Pangolier</th>\n      <td>114</td>\n      <td>207</td>\n      <td>13.531401</td>\n      <td>55.072464</td>\n    </tr>\n  </tbody>\n</table>\n</div>"
     },
     "execution_count": 56,
     "metadata": {},
     "output_type": "execute_result"
    }
   ],
   "source": [
    "# sort pick data by the avg_pick\n",
    "pick_data[pick_data.picks > 200].sort_values(by='avg_pick').head(10)"
   ]
  },
  {
   "cell_type": "markdown",
   "id": "ce89e047-2475-4b3e-8bf5-931689850e0f",
   "metadata": {},
   "source": [
    "## Bans\n",
    "\n",
    "Something we explicitly cut out of the above analysis is the *ban* aspect of the hero selection data. In competitive matches, not only are heroes picked, but they are also *banned*. When a hero is banned, they cannot be selected by either team. Some teams may be exceptionalyl adept at playing certain heroes and so the other team may want to remove those heroes from the game. Or perhaps a team is susceptible to a particular hero, so they ban that hero. Or perhaps a hero is known to be exceptionally powerful and difficult to play against, and so a team decides to ban that hero simply so that no one can have them.\n",
    "\n",
    "We want to perform the above analysis, but instead of looking at picks and win percentages, we want to take a look at how often heroes are banned.\n",
    "\n",
    "Follow along with the steps below:"
   ]
  },
  {
   "cell_type": "markdown",
   "id": "a2a3d741-a0c2-4878-9999-76986364f578",
   "metadata": {},
   "source": [
    "Create a new data frame named `matches_banned_heroes` very similar to our `matches_heroes` data frame, except we want to only work with the heroes that have been banned! This requires us to negate `picks_bans.is_pick`. This data set also does not benefit from having a `win` column, and so we do not need to produce that for this part."
   ]
  },
  {
   "cell_type": "markdown",
   "id": "ac30fcbf",
   "metadata": {},
   "source": [
    "## <span style = \"color:red\">We add the ~sign to negate the picks_bans: See the comment in the tab</span>"
   ]
  },
  {
   "cell_type": "code",
   "execution_count": 57,
   "id": "5ffc551e-3299-4669-83e1-03da671e00b8",
   "metadata": {
    "ExecuteTime": {
     "end_time": "2023-10-25T20:52:20.918387Z",
     "start_time": "2023-10-25T20:52:20.331098Z"
    }
   },
   "outputs": [
    {
     "data": {
      "text/plain": "       hero_id  team  order    match_id\n0           87     1      0  7102649472\n1           65     0      1  7102649472\n2           51     1      2  7102649472\n3           61     0      3  7102649472\n4            6     1      8  7102649472\n...        ...   ...    ...         ...\n14778        9     0     13  7223294867\n14779       82     1     18  7223294867\n14780        4     0     19  7223294867\n14781       12     1     20  7223294867\n14782       46     0     21  7223294867\n\n[14783 rows x 4 columns]",
      "text/html": "<div>\n<style scoped>\n    .dataframe tbody tr th:only-of-type {\n        vertical-align: middle;\n    }\n\n    .dataframe tbody tr th {\n        vertical-align: top;\n    }\n\n    .dataframe thead th {\n        text-align: right;\n    }\n</style>\n<table border=\"1\" class=\"dataframe\">\n  <thead>\n    <tr style=\"text-align: right;\">\n      <th></th>\n      <th>hero_id</th>\n      <th>team</th>\n      <th>order</th>\n      <th>match_id</th>\n    </tr>\n  </thead>\n  <tbody>\n    <tr>\n      <th>0</th>\n      <td>87</td>\n      <td>1</td>\n      <td>0</td>\n      <td>7102649472</td>\n    </tr>\n    <tr>\n      <th>1</th>\n      <td>65</td>\n      <td>0</td>\n      <td>1</td>\n      <td>7102649472</td>\n    </tr>\n    <tr>\n      <th>2</th>\n      <td>51</td>\n      <td>1</td>\n      <td>2</td>\n      <td>7102649472</td>\n    </tr>\n    <tr>\n      <th>3</th>\n      <td>61</td>\n      <td>0</td>\n      <td>3</td>\n      <td>7102649472</td>\n    </tr>\n    <tr>\n      <th>4</th>\n      <td>6</td>\n      <td>1</td>\n      <td>8</td>\n      <td>7102649472</td>\n    </tr>\n    <tr>\n      <th>...</th>\n      <td>...</td>\n      <td>...</td>\n      <td>...</td>\n      <td>...</td>\n    </tr>\n    <tr>\n      <th>14778</th>\n      <td>9</td>\n      <td>0</td>\n      <td>13</td>\n      <td>7223294867</td>\n    </tr>\n    <tr>\n      <th>14779</th>\n      <td>82</td>\n      <td>1</td>\n      <td>18</td>\n      <td>7223294867</td>\n    </tr>\n    <tr>\n      <th>14780</th>\n      <td>4</td>\n      <td>0</td>\n      <td>19</td>\n      <td>7223294867</td>\n    </tr>\n    <tr>\n      <th>14781</th>\n      <td>12</td>\n      <td>1</td>\n      <td>20</td>\n      <td>7223294867</td>\n    </tr>\n    <tr>\n      <th>14782</th>\n      <td>46</td>\n      <td>0</td>\n      <td>21</td>\n      <td>7223294867</td>\n    </tr>\n  </tbody>\n</table>\n<p>14783 rows × 4 columns</p>\n</div>"
     },
     "execution_count": 57,
     "metadata": {},
     "output_type": "execute_result"
    }
   ],
   "source": [
    "# get ban statistics\n",
    "# build out pick statistics\n",
    "def get_baned_hero_statistics(match_data):\n",
    "    picks_bans = pd.DataFrame(match_data.picks_bans)\n",
    "    # We added ~ which means not picked\n",
    "    bans = picks_bans[~picks_bans.is_pick].drop(['is_pick'], axis=1)\n",
    "    bans['match_id'] = match_data.match_id\n",
    "    return bans.reset_index(drop=True)\n",
    "\n",
    "\n",
    "# We are telling the pandas to strip the data and send the values after applying the applied selection. \n",
    "# Here we are getting a slice of the data and we apply the get_hero_statistics function to each row. \n",
    "# Axis= 1 means apply to the row and axis =0 means apply to each col\n",
    "banned_matches_heroes = matches[['match_id', 'radiant_win', 'picks_bans']].apply(get_baned_hero_statistics, axis=1)\n",
    "banned_matches_heroes = pd.concat(banned_matches_heroes.tolist(), ignore_index=True)\n",
    "banned_matches_heroes\n"
   ]
  },
  {
   "cell_type": "markdown",
   "id": "c5f27903-e053-4997-8c6a-c81066c42280",
   "metadata": {},
   "source": [
    "Next we will merge `matches_banned_heroes` with our `heroes` data frame from before just as we did when working with the previous pieces of data. Here we can just overwrite `matches_banned_heroes` with the merged data."
   ]
  },
  {
   "cell_type": "code",
   "execution_count": 58,
   "id": "61159cca-764c-4fe6-a4ee-664b22c2e665",
   "metadata": {
    "ExecuteTime": {
     "end_time": "2023-10-25T20:52:22.449144Z",
     "start_time": "2023-10-25T20:52:22.412251Z"
    }
   },
   "outputs": [
    {
     "data": {
      "text/plain": "       hero_id  team  order    match_id  id                     name  \\\n0           87     1      0  7102649472  87  npc_dota_hero_disruptor   \n1           87     0      8  7114527708  87  npc_dota_hero_disruptor   \n2           87     0      3  7102222768  87  npc_dota_hero_disruptor   \n3           87     0      0  7099972924  87  npc_dota_hero_disruptor   \n4           87     1      8  7099579762  87  npc_dota_hero_disruptor   \n...        ...   ...    ...         ...  ..                      ...   \n14778       16     1     21  7130880883  16  npc_dota_hero_sand_king   \n14779       16     1     19  7127536763  16  npc_dota_hero_sand_king   \n14780       63     1     12  7034090902  63     npc_dota_hero_weaver   \n14781       63     1     18  7032319356  63     npc_dota_hero_weaver   \n14782       63     1     18  7134156892  63     npc_dota_hero_weaver   \n\n      localized_name primary_attr attack_type  \\\n0          Disruptor          int      Ranged   \n1          Disruptor          int      Ranged   \n2          Disruptor          int      Ranged   \n3          Disruptor          int      Ranged   \n4          Disruptor          int      Ranged   \n...              ...          ...         ...   \n14778      Sand King          all       Melee   \n14779      Sand King          all       Melee   \n14780         Weaver          agi      Ranged   \n14781         Weaver          agi      Ranged   \n14782         Weaver          agi      Ranged   \n\n                                               roles  legs  \n0              [Support, Disabler, Nuker, Initiator]     2  \n1              [Support, Disabler, Nuker, Initiator]     2  \n2              [Support, Disabler, Nuker, Initiator]     2  \n3              [Support, Disabler, Nuker, Initiator]     2  \n4              [Support, Disabler, Nuker, Initiator]     2  \n...                                              ...   ...  \n14778  [Initiator, Disabler, Support, Nuker, Escape]     6  \n14779  [Initiator, Disabler, Support, Nuker, Escape]     6  \n14780                                [Carry, Escape]     4  \n14781                                [Carry, Escape]     4  \n14782                                [Carry, Escape]     4  \n\n[14783 rows x 11 columns]",
      "text/html": "<div>\n<style scoped>\n    .dataframe tbody tr th:only-of-type {\n        vertical-align: middle;\n    }\n\n    .dataframe tbody tr th {\n        vertical-align: top;\n    }\n\n    .dataframe thead th {\n        text-align: right;\n    }\n</style>\n<table border=\"1\" class=\"dataframe\">\n  <thead>\n    <tr style=\"text-align: right;\">\n      <th></th>\n      <th>hero_id</th>\n      <th>team</th>\n      <th>order</th>\n      <th>match_id</th>\n      <th>id</th>\n      <th>name</th>\n      <th>localized_name</th>\n      <th>primary_attr</th>\n      <th>attack_type</th>\n      <th>roles</th>\n      <th>legs</th>\n    </tr>\n  </thead>\n  <tbody>\n    <tr>\n      <th>0</th>\n      <td>87</td>\n      <td>1</td>\n      <td>0</td>\n      <td>7102649472</td>\n      <td>87</td>\n      <td>npc_dota_hero_disruptor</td>\n      <td>Disruptor</td>\n      <td>int</td>\n      <td>Ranged</td>\n      <td>[Support, Disabler, Nuker, Initiator]</td>\n      <td>2</td>\n    </tr>\n    <tr>\n      <th>1</th>\n      <td>87</td>\n      <td>0</td>\n      <td>8</td>\n      <td>7114527708</td>\n      <td>87</td>\n      <td>npc_dota_hero_disruptor</td>\n      <td>Disruptor</td>\n      <td>int</td>\n      <td>Ranged</td>\n      <td>[Support, Disabler, Nuker, Initiator]</td>\n      <td>2</td>\n    </tr>\n    <tr>\n      <th>2</th>\n      <td>87</td>\n      <td>0</td>\n      <td>3</td>\n      <td>7102222768</td>\n      <td>87</td>\n      <td>npc_dota_hero_disruptor</td>\n      <td>Disruptor</td>\n      <td>int</td>\n      <td>Ranged</td>\n      <td>[Support, Disabler, Nuker, Initiator]</td>\n      <td>2</td>\n    </tr>\n    <tr>\n      <th>3</th>\n      <td>87</td>\n      <td>0</td>\n      <td>0</td>\n      <td>7099972924</td>\n      <td>87</td>\n      <td>npc_dota_hero_disruptor</td>\n      <td>Disruptor</td>\n      <td>int</td>\n      <td>Ranged</td>\n      <td>[Support, Disabler, Nuker, Initiator]</td>\n      <td>2</td>\n    </tr>\n    <tr>\n      <th>4</th>\n      <td>87</td>\n      <td>1</td>\n      <td>8</td>\n      <td>7099579762</td>\n      <td>87</td>\n      <td>npc_dota_hero_disruptor</td>\n      <td>Disruptor</td>\n      <td>int</td>\n      <td>Ranged</td>\n      <td>[Support, Disabler, Nuker, Initiator]</td>\n      <td>2</td>\n    </tr>\n    <tr>\n      <th>...</th>\n      <td>...</td>\n      <td>...</td>\n      <td>...</td>\n      <td>...</td>\n      <td>...</td>\n      <td>...</td>\n      <td>...</td>\n      <td>...</td>\n      <td>...</td>\n      <td>...</td>\n      <td>...</td>\n    </tr>\n    <tr>\n      <th>14778</th>\n      <td>16</td>\n      <td>1</td>\n      <td>21</td>\n      <td>7130880883</td>\n      <td>16</td>\n      <td>npc_dota_hero_sand_king</td>\n      <td>Sand King</td>\n      <td>all</td>\n      <td>Melee</td>\n      <td>[Initiator, Disabler, Support, Nuker, Escape]</td>\n      <td>6</td>\n    </tr>\n    <tr>\n      <th>14779</th>\n      <td>16</td>\n      <td>1</td>\n      <td>19</td>\n      <td>7127536763</td>\n      <td>16</td>\n      <td>npc_dota_hero_sand_king</td>\n      <td>Sand King</td>\n      <td>all</td>\n      <td>Melee</td>\n      <td>[Initiator, Disabler, Support, Nuker, Escape]</td>\n      <td>6</td>\n    </tr>\n    <tr>\n      <th>14780</th>\n      <td>63</td>\n      <td>1</td>\n      <td>12</td>\n      <td>7034090902</td>\n      <td>63</td>\n      <td>npc_dota_hero_weaver</td>\n      <td>Weaver</td>\n      <td>agi</td>\n      <td>Ranged</td>\n      <td>[Carry, Escape]</td>\n      <td>4</td>\n    </tr>\n    <tr>\n      <th>14781</th>\n      <td>63</td>\n      <td>1</td>\n      <td>18</td>\n      <td>7032319356</td>\n      <td>63</td>\n      <td>npc_dota_hero_weaver</td>\n      <td>Weaver</td>\n      <td>agi</td>\n      <td>Ranged</td>\n      <td>[Carry, Escape]</td>\n      <td>4</td>\n    </tr>\n    <tr>\n      <th>14782</th>\n      <td>63</td>\n      <td>1</td>\n      <td>18</td>\n      <td>7134156892</td>\n      <td>63</td>\n      <td>npc_dota_hero_weaver</td>\n      <td>Weaver</td>\n      <td>agi</td>\n      <td>Ranged</td>\n      <td>[Carry, Escape]</td>\n      <td>4</td>\n    </tr>\n  </tbody>\n</table>\n<p>14783 rows × 11 columns</p>\n</div>"
     },
     "execution_count": 58,
     "metadata": {},
     "output_type": "execute_result"
    }
   ],
   "source": [
    "# merge with heroes\n",
    "\n",
    "banned_matches_heroes = banned_matches_heroes.merge(heroes, left_on='hero_id', right_on='id')\n",
    "banned_matches_heroes"
   ]
  },
  {
   "cell_type": "markdown",
   "id": "30c835b7-5789-4edd-926f-dd3e039b30ee",
   "metadata": {},
   "source": [
    "With our ban data ready we can group `matches_banned_heroes` by the `localized_name` and then apply a `count` aggregation to the `id` column. This will produce a series object with the total number of bans per hero (the heroes' localized names will appear in the index). We can save off these counts in new variable named `ban_data`.\n",
    "\n",
    "We will also want to ensure that `ban_data` is a data frame and not a series - we can use the following to ensure it is a dataframe with the proper column names:"
   ]
  },
  {
   "cell_type": "markdown",
   "id": "7726c4d3",
   "metadata": {},
   "source": [
    "# QUIZ: find the band_ hero that is not showing the below list "
   ]
  },
  {
   "cell_type": "code",
   "execution_count": 59,
   "outputs": [
    {
     "data": {
      "text/plain": "      hero_id  team  order    match_id   id                   name  \\\n6373      102     0     19  7102222768  102  npc_dota_hero_abaddon   \n6374      102     1      8  7101034046  102  npc_dota_hero_abaddon   \n6375      102     0     13  7106552618  102  npc_dota_hero_abaddon   \n6376      102     0     21  7109052186  102  npc_dota_hero_abaddon   \n6377      102     0     19  7107181645  102  npc_dota_hero_abaddon   \n6378      102     0     19  7106669131  102  npc_dota_hero_abaddon   \n6379      102     1     18  7103597529  102  npc_dota_hero_abaddon   \n6380      102     1     12  7100074419  102  npc_dota_hero_abaddon   \n6381      102     0     20  7102221587  102  npc_dota_hero_abaddon   \n6382      102     0     11  7100186680  102  npc_dota_hero_abaddon   \n6383      102     1     20  7101279005  102  npc_dota_hero_abaddon   \n6384      102     0     10  7101416940  102  npc_dota_hero_abaddon   \n6385      102     1     20  7199658675  102  npc_dota_hero_abaddon   \n6386      102     0     12  7198748421  102  npc_dota_hero_abaddon   \n6387      102     1     20  7197642359  102  npc_dota_hero_abaddon   \n6388      102     1     21  7199729347  102  npc_dota_hero_abaddon   \n6389      102     0     19  7197557486  102  npc_dota_hero_abaddon   \n6390      102     1     20  7198959000  102  npc_dota_hero_abaddon   \n6391      102     1     11  7030737913  102  npc_dota_hero_abaddon   \n6392      102     1     10  7039601182  102  npc_dota_hero_abaddon   \n6393      102     0     18  7126508226  102  npc_dota_hero_abaddon   \n\n     localized_name primary_attr attack_type                      roles  legs  \n6373        Abaddon          all       Melee  [Support, Carry, Durable]     2  \n6374        Abaddon          all       Melee  [Support, Carry, Durable]     2  \n6375        Abaddon          all       Melee  [Support, Carry, Durable]     2  \n6376        Abaddon          all       Melee  [Support, Carry, Durable]     2  \n6377        Abaddon          all       Melee  [Support, Carry, Durable]     2  \n6378        Abaddon          all       Melee  [Support, Carry, Durable]     2  \n6379        Abaddon          all       Melee  [Support, Carry, Durable]     2  \n6380        Abaddon          all       Melee  [Support, Carry, Durable]     2  \n6381        Abaddon          all       Melee  [Support, Carry, Durable]     2  \n6382        Abaddon          all       Melee  [Support, Carry, Durable]     2  \n6383        Abaddon          all       Melee  [Support, Carry, Durable]     2  \n6384        Abaddon          all       Melee  [Support, Carry, Durable]     2  \n6385        Abaddon          all       Melee  [Support, Carry, Durable]     2  \n6386        Abaddon          all       Melee  [Support, Carry, Durable]     2  \n6387        Abaddon          all       Melee  [Support, Carry, Durable]     2  \n6388        Abaddon          all       Melee  [Support, Carry, Durable]     2  \n6389        Abaddon          all       Melee  [Support, Carry, Durable]     2  \n6390        Abaddon          all       Melee  [Support, Carry, Durable]     2  \n6391        Abaddon          all       Melee  [Support, Carry, Durable]     2  \n6392        Abaddon          all       Melee  [Support, Carry, Durable]     2  \n6393        Abaddon          all       Melee  [Support, Carry, Durable]     2  ",
      "text/html": "<div>\n<style scoped>\n    .dataframe tbody tr th:only-of-type {\n        vertical-align: middle;\n    }\n\n    .dataframe tbody tr th {\n        vertical-align: top;\n    }\n\n    .dataframe thead th {\n        text-align: right;\n    }\n</style>\n<table border=\"1\" class=\"dataframe\">\n  <thead>\n    <tr style=\"text-align: right;\">\n      <th></th>\n      <th>hero_id</th>\n      <th>team</th>\n      <th>order</th>\n      <th>match_id</th>\n      <th>id</th>\n      <th>name</th>\n      <th>localized_name</th>\n      <th>primary_attr</th>\n      <th>attack_type</th>\n      <th>roles</th>\n      <th>legs</th>\n    </tr>\n  </thead>\n  <tbody>\n    <tr>\n      <th>6373</th>\n      <td>102</td>\n      <td>0</td>\n      <td>19</td>\n      <td>7102222768</td>\n      <td>102</td>\n      <td>npc_dota_hero_abaddon</td>\n      <td>Abaddon</td>\n      <td>all</td>\n      <td>Melee</td>\n      <td>[Support, Carry, Durable]</td>\n      <td>2</td>\n    </tr>\n    <tr>\n      <th>6374</th>\n      <td>102</td>\n      <td>1</td>\n      <td>8</td>\n      <td>7101034046</td>\n      <td>102</td>\n      <td>npc_dota_hero_abaddon</td>\n      <td>Abaddon</td>\n      <td>all</td>\n      <td>Melee</td>\n      <td>[Support, Carry, Durable]</td>\n      <td>2</td>\n    </tr>\n    <tr>\n      <th>6375</th>\n      <td>102</td>\n      <td>0</td>\n      <td>13</td>\n      <td>7106552618</td>\n      <td>102</td>\n      <td>npc_dota_hero_abaddon</td>\n      <td>Abaddon</td>\n      <td>all</td>\n      <td>Melee</td>\n      <td>[Support, Carry, Durable]</td>\n      <td>2</td>\n    </tr>\n    <tr>\n      <th>6376</th>\n      <td>102</td>\n      <td>0</td>\n      <td>21</td>\n      <td>7109052186</td>\n      <td>102</td>\n      <td>npc_dota_hero_abaddon</td>\n      <td>Abaddon</td>\n      <td>all</td>\n      <td>Melee</td>\n      <td>[Support, Carry, Durable]</td>\n      <td>2</td>\n    </tr>\n    <tr>\n      <th>6377</th>\n      <td>102</td>\n      <td>0</td>\n      <td>19</td>\n      <td>7107181645</td>\n      <td>102</td>\n      <td>npc_dota_hero_abaddon</td>\n      <td>Abaddon</td>\n      <td>all</td>\n      <td>Melee</td>\n      <td>[Support, Carry, Durable]</td>\n      <td>2</td>\n    </tr>\n    <tr>\n      <th>6378</th>\n      <td>102</td>\n      <td>0</td>\n      <td>19</td>\n      <td>7106669131</td>\n      <td>102</td>\n      <td>npc_dota_hero_abaddon</td>\n      <td>Abaddon</td>\n      <td>all</td>\n      <td>Melee</td>\n      <td>[Support, Carry, Durable]</td>\n      <td>2</td>\n    </tr>\n    <tr>\n      <th>6379</th>\n      <td>102</td>\n      <td>1</td>\n      <td>18</td>\n      <td>7103597529</td>\n      <td>102</td>\n      <td>npc_dota_hero_abaddon</td>\n      <td>Abaddon</td>\n      <td>all</td>\n      <td>Melee</td>\n      <td>[Support, Carry, Durable]</td>\n      <td>2</td>\n    </tr>\n    <tr>\n      <th>6380</th>\n      <td>102</td>\n      <td>1</td>\n      <td>12</td>\n      <td>7100074419</td>\n      <td>102</td>\n      <td>npc_dota_hero_abaddon</td>\n      <td>Abaddon</td>\n      <td>all</td>\n      <td>Melee</td>\n      <td>[Support, Carry, Durable]</td>\n      <td>2</td>\n    </tr>\n    <tr>\n      <th>6381</th>\n      <td>102</td>\n      <td>0</td>\n      <td>20</td>\n      <td>7102221587</td>\n      <td>102</td>\n      <td>npc_dota_hero_abaddon</td>\n      <td>Abaddon</td>\n      <td>all</td>\n      <td>Melee</td>\n      <td>[Support, Carry, Durable]</td>\n      <td>2</td>\n    </tr>\n    <tr>\n      <th>6382</th>\n      <td>102</td>\n      <td>0</td>\n      <td>11</td>\n      <td>7100186680</td>\n      <td>102</td>\n      <td>npc_dota_hero_abaddon</td>\n      <td>Abaddon</td>\n      <td>all</td>\n      <td>Melee</td>\n      <td>[Support, Carry, Durable]</td>\n      <td>2</td>\n    </tr>\n    <tr>\n      <th>6383</th>\n      <td>102</td>\n      <td>1</td>\n      <td>20</td>\n      <td>7101279005</td>\n      <td>102</td>\n      <td>npc_dota_hero_abaddon</td>\n      <td>Abaddon</td>\n      <td>all</td>\n      <td>Melee</td>\n      <td>[Support, Carry, Durable]</td>\n      <td>2</td>\n    </tr>\n    <tr>\n      <th>6384</th>\n      <td>102</td>\n      <td>0</td>\n      <td>10</td>\n      <td>7101416940</td>\n      <td>102</td>\n      <td>npc_dota_hero_abaddon</td>\n      <td>Abaddon</td>\n      <td>all</td>\n      <td>Melee</td>\n      <td>[Support, Carry, Durable]</td>\n      <td>2</td>\n    </tr>\n    <tr>\n      <th>6385</th>\n      <td>102</td>\n      <td>1</td>\n      <td>20</td>\n      <td>7199658675</td>\n      <td>102</td>\n      <td>npc_dota_hero_abaddon</td>\n      <td>Abaddon</td>\n      <td>all</td>\n      <td>Melee</td>\n      <td>[Support, Carry, Durable]</td>\n      <td>2</td>\n    </tr>\n    <tr>\n      <th>6386</th>\n      <td>102</td>\n      <td>0</td>\n      <td>12</td>\n      <td>7198748421</td>\n      <td>102</td>\n      <td>npc_dota_hero_abaddon</td>\n      <td>Abaddon</td>\n      <td>all</td>\n      <td>Melee</td>\n      <td>[Support, Carry, Durable]</td>\n      <td>2</td>\n    </tr>\n    <tr>\n      <th>6387</th>\n      <td>102</td>\n      <td>1</td>\n      <td>20</td>\n      <td>7197642359</td>\n      <td>102</td>\n      <td>npc_dota_hero_abaddon</td>\n      <td>Abaddon</td>\n      <td>all</td>\n      <td>Melee</td>\n      <td>[Support, Carry, Durable]</td>\n      <td>2</td>\n    </tr>\n    <tr>\n      <th>6388</th>\n      <td>102</td>\n      <td>1</td>\n      <td>21</td>\n      <td>7199729347</td>\n      <td>102</td>\n      <td>npc_dota_hero_abaddon</td>\n      <td>Abaddon</td>\n      <td>all</td>\n      <td>Melee</td>\n      <td>[Support, Carry, Durable]</td>\n      <td>2</td>\n    </tr>\n    <tr>\n      <th>6389</th>\n      <td>102</td>\n      <td>0</td>\n      <td>19</td>\n      <td>7197557486</td>\n      <td>102</td>\n      <td>npc_dota_hero_abaddon</td>\n      <td>Abaddon</td>\n      <td>all</td>\n      <td>Melee</td>\n      <td>[Support, Carry, Durable]</td>\n      <td>2</td>\n    </tr>\n    <tr>\n      <th>6390</th>\n      <td>102</td>\n      <td>1</td>\n      <td>20</td>\n      <td>7198959000</td>\n      <td>102</td>\n      <td>npc_dota_hero_abaddon</td>\n      <td>Abaddon</td>\n      <td>all</td>\n      <td>Melee</td>\n      <td>[Support, Carry, Durable]</td>\n      <td>2</td>\n    </tr>\n    <tr>\n      <th>6391</th>\n      <td>102</td>\n      <td>1</td>\n      <td>11</td>\n      <td>7030737913</td>\n      <td>102</td>\n      <td>npc_dota_hero_abaddon</td>\n      <td>Abaddon</td>\n      <td>all</td>\n      <td>Melee</td>\n      <td>[Support, Carry, Durable]</td>\n      <td>2</td>\n    </tr>\n    <tr>\n      <th>6392</th>\n      <td>102</td>\n      <td>1</td>\n      <td>10</td>\n      <td>7039601182</td>\n      <td>102</td>\n      <td>npc_dota_hero_abaddon</td>\n      <td>Abaddon</td>\n      <td>all</td>\n      <td>Melee</td>\n      <td>[Support, Carry, Durable]</td>\n      <td>2</td>\n    </tr>\n    <tr>\n      <th>6393</th>\n      <td>102</td>\n      <td>0</td>\n      <td>18</td>\n      <td>7126508226</td>\n      <td>102</td>\n      <td>npc_dota_hero_abaddon</td>\n      <td>Abaddon</td>\n      <td>all</td>\n      <td>Melee</td>\n      <td>[Support, Carry, Durable]</td>\n      <td>2</td>\n    </tr>\n  </tbody>\n</table>\n</div>"
     },
     "execution_count": 59,
     "metadata": {},
     "output_type": "execute_result"
    }
   ],
   "source": [
    "banned_matches_heroes[banned_matches_heroes.localized_name == 'Abaddon']"
   ],
   "metadata": {
    "collapsed": false,
    "ExecuteTime": {
     "end_time": "2023-10-25T20:52:25.194191Z",
     "start_time": "2023-10-25T20:52:25.169613Z"
    }
   },
   "id": "7c6bb0123e3f7586"
  },
  {
   "cell_type": "code",
   "execution_count": 60,
   "id": "25c66b85-c8c8-458f-a160-439048c3c3fb",
   "metadata": {
    "ExecuteTime": {
     "end_time": "2023-10-25T20:52:25.987167Z",
     "start_time": "2023-10-25T20:52:25.983740Z"
    }
   },
   "outputs": [
    {
     "data": {
      "text/plain": "                    bans\nlocalized_name          \nAbaddon               21\nAlchemist            116\nAncient Apparition    47\nAnti-Mage            251\nArc Warden             4\n...                  ...\nWindranger            68\nWinter Wyvern         18\nWitch Doctor          11\nWraith King           10\nZeus                  58\n\n[123 rows x 1 columns]",
      "text/html": "<div>\n<style scoped>\n    .dataframe tbody tr th:only-of-type {\n        vertical-align: middle;\n    }\n\n    .dataframe tbody tr th {\n        vertical-align: top;\n    }\n\n    .dataframe thead th {\n        text-align: right;\n    }\n</style>\n<table border=\"1\" class=\"dataframe\">\n  <thead>\n    <tr style=\"text-align: right;\">\n      <th></th>\n      <th>bans</th>\n    </tr>\n    <tr>\n      <th>localized_name</th>\n      <th></th>\n    </tr>\n  </thead>\n  <tbody>\n    <tr>\n      <th>Abaddon</th>\n      <td>21</td>\n    </tr>\n    <tr>\n      <th>Alchemist</th>\n      <td>116</td>\n    </tr>\n    <tr>\n      <th>Ancient Apparition</th>\n      <td>47</td>\n    </tr>\n    <tr>\n      <th>Anti-Mage</th>\n      <td>251</td>\n    </tr>\n    <tr>\n      <th>Arc Warden</th>\n      <td>4</td>\n    </tr>\n    <tr>\n      <th>...</th>\n      <td>...</td>\n    </tr>\n    <tr>\n      <th>Windranger</th>\n      <td>68</td>\n    </tr>\n    <tr>\n      <th>Winter Wyvern</th>\n      <td>18</td>\n    </tr>\n    <tr>\n      <th>Witch Doctor</th>\n      <td>11</td>\n    </tr>\n    <tr>\n      <th>Wraith King</th>\n      <td>10</td>\n    </tr>\n    <tr>\n      <th>Zeus</th>\n      <td>58</td>\n    </tr>\n  </tbody>\n</table>\n<p>123 rows × 1 columns</p>\n</div>"
     },
     "execution_count": 60,
     "metadata": {},
     "output_type": "execute_result"
    }
   ],
   "source": [
    "ban_data = banned_matches_heroes.groupby('localized_name').id.count().to_frame()\n",
    "ban_data.columns = ['bans']\n",
    "ban_data"
   ]
  },
  {
   "cell_type": "code",
   "execution_count": 61,
   "outputs": [
    {
     "name": "stdout",
     "output_type": "stream",
     "text": [
      "Shadow Shaman\n"
     ]
    }
   ],
   "source": [
    "for i in heroes.localized_name:\n",
    "    if i not in ban_data.index:\n",
    "        print(i)"
   ],
   "metadata": {
    "collapsed": false,
    "ExecuteTime": {
     "end_time": "2023-10-25T20:52:26.594152Z",
     "start_time": "2023-10-25T20:52:26.588668Z"
    }
   },
   "id": "db415cd72b9fb725"
  },
  {
   "cell_type": "markdown",
   "id": "d1c76e92-a5ef-480b-a60f-7dac9755eaf7",
   "metadata": {},
   "source": [
    "Next we want to grab the 10 most banned heroes - we can do this by sorting `ban_data` descending and then taking 10 values from the `head` of the resulting data frame."
   ]
  },
  {
   "cell_type": "code",
   "execution_count": 62,
   "id": "3b591844-86c1-4c3c-aca6-50f67f564be1",
   "metadata": {
    "ExecuteTime": {
     "end_time": "2023-10-25T20:52:27.696598Z",
     "start_time": "2023-10-25T20:52:27.674377Z"
    }
   },
   "outputs": [
    {
     "data": {
      "text/plain": "                bans\nlocalized_name      \nPangolier        473\nBroodmother      470\nBatrider         468\nBeastmaster      454\nDoom             379\nNaga Siren       377\nEnchantress      361\nTimbersaw        361\nBloodseeker      359\nEmber Spirit     353",
      "text/html": "<div>\n<style scoped>\n    .dataframe tbody tr th:only-of-type {\n        vertical-align: middle;\n    }\n\n    .dataframe tbody tr th {\n        vertical-align: top;\n    }\n\n    .dataframe thead th {\n        text-align: right;\n    }\n</style>\n<table border=\"1\" class=\"dataframe\">\n  <thead>\n    <tr style=\"text-align: right;\">\n      <th></th>\n      <th>bans</th>\n    </tr>\n    <tr>\n      <th>localized_name</th>\n      <th></th>\n    </tr>\n  </thead>\n  <tbody>\n    <tr>\n      <th>Pangolier</th>\n      <td>473</td>\n    </tr>\n    <tr>\n      <th>Broodmother</th>\n      <td>470</td>\n    </tr>\n    <tr>\n      <th>Batrider</th>\n      <td>468</td>\n    </tr>\n    <tr>\n      <th>Beastmaster</th>\n      <td>454</td>\n    </tr>\n    <tr>\n      <th>Doom</th>\n      <td>379</td>\n    </tr>\n    <tr>\n      <th>Naga Siren</th>\n      <td>377</td>\n    </tr>\n    <tr>\n      <th>Enchantress</th>\n      <td>361</td>\n    </tr>\n    <tr>\n      <th>Timbersaw</th>\n      <td>361</td>\n    </tr>\n    <tr>\n      <th>Bloodseeker</th>\n      <td>359</td>\n    </tr>\n    <tr>\n      <th>Ember Spirit</th>\n      <td>353</td>\n    </tr>\n  </tbody>\n</table>\n</div>"
     },
     "execution_count": 62,
     "metadata": {},
     "output_type": "execute_result"
    }
   ],
   "source": [
    "# sort ban data\n",
    "# most_banned_heroes = ban_data.sort_values(by='bans',ascending=False).head(10)\n",
    "most_banned_heroes = ban_data.sort_values(by='bans',ascending=False).head(10)\n",
    "most_banned_heroes"
   ]
  },
  {
   "cell_type": "markdown",
   "id": "a4a87bac-af9e-4e20-8a7e-b632d0e3f42d",
   "metadata": {},
   "source": [
    "## Putting it all Together\n",
    "\n",
    "Next we want to extract the performance of the 10 most banned heroes and merge that with the pick data from the first section (`pick_data`)."
   ]
  },
  {
   "cell_type": "code",
   "execution_count": 63,
   "id": "3be3f4d6-6e11-4a0f-ab20-a1290fd6518b",
   "metadata": {
    "ExecuteTime": {
     "end_time": "2023-10-25T20:52:34.298043Z",
     "start_time": "2023-10-25T20:52:34.281035Z"
    }
   },
   "outputs": [
    {
     "data": {
      "text/plain": "                bans  wins  picks   avg_pick    win_pct\nlocalized_name                                         \nPangolier        473   114    207  13.531401  55.072464\nBroodmother      470    63    110   9.263636  57.272727\nBatrider         468    99    193   9.709845  51.295337\nBeastmaster      454   129    245   9.938776  52.653061\nDoom             379   141    267   8.599251  52.808989\nNaga Siren       377    54    110  15.254545  49.090909\nEnchantress      361   140    270   7.888889  51.851852\nTimbersaw        361    71    150  10.780000  47.333333\nBloodseeker      359    70    139  15.482014  50.359712\nEmber Spirit     353   130    251  14.685259  51.792829",
      "text/html": "<div>\n<style scoped>\n    .dataframe tbody tr th:only-of-type {\n        vertical-align: middle;\n    }\n\n    .dataframe tbody tr th {\n        vertical-align: top;\n    }\n\n    .dataframe thead th {\n        text-align: right;\n    }\n</style>\n<table border=\"1\" class=\"dataframe\">\n  <thead>\n    <tr style=\"text-align: right;\">\n      <th></th>\n      <th>bans</th>\n      <th>wins</th>\n      <th>picks</th>\n      <th>avg_pick</th>\n      <th>win_pct</th>\n    </tr>\n    <tr>\n      <th>localized_name</th>\n      <th></th>\n      <th></th>\n      <th></th>\n      <th></th>\n      <th></th>\n    </tr>\n  </thead>\n  <tbody>\n    <tr>\n      <th>Pangolier</th>\n      <td>473</td>\n      <td>114</td>\n      <td>207</td>\n      <td>13.531401</td>\n      <td>55.072464</td>\n    </tr>\n    <tr>\n      <th>Broodmother</th>\n      <td>470</td>\n      <td>63</td>\n      <td>110</td>\n      <td>9.263636</td>\n      <td>57.272727</td>\n    </tr>\n    <tr>\n      <th>Batrider</th>\n      <td>468</td>\n      <td>99</td>\n      <td>193</td>\n      <td>9.709845</td>\n      <td>51.295337</td>\n    </tr>\n    <tr>\n      <th>Beastmaster</th>\n      <td>454</td>\n      <td>129</td>\n      <td>245</td>\n      <td>9.938776</td>\n      <td>52.653061</td>\n    </tr>\n    <tr>\n      <th>Doom</th>\n      <td>379</td>\n      <td>141</td>\n      <td>267</td>\n      <td>8.599251</td>\n      <td>52.808989</td>\n    </tr>\n    <tr>\n      <th>Naga Siren</th>\n      <td>377</td>\n      <td>54</td>\n      <td>110</td>\n      <td>15.254545</td>\n      <td>49.090909</td>\n    </tr>\n    <tr>\n      <th>Enchantress</th>\n      <td>361</td>\n      <td>140</td>\n      <td>270</td>\n      <td>7.888889</td>\n      <td>51.851852</td>\n    </tr>\n    <tr>\n      <th>Timbersaw</th>\n      <td>361</td>\n      <td>71</td>\n      <td>150</td>\n      <td>10.780000</td>\n      <td>47.333333</td>\n    </tr>\n    <tr>\n      <th>Bloodseeker</th>\n      <td>359</td>\n      <td>70</td>\n      <td>139</td>\n      <td>15.482014</td>\n      <td>50.359712</td>\n    </tr>\n    <tr>\n      <th>Ember Spirit</th>\n      <td>353</td>\n      <td>130</td>\n      <td>251</td>\n      <td>14.685259</td>\n      <td>51.792829</td>\n    </tr>\n  </tbody>\n</table>\n</div>"
     },
     "execution_count": 63,
     "metadata": {},
     "output_type": "execute_result"
    }
   ],
   "source": [
    "most_banned_hero_performances = most_banned_heroes.merge(\n",
    "    pick_data,\n",
    "    left_index=True,\n",
    "    right_index=True\n",
    ")\n",
    "most_banned_hero_performances"
   ]
  },
  {
   "cell_type": "markdown",
   "id": "9d8695b1-9c19-4970-b72d-b979eaebb884",
   "metadata": {},
   "source": [
    "Now we can scatter this data, putting the `picks` on the x, `bans` on the y, and coloring by `win_pct` (it is also a good idea to use a different colormap (`cmap`) as the default is not the most useful)."
   ]
  },
  {
   "cell_type": "code",
   "execution_count": 64,
   "id": "9b0d06a3-2293-4f9c-a410-3df2399ee5fc",
   "metadata": {
    "ExecuteTime": {
     "end_time": "2023-10-25T20:52:36.316894Z",
     "start_time": "2023-10-25T20:52:36.172320Z"
    }
   },
   "outputs": [
    {
     "data": {},
     "metadata": {},
     "output_type": "display_data"
    },
    {
     "data": {
      "text/html": "<div id='p1064'>\n  <div id=\"db652ee0-4f67-4210-b1d9-9a383e93a522\" data-root-id=\"p1064\" style=\"display: contents;\"></div>\n</div>\n<script type=\"application/javascript\">(function(root) {\n  var docs_json = {\"03e68252-a280-4c42-ad68-29e7fc383847\":{\"version\":\"3.2.2\",\"title\":\"Bokeh Application\",\"roots\":[{\"type\":\"object\",\"name\":\"Row\",\"id\":\"p1064\",\"attributes\":{\"name\":\"Row01116\",\"tags\":[\"embedded\"],\"stylesheets\":[\"\\n:host(.pn-loading.pn-arc):before, .pn-loading.pn-arc:before {\\n  background-image: url(\\\"data:image/svg+xml;base64,PHN2ZyB4bWxucz0iaHR0cDovL3d3dy53My5vcmcvMjAwMC9zdmciIHN0eWxlPSJtYXJnaW46IGF1dG87IGJhY2tncm91bmQ6IG5vbmU7IGRpc3BsYXk6IGJsb2NrOyBzaGFwZS1yZW5kZXJpbmc6IGF1dG87IiB2aWV3Qm94PSIwIDAgMTAwIDEwMCIgcHJlc2VydmVBc3BlY3RSYXRpbz0ieE1pZFlNaWQiPiAgPGNpcmNsZSBjeD0iNTAiIGN5PSI1MCIgZmlsbD0ibm9uZSIgc3Ryb2tlPSIjYzNjM2MzIiBzdHJva2Utd2lkdGg9IjEwIiByPSIzNSIgc3Ryb2tlLWRhc2hhcnJheT0iMTY0LjkzMzYxNDMxMzQ2NDE1IDU2Ljk3Nzg3MTQzNzgyMTM4Ij4gICAgPGFuaW1hdGVUcmFuc2Zvcm0gYXR0cmlidXRlTmFtZT0idHJhbnNmb3JtIiB0eXBlPSJyb3RhdGUiIHJlcGVhdENvdW50PSJpbmRlZmluaXRlIiBkdXI9IjFzIiB2YWx1ZXM9IjAgNTAgNTA7MzYwIDUwIDUwIiBrZXlUaW1lcz0iMDsxIj48L2FuaW1hdGVUcmFuc2Zvcm0+ICA8L2NpcmNsZT48L3N2Zz4=\\\");\\n  background-size: auto calc(min(50%, 400px));\\n}\",{\"type\":\"object\",\"name\":\"ImportedStyleSheet\",\"id\":\"p1067\",\"attributes\":{\"url\":\"https://cdn.holoviz.org/panel/1.2.3/dist/css/loading.css\"}},{\"type\":\"object\",\"name\":\"ImportedStyleSheet\",\"id\":\"p1120\",\"attributes\":{\"url\":\"https://cdn.holoviz.org/panel/1.2.3/dist/css/listpanel.css\"}},{\"type\":\"object\",\"name\":\"ImportedStyleSheet\",\"id\":\"p1065\",\"attributes\":{\"url\":\"https://cdn.holoviz.org/panel/1.2.3/dist/bundled/theme/default.css\"}},{\"type\":\"object\",\"name\":\"ImportedStyleSheet\",\"id\":\"p1066\",\"attributes\":{\"url\":\"https://cdn.holoviz.org/panel/1.2.3/dist/bundled/theme/native.css\"}}],\"min_width\":768,\"margin\":0,\"sizing_mode\":\"stretch_width\",\"align\":\"start\",\"children\":[{\"type\":\"object\",\"name\":\"Spacer\",\"id\":\"p1068\",\"attributes\":{\"name\":\"HSpacer01127\",\"stylesheets\":[\"\\n:host(.pn-loading.pn-arc):before, .pn-loading.pn-arc:before {\\n  background-image: url(\\\"data:image/svg+xml;base64,PHN2ZyB4bWxucz0iaHR0cDovL3d3dy53My5vcmcvMjAwMC9zdmciIHN0eWxlPSJtYXJnaW46IGF1dG87IGJhY2tncm91bmQ6IG5vbmU7IGRpc3BsYXk6IGJsb2NrOyBzaGFwZS1yZW5kZXJpbmc6IGF1dG87IiB2aWV3Qm94PSIwIDAgMTAwIDEwMCIgcHJlc2VydmVBc3BlY3RSYXRpbz0ieE1pZFlNaWQiPiAgPGNpcmNsZSBjeD0iNTAiIGN5PSI1MCIgZmlsbD0ibm9uZSIgc3Ryb2tlPSIjYzNjM2MzIiBzdHJva2Utd2lkdGg9IjEwIiByPSIzNSIgc3Ryb2tlLWRhc2hhcnJheT0iMTY0LjkzMzYxNDMxMzQ2NDE1IDU2Ljk3Nzg3MTQzNzgyMTM4Ij4gICAgPGFuaW1hdGVUcmFuc2Zvcm0gYXR0cmlidXRlTmFtZT0idHJhbnNmb3JtIiB0eXBlPSJyb3RhdGUiIHJlcGVhdENvdW50PSJpbmRlZmluaXRlIiBkdXI9IjFzIiB2YWx1ZXM9IjAgNTAgNTA7MzYwIDUwIDUwIiBrZXlUaW1lcz0iMDsxIj48L2FuaW1hdGVUcmFuc2Zvcm0+ICA8L2NpcmNsZT48L3N2Zz4=\\\");\\n  background-size: auto calc(min(50%, 400px));\\n}\",{\"id\":\"p1067\"},{\"id\":\"p1065\"},{\"id\":\"p1066\"}],\"margin\":0,\"sizing_mode\":\"stretch_width\",\"align\":\"start\"}},{\"type\":\"object\",\"name\":\"Figure\",\"id\":\"p1074\",\"attributes\":{\"width\":768,\"height\":512,\"margin\":[5,10],\"sizing_mode\":\"fixed\",\"align\":\"start\",\"x_range\":{\"type\":\"object\",\"name\":\"Range1d\",\"id\":\"p1069\",\"attributes\":{\"tags\":[[[\"picks\",\"picks\",null]],[]],\"start\":99.33333333333333,\"end\":280.6666666666667,\"reset_start\":99.33333333333333,\"reset_end\":280.6666666666667}},\"y_range\":{\"type\":\"object\",\"name\":\"Range1d\",\"id\":\"p1070\",\"attributes\":{\"tags\":[[[\"bans\",\"bans\",null]],{\"type\":\"map\",\"entries\":[[\"invert_yaxis\",false],[\"autorange\",false]]}],\"start\":341.0,\"end\":485.0,\"reset_start\":341.0,\"reset_end\":485.0}},\"x_scale\":{\"type\":\"object\",\"name\":\"LinearScale\",\"id\":\"p1084\"},\"y_scale\":{\"type\":\"object\",\"name\":\"LinearScale\",\"id\":\"p1085\"},\"title\":{\"type\":\"object\",\"name\":\"Title\",\"id\":\"p1077\",\"attributes\":{\"text_color\":\"black\",\"text_font_size\":\"12pt\"}},\"renderers\":[{\"type\":\"object\",\"name\":\"GlyphRenderer\",\"id\":\"p1111\",\"attributes\":{\"data_source\":{\"type\":\"object\",\"name\":\"ColumnDataSource\",\"id\":\"p1100\",\"attributes\":{\"selected\":{\"type\":\"object\",\"name\":\"Selection\",\"id\":\"p1101\",\"attributes\":{\"indices\":[],\"line_indices\":[]}},\"selection_policy\":{\"type\":\"object\",\"name\":\"UnionRenderers\",\"id\":\"p1102\"},\"data\":{\"type\":\"map\",\"entries\":[[\"picks\",{\"type\":\"ndarray\",\"array\":{\"type\":\"bytes\",\"data\":\"zwAAAG4AAADBAAAA9QAAAAsBAABuAAAADgEAAJYAAACLAAAA+wAAAA==\"},\"shape\":[10],\"dtype\":\"int32\",\"order\":\"little\"}],[\"bans\",{\"type\":\"ndarray\",\"array\":{\"type\":\"bytes\",\"data\":\"2QEAANYBAADUAQAAxgEAAHsBAAB5AQAAaQEAAGkBAABnAQAAYQEAAA==\"},\"shape\":[10],\"dtype\":\"int32\",\"order\":\"little\"}],[\"win_pct\",{\"type\":\"ndarray\",\"array\":{\"type\":\"bytes\",\"data\":\"+RklfkaJS0Cjiy666KJMQLzyiZjNpUlAFbycgpdTSkDGM57xjGdKQIwuuuiii0hA0V5CewntSUCrqqqqqqpHQMVf5AwLLklAS0INaXvlSUA=\"},\"shape\":[10],\"dtype\":\"float64\",\"order\":\"little\"}],[\"localized_name\",[\"Pangolier\",\"Broodmother\",\"Batrider\",\"Beastmaster\",\"Doom\",\"Naga Siren\",\"Enchantress\",\"Timbersaw\",\"Bloodseeker\",\"Ember Spirit\"]],[\"color\",{\"type\":\"ndarray\",\"array\":{\"type\":\"bytes\",\"data\":\"+RklfkaJS0Cjiy666KJMQLzyiZjNpUlAFbycgpdTSkDGM57xjGdKQIwuuuiii0hA0V5CewntSUCrqqqqqqpHQMVf5AwLLklAS0INaXvlSUA=\"},\"shape\":[10],\"dtype\":\"float64\",\"order\":\"little\"}]]}}},\"view\":{\"type\":\"object\",\"name\":\"CDSView\",\"id\":\"p1112\",\"attributes\":{\"filter\":{\"type\":\"object\",\"name\":\"AllIndices\",\"id\":\"p1113\"}}},\"glyph\":{\"type\":\"object\",\"name\":\"Scatter\",\"id\":\"p1106\",\"attributes\":{\"tags\":[\"apply_ranges\"],\"x\":{\"type\":\"field\",\"field\":\"picks\"},\"y\":{\"type\":\"field\",\"field\":\"bans\"},\"size\":{\"type\":\"value\",\"value\":5.477225575051661},\"line_color\":{\"type\":\"field\",\"field\":\"color\",\"transform\":{\"type\":\"object\",\"name\":\"LinearColorMapper\",\"id\":\"p1099\",\"attributes\":{\"palette\":[\"#b3fef5\",\"#b0fef5\",\"#adfdf5\",\"#a9fcf5\",\"#a6fbf6\",\"#a3faf6\",\"#a0faf6\",\"#9df9f6\",\"#9af8f6\",\"#97f7f6\",\"#93f7f6\",\"#90f6f6\",\"#8df5f6\",\"#8af4f7\",\"#87f3f7\",\"#83f2f7\",\"#80f2f7\",\"#7df1f7\",\"#79f0f7\",\"#76eff7\",\"#73eef7\",\"#6fedf8\",\"#6cecf8\",\"#68ecf8\",\"#65ebf8\",\"#61eaf8\",\"#5ee9f8\",\"#5ae8f8\",\"#57e7f8\",\"#53e6f8\",\"#50e5f9\",\"#4ce4f9\",\"#49e3f9\",\"#45e2f9\",\"#42e1f9\",\"#3ee0f9\",\"#3bdff9\",\"#38def9\",\"#35ddf9\",\"#32dcf9\",\"#30dbfa\",\"#2ed9fa\",\"#2dd8fa\",\"#2cd7fa\",\"#2bd6fa\",\"#2bd5fa\",\"#2ad3fa\",\"#2ad2fa\",\"#29d1fa\",\"#29d0fb\",\"#29cffb\",\"#28cdfb\",\"#28ccfb\",\"#28cbfb\",\"#28cafb\",\"#28c8fb\",\"#28c7fb\",\"#29c6fb\",\"#29c5fb\",\"#29c4fb\",\"#29c2fb\",\"#2ac1fb\",\"#2ac0fb\",\"#2bbffb\",\"#2bbdfc\",\"#2cbcfc\",\"#2dbbfc\",\"#2db9fc\",\"#2eb8fc\",\"#2fb7fc\",\"#2fb6fc\",\"#30b4fc\",\"#31b3fc\",\"#32b2fc\",\"#32b0fc\",\"#33affc\",\"#33aefc\",\"#34adfc\",\"#34abfc\",\"#34aafc\",\"#35a9fc\",\"#35a8fc\",\"#35a6fc\",\"#35a5fc\",\"#35a4fc\",\"#35a3fc\",\"#35a1fc\",\"#35a0fc\",\"#359ffc\",\"#359dfc\",\"#359cfc\",\"#359bfc\",\"#349afd\",\"#3498fd\",\"#3497fd\",\"#3396fd\",\"#3395fd\",\"#3293fd\",\"#3292fd\",\"#3191fd\",\"#3090fd\",\"#308ffd\",\"#2f8dfd\",\"#2f8cfd\",\"#2e8bfd\",\"#2e8afd\",\"#2d88fd\",\"#2d87fd\",\"#2c86fd\",\"#2c84fd\",\"#2c83fd\",\"#2c82fd\",\"#2b81fd\",\"#2b7ffd\",\"#2b7efd\",\"#2b7dfd\",\"#2b7bfd\",\"#2b7afd\",\"#2b79fd\",\"#2b77fd\",\"#2b76fd\",\"#2b75fd\",\"#2b73fd\",\"#2c72fd\",\"#2c71fd\",\"#2c6ffd\",\"#2c6efd\",\"#2d6cfd\",\"#2d6bfd\",\"#2d6afc\",\"#2e68fc\",\"#2e67fc\",\"#2e65fc\",\"#2e64fc\",\"#2f62fc\",\"#2f61fc\",\"#2f5ffc\",\"#2f5efc\",\"#2f5dfc\",\"#2f5bfc\",\"#2f5afc\",\"#2f58fb\",\"#2f57fb\",\"#2f55fb\",\"#2f53fb\",\"#2f52fb\",\"#2f50fb\",\"#2f4ffb\",\"#2f4dfb\",\"#2e4cfb\",\"#2e4afb\",\"#2e48fb\",\"#2e47fa\",\"#2d45fa\",\"#2d43fa\",\"#2d42fa\",\"#2d40fa\",\"#2c3efa\",\"#2c3dfa\",\"#2b3bf9\",\"#2b39f9\",\"#2a37f9\",\"#2a36f8\",\"#2934f8\",\"#2832f7\",\"#2831f7\",\"#272ff6\",\"#262ef5\",\"#252cf5\",\"#252af4\",\"#2429f3\",\"#2327f2\",\"#2226f1\",\"#2124f0\",\"#2023ef\",\"#1f22ee\",\"#1e20ed\",\"#1d1feb\",\"#1c1eea\",\"#1b1ce9\",\"#1a1be7\",\"#181ae6\",\"#1719e5\",\"#1618e3\",\"#1417e1\",\"#1316e0\",\"#1215de\",\"#1014dc\",\"#0f13db\",\"#0e12d9\",\"#0d11d7\",\"#0c10d5\",\"#0b0fd3\",\"#0a0ed1\",\"#090dd0\",\"#080dce\",\"#080ccc\",\"#070bca\",\"#070ac8\",\"#0709c6\",\"#0708c4\",\"#0707c2\",\"#0707bf\",\"#0806bd\",\"#0806bb\",\"#0905b9\",\"#0904b7\",\"#0a04b5\",\"#0a04b2\",\"#0b03b0\",\"#0c03ae\",\"#0d02ab\",\"#0e02a9\",\"#0e02a7\",\"#0f02a4\",\"#0f01a2\",\"#1001a0\",\"#10019d\",\"#10019b\",\"#100199\",\"#100197\",\"#100194\",\"#0f0192\",\"#0f0190\",\"#0f018e\",\"#0e018b\",\"#0e0189\",\"#0d0187\",\"#0d0185\",\"#0c0183\",\"#0b0181\",\"#0b017e\",\"#0a017c\",\"#09017a\",\"#090178\",\"#080276\",\"#070274\",\"#060272\",\"#060270\",\"#05026e\",\"#04026c\",\"#030269\",\"#030267\",\"#020265\",\"#010263\",\"#010261\",\"#00025f\",\"#00025d\",\"#00025b\",\"#000259\",\"#000257\",\"#000255\",\"#000154\",\"#000152\",\"#000150\",\"#00004e\"],\"low\":47.333333333333336,\"high\":57.27272727272727}}},\"fill_color\":{\"type\":\"field\",\"field\":\"color\",\"transform\":{\"id\":\"p1099\"}},\"hatch_color\":{\"type\":\"field\",\"field\":\"color\",\"transform\":{\"id\":\"p1099\"}}}},\"selection_glyph\":{\"type\":\"object\",\"name\":\"Scatter\",\"id\":\"p1108\",\"attributes\":{\"tags\":[\"apply_ranges\"],\"x\":{\"type\":\"field\",\"field\":\"picks\"},\"y\":{\"type\":\"field\",\"field\":\"bans\"},\"size\":{\"type\":\"value\",\"value\":5.477225575051661},\"line_color\":{\"type\":\"field\",\"field\":\"color\",\"transform\":{\"id\":\"p1099\"}},\"fill_color\":{\"type\":\"field\",\"field\":\"color\",\"transform\":{\"id\":\"p1099\"}},\"hatch_color\":{\"type\":\"field\",\"field\":\"color\",\"transform\":{\"id\":\"p1099\"}}}},\"nonselection_glyph\":{\"type\":\"object\",\"name\":\"Scatter\",\"id\":\"p1107\",\"attributes\":{\"tags\":[\"apply_ranges\"],\"x\":{\"type\":\"field\",\"field\":\"picks\"},\"y\":{\"type\":\"field\",\"field\":\"bans\"},\"size\":{\"type\":\"value\",\"value\":5.477225575051661},\"line_color\":{\"type\":\"field\",\"field\":\"color\",\"transform\":{\"id\":\"p1099\"}},\"line_alpha\":{\"type\":\"value\",\"value\":0.1},\"fill_color\":{\"type\":\"field\",\"field\":\"color\",\"transform\":{\"id\":\"p1099\"}},\"fill_alpha\":{\"type\":\"value\",\"value\":0.1},\"hatch_color\":{\"type\":\"field\",\"field\":\"color\",\"transform\":{\"id\":\"p1099\"}},\"hatch_alpha\":{\"type\":\"value\",\"value\":0.1}}},\"hover_glyph\":{\"type\":\"object\",\"name\":\"Scatter\",\"id\":\"p1109\",\"attributes\":{\"tags\":[\"apply_ranges\"],\"x\":{\"type\":\"field\",\"field\":\"picks\"},\"y\":{\"type\":\"field\",\"field\":\"bans\"},\"size\":{\"type\":\"value\",\"value\":5.477225575051661},\"line_color\":{\"type\":\"field\",\"field\":\"color\",\"transform\":{\"id\":\"p1099\"}},\"fill_color\":{\"type\":\"field\",\"field\":\"color\",\"transform\":{\"id\":\"p1099\"}},\"hatch_color\":{\"type\":\"field\",\"field\":\"color\",\"transform\":{\"id\":\"p1099\"}}}},\"muted_glyph\":{\"type\":\"object\",\"name\":\"Scatter\",\"id\":\"p1110\",\"attributes\":{\"tags\":[\"apply_ranges\"],\"x\":{\"type\":\"field\",\"field\":\"picks\"},\"y\":{\"type\":\"field\",\"field\":\"bans\"},\"size\":{\"type\":\"value\",\"value\":5.477225575051661},\"line_color\":{\"type\":\"field\",\"field\":\"color\",\"transform\":{\"id\":\"p1099\"}},\"line_alpha\":{\"type\":\"value\",\"value\":0.2},\"fill_color\":{\"type\":\"field\",\"field\":\"color\",\"transform\":{\"id\":\"p1099\"}},\"fill_alpha\":{\"type\":\"value\",\"value\":0.2},\"hatch_color\":{\"type\":\"field\",\"field\":\"color\",\"transform\":{\"id\":\"p1099\"}},\"hatch_alpha\":{\"type\":\"value\",\"value\":0.2}}}}}],\"toolbar\":{\"type\":\"object\",\"name\":\"Toolbar\",\"id\":\"p1083\",\"attributes\":{\"tools\":[{\"type\":\"object\",\"name\":\"HoverTool\",\"id\":\"p1073\",\"attributes\":{\"tags\":[\"hv_created\"],\"renderers\":[{\"id\":\"p1111\"}],\"tooltips\":[[\"picks\",\"@{picks}\"],[\"bans\",\"@{bans}\"],[\"win_pct\",\"@{win_pct}\"],[\"localized_name\",\"@{localized_name}\"]]}},{\"type\":\"object\",\"name\":\"BoxZoomTool\",\"id\":\"p1096\",\"attributes\":{\"overlay\":{\"type\":\"object\",\"name\":\"BoxAnnotation\",\"id\":\"p1097\",\"attributes\":{\"syncable\":false,\"level\":\"overlay\",\"visible\":false,\"left_units\":\"canvas\",\"right_units\":\"canvas\",\"bottom_units\":\"canvas\",\"top_units\":\"canvas\",\"line_color\":\"black\",\"line_alpha\":1.0,\"line_width\":2,\"line_dash\":[4,4],\"fill_color\":\"lightgrey\",\"fill_alpha\":0.5}}}},{\"type\":\"object\",\"name\":\"ResetTool\",\"id\":\"p1098\"}]}},\"left\":[{\"type\":\"object\",\"name\":\"LinearAxis\",\"id\":\"p1091\",\"attributes\":{\"ticker\":{\"type\":\"object\",\"name\":\"BasicTicker\",\"id\":\"p1092\",\"attributes\":{\"mantissas\":[1,2,5]}},\"formatter\":{\"type\":\"object\",\"name\":\"BasicTickFormatter\",\"id\":\"p1093\"},\"axis_label\":\"bans\",\"major_label_policy\":{\"type\":\"object\",\"name\":\"AllLabels\",\"id\":\"p1094\"}}}],\"right\":[{\"type\":\"object\",\"name\":\"ColorBar\",\"id\":\"p1115\",\"attributes\":{\"location\":[0,0],\"ticker\":{\"type\":\"object\",\"name\":\"BasicTicker\",\"id\":\"p1114\",\"attributes\":{\"mantissas\":[1,2,5]}},\"major_label_policy\":{\"type\":\"object\",\"name\":\"NoOverlap\",\"id\":\"p1116\"},\"label_standoff\":8,\"major_tick_line_color\":\"black\",\"bar_line_color\":\"black\",\"color_mapper\":{\"id\":\"p1099\"}}}],\"below\":[{\"type\":\"object\",\"name\":\"LinearAxis\",\"id\":\"p1086\",\"attributes\":{\"ticker\":{\"type\":\"object\",\"name\":\"BasicTicker\",\"id\":\"p1087\",\"attributes\":{\"mantissas\":[1,2,5]}},\"formatter\":{\"type\":\"object\",\"name\":\"BasicTickFormatter\",\"id\":\"p1088\"},\"axis_label\":\"picks\",\"major_label_policy\":{\"type\":\"object\",\"name\":\"AllLabels\",\"id\":\"p1089\"}}}],\"center\":[{\"type\":\"object\",\"name\":\"Grid\",\"id\":\"p1090\",\"attributes\":{\"axis\":{\"id\":\"p1086\"},\"ticker\":{\"id\":\"p1087\"}}},{\"type\":\"object\",\"name\":\"Grid\",\"id\":\"p1095\",\"attributes\":{\"dimension\":1,\"axis\":{\"id\":\"p1091\"},\"ticker\":{\"id\":\"p1092\"}}}],\"min_border_top\":10,\"min_border_bottom\":10,\"min_border_left\":10,\"min_border_right\":10,\"output_backend\":\"webgl\"}},{\"type\":\"object\",\"name\":\"Spacer\",\"id\":\"p1118\",\"attributes\":{\"name\":\"HSpacer01130\",\"stylesheets\":[\"\\n:host(.pn-loading.pn-arc):before, .pn-loading.pn-arc:before {\\n  background-image: url(\\\"data:image/svg+xml;base64,PHN2ZyB4bWxucz0iaHR0cDovL3d3dy53My5vcmcvMjAwMC9zdmciIHN0eWxlPSJtYXJnaW46IGF1dG87IGJhY2tncm91bmQ6IG5vbmU7IGRpc3BsYXk6IGJsb2NrOyBzaGFwZS1yZW5kZXJpbmc6IGF1dG87IiB2aWV3Qm94PSIwIDAgMTAwIDEwMCIgcHJlc2VydmVBc3BlY3RSYXRpbz0ieE1pZFlNaWQiPiAgPGNpcmNsZSBjeD0iNTAiIGN5PSI1MCIgZmlsbD0ibm9uZSIgc3Ryb2tlPSIjYzNjM2MzIiBzdHJva2Utd2lkdGg9IjEwIiByPSIzNSIgc3Ryb2tlLWRhc2hhcnJheT0iMTY0LjkzMzYxNDMxMzQ2NDE1IDU2Ljk3Nzg3MTQzNzgyMTM4Ij4gICAgPGFuaW1hdGVUcmFuc2Zvcm0gYXR0cmlidXRlTmFtZT0idHJhbnNmb3JtIiB0eXBlPSJyb3RhdGUiIHJlcGVhdENvdW50PSJpbmRlZmluaXRlIiBkdXI9IjFzIiB2YWx1ZXM9IjAgNTAgNTA7MzYwIDUwIDUwIiBrZXlUaW1lcz0iMDsxIj48L2FuaW1hdGVUcmFuc2Zvcm0+ICA8L2NpcmNsZT48L3N2Zz4=\\\");\\n  background-size: auto calc(min(50%, 400px));\\n}\",{\"id\":\"p1067\"},{\"id\":\"p1065\"},{\"id\":\"p1066\"}],\"margin\":0,\"sizing_mode\":\"stretch_width\",\"align\":\"start\"}}]}}],\"defs\":[{\"type\":\"model\",\"name\":\"ReactiveHTML1\"},{\"type\":\"model\",\"name\":\"FlexBox1\",\"properties\":[{\"name\":\"align_content\",\"kind\":\"Any\",\"default\":\"flex-start\"},{\"name\":\"align_items\",\"kind\":\"Any\",\"default\":\"flex-start\"},{\"name\":\"flex_direction\",\"kind\":\"Any\",\"default\":\"row\"},{\"name\":\"flex_wrap\",\"kind\":\"Any\",\"default\":\"wrap\"},{\"name\":\"justify_content\",\"kind\":\"Any\",\"default\":\"flex-start\"}]},{\"type\":\"model\",\"name\":\"FloatPanel1\",\"properties\":[{\"name\":\"config\",\"kind\":\"Any\",\"default\":{\"type\":\"map\"}},{\"name\":\"contained\",\"kind\":\"Any\",\"default\":true},{\"name\":\"position\",\"kind\":\"Any\",\"default\":\"right-top\"},{\"name\":\"offsetx\",\"kind\":\"Any\",\"default\":null},{\"name\":\"offsety\",\"kind\":\"Any\",\"default\":null},{\"name\":\"theme\",\"kind\":\"Any\",\"default\":\"primary\"},{\"name\":\"status\",\"kind\":\"Any\",\"default\":\"normalized\"}]},{\"type\":\"model\",\"name\":\"GridStack1\",\"properties\":[{\"name\":\"mode\",\"kind\":\"Any\",\"default\":\"warn\"},{\"name\":\"ncols\",\"kind\":\"Any\",\"default\":null},{\"name\":\"nrows\",\"kind\":\"Any\",\"default\":null},{\"name\":\"allow_resize\",\"kind\":\"Any\",\"default\":true},{\"name\":\"allow_drag\",\"kind\":\"Any\",\"default\":true},{\"name\":\"state\",\"kind\":\"Any\",\"default\":[]}]},{\"type\":\"model\",\"name\":\"drag1\",\"properties\":[{\"name\":\"slider_width\",\"kind\":\"Any\",\"default\":5},{\"name\":\"slider_color\",\"kind\":\"Any\",\"default\":\"black\"},{\"name\":\"value\",\"kind\":\"Any\",\"default\":50}]},{\"type\":\"model\",\"name\":\"click1\",\"properties\":[{\"name\":\"terminal_output\",\"kind\":\"Any\",\"default\":\"\"},{\"name\":\"debug_name\",\"kind\":\"Any\",\"default\":\"\"},{\"name\":\"clears\",\"kind\":\"Any\",\"default\":0}]},{\"type\":\"model\",\"name\":\"FastWrapper1\",\"properties\":[{\"name\":\"object\",\"kind\":\"Any\",\"default\":null},{\"name\":\"style\",\"kind\":\"Any\",\"default\":null}]},{\"type\":\"model\",\"name\":\"NotificationAreaBase1\",\"properties\":[{\"name\":\"js_events\",\"kind\":\"Any\",\"default\":{\"type\":\"map\"}},{\"name\":\"position\",\"kind\":\"Any\",\"default\":\"bottom-right\"},{\"name\":\"_clear\",\"kind\":\"Any\",\"default\":0}]},{\"type\":\"model\",\"name\":\"NotificationArea1\",\"properties\":[{\"name\":\"js_events\",\"kind\":\"Any\",\"default\":{\"type\":\"map\"}},{\"name\":\"notifications\",\"kind\":\"Any\",\"default\":[]},{\"name\":\"position\",\"kind\":\"Any\",\"default\":\"bottom-right\"},{\"name\":\"_clear\",\"kind\":\"Any\",\"default\":0},{\"name\":\"types\",\"kind\":\"Any\",\"default\":[{\"type\":\"map\",\"entries\":[[\"type\",\"warning\"],[\"background\",\"#ffc107\"],[\"icon\",{\"type\":\"map\",\"entries\":[[\"className\",\"fas fa-exclamation-triangle\"],[\"tagName\",\"i\"],[\"color\",\"white\"]]}]]},{\"type\":\"map\",\"entries\":[[\"type\",\"info\"],[\"background\",\"#007bff\"],[\"icon\",{\"type\":\"map\",\"entries\":[[\"className\",\"fas fa-info-circle\"],[\"tagName\",\"i\"],[\"color\",\"white\"]]}]]}]}]},{\"type\":\"model\",\"name\":\"Notification\",\"properties\":[{\"name\":\"background\",\"kind\":\"Any\",\"default\":null},{\"name\":\"duration\",\"kind\":\"Any\",\"default\":3000},{\"name\":\"icon\",\"kind\":\"Any\",\"default\":null},{\"name\":\"message\",\"kind\":\"Any\",\"default\":\"\"},{\"name\":\"notification_type\",\"kind\":\"Any\",\"default\":null},{\"name\":\"_destroyed\",\"kind\":\"Any\",\"default\":false}]},{\"type\":\"model\",\"name\":\"TemplateActions1\",\"properties\":[{\"name\":\"open_modal\",\"kind\":\"Any\",\"default\":0},{\"name\":\"close_modal\",\"kind\":\"Any\",\"default\":0}]},{\"type\":\"model\",\"name\":\"BootstrapTemplateActions1\",\"properties\":[{\"name\":\"open_modal\",\"kind\":\"Any\",\"default\":0},{\"name\":\"close_modal\",\"kind\":\"Any\",\"default\":0}]},{\"type\":\"model\",\"name\":\"MaterialTemplateActions1\",\"properties\":[{\"name\":\"open_modal\",\"kind\":\"Any\",\"default\":0},{\"name\":\"close_modal\",\"kind\":\"Any\",\"default\":0}]}]}};\n  var render_items = [{\"docid\":\"03e68252-a280-4c42-ad68-29e7fc383847\",\"roots\":{\"p1064\":\"db652ee0-4f67-4210-b1d9-9a383e93a522\"},\"root_ids\":[\"p1064\"]}];\n  var docs = Object.values(docs_json)\n  if (!docs) {\n    return\n  }\n  const py_version = docs[0].version.replace('rc', '-rc.').replace('.dev', '-dev.')\n  const is_dev = py_version.indexOf(\"+\") !== -1 || py_version.indexOf(\"-\") !== -1\n  function embed_document(root) {\n    var Bokeh = get_bokeh(root)\n    Bokeh.embed.embed_items_notebook(docs_json, render_items);\n    for (const render_item of render_items) {\n      for (const root_id of render_item.root_ids) {\n\tconst id_el = document.getElementById(root_id)\n\tif (id_el.children.length && (id_el.children[0].className === 'bk-root')) {\n\t  const root_el = id_el.children[0]\n\t  root_el.id = root_el.id + '-rendered'\n\t}\n      }\n    }\n  }\n  function get_bokeh(root) {\n    if (root.Bokeh === undefined) {\n      return null\n    } else if (root.Bokeh.version !== py_version && !is_dev) {\n      if (root.Bokeh.versions === undefined || !root.Bokeh.versions.has(py_version)) {\n\treturn null\n      }\n      return root.Bokeh.versions.get(py_version);\n    } else if (root.Bokeh.version === py_version) {\n      return root.Bokeh\n    }\n    return null\n  }\n  function is_loaded(root) {\n    var Bokeh = get_bokeh(root)\n    return (Bokeh != null && Bokeh.Panel !== undefined)\n  }\n  if (is_loaded(root)) {\n    embed_document(root);\n  } else {\n    var attempts = 0;\n    var timer = setInterval(function(root) {\n      if (is_loaded(root)) {\n        clearInterval(timer);\n        embed_document(root);\n      } else if (document.readyState == \"complete\") {\n        attempts++;\n        if (attempts > 200) {\n          clearInterval(timer);\n\t  var Bokeh = get_bokeh(root)\n\t  if (Bokeh == null || Bokeh.Panel == null) {\n            console.warn(\"Panel: ERROR: Unable to run Panel code because Bokeh or Panel library is missing\");\n\t  } else {\n\t    console.warn(\"Panel: WARNING: Attempting to render but not all required libraries could be resolved.\")\n\t    embed_document(root)\n\t  }\n        }\n      }\n    }, 25, root)\n  }\n})(window);</script>",
      "application/vnd.holoviews_exec.v0+json": "",
      "text/plain": ":Scatter   [picks]   (bans,win_pct,localized_name)"
     },
     "execution_count": 64,
     "metadata": {
      "application/vnd.holoviews_exec.v0+json": {
       "id": "p1064"
      }
     },
     "output_type": "execute_result"
    }
   ],
   "source": [
    "import hvplot.pandas\n",
    "most_banned_hero_performances.hvplot.scatter(\n",
    "    x='picks',\n",
    "    y='bans',\n",
    "    c='win_pct',\n",
    "    hover_cols=['localized_name']\n",
    ").opts(\n",
    "    default_tools=['box_zoom', 'reset'],\n",
    "    show_grid=True,\n",
    "    width=768,\n",
    "    height=512\n",
    ")"
   ]
  },
  {
   "cell_type": "markdown",
   "id": "2fb91d0a-29d4-45c3-9d48-8aeda07521bd",
   "metadata": {},
   "source": [
    "This plot is fine, but it does not show us much. It would be great to look at these data points in the context of all of the other heroes in our data set. We need to merge our `pick_data` with the `ban_data` to get the complete picture. use the following code:"
   ]
  },
  {
   "cell_type": "code",
   "execution_count": 65,
   "id": "40cbc20b-b0ab-4663-80c5-11a1c5d1de7c",
   "metadata": {
    "ExecuteTime": {
     "end_time": "2023-10-25T20:52:38.462138Z",
     "start_time": "2023-10-25T20:52:38.449664Z"
    }
   },
   "outputs": [
    {
     "data": {
      "text/plain": "                    wins  picks   avg_pick    win_pct  bans\nlocalized_name                                             \nAbaddon               13     33  19.484848  39.393939    21\nAlchemist             56     95  13.600000  58.947368   116\nAncient Apparition    11     23  12.217391  47.826087    47\nAnti-Mage             35     74  12.810811  47.297297   251\nArc Warden             1      6  20.333333  16.666667     4\n...                  ...    ...        ...        ...   ...\nWindranger            41     93  16.193548  44.086022    68\nWinter Wyvern          5     16  19.187500  31.250000    18\nWitch Doctor           8     17  16.588235  47.058824    11\nWraith King           13     21  19.285714  61.904762    10\nZeus                  17     38  17.842105  44.736842    58\n\n[124 rows x 5 columns]",
      "text/html": "<div>\n<style scoped>\n    .dataframe tbody tr th:only-of-type {\n        vertical-align: middle;\n    }\n\n    .dataframe tbody tr th {\n        vertical-align: top;\n    }\n\n    .dataframe thead th {\n        text-align: right;\n    }\n</style>\n<table border=\"1\" class=\"dataframe\">\n  <thead>\n    <tr style=\"text-align: right;\">\n      <th></th>\n      <th>wins</th>\n      <th>picks</th>\n      <th>avg_pick</th>\n      <th>win_pct</th>\n      <th>bans</th>\n    </tr>\n    <tr>\n      <th>localized_name</th>\n      <th></th>\n      <th></th>\n      <th></th>\n      <th></th>\n      <th></th>\n    </tr>\n  </thead>\n  <tbody>\n    <tr>\n      <th>Abaddon</th>\n      <td>13</td>\n      <td>33</td>\n      <td>19.484848</td>\n      <td>39.393939</td>\n      <td>21</td>\n    </tr>\n    <tr>\n      <th>Alchemist</th>\n      <td>56</td>\n      <td>95</td>\n      <td>13.600000</td>\n      <td>58.947368</td>\n      <td>116</td>\n    </tr>\n    <tr>\n      <th>Ancient Apparition</th>\n      <td>11</td>\n      <td>23</td>\n      <td>12.217391</td>\n      <td>47.826087</td>\n      <td>47</td>\n    </tr>\n    <tr>\n      <th>Anti-Mage</th>\n      <td>35</td>\n      <td>74</td>\n      <td>12.810811</td>\n      <td>47.297297</td>\n      <td>251</td>\n    </tr>\n    <tr>\n      <th>Arc Warden</th>\n      <td>1</td>\n      <td>6</td>\n      <td>20.333333</td>\n      <td>16.666667</td>\n      <td>4</td>\n    </tr>\n    <tr>\n      <th>...</th>\n      <td>...</td>\n      <td>...</td>\n      <td>...</td>\n      <td>...</td>\n      <td>...</td>\n    </tr>\n    <tr>\n      <th>Windranger</th>\n      <td>41</td>\n      <td>93</td>\n      <td>16.193548</td>\n      <td>44.086022</td>\n      <td>68</td>\n    </tr>\n    <tr>\n      <th>Winter Wyvern</th>\n      <td>5</td>\n      <td>16</td>\n      <td>19.187500</td>\n      <td>31.250000</td>\n      <td>18</td>\n    </tr>\n    <tr>\n      <th>Witch Doctor</th>\n      <td>8</td>\n      <td>17</td>\n      <td>16.588235</td>\n      <td>47.058824</td>\n      <td>11</td>\n    </tr>\n    <tr>\n      <th>Wraith King</th>\n      <td>13</td>\n      <td>21</td>\n      <td>19.285714</td>\n      <td>61.904762</td>\n      <td>10</td>\n    </tr>\n    <tr>\n      <th>Zeus</th>\n      <td>17</td>\n      <td>38</td>\n      <td>17.842105</td>\n      <td>44.736842</td>\n      <td>58</td>\n    </tr>\n  </tbody>\n</table>\n<p>124 rows × 5 columns</p>\n</div>"
     },
     "execution_count": 65,
     "metadata": {},
     "output_type": "execute_result"
    }
   ],
   "source": [
    "all_picks_vs_bans = pick_data.merge(\n",
    "    ban_data,\n",
    "    left_index=True,\n",
    "    right_index=True,\n",
    "    how='left'\n",
    ").fillna(0).astype({'bans': int})\n",
    "all_picks_vs_bans"
   ]
  },
  {
   "cell_type": "markdown",
   "id": "ac9b8cac-b02c-48e3-8b0f-fdc06115ee65",
   "metadata": {},
   "source": [
    "In the code above we are merging `pick_data` and `ban_data` by their indices. The problem here though is that there are some heroes that were never picked/banned, and so we need to account for that. After the merge is completed we end up with some values that are `NaN`, or not-a-number. This happens because there are some heroes that were picked but never banned, and so when the `bans` column is merged in, those heroes do not have ban data to incorporate. `pandas` in this case defaults them to `NaN` and converts the column to a floating point type. To get around this we need to fill the `NaN` values with 0, and then cast the `bans` column to an `int` type.\n",
    "\n",
    "With that behind us we can now scatter plot the `picks` vs `wins`, sizing *and* coloring the points by the number of `bans`. The use of `bans` to both color and size the points gives a reinforced view of the data."
   ]
  },
  {
   "cell_type": "code",
   "execution_count": 66,
   "id": "eb4ba423-4bac-416e-94d1-cae62313c4b2",
   "metadata": {
    "ExecuteTime": {
     "end_time": "2023-10-25T20:52:39.787402Z",
     "start_time": "2023-10-25T20:52:39.760886Z"
    }
   },
   "outputs": [],
   "source": [
    "# scatter all_picks_vs_bans as specified above\n",
    "x = all_picks_vs_bans.hvplot.scatter(\n",
    "    x='picks',\n",
    "    y='avg_pick',\n",
    "    c='bans',\n",
    "    s='bans',\n",
    "    hover_cols=['localized_name'],\n",
    ").opts(\n",
    "    default_tools=['box_zoom', 'reset'],\n",
    "    show_grid=True,\n",
    "    width=768,\n",
    "    height=512\n",
    ")"
   ]
  },
  {
   "cell_type": "code",
   "execution_count": 67,
   "outputs": [
    {
     "data": {
      "application/javascript": "(function(root) {\n  function now() {\n    return new Date();\n  }\n\n  var force = true;\n  var py_version = '3.2.2'.replace('rc', '-rc.').replace('.dev', '-dev.');\n  var is_dev = py_version.indexOf(\"+\") !== -1 || py_version.indexOf(\"-\") !== -1;\n  var reloading = false;\n  var Bokeh = root.Bokeh;\n  var bokeh_loaded = Bokeh != null && (Bokeh.version === py_version || (Bokeh.versions !== undefined && Bokeh.versions.has(py_version)));\n\n  if (typeof (root._bokeh_timeout) === \"undefined\" || force) {\n    root._bokeh_timeout = Date.now() + 5000;\n    root._bokeh_failed_load = false;\n  }\n\n  function run_callbacks() {\n    try {\n      root._bokeh_onload_callbacks.forEach(function(callback) {\n        if (callback != null)\n          callback();\n      });\n    } finally {\n      delete root._bokeh_onload_callbacks;\n    }\n    console.debug(\"Bokeh: all callbacks have finished\");\n  }\n\n  function load_libs(css_urls, js_urls, js_modules, js_exports, callback) {\n    if (css_urls == null) css_urls = [];\n    if (js_urls == null) js_urls = [];\n    if (js_modules == null) js_modules = [];\n    if (js_exports == null) js_exports = {};\n\n    root._bokeh_onload_callbacks.push(callback);\n\n    if (root._bokeh_is_loading > 0) {\n      console.debug(\"Bokeh: BokehJS is being loaded, scheduling callback at\", now());\n      return null;\n    }\n    if (js_urls.length === 0 && js_modules.length === 0 && Object.keys(js_exports).length === 0) {\n      run_callbacks();\n      return null;\n    }\n    if (!reloading) {\n      console.debug(\"Bokeh: BokehJS not loaded, scheduling load and callback at\", now());\n    }\n\n    function on_load() {\n      root._bokeh_is_loading--;\n      if (root._bokeh_is_loading === 0) {\n        console.debug(\"Bokeh: all BokehJS libraries/stylesheets loaded\");\n        run_callbacks()\n      }\n    }\n    window._bokeh_on_load = on_load\n\n    function on_error() {\n      console.error(\"failed to load \" + url);\n    }\n\n    var skip = [];\n    if (window.requirejs) {\n      window.requirejs.config({'packages': {}, 'paths': {'jspanel': 'https://cdn.jsdelivr.net/npm/jspanel4@4.12.0/dist/jspanel', 'jspanel-modal': 'https://cdn.jsdelivr.net/npm/jspanel4@4.12.0/dist/extensions/modal/jspanel.modal', 'jspanel-tooltip': 'https://cdn.jsdelivr.net/npm/jspanel4@4.12.0/dist/extensions/tooltip/jspanel.tooltip', 'jspanel-hint': 'https://cdn.jsdelivr.net/npm/jspanel4@4.12.0/dist/extensions/hint/jspanel.hint', 'jspanel-layout': 'https://cdn.jsdelivr.net/npm/jspanel4@4.12.0/dist/extensions/layout/jspanel.layout', 'jspanel-contextmenu': 'https://cdn.jsdelivr.net/npm/jspanel4@4.12.0/dist/extensions/contextmenu/jspanel.contextmenu', 'jspanel-dock': 'https://cdn.jsdelivr.net/npm/jspanel4@4.12.0/dist/extensions/dock/jspanel.dock', 'gridstack': 'https://cdn.jsdelivr.net/npm/gridstack@7.2.3/dist/gridstack-all', 'notyf': 'https://cdn.jsdelivr.net/npm/notyf@3/notyf.min'}, 'shim': {'jspanel': {'exports': 'jsPanel'}, 'gridstack': {'exports': 'GridStack'}}});\n      require([\"jspanel\"], function(jsPanel) {\n\twindow.jsPanel = jsPanel\n\ton_load()\n      })\n      require([\"jspanel-modal\"], function() {\n\ton_load()\n      })\n      require([\"jspanel-tooltip\"], function() {\n\ton_load()\n      })\n      require([\"jspanel-hint\"], function() {\n\ton_load()\n      })\n      require([\"jspanel-layout\"], function() {\n\ton_load()\n      })\n      require([\"jspanel-contextmenu\"], function() {\n\ton_load()\n      })\n      require([\"jspanel-dock\"], function() {\n\ton_load()\n      })\n      require([\"gridstack\"], function(GridStack) {\n\twindow.GridStack = GridStack\n\ton_load()\n      })\n      require([\"notyf\"], function() {\n\ton_load()\n      })\n      root._bokeh_is_loading = css_urls.length + 9;\n    } else {\n      root._bokeh_is_loading = css_urls.length + js_urls.length + js_modules.length + Object.keys(js_exports).length;\n    }\n\n    var existing_stylesheets = []\n    var links = document.getElementsByTagName('link')\n    for (var i = 0; i < links.length; i++) {\n      var link = links[i]\n      if (link.href != null) {\n\texisting_stylesheets.push(link.href)\n      }\n    }\n    for (var i = 0; i < css_urls.length; i++) {\n      var url = css_urls[i];\n      if (existing_stylesheets.indexOf(url) !== -1) {\n\ton_load()\n\tcontinue;\n      }\n      const element = document.createElement(\"link\");\n      element.onload = on_load;\n      element.onerror = on_error;\n      element.rel = \"stylesheet\";\n      element.type = \"text/css\";\n      element.href = url;\n      console.debug(\"Bokeh: injecting link tag for BokehJS stylesheet: \", url);\n      document.body.appendChild(element);\n    }    if (((window['jsPanel'] !== undefined) && (!(window['jsPanel'] instanceof HTMLElement))) || window.requirejs) {\n      var urls = ['https://cdn.holoviz.org/panel/1.2.3/dist/bundled/floatpanel/jspanel4@4.12.0/dist/jspanel.js', 'https://cdn.holoviz.org/panel/1.2.3/dist/bundled/floatpanel/jspanel4@4.12.0/dist/extensions/modal/jspanel.modal.js', 'https://cdn.holoviz.org/panel/1.2.3/dist/bundled/floatpanel/jspanel4@4.12.0/dist/extensions/tooltip/jspanel.tooltip.js', 'https://cdn.holoviz.org/panel/1.2.3/dist/bundled/floatpanel/jspanel4@4.12.0/dist/extensions/hint/jspanel.hint.js', 'https://cdn.holoviz.org/panel/1.2.3/dist/bundled/floatpanel/jspanel4@4.12.0/dist/extensions/layout/jspanel.layout.js', 'https://cdn.holoviz.org/panel/1.2.3/dist/bundled/floatpanel/jspanel4@4.12.0/dist/extensions/contextmenu/jspanel.contextmenu.js', 'https://cdn.holoviz.org/panel/1.2.3/dist/bundled/floatpanel/jspanel4@4.12.0/dist/extensions/dock/jspanel.dock.js'];\n      for (var i = 0; i < urls.length; i++) {\n        skip.push(urls[i])\n      }\n    }    if (((window['GridStack'] !== undefined) && (!(window['GridStack'] instanceof HTMLElement))) || window.requirejs) {\n      var urls = ['https://cdn.holoviz.org/panel/1.2.3/dist/bundled/gridstack/gridstack@7.2.3/dist/gridstack-all.js'];\n      for (var i = 0; i < urls.length; i++) {\n        skip.push(urls[i])\n      }\n    }    if (((window['Notyf'] !== undefined) && (!(window['Notyf'] instanceof HTMLElement))) || window.requirejs) {\n      var urls = ['https://cdn.holoviz.org/panel/1.2.3/dist/bundled/notificationarea/notyf@3/notyf.min.js'];\n      for (var i = 0; i < urls.length; i++) {\n        skip.push(urls[i])\n      }\n    }    var existing_scripts = []\n    var scripts = document.getElementsByTagName('script')\n    for (var i = 0; i < scripts.length; i++) {\n      var script = scripts[i]\n      if (script.src != null) {\n\texisting_scripts.push(script.src)\n      }\n    }\n    for (var i = 0; i < js_urls.length; i++) {\n      var url = js_urls[i];\n      if (skip.indexOf(url) !== -1 || existing_scripts.indexOf(url) !== -1) {\n\tif (!window.requirejs) {\n\t  on_load();\n\t}\n\tcontinue;\n      }\n      var element = document.createElement('script');\n      element.onload = on_load;\n      element.onerror = on_error;\n      element.async = false;\n      element.src = url;\n      console.debug(\"Bokeh: injecting script tag for BokehJS library: \", url);\n      document.head.appendChild(element);\n    }\n    for (var i = 0; i < js_modules.length; i++) {\n      var url = js_modules[i];\n      if (skip.indexOf(url) !== -1 || existing_scripts.indexOf(url) !== -1) {\n\tif (!window.requirejs) {\n\t  on_load();\n\t}\n\tcontinue;\n      }\n      var element = document.createElement('script');\n      element.onload = on_load;\n      element.onerror = on_error;\n      element.async = false;\n      element.src = url;\n      element.type = \"module\";\n      console.debug(\"Bokeh: injecting script tag for BokehJS library: \", url);\n      document.head.appendChild(element);\n    }\n    for (const name in js_exports) {\n      var url = js_exports[name];\n      if (skip.indexOf(url) >= 0 || root[name] != null) {\n\tif (!window.requirejs) {\n\t  on_load();\n\t}\n\tcontinue;\n      }\n      var element = document.createElement('script');\n      element.onerror = on_error;\n      element.async = false;\n      element.type = \"module\";\n      console.debug(\"Bokeh: injecting script tag for BokehJS library: \", url);\n      element.textContent = `\n      import ${name} from \"${url}\"\n      window.${name} = ${name}\n      window._bokeh_on_load()\n      `\n      document.head.appendChild(element);\n    }\n    if (!js_urls.length && !js_modules.length) {\n      on_load()\n    }\n  };\n\n  function inject_raw_css(css) {\n    const element = document.createElement(\"style\");\n    element.appendChild(document.createTextNode(css));\n    document.body.appendChild(element);\n  }\n\n  var js_urls = [\"https://cdn.bokeh.org/bokeh/release/bokeh-3.2.2.min.js\", \"https://cdn.bokeh.org/bokeh/release/bokeh-gl-3.2.2.min.js\", \"https://cdn.bokeh.org/bokeh/release/bokeh-widgets-3.2.2.min.js\", \"https://cdn.bokeh.org/bokeh/release/bokeh-tables-3.2.2.min.js\", \"https://cdn.holoviz.org/panel/1.2.3/dist/panel.min.js\"];\n  var js_modules = [];\n  var js_exports = {};\n  var css_urls = [];\n  var inline_js = [    function(Bokeh) {\n      Bokeh.set_log_level(\"info\");\n    },\nfunction(Bokeh) {} // ensure no trailing comma for IE\n  ];\n\n  function run_inline_js() {\n    if ((root.Bokeh !== undefined) || (force === true)) {\n      for (var i = 0; i < inline_js.length; i++) {\n        inline_js[i].call(root, root.Bokeh);\n      }\n      // Cache old bokeh versions\n      if (Bokeh != undefined && !reloading) {\n\tvar NewBokeh = root.Bokeh;\n\tif (Bokeh.versions === undefined) {\n\t  Bokeh.versions = new Map();\n\t}\n\tif (NewBokeh.version !== Bokeh.version) {\n\t  Bokeh.versions.set(NewBokeh.version, NewBokeh)\n\t}\n\troot.Bokeh = Bokeh;\n      }} else if (Date.now() < root._bokeh_timeout) {\n      setTimeout(run_inline_js, 100);\n    } else if (!root._bokeh_failed_load) {\n      console.log(\"Bokeh: BokehJS failed to load within specified timeout.\");\n      root._bokeh_failed_load = true;\n    }\n    root._bokeh_is_initializing = false\n  }\n\n  function load_or_wait() {\n    // Implement a backoff loop that tries to ensure we do not load multiple\n    // versions of Bokeh and its dependencies at the same time.\n    // In recent versions we use the root._bokeh_is_initializing flag\n    // to determine whether there is an ongoing attempt to initialize\n    // bokeh, however for backward compatibility we also try to ensure\n    // that we do not start loading a newer (Panel>=1.0 and Bokeh>3) version\n    // before older versions are fully initialized.\n    if (root._bokeh_is_initializing && Date.now() > root._bokeh_timeout) {\n      root._bokeh_is_initializing = false;\n      root._bokeh_onload_callbacks = undefined;\n      console.log(\"Bokeh: BokehJS was loaded multiple times but one version failed to initialize.\");\n      load_or_wait();\n    } else if (root._bokeh_is_initializing || (typeof root._bokeh_is_initializing === \"undefined\" && root._bokeh_onload_callbacks !== undefined)) {\n      setTimeout(load_or_wait, 100);\n    } else {\n      Bokeh = root.Bokeh;\n      bokeh_loaded = Bokeh != null && (Bokeh.version === py_version || (Bokeh.versions !== undefined && Bokeh.versions.has(py_version)));\n      root._bokeh_is_initializing = true\n      root._bokeh_onload_callbacks = []\n      if (!reloading && (!bokeh_loaded || is_dev)) {\n\troot.Bokeh = undefined;\n      }\n      load_libs(css_urls, js_urls, js_modules, js_exports, function() {\n\tconsole.debug(\"Bokeh: BokehJS plotting callback run at\", now());\n\trun_inline_js();\n      });\n    }\n  }\n  // Give older versions of the autoload script a head-start to ensure\n  // they initialize before we start loading newer version.\n  setTimeout(load_or_wait, 100)\n}(window));",
      "application/vnd.holoviews_load.v0+json": "(function(root) {\n  function now() {\n    return new Date();\n  }\n\n  var force = true;\n  var py_version = '3.2.2'.replace('rc', '-rc.').replace('.dev', '-dev.');\n  var is_dev = py_version.indexOf(\"+\") !== -1 || py_version.indexOf(\"-\") !== -1;\n  var reloading = false;\n  var Bokeh = root.Bokeh;\n  var bokeh_loaded = Bokeh != null && (Bokeh.version === py_version || (Bokeh.versions !== undefined && Bokeh.versions.has(py_version)));\n\n  if (typeof (root._bokeh_timeout) === \"undefined\" || force) {\n    root._bokeh_timeout = Date.now() + 5000;\n    root._bokeh_failed_load = false;\n  }\n\n  function run_callbacks() {\n    try {\n      root._bokeh_onload_callbacks.forEach(function(callback) {\n        if (callback != null)\n          callback();\n      });\n    } finally {\n      delete root._bokeh_onload_callbacks;\n    }\n    console.debug(\"Bokeh: all callbacks have finished\");\n  }\n\n  function load_libs(css_urls, js_urls, js_modules, js_exports, callback) {\n    if (css_urls == null) css_urls = [];\n    if (js_urls == null) js_urls = [];\n    if (js_modules == null) js_modules = [];\n    if (js_exports == null) js_exports = {};\n\n    root._bokeh_onload_callbacks.push(callback);\n\n    if (root._bokeh_is_loading > 0) {\n      console.debug(\"Bokeh: BokehJS is being loaded, scheduling callback at\", now());\n      return null;\n    }\n    if (js_urls.length === 0 && js_modules.length === 0 && Object.keys(js_exports).length === 0) {\n      run_callbacks();\n      return null;\n    }\n    if (!reloading) {\n      console.debug(\"Bokeh: BokehJS not loaded, scheduling load and callback at\", now());\n    }\n\n    function on_load() {\n      root._bokeh_is_loading--;\n      if (root._bokeh_is_loading === 0) {\n        console.debug(\"Bokeh: all BokehJS libraries/stylesheets loaded\");\n        run_callbacks()\n      }\n    }\n    window._bokeh_on_load = on_load\n\n    function on_error() {\n      console.error(\"failed to load \" + url);\n    }\n\n    var skip = [];\n    if (window.requirejs) {\n      window.requirejs.config({'packages': {}, 'paths': {'jspanel': 'https://cdn.jsdelivr.net/npm/jspanel4@4.12.0/dist/jspanel', 'jspanel-modal': 'https://cdn.jsdelivr.net/npm/jspanel4@4.12.0/dist/extensions/modal/jspanel.modal', 'jspanel-tooltip': 'https://cdn.jsdelivr.net/npm/jspanel4@4.12.0/dist/extensions/tooltip/jspanel.tooltip', 'jspanel-hint': 'https://cdn.jsdelivr.net/npm/jspanel4@4.12.0/dist/extensions/hint/jspanel.hint', 'jspanel-layout': 'https://cdn.jsdelivr.net/npm/jspanel4@4.12.0/dist/extensions/layout/jspanel.layout', 'jspanel-contextmenu': 'https://cdn.jsdelivr.net/npm/jspanel4@4.12.0/dist/extensions/contextmenu/jspanel.contextmenu', 'jspanel-dock': 'https://cdn.jsdelivr.net/npm/jspanel4@4.12.0/dist/extensions/dock/jspanel.dock', 'gridstack': 'https://cdn.jsdelivr.net/npm/gridstack@7.2.3/dist/gridstack-all', 'notyf': 'https://cdn.jsdelivr.net/npm/notyf@3/notyf.min'}, 'shim': {'jspanel': {'exports': 'jsPanel'}, 'gridstack': {'exports': 'GridStack'}}});\n      require([\"jspanel\"], function(jsPanel) {\n\twindow.jsPanel = jsPanel\n\ton_load()\n      })\n      require([\"jspanel-modal\"], function() {\n\ton_load()\n      })\n      require([\"jspanel-tooltip\"], function() {\n\ton_load()\n      })\n      require([\"jspanel-hint\"], function() {\n\ton_load()\n      })\n      require([\"jspanel-layout\"], function() {\n\ton_load()\n      })\n      require([\"jspanel-contextmenu\"], function() {\n\ton_load()\n      })\n      require([\"jspanel-dock\"], function() {\n\ton_load()\n      })\n      require([\"gridstack\"], function(GridStack) {\n\twindow.GridStack = GridStack\n\ton_load()\n      })\n      require([\"notyf\"], function() {\n\ton_load()\n      })\n      root._bokeh_is_loading = css_urls.length + 9;\n    } else {\n      root._bokeh_is_loading = css_urls.length + js_urls.length + js_modules.length + Object.keys(js_exports).length;\n    }\n\n    var existing_stylesheets = []\n    var links = document.getElementsByTagName('link')\n    for (var i = 0; i < links.length; i++) {\n      var link = links[i]\n      if (link.href != null) {\n\texisting_stylesheets.push(link.href)\n      }\n    }\n    for (var i = 0; i < css_urls.length; i++) {\n      var url = css_urls[i];\n      if (existing_stylesheets.indexOf(url) !== -1) {\n\ton_load()\n\tcontinue;\n      }\n      const element = document.createElement(\"link\");\n      element.onload = on_load;\n      element.onerror = on_error;\n      element.rel = \"stylesheet\";\n      element.type = \"text/css\";\n      element.href = url;\n      console.debug(\"Bokeh: injecting link tag for BokehJS stylesheet: \", url);\n      document.body.appendChild(element);\n    }    if (((window['jsPanel'] !== undefined) && (!(window['jsPanel'] instanceof HTMLElement))) || window.requirejs) {\n      var urls = ['https://cdn.holoviz.org/panel/1.2.3/dist/bundled/floatpanel/jspanel4@4.12.0/dist/jspanel.js', 'https://cdn.holoviz.org/panel/1.2.3/dist/bundled/floatpanel/jspanel4@4.12.0/dist/extensions/modal/jspanel.modal.js', 'https://cdn.holoviz.org/panel/1.2.3/dist/bundled/floatpanel/jspanel4@4.12.0/dist/extensions/tooltip/jspanel.tooltip.js', 'https://cdn.holoviz.org/panel/1.2.3/dist/bundled/floatpanel/jspanel4@4.12.0/dist/extensions/hint/jspanel.hint.js', 'https://cdn.holoviz.org/panel/1.2.3/dist/bundled/floatpanel/jspanel4@4.12.0/dist/extensions/layout/jspanel.layout.js', 'https://cdn.holoviz.org/panel/1.2.3/dist/bundled/floatpanel/jspanel4@4.12.0/dist/extensions/contextmenu/jspanel.contextmenu.js', 'https://cdn.holoviz.org/panel/1.2.3/dist/bundled/floatpanel/jspanel4@4.12.0/dist/extensions/dock/jspanel.dock.js'];\n      for (var i = 0; i < urls.length; i++) {\n        skip.push(urls[i])\n      }\n    }    if (((window['GridStack'] !== undefined) && (!(window['GridStack'] instanceof HTMLElement))) || window.requirejs) {\n      var urls = ['https://cdn.holoviz.org/panel/1.2.3/dist/bundled/gridstack/gridstack@7.2.3/dist/gridstack-all.js'];\n      for (var i = 0; i < urls.length; i++) {\n        skip.push(urls[i])\n      }\n    }    if (((window['Notyf'] !== undefined) && (!(window['Notyf'] instanceof HTMLElement))) || window.requirejs) {\n      var urls = ['https://cdn.holoviz.org/panel/1.2.3/dist/bundled/notificationarea/notyf@3/notyf.min.js'];\n      for (var i = 0; i < urls.length; i++) {\n        skip.push(urls[i])\n      }\n    }    var existing_scripts = []\n    var scripts = document.getElementsByTagName('script')\n    for (var i = 0; i < scripts.length; i++) {\n      var script = scripts[i]\n      if (script.src != null) {\n\texisting_scripts.push(script.src)\n      }\n    }\n    for (var i = 0; i < js_urls.length; i++) {\n      var url = js_urls[i];\n      if (skip.indexOf(url) !== -1 || existing_scripts.indexOf(url) !== -1) {\n\tif (!window.requirejs) {\n\t  on_load();\n\t}\n\tcontinue;\n      }\n      var element = document.createElement('script');\n      element.onload = on_load;\n      element.onerror = on_error;\n      element.async = false;\n      element.src = url;\n      console.debug(\"Bokeh: injecting script tag for BokehJS library: \", url);\n      document.head.appendChild(element);\n    }\n    for (var i = 0; i < js_modules.length; i++) {\n      var url = js_modules[i];\n      if (skip.indexOf(url) !== -1 || existing_scripts.indexOf(url) !== -1) {\n\tif (!window.requirejs) {\n\t  on_load();\n\t}\n\tcontinue;\n      }\n      var element = document.createElement('script');\n      element.onload = on_load;\n      element.onerror = on_error;\n      element.async = false;\n      element.src = url;\n      element.type = \"module\";\n      console.debug(\"Bokeh: injecting script tag for BokehJS library: \", url);\n      document.head.appendChild(element);\n    }\n    for (const name in js_exports) {\n      var url = js_exports[name];\n      if (skip.indexOf(url) >= 0 || root[name] != null) {\n\tif (!window.requirejs) {\n\t  on_load();\n\t}\n\tcontinue;\n      }\n      var element = document.createElement('script');\n      element.onerror = on_error;\n      element.async = false;\n      element.type = \"module\";\n      console.debug(\"Bokeh: injecting script tag for BokehJS library: \", url);\n      element.textContent = `\n      import ${name} from \"${url}\"\n      window.${name} = ${name}\n      window._bokeh_on_load()\n      `\n      document.head.appendChild(element);\n    }\n    if (!js_urls.length && !js_modules.length) {\n      on_load()\n    }\n  };\n\n  function inject_raw_css(css) {\n    const element = document.createElement(\"style\");\n    element.appendChild(document.createTextNode(css));\n    document.body.appendChild(element);\n  }\n\n  var js_urls = [\"https://cdn.bokeh.org/bokeh/release/bokeh-3.2.2.min.js\", \"https://cdn.bokeh.org/bokeh/release/bokeh-gl-3.2.2.min.js\", \"https://cdn.bokeh.org/bokeh/release/bokeh-widgets-3.2.2.min.js\", \"https://cdn.bokeh.org/bokeh/release/bokeh-tables-3.2.2.min.js\", \"https://cdn.holoviz.org/panel/1.2.3/dist/panel.min.js\"];\n  var js_modules = [];\n  var js_exports = {};\n  var css_urls = [];\n  var inline_js = [    function(Bokeh) {\n      Bokeh.set_log_level(\"info\");\n    },\nfunction(Bokeh) {} // ensure no trailing comma for IE\n  ];\n\n  function run_inline_js() {\n    if ((root.Bokeh !== undefined) || (force === true)) {\n      for (var i = 0; i < inline_js.length; i++) {\n        inline_js[i].call(root, root.Bokeh);\n      }\n      // Cache old bokeh versions\n      if (Bokeh != undefined && !reloading) {\n\tvar NewBokeh = root.Bokeh;\n\tif (Bokeh.versions === undefined) {\n\t  Bokeh.versions = new Map();\n\t}\n\tif (NewBokeh.version !== Bokeh.version) {\n\t  Bokeh.versions.set(NewBokeh.version, NewBokeh)\n\t}\n\troot.Bokeh = Bokeh;\n      }} else if (Date.now() < root._bokeh_timeout) {\n      setTimeout(run_inline_js, 100);\n    } else if (!root._bokeh_failed_load) {\n      console.log(\"Bokeh: BokehJS failed to load within specified timeout.\");\n      root._bokeh_failed_load = true;\n    }\n    root._bokeh_is_initializing = false\n  }\n\n  function load_or_wait() {\n    // Implement a backoff loop that tries to ensure we do not load multiple\n    // versions of Bokeh and its dependencies at the same time.\n    // In recent versions we use the root._bokeh_is_initializing flag\n    // to determine whether there is an ongoing attempt to initialize\n    // bokeh, however for backward compatibility we also try to ensure\n    // that we do not start loading a newer (Panel>=1.0 and Bokeh>3) version\n    // before older versions are fully initialized.\n    if (root._bokeh_is_initializing && Date.now() > root._bokeh_timeout) {\n      root._bokeh_is_initializing = false;\n      root._bokeh_onload_callbacks = undefined;\n      console.log(\"Bokeh: BokehJS was loaded multiple times but one version failed to initialize.\");\n      load_or_wait();\n    } else if (root._bokeh_is_initializing || (typeof root._bokeh_is_initializing === \"undefined\" && root._bokeh_onload_callbacks !== undefined)) {\n      setTimeout(load_or_wait, 100);\n    } else {\n      Bokeh = root.Bokeh;\n      bokeh_loaded = Bokeh != null && (Bokeh.version === py_version || (Bokeh.versions !== undefined && Bokeh.versions.has(py_version)));\n      root._bokeh_is_initializing = true\n      root._bokeh_onload_callbacks = []\n      if (!reloading && (!bokeh_loaded || is_dev)) {\n\troot.Bokeh = undefined;\n      }\n      load_libs(css_urls, js_urls, js_modules, js_exports, function() {\n\tconsole.debug(\"Bokeh: BokehJS plotting callback run at\", now());\n\trun_inline_js();\n      });\n    }\n  }\n  // Give older versions of the autoload script a head-start to ensure\n  // they initialize before we start loading newer version.\n  setTimeout(load_or_wait, 100)\n}(window));"
     },
     "metadata": {},
     "output_type": "display_data"
    },
    {
     "data": {
      "application/vnd.holoviews_load.v0+json": "\nif ((window.PyViz === undefined) || (window.PyViz instanceof HTMLElement)) {\n  window.PyViz = {comms: {}, comm_status:{}, kernels:{}, receivers: {}, plot_index: []}\n}\n\n\n    function JupyterCommManager() {\n    }\n\n    JupyterCommManager.prototype.register_target = function(plot_id, comm_id, msg_handler) {\n      if (window.comm_manager || ((window.Jupyter !== undefined) && (Jupyter.notebook.kernel != null))) {\n        var comm_manager = window.comm_manager || Jupyter.notebook.kernel.comm_manager;\n        comm_manager.register_target(comm_id, function(comm) {\n          comm.on_msg(msg_handler);\n        });\n      } else if ((plot_id in window.PyViz.kernels) && (window.PyViz.kernels[plot_id])) {\n        window.PyViz.kernels[plot_id].registerCommTarget(comm_id, function(comm) {\n          comm.onMsg = msg_handler;\n        });\n      } else if (typeof google != 'undefined' && google.colab.kernel != null) {\n        google.colab.kernel.comms.registerTarget(comm_id, (comm) => {\n          var messages = comm.messages[Symbol.asyncIterator]();\n          function processIteratorResult(result) {\n            var message = result.value;\n            console.log(message)\n            var content = {data: message.data, comm_id};\n            var buffers = []\n            for (var buffer of message.buffers || []) {\n              buffers.push(new DataView(buffer))\n            }\n            var metadata = message.metadata || {};\n            var msg = {content, buffers, metadata}\n            msg_handler(msg);\n            return messages.next().then(processIteratorResult);\n          }\n          return messages.next().then(processIteratorResult);\n        })\n      }\n    }\n\n    JupyterCommManager.prototype.get_client_comm = function(plot_id, comm_id, msg_handler) {\n      if (comm_id in window.PyViz.comms) {\n        return window.PyViz.comms[comm_id];\n      } else if (window.comm_manager || ((window.Jupyter !== undefined) && (Jupyter.notebook.kernel != null))) {\n        var comm_manager = window.comm_manager || Jupyter.notebook.kernel.comm_manager;\n        var comm = comm_manager.new_comm(comm_id, {}, {}, {}, comm_id);\n        if (msg_handler) {\n          comm.on_msg(msg_handler);\n        }\n      } else if ((plot_id in window.PyViz.kernels) && (window.PyViz.kernels[plot_id])) {\n        var comm = window.PyViz.kernels[plot_id].connectToComm(comm_id);\n        comm.open();\n        if (msg_handler) {\n          comm.onMsg = msg_handler;\n        }\n      } else if (typeof google != 'undefined' && google.colab.kernel != null) {\n        var comm_promise = google.colab.kernel.comms.open(comm_id)\n        comm_promise.then((comm) => {\n          window.PyViz.comms[comm_id] = comm;\n          if (msg_handler) {\n            var messages = comm.messages[Symbol.asyncIterator]();\n            function processIteratorResult(result) {\n              var message = result.value;\n              var content = {data: message.data};\n              var metadata = message.metadata || {comm_id};\n              var msg = {content, metadata}\n              msg_handler(msg);\n              return messages.next().then(processIteratorResult);\n            }\n            return messages.next().then(processIteratorResult);\n          }\n        }) \n        var sendClosure = (data, metadata, buffers, disposeOnDone) => {\n          return comm_promise.then((comm) => {\n            comm.send(data, metadata, buffers, disposeOnDone);\n          });\n        };\n        var comm = {\n          send: sendClosure\n        };\n      }\n      window.PyViz.comms[comm_id] = comm;\n      return comm;\n    }\n    window.PyViz.comm_manager = new JupyterCommManager();\n    \n\n\nvar JS_MIME_TYPE = 'application/javascript';\nvar HTML_MIME_TYPE = 'text/html';\nvar EXEC_MIME_TYPE = 'application/vnd.holoviews_exec.v0+json';\nvar CLASS_NAME = 'output';\n\n/**\n * Render data to the DOM node\n */\nfunction render(props, node) {\n  var div = document.createElement(\"div\");\n  var script = document.createElement(\"script\");\n  node.appendChild(div);\n  node.appendChild(script);\n}\n\n/**\n * Handle when a new output is added\n */\nfunction handle_add_output(event, handle) {\n  var output_area = handle.output_area;\n  var output = handle.output;\n  if ((output.data == undefined) || (!output.data.hasOwnProperty(EXEC_MIME_TYPE))) {\n    return\n  }\n  var id = output.metadata[EXEC_MIME_TYPE][\"id\"];\n  var toinsert = output_area.element.find(\".\" + CLASS_NAME.split(' ')[0]);\n  if (id !== undefined) {\n    var nchildren = toinsert.length;\n    var html_node = toinsert[nchildren-1].children[0];\n    html_node.innerHTML = output.data[HTML_MIME_TYPE];\n    var scripts = [];\n    var nodelist = html_node.querySelectorAll(\"script\");\n    for (var i in nodelist) {\n      if (nodelist.hasOwnProperty(i)) {\n        scripts.push(nodelist[i])\n      }\n    }\n\n    scripts.forEach( function (oldScript) {\n      var newScript = document.createElement(\"script\");\n      var attrs = [];\n      var nodemap = oldScript.attributes;\n      for (var j in nodemap) {\n        if (nodemap.hasOwnProperty(j)) {\n          attrs.push(nodemap[j])\n        }\n      }\n      attrs.forEach(function(attr) { newScript.setAttribute(attr.name, attr.value) });\n      newScript.appendChild(document.createTextNode(oldScript.innerHTML));\n      oldScript.parentNode.replaceChild(newScript, oldScript);\n    });\n    if (JS_MIME_TYPE in output.data) {\n      toinsert[nchildren-1].children[1].textContent = output.data[JS_MIME_TYPE];\n    }\n    output_area._hv_plot_id = id;\n    if ((window.Bokeh !== undefined) && (id in Bokeh.index)) {\n      window.PyViz.plot_index[id] = Bokeh.index[id];\n    } else {\n      window.PyViz.plot_index[id] = null;\n    }\n  } else if (output.metadata[EXEC_MIME_TYPE][\"server_id\"] !== undefined) {\n    var bk_div = document.createElement(\"div\");\n    bk_div.innerHTML = output.data[HTML_MIME_TYPE];\n    var script_attrs = bk_div.children[0].attributes;\n    for (var i = 0; i < script_attrs.length; i++) {\n      toinsert[toinsert.length - 1].childNodes[1].setAttribute(script_attrs[i].name, script_attrs[i].value);\n    }\n    // store reference to server id on output_area\n    output_area._bokeh_server_id = output.metadata[EXEC_MIME_TYPE][\"server_id\"];\n  }\n}\n\n/**\n * Handle when an output is cleared or removed\n */\nfunction handle_clear_output(event, handle) {\n  var id = handle.cell.output_area._hv_plot_id;\n  var server_id = handle.cell.output_area._bokeh_server_id;\n  if (((id === undefined) || !(id in PyViz.plot_index)) && (server_id !== undefined)) { return; }\n  var comm = window.PyViz.comm_manager.get_client_comm(\"hv-extension-comm\", \"hv-extension-comm\", function () {});\n  if (server_id !== null) {\n    comm.send({event_type: 'server_delete', 'id': server_id});\n    return;\n  } else if (comm !== null) {\n    comm.send({event_type: 'delete', 'id': id});\n  }\n  delete PyViz.plot_index[id];\n  if ((window.Bokeh !== undefined) & (id in window.Bokeh.index)) {\n    var doc = window.Bokeh.index[id].model.document\n    doc.clear();\n    const i = window.Bokeh.documents.indexOf(doc);\n    if (i > -1) {\n      window.Bokeh.documents.splice(i, 1);\n    }\n  }\n}\n\n/**\n * Handle kernel restart event\n */\nfunction handle_kernel_cleanup(event, handle) {\n  delete PyViz.comms[\"hv-extension-comm\"];\n  window.PyViz.plot_index = {}\n}\n\n/**\n * Handle update_display_data messages\n */\nfunction handle_update_output(event, handle) {\n  handle_clear_output(event, {cell: {output_area: handle.output_area}})\n  handle_add_output(event, handle)\n}\n\nfunction register_renderer(events, OutputArea) {\n  function append_mime(data, metadata, element) {\n    // create a DOM node to render to\n    var toinsert = this.create_output_subarea(\n    metadata,\n    CLASS_NAME,\n    EXEC_MIME_TYPE\n    );\n    this.keyboard_manager.register_events(toinsert);\n    // Render to node\n    var props = {data: data, metadata: metadata[EXEC_MIME_TYPE]};\n    render(props, toinsert[0]);\n    element.append(toinsert);\n    return toinsert\n  }\n\n  events.on('output_added.OutputArea', handle_add_output);\n  events.on('output_updated.OutputArea', handle_update_output);\n  events.on('clear_output.CodeCell', handle_clear_output);\n  events.on('delete.Cell', handle_clear_output);\n  events.on('kernel_ready.Kernel', handle_kernel_cleanup);\n\n  OutputArea.prototype.register_mime_type(EXEC_MIME_TYPE, append_mime, {\n    safe: true,\n    index: 0\n  });\n}\n\nif (window.Jupyter !== undefined) {\n  try {\n    var events = require('base/js/events');\n    var OutputArea = require('notebook/js/outputarea').OutputArea;\n    if (OutputArea.prototype.mime_types().indexOf(EXEC_MIME_TYPE) == -1) {\n      register_renderer(events, OutputArea);\n    }\n  } catch(err) {\n  }\n}\n",
      "application/javascript": "\nif ((window.PyViz === undefined) || (window.PyViz instanceof HTMLElement)) {\n  window.PyViz = {comms: {}, comm_status:{}, kernels:{}, receivers: {}, plot_index: []}\n}\n\n\n    function JupyterCommManager() {\n    }\n\n    JupyterCommManager.prototype.register_target = function(plot_id, comm_id, msg_handler) {\n      if (window.comm_manager || ((window.Jupyter !== undefined) && (Jupyter.notebook.kernel != null))) {\n        var comm_manager = window.comm_manager || Jupyter.notebook.kernel.comm_manager;\n        comm_manager.register_target(comm_id, function(comm) {\n          comm.on_msg(msg_handler);\n        });\n      } else if ((plot_id in window.PyViz.kernels) && (window.PyViz.kernels[plot_id])) {\n        window.PyViz.kernels[plot_id].registerCommTarget(comm_id, function(comm) {\n          comm.onMsg = msg_handler;\n        });\n      } else if (typeof google != 'undefined' && google.colab.kernel != null) {\n        google.colab.kernel.comms.registerTarget(comm_id, (comm) => {\n          var messages = comm.messages[Symbol.asyncIterator]();\n          function processIteratorResult(result) {\n            var message = result.value;\n            console.log(message)\n            var content = {data: message.data, comm_id};\n            var buffers = []\n            for (var buffer of message.buffers || []) {\n              buffers.push(new DataView(buffer))\n            }\n            var metadata = message.metadata || {};\n            var msg = {content, buffers, metadata}\n            msg_handler(msg);\n            return messages.next().then(processIteratorResult);\n          }\n          return messages.next().then(processIteratorResult);\n        })\n      }\n    }\n\n    JupyterCommManager.prototype.get_client_comm = function(plot_id, comm_id, msg_handler) {\n      if (comm_id in window.PyViz.comms) {\n        return window.PyViz.comms[comm_id];\n      } else if (window.comm_manager || ((window.Jupyter !== undefined) && (Jupyter.notebook.kernel != null))) {\n        var comm_manager = window.comm_manager || Jupyter.notebook.kernel.comm_manager;\n        var comm = comm_manager.new_comm(comm_id, {}, {}, {}, comm_id);\n        if (msg_handler) {\n          comm.on_msg(msg_handler);\n        }\n      } else if ((plot_id in window.PyViz.kernels) && (window.PyViz.kernels[plot_id])) {\n        var comm = window.PyViz.kernels[plot_id].connectToComm(comm_id);\n        comm.open();\n        if (msg_handler) {\n          comm.onMsg = msg_handler;\n        }\n      } else if (typeof google != 'undefined' && google.colab.kernel != null) {\n        var comm_promise = google.colab.kernel.comms.open(comm_id)\n        comm_promise.then((comm) => {\n          window.PyViz.comms[comm_id] = comm;\n          if (msg_handler) {\n            var messages = comm.messages[Symbol.asyncIterator]();\n            function processIteratorResult(result) {\n              var message = result.value;\n              var content = {data: message.data};\n              var metadata = message.metadata || {comm_id};\n              var msg = {content, metadata}\n              msg_handler(msg);\n              return messages.next().then(processIteratorResult);\n            }\n            return messages.next().then(processIteratorResult);\n          }\n        }) \n        var sendClosure = (data, metadata, buffers, disposeOnDone) => {\n          return comm_promise.then((comm) => {\n            comm.send(data, metadata, buffers, disposeOnDone);\n          });\n        };\n        var comm = {\n          send: sendClosure\n        };\n      }\n      window.PyViz.comms[comm_id] = comm;\n      return comm;\n    }\n    window.PyViz.comm_manager = new JupyterCommManager();\n    \n\n\nvar JS_MIME_TYPE = 'application/javascript';\nvar HTML_MIME_TYPE = 'text/html';\nvar EXEC_MIME_TYPE = 'application/vnd.holoviews_exec.v0+json';\nvar CLASS_NAME = 'output';\n\n/**\n * Render data to the DOM node\n */\nfunction render(props, node) {\n  var div = document.createElement(\"div\");\n  var script = document.createElement(\"script\");\n  node.appendChild(div);\n  node.appendChild(script);\n}\n\n/**\n * Handle when a new output is added\n */\nfunction handle_add_output(event, handle) {\n  var output_area = handle.output_area;\n  var output = handle.output;\n  if ((output.data == undefined) || (!output.data.hasOwnProperty(EXEC_MIME_TYPE))) {\n    return\n  }\n  var id = output.metadata[EXEC_MIME_TYPE][\"id\"];\n  var toinsert = output_area.element.find(\".\" + CLASS_NAME.split(' ')[0]);\n  if (id !== undefined) {\n    var nchildren = toinsert.length;\n    var html_node = toinsert[nchildren-1].children[0];\n    html_node.innerHTML = output.data[HTML_MIME_TYPE];\n    var scripts = [];\n    var nodelist = html_node.querySelectorAll(\"script\");\n    for (var i in nodelist) {\n      if (nodelist.hasOwnProperty(i)) {\n        scripts.push(nodelist[i])\n      }\n    }\n\n    scripts.forEach( function (oldScript) {\n      var newScript = document.createElement(\"script\");\n      var attrs = [];\n      var nodemap = oldScript.attributes;\n      for (var j in nodemap) {\n        if (nodemap.hasOwnProperty(j)) {\n          attrs.push(nodemap[j])\n        }\n      }\n      attrs.forEach(function(attr) { newScript.setAttribute(attr.name, attr.value) });\n      newScript.appendChild(document.createTextNode(oldScript.innerHTML));\n      oldScript.parentNode.replaceChild(newScript, oldScript);\n    });\n    if (JS_MIME_TYPE in output.data) {\n      toinsert[nchildren-1].children[1].textContent = output.data[JS_MIME_TYPE];\n    }\n    output_area._hv_plot_id = id;\n    if ((window.Bokeh !== undefined) && (id in Bokeh.index)) {\n      window.PyViz.plot_index[id] = Bokeh.index[id];\n    } else {\n      window.PyViz.plot_index[id] = null;\n    }\n  } else if (output.metadata[EXEC_MIME_TYPE][\"server_id\"] !== undefined) {\n    var bk_div = document.createElement(\"div\");\n    bk_div.innerHTML = output.data[HTML_MIME_TYPE];\n    var script_attrs = bk_div.children[0].attributes;\n    for (var i = 0; i < script_attrs.length; i++) {\n      toinsert[toinsert.length - 1].childNodes[1].setAttribute(script_attrs[i].name, script_attrs[i].value);\n    }\n    // store reference to server id on output_area\n    output_area._bokeh_server_id = output.metadata[EXEC_MIME_TYPE][\"server_id\"];\n  }\n}\n\n/**\n * Handle when an output is cleared or removed\n */\nfunction handle_clear_output(event, handle) {\n  var id = handle.cell.output_area._hv_plot_id;\n  var server_id = handle.cell.output_area._bokeh_server_id;\n  if (((id === undefined) || !(id in PyViz.plot_index)) && (server_id !== undefined)) { return; }\n  var comm = window.PyViz.comm_manager.get_client_comm(\"hv-extension-comm\", \"hv-extension-comm\", function () {});\n  if (server_id !== null) {\n    comm.send({event_type: 'server_delete', 'id': server_id});\n    return;\n  } else if (comm !== null) {\n    comm.send({event_type: 'delete', 'id': id});\n  }\n  delete PyViz.plot_index[id];\n  if ((window.Bokeh !== undefined) & (id in window.Bokeh.index)) {\n    var doc = window.Bokeh.index[id].model.document\n    doc.clear();\n    const i = window.Bokeh.documents.indexOf(doc);\n    if (i > -1) {\n      window.Bokeh.documents.splice(i, 1);\n    }\n  }\n}\n\n/**\n * Handle kernel restart event\n */\nfunction handle_kernel_cleanup(event, handle) {\n  delete PyViz.comms[\"hv-extension-comm\"];\n  window.PyViz.plot_index = {}\n}\n\n/**\n * Handle update_display_data messages\n */\nfunction handle_update_output(event, handle) {\n  handle_clear_output(event, {cell: {output_area: handle.output_area}})\n  handle_add_output(event, handle)\n}\n\nfunction register_renderer(events, OutputArea) {\n  function append_mime(data, metadata, element) {\n    // create a DOM node to render to\n    var toinsert = this.create_output_subarea(\n    metadata,\n    CLASS_NAME,\n    EXEC_MIME_TYPE\n    );\n    this.keyboard_manager.register_events(toinsert);\n    // Render to node\n    var props = {data: data, metadata: metadata[EXEC_MIME_TYPE]};\n    render(props, toinsert[0]);\n    element.append(toinsert);\n    return toinsert\n  }\n\n  events.on('output_added.OutputArea', handle_add_output);\n  events.on('output_updated.OutputArea', handle_update_output);\n  events.on('clear_output.CodeCell', handle_clear_output);\n  events.on('delete.Cell', handle_clear_output);\n  events.on('kernel_ready.Kernel', handle_kernel_cleanup);\n\n  OutputArea.prototype.register_mime_type(EXEC_MIME_TYPE, append_mime, {\n    safe: true,\n    index: 0\n  });\n}\n\nif (window.Jupyter !== undefined) {\n  try {\n    var events = require('base/js/events');\n    var OutputArea = require('notebook/js/outputarea').OutputArea;\n    if (OutputArea.prototype.mime_types().indexOf(EXEC_MIME_TYPE) == -1) {\n      register_renderer(events, OutputArea);\n    }\n  } catch(err) {\n  }\n}\n"
     },
     "metadata": {},
     "output_type": "display_data"
    },
    {
     "data": {
      "text/html": "<style>*[data-root-id],\n*[data-root-id] > * {\n  box-sizing: border-box;\n  font-family: var(--jp-ui-font-family);\n  font-size: var(--jp-ui-font-size1);\n  color: var(--vscode-editor-foreground, var(--jp-ui-font-color1));\n}\n\n/* Override VSCode background color */\n.cell-output-ipywidget-background:has(\n    > .cell-output-ipywidget-background > .lm-Widget > *[data-root-id]\n  ),\n.cell-output-ipywidget-background:has(> .lm-Widget > *[data-root-id]) {\n  background-color: transparent !important;\n}\n</style>"
     },
     "metadata": {},
     "output_type": "display_data"
    },
    {
     "data": {
      "text/html": "\n<div class=\"logo-block\">\n<img src='data:image/png;base64,iVBORw0KGgoAAAANSUhEUgAAAEAAAABACAYAAACqaXHeAAAABHNCSVQICAgIfAhkiAAAAAlwSFlz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\nroTBs2RqAAAAAElFTkSuQmCC'\n     style='height:25px; border-radius:12px; display: inline-block; float: left; vertical-align: middle'></img>\n\n\n  <img src='data:image/png;base64,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'\n       style='height:15px; border-radius:12px; display: inline-block; float: left'></img>\n  \n\n\n\n\n</div>\n"
     },
     "metadata": {},
     "output_type": "display_data"
    },
    {
     "data": {
      "text/html": "\n  <div id=\"c15aba99-2c9e-4efa-aaef-af07bce2f9cc\" data-root-id=\"p1131\" style=\"display: contents;\"></div>\n"
     },
     "metadata": {},
     "output_type": "display_data"
    },
    {
     "data": {
      "application/javascript": "(function(root) {\n  function embed_document(root) {\n  const docs_json = {\"6a88a5b1-25a6-40a0-bfdc-4a8bc23e712c\":{\"version\":\"3.2.2\",\"title\":\"Bokeh Application\",\"roots\":[{\"type\":\"object\",\"name\":\"Figure\",\"id\":\"p1131\",\"attributes\":{\"width\":768,\"height\":512,\"sizing_mode\":\"fixed\",\"align\":\"start\",\"x_range\":{\"type\":\"object\",\"name\":\"Range1d\",\"id\":\"p1126\",\"attributes\":{\"tags\":[[[\"picks\",\"picks\",null]],[]],\"start\":-22.666666666666668,\"end\":413.6666666666667,\"reset_start\":-22.666666666666668,\"reset_end\":413.6666666666667}},\"y_range\":{\"type\":\"object\",\"name\":\"Range1d\",\"id\":\"p1127\",\"attributes\":{\"tags\":[[[\"avg_pick\",\"avg_pick\",null]],{\"type\":\"map\",\"entries\":[[\"invert_yaxis\",false],[\"autorange\",false]]}],\"start\":5.948571428571428,\"end\":24.238441558441558,\"reset_start\":5.948571428571428,\"reset_end\":24.238441558441558}},\"x_scale\":{\"type\":\"object\",\"name\":\"LinearScale\",\"id\":\"p1141\"},\"y_scale\":{\"type\":\"object\",\"name\":\"LinearScale\",\"id\":\"p1142\"},\"title\":{\"type\":\"object\",\"name\":\"Title\",\"id\":\"p1134\",\"attributes\":{\"text_color\":\"#E0E0E0\",\"text_font\":\"Helvetica\",\"text_font_size\":\"1.15em\"}},\"outline_line_color\":\"#E0E0E0\",\"outline_line_alpha\":0.25,\"renderers\":[{\"type\":\"object\",\"name\":\"GlyphRenderer\",\"id\":\"p1168\",\"attributes\":{\"data_source\":{\"type\":\"object\",\"name\":\"ColumnDataSource\",\"id\":\"p1157\",\"attributes\":{\"selected\":{\"type\":\"object\",\"name\":\"Selection\",\"id\":\"p1158\",\"attributes\":{\"indices\":[],\"line_indices\":[]}},\"selection_policy\":{\"type\":\"object\",\"name\":\"UnionRenderers\",\"id\":\"p1159\"},\"data\":{\"type\":\"map\",\"entries\":[[\"picks\",{\"type\":\"ndarray\",\"array\":{\"type\":\"bytes\",\"data\":\"IQAAAF8AAAAXAAAASgAAAAYAAAAkAAAAJgAAAMEAAAD1AAAAiwAAAEIAAAApAAAADgAAAG4AAAAlAAAAHwAAADYAAAAOAAAAkgAAAIgAAABxAAAANgAAACEAAAAIAAAAaAAAAN4AAAALAQAAaAAAAD4AAAA1AAAAPwAAAC8AAAD7AAAADgEAAGsAAABQAAAAGgAAABgAAAAwAAAADQAAAC8AAABaAAAAIQAAADIAAACKAAAAQAAAAD0AAAB5AAAATgAAAB8AAABHAAAANgAAABcAAAAmAAAAQwAAAFEAAAA7AAAATQAAAIAAAAAIAAAApQAAAIQAAADJAAAANgAAAG4AAACMAAAAFAAAABIAAAAfAAAACgAAABEAAAAhAAAABgAAAM8AAAAoAAAAPgAAAGkAAAB/AAAAXgAAAB4AAACYAAAASgAAABkAAABKAAAAhAEAAAsAAACWAAAAPQAAAAMAAACTAAAAlwAAAAcAAAB3AAAArwAAACAAAAATAAAAbAAAANUAAAA8AAAA3gAAAHUAAACuAAAAaQAAAJYAAAASAAAAlQAAAGgAAAAmAAAAewAAAIAAAAATAQAARwAAACkAAAA7AAAAEQAAADYAAAB1AAAAIwAAAAgAAABdAAAAEAAAABEAAAAVAAAAJgAAAA==\"},\"shape\":[124],\"dtype\":\"int32\",\"order\":\"little\"}],[\"avg_pick\",{\"type\":\"ndarray\",\"array\":{\"type\":\"bytes\",\"data\":\"fPDBBx98M0AzMzMzMzMrQKc3velNbyhA8lk3mCKfKUBVVVVVVVU0QAAAAAAAQDNAoryG8hrKLUCRUwG/cGsjQHg5BS+n4CNAcoYFl8r2LkCjiy666KIoQCxRuxK1KzBAkiRJkiTJNUCHtW9Y+4YiQPmsG0yRzzBAQgghhBBCNEDkOI7jOI4iQEmSJEmSJC5AX7169erVKUA8PDw8PHwnQBAJvP2QwDFAE9pLaC+hLUAIH3zwwQcwQAAAAAAAgCxAntiJndiJI0AgLtScBOIlQBNEywTRMiFAntiJndjJLEAhhBBCCCExQFf2OaQmGC1AURRFURRFL0C0Ud/ZqO8sQN6SUEPaXi1A5DiO4ziOH0AMsaI0PjInQAAAAAAAwDJA2Ymd2ImdLEBVVVVVVdUlQFVVVVVVNStAxU7sxE7sMkCejfrORn0tQPVJn/RJnyBAsskmm2yyKUBcj8L1KNwyQKPEzyjxMyRAAAAAAADEMUBHm/cpLhkwQFfPDoEbyyZAy7d8y7d8LUBba6211lo1QLTC5kCiFSJAX0J7Ce0lLkAWspCFLGQ0QNhQXkN5DTNAkR6onN3CMUBMaC+hvYQoQNBwUvflsStAvmNqYO+YMEAAAAAAAAgkQAAAAAAAYDVApF5H6nWkKECEDz744IMtQLl3kqWOECdAVVVVVVXVMECCPCXIU4IuQNu2bdu2bSBAmpmZmZmZM0Acx3Ecx3EuQNdaa6211ipAMzMzMzMzM0CmpaWlpaUzQNlkk0022S5AAAAAAACANEB8pJXJExArQAAAAAAAYDJAlVJKKaUUMkAiIiIiIiIqQEkkEolEIi1ATK4gJleQMEDNzMzMzEwxQAAAAAAAgCBApshn3WCKMUBcj8L1KFwwQJHPusEU+StAxtUPOirwI0B00UUXXXQ0QHE9CtejcClAxSVDsI42MkCrqqqqqqozQAeUiSvdGypA5W/yN/mbKkBu27Zt27Y2QDGfejGfei9A16NwPQrXK0AAAAAAAEA0QF5DeQ3lNTRA0V5CewltKUBwl3oyfrsoQLy7u7u7OzBApFfG9jt6IEAUO7ETO7ExQBphuacRFjBALuVSLuVSMECPwvUoXI8lQDmO4ziO4zVAj7lEeFKQKkBiJ3ZiJ/YfQOU1lNdQ3jNACoGmEGgKJ0AAAAAAAGAqQOQpQZ4S5B1Axm+XejJ+MkC7ErUrUbsqQHlsRdBwUi1AeHh4eHh4NUAvob2E9hIrQAuv8Aqv8C5AJUmSJEmSKEAAAAAAAKAzQDLGGGOMMTBAAAAAAAAwM0CXlpaWlpYwQJIkSZIkSTNAeQ3lNZTXMUA=\"},\"shape\":[124],\"dtype\":\"float64\",\"order\":\"little\"}],[\"bans\",{\"type\":\"ndarray\",\"array\":{\"type\":\"bytes\",\"data\":\"FQAAAHQAAAAvAAAA+wAAAAQAAAAzAAAACAAAANQBAADGAQAAZwEAAE0AAAB+AAAADQAAANYBAAAnAAAAMwAAAGsAAAAGAAAAbQAAACQAAAACAQAAEAAAACQAAAAOAAAAogAAALgAAAB7AQAAhQAAAJUAAAAgAAAAHwAAABAAAABhAQAAaQEAAL4AAADNAAAAEQAAAD0AAAARAAAAKgAAAG0AAACJAAAADgAAADYAAABdAAAASAAAAGsAAAB8AAAADAAAADMAAACaAAAAEwAAACwAAAARAAAAgwAAAEEAAABBAAAAQwAAACUBAAAOAAAATQAAAEEBAABZAQAAMwAAAHkBAACmAAAAEAAAACYAAAAWAAAAAQAAAAwAAAAYAAAAHgAAANkBAAAqAAAAuAAAAE0AAAC+AAAAHAEAABgAAAC3AAAAiAAAABcAAABuAAAA4gAAAAMAAABwAAAAUQAAAAAAAAByAAAAVQAAAAYAAABTAQAAkgAAADcAAAAUAAAARAAAAFUBAABnAAAAyAAAANIAAABCAQAAvgAAAGkBAAAxAAAAbAAAAFEAAAAwAAAAOgAAAKwAAAAsAQAAtAAAABcAAABBAAAALgAAAFAAAABLAAAAHwAAAAMAAABEAAAAEgAAAAsAAAAKAAAAOgAAAA==\"},\"shape\":[124],\"dtype\":\"int32\",\"order\":\"little\"}],[\"localized_name\",[\"Abaddon\",\"Alchemist\",\"Ancient Apparition\",\"Anti-Mage\",\"Arc Warden\",\"Axe\",\"Bane\",\"Batrider\",\"Beastmaster\",\"Bloodseeker\",\"Bounty Hunter\",\"Brewmaster\",\"Bristleback\",\"Broodmother\",\"Centaur Warrunner\",\"Chaos Knight\",\"Chen\",\"Clinkz\",\"Clockwerk\",\"Crystal Maiden\",\"Dark Seer\",\"Dark Willow\",\"Dawnbreaker\",\"Dazzle\",\"Death Prophet\",\"Disruptor\",\"Doom\",\"Dragon Knight\",\"Drow Ranger\",\"Earth Spirit\",\"Earthshaker\",\"Elder Titan\",\"Ember Spirit\",\"Enchantress\",\"Enigma\",\"Faceless Void\",\"Grimstroke\",\"Gyrocopter\",\"Hoodwink\",\"Huskar\",\"Invoker\",\"Io\",\"Jakiro\",\"Juggernaut\",\"Keeper of the Light\",\"Kunkka\",\"Legion Commander\",\"Leshrac\",\"Lich\",\"Lifestealer\",\"Lina\",\"Lion\",\"Lone Druid\",\"Luna\",\"Lycan\",\"Magnus\",\"Marci\",\"Mars\",\"Medusa\",\"Meepo\",\"Mirana\",\"Monkey King\",\"Morphling\",\"Muerta\",\"Naga Siren\",\"Nature's Prophet\",\"Necrophos\",\"Night Stalker\",\"Nyx Assassin\",\"Ogre Magi\",\"Omniknight\",\"Oracle\",\"Outworld Destroyer\",\"Pangolier\",\"Phantom Assassin\",\"Phantom Lancer\",\"Phoenix\",\"Primal Beast\",\"Puck\",\"Pudge\",\"Pugna\",\"Queen of Pain\",\"Razor\",\"Riki\",\"Rubick\",\"Sand King\",\"Shadow Demon\",\"Shadow Fiend\",\"Shadow Shaman\",\"Silencer\",\"Skywrath Mage\",\"Slardar\",\"Slark\",\"Snapfire\",\"Sniper\",\"Spectre\",\"Spirit Breaker\",\"Storm Spirit\",\"Sven\",\"Techies\",\"Templar Assassin\",\"Terrorblade\",\"Tidehunter\",\"Timbersaw\",\"Tinker\",\"Tiny\",\"Treant Protector\",\"Troll Warlord\",\"Tusk\",\"Underlord\",\"Undying\",\"Ursa\",\"Vengeful Spirit\",\"Venomancer\",\"Viper\",\"Visage\",\"Void Spirit\",\"Warlock\",\"Weaver\",\"Windranger\",\"Winter Wyvern\",\"Witch Doctor\",\"Wraith King\",\"Zeus\"]],[\"color\",{\"type\":\"ndarray\",\"array\":{\"type\":\"bytes\",\"data\":\"FQAAAHQAAAAvAAAA+wAAAAQAAAAzAAAACAAAANQBAADGAQAAZwEAAE0AAAB+AAAADQAAANYBAAAnAAAAMwAAAGsAAAAGAAAAbQAAACQAAAACAQAAEAAAACQAAAAOAAAAogAAALgAAAB7AQAAhQAAAJUAAAAgAAAAHwAAABAAAABhAQAAaQEAAL4AAADNAAAAEQAAAD0AAAARAAAAKgAAAG0AAACJAAAADgAAADYAAABdAAAASAAAAGsAAAB8AAAADAAAADMAAACaAAAAEwAAACwAAAARAAAAgwAAAEEAAABBAAAAQwAAACUBAAAOAAAATQAAAEEBAABZAQAAMwAAAHkBAACmAAAAEAAAACYAAAAWAAAAAQAAAAwAAAAYAAAAHgAAANkBAAAqAAAAuAAAAE0AAAC+AAAAHAEAABgAAAC3AAAAiAAAABcAAABuAAAA4gAAAAMAAABwAAAAUQAAAAAAAAByAAAAVQAAAAYAAABTAQAAkgAAADcAAAAUAAAARAAAAFUBAABnAAAAyAAAANIAAABCAQAAvgAAAGkBAAAxAAAAbAAAAFEAAAAwAAAAOgAAAKwAAAAsAQAAtAAAABcAAABBAAAALgAAAFAAAABLAAAAHwAAAAMAAABEAAAAEgAAAAsAAAAKAAAAOgAAAA==\"},\"shape\":[124],\"dtype\":\"int32\",\"order\":\"little\"}],[\"size\",{\"type\":\"ndarray\",\"array\":{\"type\":\"bytes\",\"data\":\"hR4VuY5UEkDz2aikaIolQOaTNbgwbBtA8ujnApuvL0AAAAAAAAAAQM5DLZ3SkBxAzTt/Zp6gBkB3A0lzIKI1QA+KrJ+pTjVAHXs58oHyMkDj09YhyIwhQHcvDo0vcyZA81lhRCvYDED7jJSf8q01QIrTWsHg+hhAzkMtndKQHECICnxPK7AkQC4hCRSOmANAN/nP2m/hJEAAAAAAAAAYQOsN9gf4DzBAAAAAAAAAEEAAAAAAAAAYQEk/aBHq7g1ARiNPM7J0KUAj0HAcGyErQBVOEcLJdzNAMl5eC6wQJ0BGw1yowWkoQM07f2aeoBZAw8FoBWRFFkAAAAAAAAAQQDUgiabNyTJAAAAAAAAAM0DsZInWbpErQPeAQXG5oixAB+2vZg9+EEBodE4Xsj0fQAftr2YPfhBAZBImSkfsGUA3+c/ab+EkQOARPG3OaCdAST9oEeruDUDGsQ0e1WQdQEAFsZeMSSNA2WzfzHb4IECICnxPK7AkQMPBaAVkRSZAqkxY6Hq2C0DOQy2d0pAcQKwgf77A0ShA+U1kNINvEUA0b/2TcogaQAftr2YPfhBAdTv7mxvkJkDQumE/4B8gQNC6YT/gHyBAi9T6juZeIEBm7kCfAx4xQEk/aBHq7g1A49PWIciMIUBvKUD3neoxQGJiaiz9kjJAzkMtndKQHEAvdm/ynmozQHdwm5aoxClAAAAAAAAAEEBZBvckXKgYQKdWVFn8whJAAAAAAAAA8D+qTFjoerYLQC4hCRSOmBNAj6U20q3oFUAcJALWob81QGQSJkpH7BlAI9BwHBshK0Dj09YhyIwhQOxkidZukStABvuVTTDaMEAuIQkUjpgTQPU4myY1DitAoqOzDeVSJ0AWBHd17i4TQLPsxLvm+SRAr18QOQwRLkCqTFjoerb7P+r40ql/KiVAAAAAAAAAIkAAAAAAAAAAAFqdKgCqWiVAmi6QIWhwIkAuIQkUjpgDQGs/arp1aTJAbE55AIUqKEDY4arvL6odQKj0l5t34xFAB+2vZg9+IEBok6/rV3cyQFNx5YM7TCRAwAofAMZILEAMzJ27lfssQP+onHnB8TFA7GSJ1m6RK0AAAAAAAAAzQAAAAAAAABxAgDlCLtzIJEAAAAAAAAAiQKpMWOh6thtAcMSdOY12HkBgoR0q0ToqQOsvN9EMUjFA/O5jaTPVKkAWBHd17i4TQNC6YT/gHyBAI9BwHBshG0Co9Jebd+MhQOsvN9EMUiFAw8FoBWRFFkCqTFjoerb7Pwftr2YPfiBA2WzfzHb4EEA0b/2TcogKQFNb2jpYTAlAcMSdOY12HkA=\"},\"shape\":[124],\"dtype\":\"float64\",\"order\":\"little\"}]]}}},\"view\":{\"type\":\"object\",\"name\":\"CDSView\",\"id\":\"p1169\",\"attributes\":{\"filter\":{\"type\":\"object\",\"name\":\"AllIndices\",\"id\":\"p1170\"}}},\"glyph\":{\"type\":\"object\",\"name\":\"Scatter\",\"id\":\"p1163\",\"attributes\":{\"tags\":[\"apply_ranges\"],\"x\":{\"type\":\"field\",\"field\":\"picks\"},\"y\":{\"type\":\"field\",\"field\":\"avg_pick\"},\"size\":{\"type\":\"field\",\"field\":\"size\"},\"line_color\":{\"type\":\"field\",\"field\":\"color\",\"transform\":{\"type\":\"object\",\"name\":\"LinearColorMapper\",\"id\":\"p1156\",\"attributes\":{\"palette\":[\"#b3fef5\",\"#b0fef5\",\"#adfdf5\",\"#a9fcf5\",\"#a6fbf6\",\"#a3faf6\",\"#a0faf6\",\"#9df9f6\",\"#9af8f6\",\"#97f7f6\",\"#93f7f6\",\"#90f6f6\",\"#8df5f6\",\"#8af4f7\",\"#87f3f7\",\"#83f2f7\",\"#80f2f7\",\"#7df1f7\",\"#79f0f7\",\"#76eff7\",\"#73eef7\",\"#6fedf8\",\"#6cecf8\",\"#68ecf8\",\"#65ebf8\",\"#61eaf8\",\"#5ee9f8\",\"#5ae8f8\",\"#57e7f8\",\"#53e6f8\",\"#50e5f9\",\"#4ce4f9\",\"#49e3f9\",\"#45e2f9\",\"#42e1f9\",\"#3ee0f9\",\"#3bdff9\",\"#38def9\",\"#35ddf9\",\"#32dcf9\",\"#30dbfa\",\"#2ed9fa\",\"#2dd8fa\",\"#2cd7fa\",\"#2bd6fa\",\"#2bd5fa\",\"#2ad3fa\",\"#2ad2fa\",\"#29d1fa\",\"#29d0fb\",\"#29cffb\",\"#28cdfb\",\"#28ccfb\",\"#28cbfb\",\"#28cafb\",\"#28c8fb\",\"#28c7fb\",\"#29c6fb\",\"#29c5fb\",\"#29c4fb\",\"#29c2fb\",\"#2ac1fb\",\"#2ac0fb\",\"#2bbffb\",\"#2bbdfc\",\"#2cbcfc\",\"#2dbbfc\",\"#2db9fc\",\"#2eb8fc\",\"#2fb7fc\",\"#2fb6fc\",\"#30b4fc\",\"#31b3fc\",\"#32b2fc\",\"#32b0fc\",\"#33affc\",\"#33aefc\",\"#34adfc\",\"#34abfc\",\"#34aafc\",\"#35a9fc\",\"#35a8fc\",\"#35a6fc\",\"#35a5fc\",\"#35a4fc\",\"#35a3fc\",\"#35a1fc\",\"#35a0fc\",\"#359ffc\",\"#359dfc\",\"#359cfc\",\"#359bfc\",\"#349afd\",\"#3498fd\",\"#3497fd\",\"#3396fd\",\"#3395fd\",\"#3293fd\",\"#3292fd\",\"#3191fd\",\"#3090fd\",\"#308ffd\",\"#2f8dfd\",\"#2f8cfd\",\"#2e8bfd\",\"#2e8afd\",\"#2d88fd\",\"#2d87fd\",\"#2c86fd\",\"#2c84fd\",\"#2c83fd\",\"#2c82fd\",\"#2b81fd\",\"#2b7ffd\",\"#2b7efd\",\"#2b7dfd\",\"#2b7bfd\",\"#2b7afd\",\"#2b79fd\",\"#2b77fd\",\"#2b76fd\",\"#2b75fd\",\"#2b73fd\",\"#2c72fd\",\"#2c71fd\",\"#2c6ffd\",\"#2c6efd\",\"#2d6cfd\",\"#2d6bfd\",\"#2d6afc\",\"#2e68fc\",\"#2e67fc\",\"#2e65fc\",\"#2e64fc\",\"#2f62fc\",\"#2f61fc\",\"#2f5ffc\",\"#2f5efc\",\"#2f5dfc\",\"#2f5bfc\",\"#2f5afc\",\"#2f58fb\",\"#2f57fb\",\"#2f55fb\",\"#2f53fb\",\"#2f52fb\",\"#2f50fb\",\"#2f4ffb\",\"#2f4dfb\",\"#2e4cfb\",\"#2e4afb\",\"#2e48fb\",\"#2e47fa\",\"#2d45fa\",\"#2d43fa\",\"#2d42fa\",\"#2d40fa\",\"#2c3efa\",\"#2c3dfa\",\"#2b3bf9\",\"#2b39f9\",\"#2a37f9\",\"#2a36f8\",\"#2934f8\",\"#2832f7\",\"#2831f7\",\"#272ff6\",\"#262ef5\",\"#252cf5\",\"#252af4\",\"#2429f3\",\"#2327f2\",\"#2226f1\",\"#2124f0\",\"#2023ef\",\"#1f22ee\",\"#1e20ed\",\"#1d1feb\",\"#1c1eea\",\"#1b1ce9\",\"#1a1be7\",\"#181ae6\",\"#1719e5\",\"#1618e3\",\"#1417e1\",\"#1316e0\",\"#1215de\",\"#1014dc\",\"#0f13db\",\"#0e12d9\",\"#0d11d7\",\"#0c10d5\",\"#0b0fd3\",\"#0a0ed1\",\"#090dd0\",\"#080dce\",\"#080ccc\",\"#070bca\",\"#070ac8\",\"#0709c6\",\"#0708c4\",\"#0707c2\",\"#0707bf\",\"#0806bd\",\"#0806bb\",\"#0905b9\",\"#0904b7\",\"#0a04b5\",\"#0a04b2\",\"#0b03b0\",\"#0c03ae\",\"#0d02ab\",\"#0e02a9\",\"#0e02a7\",\"#0f02a4\",\"#0f01a2\",\"#1001a0\",\"#10019d\",\"#10019b\",\"#100199\",\"#100197\",\"#100194\",\"#0f0192\",\"#0f0190\",\"#0f018e\",\"#0e018b\",\"#0e0189\",\"#0d0187\",\"#0d0185\",\"#0c0183\",\"#0b0181\",\"#0b017e\",\"#0a017c\",\"#09017a\",\"#090178\",\"#080276\",\"#070274\",\"#060272\",\"#060270\",\"#05026e\",\"#04026c\",\"#030269\",\"#030267\",\"#020265\",\"#010263\",\"#010261\",\"#00025f\",\"#00025d\",\"#00025b\",\"#000259\",\"#000257\",\"#000255\",\"#000154\",\"#000152\",\"#000150\",\"#00004e\"],\"low\":0,\"high\":473}}},\"fill_color\":{\"type\":\"field\",\"field\":\"color\",\"transform\":{\"id\":\"p1156\"}},\"hatch_color\":{\"type\":\"field\",\"field\":\"color\",\"transform\":{\"id\":\"p1156\"}}}},\"selection_glyph\":{\"type\":\"object\",\"name\":\"Scatter\",\"id\":\"p1165\",\"attributes\":{\"tags\":[\"apply_ranges\"],\"x\":{\"type\":\"field\",\"field\":\"picks\"},\"y\":{\"type\":\"field\",\"field\":\"avg_pick\"},\"size\":{\"type\":\"field\",\"field\":\"size\"},\"line_color\":{\"type\":\"field\",\"field\":\"color\",\"transform\":{\"id\":\"p1156\"}},\"fill_color\":{\"type\":\"field\",\"field\":\"color\",\"transform\":{\"id\":\"p1156\"}},\"hatch_color\":{\"type\":\"field\",\"field\":\"color\",\"transform\":{\"id\":\"p1156\"}}}},\"nonselection_glyph\":{\"type\":\"object\",\"name\":\"Scatter\",\"id\":\"p1164\",\"attributes\":{\"tags\":[\"apply_ranges\"],\"x\":{\"type\":\"field\",\"field\":\"picks\"},\"y\":{\"type\":\"field\",\"field\":\"avg_pick\"},\"size\":{\"type\":\"field\",\"field\":\"size\"},\"line_color\":{\"type\":\"field\",\"field\":\"color\",\"transform\":{\"id\":\"p1156\"}},\"line_alpha\":{\"type\":\"value\",\"value\":0.1},\"fill_color\":{\"type\":\"field\",\"field\":\"color\",\"transform\":{\"id\":\"p1156\"}},\"fill_alpha\":{\"type\":\"value\",\"value\":0.1},\"hatch_color\":{\"type\":\"field\",\"field\":\"color\",\"transform\":{\"id\":\"p1156\"}},\"hatch_alpha\":{\"type\":\"value\",\"value\":0.1}}},\"hover_glyph\":{\"type\":\"object\",\"name\":\"Scatter\",\"id\":\"p1166\",\"attributes\":{\"tags\":[\"apply_ranges\"],\"x\":{\"type\":\"field\",\"field\":\"picks\"},\"y\":{\"type\":\"field\",\"field\":\"avg_pick\"},\"size\":{\"type\":\"field\",\"field\":\"size\"},\"line_color\":{\"type\":\"field\",\"field\":\"color\",\"transform\":{\"id\":\"p1156\"}},\"fill_color\":{\"type\":\"field\",\"field\":\"color\",\"transform\":{\"id\":\"p1156\"}},\"hatch_color\":{\"type\":\"field\",\"field\":\"color\",\"transform\":{\"id\":\"p1156\"}}}},\"muted_glyph\":{\"type\":\"object\",\"name\":\"Scatter\",\"id\":\"p1167\",\"attributes\":{\"tags\":[\"apply_ranges\"],\"x\":{\"type\":\"field\",\"field\":\"picks\"},\"y\":{\"type\":\"field\",\"field\":\"avg_pick\"},\"size\":{\"type\":\"field\",\"field\":\"size\"},\"line_color\":{\"type\":\"field\",\"field\":\"color\",\"transform\":{\"id\":\"p1156\"}},\"line_alpha\":{\"type\":\"value\",\"value\":0.2},\"fill_color\":{\"type\":\"field\",\"field\":\"color\",\"transform\":{\"id\":\"p1156\"}},\"fill_alpha\":{\"type\":\"value\",\"value\":0.2},\"hatch_color\":{\"type\":\"field\",\"field\":\"color\",\"transform\":{\"id\":\"p1156\"}},\"hatch_alpha\":{\"type\":\"value\",\"value\":0.2}}}}}],\"toolbar\":{\"type\":\"object\",\"name\":\"Toolbar\",\"id\":\"p1140\",\"attributes\":{\"tools\":[{\"type\":\"object\",\"name\":\"HoverTool\",\"id\":\"p1130\",\"attributes\":{\"tags\":[\"hv_created\"],\"renderers\":[{\"id\":\"p1168\"}],\"tooltips\":[[\"picks\",\"@{picks}\"],[\"avg_pick\",\"@{avg_pick}\"],[\"bans\",\"@{bans}\"],[\"localized_name\",\"@{localized_name}\"]]}},{\"type\":\"object\",\"name\":\"BoxZoomTool\",\"id\":\"p1153\",\"attributes\":{\"overlay\":{\"type\":\"object\",\"name\":\"BoxAnnotation\",\"id\":\"p1154\",\"attributes\":{\"syncable\":false,\"level\":\"overlay\",\"visible\":false,\"left_units\":\"canvas\",\"right_units\":\"canvas\",\"bottom_units\":\"canvas\",\"top_units\":\"canvas\",\"line_color\":\"black\",\"line_alpha\":1.0,\"line_width\":2,\"line_dash\":[4,4],\"fill_color\":\"lightgrey\",\"fill_alpha\":0.5}}}},{\"type\":\"object\",\"name\":\"ResetTool\",\"id\":\"p1155\"}]}},\"left\":[{\"type\":\"object\",\"name\":\"LinearAxis\",\"id\":\"p1148\",\"attributes\":{\"ticker\":{\"type\":\"object\",\"name\":\"BasicTicker\",\"id\":\"p1149\",\"attributes\":{\"mantissas\":[1,2,5]}},\"formatter\":{\"type\":\"object\",\"name\":\"BasicTickFormatter\",\"id\":\"p1150\"},\"axis_label\":\"avg_pick\",\"axis_label_standoff\":10,\"axis_label_text_color\":\"#E0E0E0\",\"axis_label_text_font\":\"Helvetica\",\"axis_label_text_font_size\":\"1.25em\",\"axis_label_text_font_style\":\"normal\",\"major_label_policy\":{\"type\":\"object\",\"name\":\"AllLabels\",\"id\":\"p1151\"},\"major_label_text_color\":\"#E0E0E0\",\"major_label_text_font\":\"Helvetica\",\"major_label_text_font_size\":\"1.025em\",\"axis_line_color\":\"#E0E0E0\",\"axis_line_alpha\":0,\"major_tick_line_color\":\"#E0E0E0\",\"major_tick_line_alpha\":0,\"minor_tick_line_color\":\"#E0E0E0\",\"minor_tick_line_alpha\":0}}],\"right\":[{\"type\":\"object\",\"name\":\"ColorBar\",\"id\":\"p1172\",\"attributes\":{\"location\":[0,0],\"title_text_color\":\"#E0E0E0\",\"title_text_font\":\"Helvetica\",\"title_text_font_size\":\"1.025em\",\"title_text_font_style\":\"normal\",\"ticker\":{\"type\":\"object\",\"name\":\"BasicTicker\",\"id\":\"p1171\",\"attributes\":{\"mantissas\":[1,2,5]}},\"major_label_policy\":{\"type\":\"object\",\"name\":\"NoOverlap\",\"id\":\"p1173\"},\"major_label_text_color\":\"#E0E0E0\",\"major_label_text_font\":\"Helvetica\",\"major_label_text_font_size\":\"1.025em\",\"label_standoff\":8,\"major_tick_line_color\":\"black\",\"major_tick_line_alpha\":0,\"bar_line_color\":\"black\",\"bar_line_alpha\":0,\"background_fill_color\":\"#15191C\",\"color_mapper\":{\"id\":\"p1156\"}}}],\"below\":[{\"type\":\"object\",\"name\":\"LinearAxis\",\"id\":\"p1143\",\"attributes\":{\"ticker\":{\"type\":\"object\",\"name\":\"BasicTicker\",\"id\":\"p1144\",\"attributes\":{\"mantissas\":[1,2,5]}},\"formatter\":{\"type\":\"object\",\"name\":\"BasicTickFormatter\",\"id\":\"p1145\"},\"axis_label\":\"picks\",\"axis_label_standoff\":10,\"axis_label_text_color\":\"#E0E0E0\",\"axis_label_text_font\":\"Helvetica\",\"axis_label_text_font_size\":\"1.25em\",\"axis_label_text_font_style\":\"normal\",\"major_label_policy\":{\"type\":\"object\",\"name\":\"AllLabels\",\"id\":\"p1146\"},\"major_label_text_color\":\"#E0E0E0\",\"major_label_text_font\":\"Helvetica\",\"major_label_text_font_size\":\"1.025em\",\"axis_line_color\":\"#E0E0E0\",\"axis_line_alpha\":0,\"major_tick_line_color\":\"#E0E0E0\",\"major_tick_line_alpha\":0,\"minor_tick_line_color\":\"#E0E0E0\",\"minor_tick_line_alpha\":0}}],\"center\":[{\"type\":\"object\",\"name\":\"Grid\",\"id\":\"p1147\",\"attributes\":{\"axis\":{\"id\":\"p1143\"},\"ticker\":{\"id\":\"p1144\"},\"grid_line_color\":\"#E0E0E0\",\"grid_line_alpha\":0.25}},{\"type\":\"object\",\"name\":\"Grid\",\"id\":\"p1152\",\"attributes\":{\"dimension\":1,\"axis\":{\"id\":\"p1148\"},\"ticker\":{\"id\":\"p1149\"},\"grid_line_color\":\"#E0E0E0\",\"grid_line_alpha\":0.25}}],\"background_fill_color\":\"#2b3035\",\"border_fill_color\":\"#212529\",\"min_border_top\":10,\"min_border_bottom\":10,\"min_border_left\":10,\"min_border_right\":10,\"output_backend\":\"webgl\"}}],\"defs\":[{\"type\":\"model\",\"name\":\"ReactiveHTML1\"},{\"type\":\"model\",\"name\":\"FlexBox1\",\"properties\":[{\"name\":\"align_content\",\"kind\":\"Any\",\"default\":\"flex-start\"},{\"name\":\"align_items\",\"kind\":\"Any\",\"default\":\"flex-start\"},{\"name\":\"flex_direction\",\"kind\":\"Any\",\"default\":\"row\"},{\"name\":\"flex_wrap\",\"kind\":\"Any\",\"default\":\"wrap\"},{\"name\":\"justify_content\",\"kind\":\"Any\",\"default\":\"flex-start\"}]},{\"type\":\"model\",\"name\":\"FloatPanel1\",\"properties\":[{\"name\":\"config\",\"kind\":\"Any\",\"default\":{\"type\":\"map\"}},{\"name\":\"contained\",\"kind\":\"Any\",\"default\":true},{\"name\":\"position\",\"kind\":\"Any\",\"default\":\"right-top\"},{\"name\":\"offsetx\",\"kind\":\"Any\",\"default\":null},{\"name\":\"offsety\",\"kind\":\"Any\",\"default\":null},{\"name\":\"theme\",\"kind\":\"Any\",\"default\":\"primary\"},{\"name\":\"status\",\"kind\":\"Any\",\"default\":\"normalized\"}]},{\"type\":\"model\",\"name\":\"GridStack1\",\"properties\":[{\"name\":\"mode\",\"kind\":\"Any\",\"default\":\"warn\"},{\"name\":\"ncols\",\"kind\":\"Any\",\"default\":null},{\"name\":\"nrows\",\"kind\":\"Any\",\"default\":null},{\"name\":\"allow_resize\",\"kind\":\"Any\",\"default\":true},{\"name\":\"allow_drag\",\"kind\":\"Any\",\"default\":true},{\"name\":\"state\",\"kind\":\"Any\",\"default\":[]}]},{\"type\":\"model\",\"name\":\"drag1\",\"properties\":[{\"name\":\"slider_width\",\"kind\":\"Any\",\"default\":5},{\"name\":\"slider_color\",\"kind\":\"Any\",\"default\":\"black\"},{\"name\":\"value\",\"kind\":\"Any\",\"default\":50}]},{\"type\":\"model\",\"name\":\"click1\",\"properties\":[{\"name\":\"terminal_output\",\"kind\":\"Any\",\"default\":\"\"},{\"name\":\"debug_name\",\"kind\":\"Any\",\"default\":\"\"},{\"name\":\"clears\",\"kind\":\"Any\",\"default\":0}]},{\"type\":\"model\",\"name\":\"FastWrapper1\",\"properties\":[{\"name\":\"object\",\"kind\":\"Any\",\"default\":null},{\"name\":\"style\",\"kind\":\"Any\",\"default\":null}]},{\"type\":\"model\",\"name\":\"NotificationAreaBase1\",\"properties\":[{\"name\":\"js_events\",\"kind\":\"Any\",\"default\":{\"type\":\"map\"}},{\"name\":\"position\",\"kind\":\"Any\",\"default\":\"bottom-right\"},{\"name\":\"_clear\",\"kind\":\"Any\",\"default\":0}]},{\"type\":\"model\",\"name\":\"NotificationArea1\",\"properties\":[{\"name\":\"js_events\",\"kind\":\"Any\",\"default\":{\"type\":\"map\"}},{\"name\":\"notifications\",\"kind\":\"Any\",\"default\":[]},{\"name\":\"position\",\"kind\":\"Any\",\"default\":\"bottom-right\"},{\"name\":\"_clear\",\"kind\":\"Any\",\"default\":0},{\"name\":\"types\",\"kind\":\"Any\",\"default\":[{\"type\":\"map\",\"entries\":[[\"type\",\"warning\"],[\"background\",\"#ffc107\"],[\"icon\",{\"type\":\"map\",\"entries\":[[\"className\",\"fas fa-exclamation-triangle\"],[\"tagName\",\"i\"],[\"color\",\"white\"]]}]]},{\"type\":\"map\",\"entries\":[[\"type\",\"info\"],[\"background\",\"#007bff\"],[\"icon\",{\"type\":\"map\",\"entries\":[[\"className\",\"fas fa-info-circle\"],[\"tagName\",\"i\"],[\"color\",\"white\"]]}]]}]}]},{\"type\":\"model\",\"name\":\"Notification\",\"properties\":[{\"name\":\"background\",\"kind\":\"Any\",\"default\":null},{\"name\":\"duration\",\"kind\":\"Any\",\"default\":3000},{\"name\":\"icon\",\"kind\":\"Any\",\"default\":null},{\"name\":\"message\",\"kind\":\"Any\",\"default\":\"\"},{\"name\":\"notification_type\",\"kind\":\"Any\",\"default\":null},{\"name\":\"_destroyed\",\"kind\":\"Any\",\"default\":false}]},{\"type\":\"model\",\"name\":\"TemplateActions1\",\"properties\":[{\"name\":\"open_modal\",\"kind\":\"Any\",\"default\":0},{\"name\":\"close_modal\",\"kind\":\"Any\",\"default\":0}]},{\"type\":\"model\",\"name\":\"BootstrapTemplateActions1\",\"properties\":[{\"name\":\"open_modal\",\"kind\":\"Any\",\"default\":0},{\"name\":\"close_modal\",\"kind\":\"Any\",\"default\":0}]},{\"type\":\"model\",\"name\":\"MaterialTemplateActions1\",\"properties\":[{\"name\":\"open_modal\",\"kind\":\"Any\",\"default\":0},{\"name\":\"close_modal\",\"kind\":\"Any\",\"default\":0}]}]}};\n  const render_items = [{\"docid\":\"6a88a5b1-25a6-40a0-bfdc-4a8bc23e712c\",\"roots\":{\"p1131\":\"c15aba99-2c9e-4efa-aaef-af07bce2f9cc\"},\"root_ids\":[\"p1131\"]}];\n  root.Bokeh.embed.embed_items_notebook(docs_json, render_items);\n  }\n  if (root.Bokeh !== undefined) {\n    embed_document(root);\n  } else {\n    let attempts = 0;\n    const timer = setInterval(function(root) {\n      if (root.Bokeh !== undefined) {\n        clearInterval(timer);\n        embed_document(root);\n      } else {\n        attempts++;\n        if (attempts > 100) {\n          clearInterval(timer);\n          console.log(\"Bokeh: ERROR: Unable to run BokehJS code because BokehJS library is missing\");\n        }\n      }\n    }, 10, root)\n  }\n})(window);",
      "application/vnd.bokehjs_exec.v0+json": ""
     },
     "metadata": {
      "application/vnd.bokehjs_exec.v0+json": {
       "id": "p1131"
      }
     },
     "output_type": "display_data"
    }
   ],
   "source": [
    "import hvplot.pandas\n",
    "import holoviews as hv\n",
    "hv.extension('bokeh')\n",
    "from bokeh.plotting import show\n",
    "\n",
    "show(hv.render(x))"
   ],
   "metadata": {
    "collapsed": false,
    "ExecuteTime": {
     "end_time": "2023-10-25T20:52:41.236971Z",
     "start_time": "2023-10-25T20:52:41.158431Z"
    }
   },
   "id": "a49768c2830657ee"
  },
  {
   "cell_type": "markdown",
   "id": "7ded7988",
   "metadata": {},
   "source": [
    "## Looking Further into the Data\n",
    "\n",
    "While our analysis helps us understand what players are doing when they select, we have not answered why. We want to take the most successful and popular heroes, and attempt to find the heroes that Pangolier is most successful against, and most unsuccessful against.\n",
    "\n",
    "We will take a look at a single hero - *Pangolier*. Pangolier is the most successful hero that has been picked at least 20% of the time in matches. To find which heroes Pangolier accels against and the ones he struggles against, we first need to find all of the matches in which Pangolier was picked. As we find those matches, we can use another mask to split the matches where Pangolier wins from those where he loses. Ultimately we want to find the match IDs of all of these matches, and so we will utilize the `match_id` column. Your task is to perform the following:\n",
    "\n",
    "1. Create a mask on `matches_heroes` to select the localized name `Pangolier`\n",
    "\n",
    "2. Create variables `pangolier_matches_wins` and `pangolier_matches_losses` that combines the above mask with the `wins` column (which we can use as a mask) and pull out the `match_id`\n",
    "    * you can *negate* a mask by putting a `~` in front of it!\n",
    "\n",
    "3. Create a new aggregator dictionary that applies a `count` operation to the `win` column \n",
    "\n",
    "4. Create a new mask on `matches_heroes` to select losses and where the `match_id` is one of the values in `pangolier_matches_wins`\n",
    "    * for the first piece of the mask just negate the `win` column\n",
    "    * for the secon piece of the mask we can use the special `isin` operator of a series\n",
    "\n",
    "5. Create a new mask on `matches_heroes` to select wins and where the `match_id` is one of the values in `pangolier_matches_losses`\n",
    "    * for the first piece of the mask just use the `win` column as it is\n",
    "    * for the secon piece of the mask we can use the special `isin` operator of a series\n",
    "\n",
    "6. Create a new variable `pangolier_wins` by applying the mask from step 4 to `matches_heroes`, then group the dataframe by `localized_name` and apply the aggregation\n",
    "    * rename the columns in `pangolier_wins` to `['losses_to_pangolier']`\n",
    "\n",
    "7. Create a new variable `pangolier_losses` by applying the mask from step 5 to `matches_heroes`, then group the dataframe by `localized_name` and apply the aggregation\n",
    "    * rename the columns in `pangolier_losses` to `['wins_against_pangolier']`\n",
    "\n",
    "8. Merge `pangolier_wins` and `pangolier_losses` using:\n",
    "\n",
    "    `pangolier_stats = pw.merge(pl, left_index=True, right_index=True).fillna(0)`\n",
    "\n",
    "9. Add a `win_pct` column using the `losses_to_pangolier` and `wins_against_pangolier` columns"
   ]
  },
  {
   "cell_type": "code",
   "execution_count": 68,
   "outputs": [
    {
     "data": {
      "text/plain": "       hero_id  team  order    match_id    win  id  \\\n0           43     1      4  7102649472   True  43   \n1           43     0      4  7102798112   True  43   \n2           43     1     15  7103690699   True  43   \n3           43     0      5  7101146267  False  43   \n4           43     1      7  7101260263  False  43   \n...        ...   ...    ...         ...    ...  ..   \n10555       50     1     15  7342166210  False  50   \n10556       50     1      6  7126048768  False  50   \n10557       27     1     22  7341448039  False  27   \n10558       27     0     22  7033635338   True  27   \n10559       27     0     15  7128914194  False  27   \n\n                              name localized_name primary_attr attack_type  \\\n0      npc_dota_hero_death_prophet  Death Prophet          int      Ranged   \n1      npc_dota_hero_death_prophet  Death Prophet          int      Ranged   \n2      npc_dota_hero_death_prophet  Death Prophet          int      Ranged   \n3      npc_dota_hero_death_prophet  Death Prophet          int      Ranged   \n4      npc_dota_hero_death_prophet  Death Prophet          int      Ranged   \n...                            ...            ...          ...         ...   \n10555         npc_dota_hero_dazzle         Dazzle          all      Ranged   \n10556         npc_dota_hero_dazzle         Dazzle          all      Ranged   \n10557  npc_dota_hero_shadow_shaman  Shadow Shaman          int      Ranged   \n10558  npc_dota_hero_shadow_shaman  Shadow Shaman          int      Ranged   \n10559  npc_dota_hero_shadow_shaman  Shadow Shaman          int      Ranged   \n\n                                               roles  legs  \n0                   [Carry, Pusher, Nuker, Disabler]     2  \n1                   [Carry, Pusher, Nuker, Disabler]     2  \n2                   [Carry, Pusher, Nuker, Disabler]     2  \n3                   [Carry, Pusher, Nuker, Disabler]     2  \n4                   [Carry, Pusher, Nuker, Disabler]     2  \n...                                              ...   ...  \n10555                     [Support, Nuker, Disabler]     2  \n10556                     [Support, Nuker, Disabler]     2  \n10557  [Support, Pusher, Disabler, Nuker, Initiator]     2  \n10558  [Support, Pusher, Disabler, Nuker, Initiator]     2  \n10559  [Support, Pusher, Disabler, Nuker, Initiator]     2  \n\n[10560 rows x 12 columns]",
      "text/html": "<div>\n<style scoped>\n    .dataframe tbody tr th:only-of-type {\n        vertical-align: middle;\n    }\n\n    .dataframe tbody tr th {\n        vertical-align: top;\n    }\n\n    .dataframe thead th {\n        text-align: right;\n    }\n</style>\n<table border=\"1\" class=\"dataframe\">\n  <thead>\n    <tr style=\"text-align: right;\">\n      <th></th>\n      <th>hero_id</th>\n      <th>team</th>\n      <th>order</th>\n      <th>match_id</th>\n      <th>win</th>\n      <th>id</th>\n      <th>name</th>\n      <th>localized_name</th>\n      <th>primary_attr</th>\n      <th>attack_type</th>\n      <th>roles</th>\n      <th>legs</th>\n    </tr>\n  </thead>\n  <tbody>\n    <tr>\n      <th>0</th>\n      <td>43</td>\n      <td>1</td>\n      <td>4</td>\n      <td>7102649472</td>\n      <td>True</td>\n      <td>43</td>\n      <td>npc_dota_hero_death_prophet</td>\n      <td>Death Prophet</td>\n      <td>int</td>\n      <td>Ranged</td>\n      <td>[Carry, Pusher, Nuker, Disabler]</td>\n      <td>2</td>\n    </tr>\n    <tr>\n      <th>1</th>\n      <td>43</td>\n      <td>0</td>\n      <td>4</td>\n      <td>7102798112</td>\n      <td>True</td>\n      <td>43</td>\n      <td>npc_dota_hero_death_prophet</td>\n      <td>Death Prophet</td>\n      <td>int</td>\n      <td>Ranged</td>\n      <td>[Carry, Pusher, Nuker, Disabler]</td>\n      <td>2</td>\n    </tr>\n    <tr>\n      <th>2</th>\n      <td>43</td>\n      <td>1</td>\n      <td>15</td>\n      <td>7103690699</td>\n      <td>True</td>\n      <td>43</td>\n      <td>npc_dota_hero_death_prophet</td>\n      <td>Death Prophet</td>\n      <td>int</td>\n      <td>Ranged</td>\n      <td>[Carry, Pusher, Nuker, Disabler]</td>\n      <td>2</td>\n    </tr>\n    <tr>\n      <th>3</th>\n      <td>43</td>\n      <td>0</td>\n      <td>5</td>\n      <td>7101146267</td>\n      <td>False</td>\n      <td>43</td>\n      <td>npc_dota_hero_death_prophet</td>\n      <td>Death Prophet</td>\n      <td>int</td>\n      <td>Ranged</td>\n      <td>[Carry, Pusher, Nuker, Disabler]</td>\n      <td>2</td>\n    </tr>\n    <tr>\n      <th>4</th>\n      <td>43</td>\n      <td>1</td>\n      <td>7</td>\n      <td>7101260263</td>\n      <td>False</td>\n      <td>43</td>\n      <td>npc_dota_hero_death_prophet</td>\n      <td>Death Prophet</td>\n      <td>int</td>\n      <td>Ranged</td>\n      <td>[Carry, Pusher, Nuker, Disabler]</td>\n      <td>2</td>\n    </tr>\n    <tr>\n      <th>...</th>\n      <td>...</td>\n      <td>...</td>\n      <td>...</td>\n      <td>...</td>\n      <td>...</td>\n      <td>...</td>\n      <td>...</td>\n      <td>...</td>\n      <td>...</td>\n      <td>...</td>\n      <td>...</td>\n      <td>...</td>\n    </tr>\n    <tr>\n      <th>10555</th>\n      <td>50</td>\n      <td>1</td>\n      <td>15</td>\n      <td>7342166210</td>\n      <td>False</td>\n      <td>50</td>\n      <td>npc_dota_hero_dazzle</td>\n      <td>Dazzle</td>\n      <td>all</td>\n      <td>Ranged</td>\n      <td>[Support, Nuker, Disabler]</td>\n      <td>2</td>\n    </tr>\n    <tr>\n      <th>10556</th>\n      <td>50</td>\n      <td>1</td>\n      <td>6</td>\n      <td>7126048768</td>\n      <td>False</td>\n      <td>50</td>\n      <td>npc_dota_hero_dazzle</td>\n      <td>Dazzle</td>\n      <td>all</td>\n      <td>Ranged</td>\n      <td>[Support, Nuker, Disabler]</td>\n      <td>2</td>\n    </tr>\n    <tr>\n      <th>10557</th>\n      <td>27</td>\n      <td>1</td>\n      <td>22</td>\n      <td>7341448039</td>\n      <td>False</td>\n      <td>27</td>\n      <td>npc_dota_hero_shadow_shaman</td>\n      <td>Shadow Shaman</td>\n      <td>int</td>\n      <td>Ranged</td>\n      <td>[Support, Pusher, Disabler, Nuker, Initiator]</td>\n      <td>2</td>\n    </tr>\n    <tr>\n      <th>10558</th>\n      <td>27</td>\n      <td>0</td>\n      <td>22</td>\n      <td>7033635338</td>\n      <td>True</td>\n      <td>27</td>\n      <td>npc_dota_hero_shadow_shaman</td>\n      <td>Shadow Shaman</td>\n      <td>int</td>\n      <td>Ranged</td>\n      <td>[Support, Pusher, Disabler, Nuker, Initiator]</td>\n      <td>2</td>\n    </tr>\n    <tr>\n      <th>10559</th>\n      <td>27</td>\n      <td>0</td>\n      <td>15</td>\n      <td>7128914194</td>\n      <td>False</td>\n      <td>27</td>\n      <td>npc_dota_hero_shadow_shaman</td>\n      <td>Shadow Shaman</td>\n      <td>int</td>\n      <td>Ranged</td>\n      <td>[Support, Pusher, Disabler, Nuker, Initiator]</td>\n      <td>2</td>\n    </tr>\n  </tbody>\n</table>\n<p>10560 rows × 12 columns</p>\n</div>"
     },
     "execution_count": 68,
     "metadata": {},
     "output_type": "execute_result"
    }
   ],
   "source": [
    "matches_heroes"
   ],
   "metadata": {
    "collapsed": false,
    "ExecuteTime": {
     "end_time": "2023-10-25T20:52:49.841922Z",
     "start_time": "2023-10-25T20:52:49.825627Z"
    }
   },
   "id": "5f80a7f9bab37f49"
  },
  {
   "cell_type": "code",
   "execution_count": 71,
   "id": "51a070a1",
   "metadata": {
    "ExecuteTime": {
     "end_time": "2023-10-25T22:25:25.007853Z",
     "start_time": "2023-10-25T22:25:24.986501Z"
    }
   },
   "outputs": [
    {
     "data": {
      "text/plain": "      hero_id  team  order    match_id    win   id                     name  \\\n4210      120     1      6  7115496899  False  120  npc_dota_hero_pangolier   \n4211      120     1      7  7101349069  False  120  npc_dota_hero_pangolier   \n4213      120     0     22  7103789936  False  120  npc_dota_hero_pangolier   \n4217      120     1     15  7122028845  False  120  npc_dota_hero_pangolier   \n4219      120     0     17  7116132831  False  120  npc_dota_hero_pangolier   \n...       ...   ...    ...         ...    ...  ...                      ...   \n4409      120     0     16  7224616279  False  120  npc_dota_hero_pangolier   \n4410      120     1     15  7231824757  False  120  npc_dota_hero_pangolier   \n4413      120     0     14  7223095438  False  120  npc_dota_hero_pangolier   \n4414      120     0     22  7224564929  False  120  npc_dota_hero_pangolier   \n4416      120     0     23  7223211678  False  120  npc_dota_hero_pangolier   \n\n     localized_name primary_attr attack_type  \\\n4210      Pangolier          all       Melee   \n4211      Pangolier          all       Melee   \n4213      Pangolier          all       Melee   \n4217      Pangolier          all       Melee   \n4219      Pangolier          all       Melee   \n...             ...          ...         ...   \n4409      Pangolier          all       Melee   \n4410      Pangolier          all       Melee   \n4413      Pangolier          all       Melee   \n4414      Pangolier          all       Melee   \n4416      Pangolier          all       Melee   \n\n                                                  roles  legs  \n4210  [Carry, Nuker, Disabler, Durable, Escape, Init...     2  \n4211  [Carry, Nuker, Disabler, Durable, Escape, Init...     2  \n4213  [Carry, Nuker, Disabler, Durable, Escape, Init...     2  \n4217  [Carry, Nuker, Disabler, Durable, Escape, Init...     2  \n4219  [Carry, Nuker, Disabler, Durable, Escape, Init...     2  \n...                                                 ...   ...  \n4409  [Carry, Nuker, Disabler, Durable, Escape, Init...     2  \n4410  [Carry, Nuker, Disabler, Durable, Escape, Init...     2  \n4413  [Carry, Nuker, Disabler, Durable, Escape, Init...     2  \n4414  [Carry, Nuker, Disabler, Durable, Escape, Init...     2  \n4416  [Carry, Nuker, Disabler, Durable, Escape, Init...     2  \n\n[93 rows x 12 columns]",
      "text/html": "<div>\n<style scoped>\n    .dataframe tbody tr th:only-of-type {\n        vertical-align: middle;\n    }\n\n    .dataframe tbody tr th {\n        vertical-align: top;\n    }\n\n    .dataframe thead th {\n        text-align: right;\n    }\n</style>\n<table border=\"1\" class=\"dataframe\">\n  <thead>\n    <tr style=\"text-align: right;\">\n      <th></th>\n      <th>hero_id</th>\n      <th>team</th>\n      <th>order</th>\n      <th>match_id</th>\n      <th>win</th>\n      <th>id</th>\n      <th>name</th>\n      <th>localized_name</th>\n      <th>primary_attr</th>\n      <th>attack_type</th>\n      <th>roles</th>\n      <th>legs</th>\n    </tr>\n  </thead>\n  <tbody>\n    <tr>\n      <th>4210</th>\n      <td>120</td>\n      <td>1</td>\n      <td>6</td>\n      <td>7115496899</td>\n      <td>False</td>\n      <td>120</td>\n      <td>npc_dota_hero_pangolier</td>\n      <td>Pangolier</td>\n      <td>all</td>\n      <td>Melee</td>\n      <td>[Carry, Nuker, Disabler, Durable, Escape, Init...</td>\n      <td>2</td>\n    </tr>\n    <tr>\n      <th>4211</th>\n      <td>120</td>\n      <td>1</td>\n      <td>7</td>\n      <td>7101349069</td>\n      <td>False</td>\n      <td>120</td>\n      <td>npc_dota_hero_pangolier</td>\n      <td>Pangolier</td>\n      <td>all</td>\n      <td>Melee</td>\n      <td>[Carry, Nuker, Disabler, Durable, Escape, Init...</td>\n      <td>2</td>\n    </tr>\n    <tr>\n      <th>4213</th>\n      <td>120</td>\n      <td>0</td>\n      <td>22</td>\n      <td>7103789936</td>\n      <td>False</td>\n      <td>120</td>\n      <td>npc_dota_hero_pangolier</td>\n      <td>Pangolier</td>\n      <td>all</td>\n      <td>Melee</td>\n      <td>[Carry, Nuker, Disabler, Durable, Escape, Init...</td>\n      <td>2</td>\n    </tr>\n    <tr>\n      <th>4217</th>\n      <td>120</td>\n      <td>1</td>\n      <td>15</td>\n      <td>7122028845</td>\n      <td>False</td>\n      <td>120</td>\n      <td>npc_dota_hero_pangolier</td>\n      <td>Pangolier</td>\n      <td>all</td>\n      <td>Melee</td>\n      <td>[Carry, Nuker, Disabler, Durable, Escape, Init...</td>\n      <td>2</td>\n    </tr>\n    <tr>\n      <th>4219</th>\n      <td>120</td>\n      <td>0</td>\n      <td>17</td>\n      <td>7116132831</td>\n      <td>False</td>\n      <td>120</td>\n      <td>npc_dota_hero_pangolier</td>\n      <td>Pangolier</td>\n      <td>all</td>\n      <td>Melee</td>\n      <td>[Carry, Nuker, Disabler, Durable, Escape, Init...</td>\n      <td>2</td>\n    </tr>\n    <tr>\n      <th>...</th>\n      <td>...</td>\n      <td>...</td>\n      <td>...</td>\n      <td>...</td>\n      <td>...</td>\n      <td>...</td>\n      <td>...</td>\n      <td>...</td>\n      <td>...</td>\n      <td>...</td>\n      <td>...</td>\n      <td>...</td>\n    </tr>\n    <tr>\n      <th>4409</th>\n      <td>120</td>\n      <td>0</td>\n      <td>16</td>\n      <td>7224616279</td>\n      <td>False</td>\n      <td>120</td>\n      <td>npc_dota_hero_pangolier</td>\n      <td>Pangolier</td>\n      <td>all</td>\n      <td>Melee</td>\n      <td>[Carry, Nuker, Disabler, Durable, Escape, Init...</td>\n      <td>2</td>\n    </tr>\n    <tr>\n      <th>4410</th>\n      <td>120</td>\n      <td>1</td>\n      <td>15</td>\n      <td>7231824757</td>\n      <td>False</td>\n      <td>120</td>\n      <td>npc_dota_hero_pangolier</td>\n      <td>Pangolier</td>\n      <td>all</td>\n      <td>Melee</td>\n      <td>[Carry, Nuker, Disabler, Durable, Escape, Init...</td>\n      <td>2</td>\n    </tr>\n    <tr>\n      <th>4413</th>\n      <td>120</td>\n      <td>0</td>\n      <td>14</td>\n      <td>7223095438</td>\n      <td>False</td>\n      <td>120</td>\n      <td>npc_dota_hero_pangolier</td>\n      <td>Pangolier</td>\n      <td>all</td>\n      <td>Melee</td>\n      <td>[Carry, Nuker, Disabler, Durable, Escape, Init...</td>\n      <td>2</td>\n    </tr>\n    <tr>\n      <th>4414</th>\n      <td>120</td>\n      <td>0</td>\n      <td>22</td>\n      <td>7224564929</td>\n      <td>False</td>\n      <td>120</td>\n      <td>npc_dota_hero_pangolier</td>\n      <td>Pangolier</td>\n      <td>all</td>\n      <td>Melee</td>\n      <td>[Carry, Nuker, Disabler, Durable, Escape, Init...</td>\n      <td>2</td>\n    </tr>\n    <tr>\n      <th>4416</th>\n      <td>120</td>\n      <td>0</td>\n      <td>23</td>\n      <td>7223211678</td>\n      <td>False</td>\n      <td>120</td>\n      <td>npc_dota_hero_pangolier</td>\n      <td>Pangolier</td>\n      <td>all</td>\n      <td>Melee</td>\n      <td>[Carry, Nuker, Disabler, Durable, Escape, Init...</td>\n      <td>2</td>\n    </tr>\n  </tbody>\n</table>\n<p>93 rows × 12 columns</p>\n</div>"
     },
     "execution_count": 71,
     "metadata": {},
     "output_type": "execute_result"
    }
   ],
   "source": [
    "# perform steps 1-2 here\n",
    "# Step 1: Create a mask to select matches with localized name \"Pangolier\"\n",
    "\n",
    "#Match Win Mask \n",
    "pangolier_mask = matches_heroes['localized_name'] == 'Pangolier'\n",
    "pangolier_matches = matches_heroes[pangolier_mask]\n",
    "pangolier_win_mask = pangolier_matches.win == True \n",
    "pangolier_matches_wins = matches_heroes[pangolier_mask & pangolier_win_mask]\n",
    "\n",
    "\n",
    "# Match Lost Mask \n",
    "pangolier_lose_mask = pangolier_matches.win == False \n",
    "pangolier_matches_lose = matches_heroes[pangolier_mask & pangolier_lose_mask]\n",
    "# Step 2: Create variables to combine the mask with wins and losses\n",
    "\n",
    "# Display the results\n",
    "\n",
    "pangolier_matches_wins\n",
    "pangolier_matches_lose\n",
    "\n",
    "\n",
    "\n",
    "\n",
    "\n",
    "\n"
   ]
  },
  {
   "cell_type": "code",
   "execution_count": 72,
   "outputs": [
    {
     "data": {
      "text/plain": "      hero_id  team  order    match_id    win   id                     name  \\\n4210      120     1      6  7115496899  False  120  npc_dota_hero_pangolier   \n4211      120     1      7  7101349069  False  120  npc_dota_hero_pangolier   \n4213      120     0     22  7103789936  False  120  npc_dota_hero_pangolier   \n4217      120     1     15  7122028845  False  120  npc_dota_hero_pangolier   \n4219      120     0     17  7116132831  False  120  npc_dota_hero_pangolier   \n...       ...   ...    ...         ...    ...  ...                      ...   \n4409      120     0     16  7224616279  False  120  npc_dota_hero_pangolier   \n4410      120     1     15  7231824757  False  120  npc_dota_hero_pangolier   \n4413      120     0     14  7223095438  False  120  npc_dota_hero_pangolier   \n4414      120     0     22  7224564929  False  120  npc_dota_hero_pangolier   \n4416      120     0     23  7223211678  False  120  npc_dota_hero_pangolier   \n\n     localized_name primary_attr attack_type  \\\n4210      Pangolier          all       Melee   \n4211      Pangolier          all       Melee   \n4213      Pangolier          all       Melee   \n4217      Pangolier          all       Melee   \n4219      Pangolier          all       Melee   \n...             ...          ...         ...   \n4409      Pangolier          all       Melee   \n4410      Pangolier          all       Melee   \n4413      Pangolier          all       Melee   \n4414      Pangolier          all       Melee   \n4416      Pangolier          all       Melee   \n\n                                                  roles  legs  \n4210  [Carry, Nuker, Disabler, Durable, Escape, Init...     2  \n4211  [Carry, Nuker, Disabler, Durable, Escape, Init...     2  \n4213  [Carry, Nuker, Disabler, Durable, Escape, Init...     2  \n4217  [Carry, Nuker, Disabler, Durable, Escape, Init...     2  \n4219  [Carry, Nuker, Disabler, Durable, Escape, Init...     2  \n...                                                 ...   ...  \n4409  [Carry, Nuker, Disabler, Durable, Escape, Init...     2  \n4410  [Carry, Nuker, Disabler, Durable, Escape, Init...     2  \n4413  [Carry, Nuker, Disabler, Durable, Escape, Init...     2  \n4414  [Carry, Nuker, Disabler, Durable, Escape, Init...     2  \n4416  [Carry, Nuker, Disabler, Durable, Escape, Init...     2  \n\n[93 rows x 12 columns]",
      "text/html": "<div>\n<style scoped>\n    .dataframe tbody tr th:only-of-type {\n        vertical-align: middle;\n    }\n\n    .dataframe tbody tr th {\n        vertical-align: top;\n    }\n\n    .dataframe thead th {\n        text-align: right;\n    }\n</style>\n<table border=\"1\" class=\"dataframe\">\n  <thead>\n    <tr style=\"text-align: right;\">\n      <th></th>\n      <th>hero_id</th>\n      <th>team</th>\n      <th>order</th>\n      <th>match_id</th>\n      <th>win</th>\n      <th>id</th>\n      <th>name</th>\n      <th>localized_name</th>\n      <th>primary_attr</th>\n      <th>attack_type</th>\n      <th>roles</th>\n      <th>legs</th>\n    </tr>\n  </thead>\n  <tbody>\n    <tr>\n      <th>4210</th>\n      <td>120</td>\n      <td>1</td>\n      <td>6</td>\n      <td>7115496899</td>\n      <td>False</td>\n      <td>120</td>\n      <td>npc_dota_hero_pangolier</td>\n      <td>Pangolier</td>\n      <td>all</td>\n      <td>Melee</td>\n      <td>[Carry, Nuker, Disabler, Durable, Escape, Init...</td>\n      <td>2</td>\n    </tr>\n    <tr>\n      <th>4211</th>\n      <td>120</td>\n      <td>1</td>\n      <td>7</td>\n      <td>7101349069</td>\n      <td>False</td>\n      <td>120</td>\n      <td>npc_dota_hero_pangolier</td>\n      <td>Pangolier</td>\n      <td>all</td>\n      <td>Melee</td>\n      <td>[Carry, Nuker, Disabler, Durable, Escape, Init...</td>\n      <td>2</td>\n    </tr>\n    <tr>\n      <th>4213</th>\n      <td>120</td>\n      <td>0</td>\n      <td>22</td>\n      <td>7103789936</td>\n      <td>False</td>\n      <td>120</td>\n      <td>npc_dota_hero_pangolier</td>\n      <td>Pangolier</td>\n      <td>all</td>\n      <td>Melee</td>\n      <td>[Carry, Nuker, Disabler, Durable, Escape, Init...</td>\n      <td>2</td>\n    </tr>\n    <tr>\n      <th>4217</th>\n      <td>120</td>\n      <td>1</td>\n      <td>15</td>\n      <td>7122028845</td>\n      <td>False</td>\n      <td>120</td>\n      <td>npc_dota_hero_pangolier</td>\n      <td>Pangolier</td>\n      <td>all</td>\n      <td>Melee</td>\n      <td>[Carry, Nuker, Disabler, Durable, Escape, Init...</td>\n      <td>2</td>\n    </tr>\n    <tr>\n      <th>4219</th>\n      <td>120</td>\n      <td>0</td>\n      <td>17</td>\n      <td>7116132831</td>\n      <td>False</td>\n      <td>120</td>\n      <td>npc_dota_hero_pangolier</td>\n      <td>Pangolier</td>\n      <td>all</td>\n      <td>Melee</td>\n      <td>[Carry, Nuker, Disabler, Durable, Escape, Init...</td>\n      <td>2</td>\n    </tr>\n    <tr>\n      <th>...</th>\n      <td>...</td>\n      <td>...</td>\n      <td>...</td>\n      <td>...</td>\n      <td>...</td>\n      <td>...</td>\n      <td>...</td>\n      <td>...</td>\n      <td>...</td>\n      <td>...</td>\n      <td>...</td>\n      <td>...</td>\n    </tr>\n    <tr>\n      <th>4409</th>\n      <td>120</td>\n      <td>0</td>\n      <td>16</td>\n      <td>7224616279</td>\n      <td>False</td>\n      <td>120</td>\n      <td>npc_dota_hero_pangolier</td>\n      <td>Pangolier</td>\n      <td>all</td>\n      <td>Melee</td>\n      <td>[Carry, Nuker, Disabler, Durable, Escape, Init...</td>\n      <td>2</td>\n    </tr>\n    <tr>\n      <th>4410</th>\n      <td>120</td>\n      <td>1</td>\n      <td>15</td>\n      <td>7231824757</td>\n      <td>False</td>\n      <td>120</td>\n      <td>npc_dota_hero_pangolier</td>\n      <td>Pangolier</td>\n      <td>all</td>\n      <td>Melee</td>\n      <td>[Carry, Nuker, Disabler, Durable, Escape, Init...</td>\n      <td>2</td>\n    </tr>\n    <tr>\n      <th>4413</th>\n      <td>120</td>\n      <td>0</td>\n      <td>14</td>\n      <td>7223095438</td>\n      <td>False</td>\n      <td>120</td>\n      <td>npc_dota_hero_pangolier</td>\n      <td>Pangolier</td>\n      <td>all</td>\n      <td>Melee</td>\n      <td>[Carry, Nuker, Disabler, Durable, Escape, Init...</td>\n      <td>2</td>\n    </tr>\n    <tr>\n      <th>4414</th>\n      <td>120</td>\n      <td>0</td>\n      <td>22</td>\n      <td>7224564929</td>\n      <td>False</td>\n      <td>120</td>\n      <td>npc_dota_hero_pangolier</td>\n      <td>Pangolier</td>\n      <td>all</td>\n      <td>Melee</td>\n      <td>[Carry, Nuker, Disabler, Durable, Escape, Init...</td>\n      <td>2</td>\n    </tr>\n    <tr>\n      <th>4416</th>\n      <td>120</td>\n      <td>0</td>\n      <td>23</td>\n      <td>7223211678</td>\n      <td>False</td>\n      <td>120</td>\n      <td>npc_dota_hero_pangolier</td>\n      <td>Pangolier</td>\n      <td>all</td>\n      <td>Melee</td>\n      <td>[Carry, Nuker, Disabler, Durable, Escape, Init...</td>\n      <td>2</td>\n    </tr>\n  </tbody>\n</table>\n<p>93 rows × 12 columns</p>\n</div>"
     },
     "execution_count": 72,
     "metadata": {},
     "output_type": "execute_result"
    }
   ],
   "source": [
    "pangolier_matches_lose"
   ],
   "metadata": {
    "collapsed": false,
    "ExecuteTime": {
     "end_time": "2023-10-25T22:25:38.819565Z",
     "start_time": "2023-10-25T22:25:38.794445Z"
    }
   },
   "id": "3a795b0e1bd78161"
  },
  {
   "cell_type": "markdown",
   "id": "d789efa2",
   "metadata": {},
   "source": [
    "With the matches identified, we can now filter our matches on those match IDs to find all heroes involved in those matches."
   ]
  },
  {
   "cell_type": "code",
   "execution_count": null,
   "outputs": [],
   "source": [],
   "metadata": {
    "collapsed": false
   },
   "id": "663ba413c4b47857"
  },
  {
   "cell_type": "code",
   "execution_count": 75,
   "id": "04ea378e",
   "metadata": {
    "ExecuteTime": {
     "end_time": "2023-10-25T22:29:57.462867Z",
     "start_time": "2023-10-25T22:29:57.443541Z"
    }
   },
   "outputs": [
    {
     "data": {
      "text/plain": "       win\n     count\nwin       \nTrue   114",
      "text/html": "<div>\n<style scoped>\n    .dataframe tbody tr th:only-of-type {\n        vertical-align: middle;\n    }\n\n    .dataframe tbody tr th {\n        vertical-align: top;\n    }\n\n    .dataframe thead tr th {\n        text-align: left;\n    }\n\n    .dataframe thead tr:last-of-type th {\n        text-align: right;\n    }\n</style>\n<table border=\"1\" class=\"dataframe\">\n  <thead>\n    <tr>\n      <th></th>\n      <th>win</th>\n    </tr>\n    <tr>\n      <th></th>\n      <th>count</th>\n    </tr>\n    <tr>\n      <th>win</th>\n      <th></th>\n    </tr>\n  </thead>\n  <tbody>\n    <tr>\n      <th>True</th>\n      <td>114</td>\n    </tr>\n  </tbody>\n</table>\n</div>"
     },
     "execution_count": 75,
     "metadata": {},
     "output_type": "execute_result"
    }
   ],
   "source": [
    "# perform steps 3-7 here\n",
    "aggregator_win={\n",
    "    'win':['count']\n",
    "}\n",
    "match_losses_mask = pangolier_matches_wins.groupby('win').agg(aggregator_win)\n",
    "\n",
    "match_losses_mask"
   ]
  },
  {
   "cell_type": "code",
   "execution_count": 277,
   "id": "36eec284",
   "metadata": {
    "ExecuteTime": {
     "end_time": "2023-10-23T01:51:08.019938Z",
     "start_time": "2023-10-23T01:51:07.921013Z"
    }
   },
   "outputs": [],
   "source": [
    "# perform steps 8-9 here"
   ]
  },
  {
   "cell_type": "code",
   "execution_count": 278,
   "id": "13d9e40e",
   "metadata": {
    "ExecuteTime": {
     "end_time": "2023-10-23T01:51:08.079732Z",
     "start_time": "2023-10-23T01:51:07.927263Z"
    }
   },
   "outputs": [
    {
     "ename": "NameError",
     "evalue": "name 'pangolier_stats' is not defined",
     "output_type": "error",
     "traceback": [
      "\u001B[0;31m---------------------------------------------------------------------------\u001B[0m",
      "\u001B[0;31mNameError\u001B[0m                                 Traceback (most recent call last)",
      "Cell \u001B[0;32mIn[278], line 1\u001B[0m\n\u001B[0;32m----> 1\u001B[0m \u001B[43mpangolier_stats\u001B[49m\u001B[38;5;241m.\u001B[39msort_values(\u001B[38;5;124m'\u001B[39m\u001B[38;5;124mwin_pct\u001B[39m\u001B[38;5;124m'\u001B[39m, ascending\u001B[38;5;241m=\u001B[39m\u001B[38;5;28;01mFalse\u001B[39;00m)\u001B[38;5;241m.\u001B[39mhead(\u001B[38;5;241m20\u001B[39m)\n",
      "\u001B[0;31mNameError\u001B[0m: name 'pangolier_stats' is not defined"
     ]
    }
   ],
   "source": [
    "pangolier_stats.sort_values('win_pct', ascending=False).head(20)"
   ]
  },
  {
   "cell_type": "markdown",
   "id": "fc859619",
   "metadata": {},
   "source": [
    "Now that we have our data for the success rates against `Pangolier`, we can plot the data along with an identity line to help us identify the best and worst heroes to play against `Pangolier`."
   ]
  },
  {
   "cell_type": "code",
   "execution_count": null,
   "id": "18db6acb",
   "metadata": {
    "ExecuteTime": {
     "start_time": "2023-10-23T01:51:07.939965Z"
    }
   },
   "outputs": [],
   "source": [
    "import holoviews as hv\n",
    "(\n",
    "    pangolier_stats.hvplot.scatter(\n",
    "        x='losses_to_pangolier',\n",
    "        y='wins_against_pangolier',\n",
    "        s='win_pct',\n",
    "        c='win_pct',\n",
    "        hover_cols=['localized_name']\n",
    "    ).opts(default_tools=['box_zoom', 'reset']) * hv.Path(\n",
    "        [[[0,0,0], [30,30,0]]]\n",
    "    ).opts(color='red', default_tools=['box_zoom', 'reset'],\n",
    ")\n",
    ").opts(\n",
    "    show_grid=True,\n",
    "    width=768,\n",
    "    height=512\n",
    ")"
   ]
  },
  {
   "cell_type": "markdown",
   "id": "fcab5769",
   "metadata": {},
   "source": [
    "The red line represents the even win/loss ratio for a hero against Pangolier. The farther above the line, the more successful a hero is against `Pangolier`, whereas the father below the line, the less successful a hero is. We can clearly see that the hero `Leshrac` is the most successful hero against `Pangolier`, and `Storm Spirit` is the least successful.\n",
    "\n",
    "What else can we analyze?"
   ]
  },
  {
   "cell_type": "code",
   "execution_count": null,
   "outputs": [],
   "source": [],
   "metadata": {
    "collapsed": false,
    "ExecuteTime": {
     "start_time": "2023-10-23T01:51:07.943438Z"
    }
   },
   "id": "5bace760987f00cf"
  }
 ],
 "metadata": {
  "kernelspec": {
   "display_name": "Python 3 (ipykernel)",
   "language": "python",
   "name": "python3"
  },
  "language_info": {
   "codemirror_mode": {
    "name": "ipython",
    "version": 3
   },
   "file_extension": ".py",
   "mimetype": "text/x-python",
   "name": "python",
   "nbconvert_exporter": "python",
   "pygments_lexer": "ipython3",
   "version": "3.11.4"
  }
 },
 "nbformat": 4,
 "nbformat_minor": 5
}
