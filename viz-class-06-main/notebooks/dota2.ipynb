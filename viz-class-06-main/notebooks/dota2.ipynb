{
 "cells": [
  {
   "cell_type": "code",
   "execution_count": 49,
   "id": "20908a54",
   "metadata": {
    "ExecuteTime": {
     "end_time": "2023-10-27T02:32:52.045845Z",
     "start_time": "2023-10-27T02:32:51.755808Z"
    }
   },
   "outputs": [],
   "source": [
    "import warnings\n",
    "warnings.simplefilter(action='ignore', category=FutureWarning)"
   ]
  },
  {
   "cell_type": "markdown",
   "id": "d6b8eed4-8836-4005-a267-ee1752fd206c",
   "metadata": {},
   "source": [
    "# DotA2\n",
    "\n",
    "*Defense of the Ancients 2* is a MOBA developed by Valve, the sequel to the custom user map in Blizzard's *Warcraft III: The Frozen Throne*. It is one of the most popular games in all of eSports, and by far has the highest pay out pool of any game in history. *The International* (TI)is the premiere world championship Dota2 tournament, held annually. While the prize-pool changes year to year, 1st place takes home millions of dollars (8.5m in 2022, $18m in 2021, $15.6m in 2019, etc.). Leading up to TI are a series of leagues and qualifiers to determine participation.\n",
    "\n",
    "Dota2 is known for its extreme complexity and steep learning curve. There are 124 heroes (each with usually at least 4 abilities), 200+ items, and teams consisting of 5 heroes each. Parametrically this makes for an absurd number of combinations just in player selections - the complexity skyrockets even more when you consider lane pairings, item builds, and more. The amount of information one needs to know to competetively play DotA2 is astronomical (not to mention the general skill needed to control a character, coordinate with a team, and react to your opponents!). Trying to quantify the complexity and meta within the game is a near impossible task, but we can sift through large amounts of match data in order to understand trends in how the game is played today.\n",
    "\n",
    "In this notebook we are going to leverage match data from various professional leagues in 2023 leading up to TI2023 (Starting October 12,2023!). The website [OpenDota](https://docs.opendota.com/) has a complete API for requesting data. While it is free they do implement rate limiting (at which point they require paypent while limiting is in effect). So long as we keep our requsts below 60 calls per minute no rate limiting will be imposed (however... the data we need is going to be provided, so that we do not need to request data!).\n",
    "\n",
    "We are going to work with match data from the following majors/professional brackets:\n",
    "\n",
    "* [DreamLeague Season 19](https://liquipedia.net/dota2/DreamLeague/Season_19) (2023-04-09 - 2023-04-23)\n",
    "* [DreamLeague Season 20](https://liquipedia.net/dota2/DreamLeague/Season_20) (2023-06-11 - 2023-06-25)\n",
    "* [DreamLeague Season 21](https://liquipedia.net/dota2/DreamLeague/Season_21) (2023-09-18 - 2023-09-24)\n",
    "* [Lima Major 2023](https://liquipedia.net/dota2/Lima_Major/2023) (2023-02-22 - 2023-03-05)\n",
    "* [ESL One Berlin Major 2023](https://liquipedia.net/dota2/ESL_One/Berlin_Major/2023) (2023-04-26 - 2023-05-07)\n",
    "* [Bali Major 2023](https://liquipedia.net/dota2/Bali_Major/2023) (2023-06-29 - 2023-07-09)\n",
    "\n",
    "\n",
    "## Goals\n",
    "\n",
    "1. Determine the most popular heroes played\n",
    "2. Determine the most successful heroes played\n",
    "3. Determine how successful the most popular heroes are\n",
    "4. Determine the most *bannned* heroes; i.e. the heroes that teams do not wish to play against\n",
    "5. Determine the success of the most banned heroes *in games where they are not banned*\n",
    "6. Determine the most and least successful heroes against the statistically strongest hero in the pro circuit\n",
    "\n",
    "### Secondary Goals\n",
    "\n",
    "1. Learn to manipulate dataframes and explore data in tandem\n",
    "2. Learn how to focus our view of the data by looking at higher-impact data and deriving new data\n",
    "3. Learn how to merge multiple datasets together"
   ]
  },
  {
   "cell_type": "markdown",
   "id": "1388fbe9",
   "metadata": {},
   "source": [
    "## The Analysis\n",
    "\n",
    "We need to load our data first - this code is given to us!"
   ]
  },
  {
   "cell_type": "code",
   "execution_count": 50,
   "id": "30ff6a6d-508f-4800-b827-3085c3a5c917",
   "metadata": {
    "ExecuteTime": {
     "end_time": "2023-10-27T02:32:52.586971Z",
     "start_time": "2023-10-27T02:32:51.772426Z"
    }
   },
   "outputs": [
    {
     "data": {
      "text/plain": "        match_id  match_seq_num  radiant_win          start_time  duration  \\\n0     7102649472     5966088132        False 2023-04-11 14:59:51      3878   \n1     7114527708     5976670868        False 2023-04-19 16:58:38      2727   \n2     7099683300     5963412092        False 2023-04-09 13:33:07      2671   \n3     7102222768     5965674453         True 2023-04-11 09:55:14      2000   \n4     7115496899     5977534560         True 2023-04-20 12:25:02      2663   \n...          ...            ...          ...                 ...       ...   \n1057  7220548968     6071023256        False 2023-06-29 08:33:53      1835   \n1058  7226053436     6075962402        False 2023-07-03 03:35:56      2395   \n1059  7224774802     6074812509         True 2023-07-02 07:53:13      1805   \n1060  7224708614     6074758569        False 2023-07-02 06:55:07      1863   \n1061  7223294867     6073512927        False 2023-07-01 08:22:06      3421   \n\n      tower_status_radiant  tower_status_dire  barracks_status_radiant  \\\n0                        0               1828                        0   \n1                        0               1828                        0   \n2                     1536               2036                        0   \n3                     1975               1824                       63   \n4                     1542                260                       15   \n...                    ...                ...                      ...   \n1057                  1792               1974                       48   \n1058                     0               2036                        0   \n1059                  1983               1572                       63   \n1060                  1792               1974                       48   \n1061                  1028               1952                        3   \n\n      barracks_status_dire  cluster  ...  \\\n0                       63      274  ...   \n1                       63      272  ...   \n2                       63      274  ...   \n3                       60      274  ...   \n4                       51      271  ...   \n...                    ...      ...  ...   \n1057                    63      151  ...   \n1058                    63      151  ...   \n1059                    15      151  ...   \n1060                    63      154  ...   \n1061                    63      151  ...   \n\n                                       radiant_gold_adv  \\\n0     [416, 1124, 1330, 2115, 1858, 2024, 1445, 1756...   \n1     [-100, -64, 15, 616, 193, 31, -241, -1421, -60...   \n2     [0, 158, -233, -560, -510, -654, -719, -1168, ...   \n3     [0, 5, -279, -456, -108, 28, 97, 278, 385, 314...   \n4     [-312, -254, -181, 4, 832, 29, -12, -1259, -13...   \n...                                                 ...   \n1057  [0, 347, 242, -66, 48, 71, -478, -63, 1209, 79...   \n1058  [100, 18, -380, -624, -828, -1061, -1468, -152...   \n1059  [-463, -113, -260, -201, -244, 164, 221, 1064,...   \n1060  [0, -581, -480, -471, -438, -67, 457, 711, 685...   \n1061  [0, 52, 252, 458, 331, 306, 157, 223, 1969, 28...   \n\n                                         radiant_xp_adv  \\\n0     [150, -93, 427, 1133, 718, 888, 619, 864, 559,...   \n1     [-50, 35, -239, 490, -111, -456, -207, -939, -...   \n2     [0, 177, -440, -387, -727, -822, -614, -1053, ...   \n3     [0, -30, -155, -254, 88, -154, -175, -328, -22...   \n4     [-100, -96, 229, 223, 685, -87, 229, -1240, -7...   \n...                                                 ...   \n1057  [0, 370, 73, -99, -405, -246, -809, -415, 1563...   \n1058  [70, -14, -122, -432, -256, -558, -1009, -1101...   \n1059  [-99, -162, 101, -82, 154, 96, 271, 1136, 1986...   \n1060  [0, -422, -106, 25, 51, 31, 430, -223, -166, 1...   \n1061  [0, -124, 246, 240, 453, 536, 361, 1457, 2552,...   \n\n                                             teamfights  version  \\\n0     [{'start': 187, 'end': 240, 'last_death': 225,...     21.0   \n1     [{'start': 182, 'end': 225, 'last_death': 210,...     21.0   \n2     [{'start': 748, 'end': 798, 'last_death': 783,...     21.0   \n3     [{'start': 532, 'end': 574, 'last_death': 559,...     21.0   \n4     [{'start': 571, 'end': 632, 'last_death': 617,...     21.0   \n...                                                 ...      ...   \n1057  [{'start': 712, 'end': 762, 'last_death': 747,...     21.0   \n1058  [{'start': -13, 'end': 33, 'last_death': 18, '...     21.0   \n1059  [{'start': 1691, 'end': 1751, 'last_death': 17...     21.0   \n1060  [{'start': 1167, 'end': 1213, 'last_death': 11...     21.0   \n1061  [{'start': 1999, 'end': 2037, 'last_death': 20...     21.0   \n\n                                              cosmetics  radiant_score  \\\n0     {'647': 129, '5470': 129, '6199': 1, '6694': 1...             40   \n1     {'647': 4, '4487': 4, '7146': 1, '7147': 1, '7...             31   \n2     {'647': 1, '4450': 0, '5386': 128, '5833': 130...             35   \n3     {'647': 129, '6042': 3, '6045': 3, '6224': 1, ...             35   \n4     {'647': 132, '4212': 0, '4214': 0, '4215': 0, ...             48   \n...                                                 ...            ...   \n1057  {'647': 0, '7277': 0, '7580': 1, '7581': 130, ...             17   \n1058  {'647': 131, '4869': 130, '4870': 130, '4872':...             14   \n1059  {'647': 132, '4648': 2, '4885': 2, '5101': 0, ...             20   \n1060  {'647': 128, '746': 2, '5810': 130, '5919': 13...              5   \n1061  {'647': 131, '5917': 0, '6423': 131, '6431': 1...             19   \n\n      dire_score                                      draft_timings series_id  \\\n0             42  [{'order': 1, 'pick': False, 'active_team': 3,...    768803   \n1             44  [{'order': 1, 'pick': False, 'active_team': 3,...    771054   \n2             39  [{'order': 1, 'pick': False, 'active_team': 3,...    768282   \n3             19  [{'order': 1, 'pick': False, 'active_team': 3,...    768751   \n4             40  [{'order': 1, 'pick': False, 'active_team': 3,...    771259   \n...          ...                                                ...       ...   \n1057          27  [{'order': 1, 'pick': False, 'active_team': 3,...    788348   \n1058          40  [{'order': 1, 'pick': False, 'active_team': 3,...    789394   \n1059          10  [{'order': 1, 'pick': False, 'active_team': 3,...    789147   \n1060          31  [{'order': 1, 'pick': False, 'active_team': 3,...    789147   \n1061          24  [{'order': 1, 'pick': False, 'active_team': 3,...    788906   \n\n      series_type  \n0               1  \n1               1  \n2               1  \n3               1  \n4               1  \n...           ...  \n1057            1  \n1058            1  \n1059            1  \n1060            1  \n1061            1  \n\n[1056 rows x 39 columns]",
      "text/html": "<div>\n<style scoped>\n    .dataframe tbody tr th:only-of-type {\n        vertical-align: middle;\n    }\n\n    .dataframe tbody tr th {\n        vertical-align: top;\n    }\n\n    .dataframe thead th {\n        text-align: right;\n    }\n</style>\n<table border=\"1\" class=\"dataframe\">\n  <thead>\n    <tr style=\"text-align: right;\">\n      <th></th>\n      <th>match_id</th>\n      <th>match_seq_num</th>\n      <th>radiant_win</th>\n      <th>start_time</th>\n      <th>duration</th>\n      <th>tower_status_radiant</th>\n      <th>tower_status_dire</th>\n      <th>barracks_status_radiant</th>\n      <th>barracks_status_dire</th>\n      <th>cluster</th>\n      <th>...</th>\n      <th>radiant_gold_adv</th>\n      <th>radiant_xp_adv</th>\n      <th>teamfights</th>\n      <th>version</th>\n      <th>cosmetics</th>\n      <th>radiant_score</th>\n      <th>dire_score</th>\n      <th>draft_timings</th>\n      <th>series_id</th>\n      <th>series_type</th>\n    </tr>\n  </thead>\n  <tbody>\n    <tr>\n      <th>0</th>\n      <td>7102649472</td>\n      <td>5966088132</td>\n      <td>False</td>\n      <td>2023-04-11 14:59:51</td>\n      <td>3878</td>\n      <td>0</td>\n      <td>1828</td>\n      <td>0</td>\n      <td>63</td>\n      <td>274</td>\n      <td>...</td>\n      <td>[416, 1124, 1330, 2115, 1858, 2024, 1445, 1756...</td>\n      <td>[150, -93, 427, 1133, 718, 888, 619, 864, 559,...</td>\n      <td>[{'start': 187, 'end': 240, 'last_death': 225,...</td>\n      <td>21.0</td>\n      <td>{'647': 129, '5470': 129, '6199': 1, '6694': 1...</td>\n      <td>40</td>\n      <td>42</td>\n      <td>[{'order': 1, 'pick': False, 'active_team': 3,...</td>\n      <td>768803</td>\n      <td>1</td>\n    </tr>\n    <tr>\n      <th>1</th>\n      <td>7114527708</td>\n      <td>5976670868</td>\n      <td>False</td>\n      <td>2023-04-19 16:58:38</td>\n      <td>2727</td>\n      <td>0</td>\n      <td>1828</td>\n      <td>0</td>\n      <td>63</td>\n      <td>272</td>\n      <td>...</td>\n      <td>[-100, -64, 15, 616, 193, 31, -241, -1421, -60...</td>\n      <td>[-50, 35, -239, 490, -111, -456, -207, -939, -...</td>\n      <td>[{'start': 182, 'end': 225, 'last_death': 210,...</td>\n      <td>21.0</td>\n      <td>{'647': 4, '4487': 4, '7146': 1, '7147': 1, '7...</td>\n      <td>31</td>\n      <td>44</td>\n      <td>[{'order': 1, 'pick': False, 'active_team': 3,...</td>\n      <td>771054</td>\n      <td>1</td>\n    </tr>\n    <tr>\n      <th>2</th>\n      <td>7099683300</td>\n      <td>5963412092</td>\n      <td>False</td>\n      <td>2023-04-09 13:33:07</td>\n      <td>2671</td>\n      <td>1536</td>\n      <td>2036</td>\n      <td>0</td>\n      <td>63</td>\n      <td>274</td>\n      <td>...</td>\n      <td>[0, 158, -233, -560, -510, -654, -719, -1168, ...</td>\n      <td>[0, 177, -440, -387, -727, -822, -614, -1053, ...</td>\n      <td>[{'start': 748, 'end': 798, 'last_death': 783,...</td>\n      <td>21.0</td>\n      <td>{'647': 1, '4450': 0, '5386': 128, '5833': 130...</td>\n      <td>35</td>\n      <td>39</td>\n      <td>[{'order': 1, 'pick': False, 'active_team': 3,...</td>\n      <td>768282</td>\n      <td>1</td>\n    </tr>\n    <tr>\n      <th>3</th>\n      <td>7102222768</td>\n      <td>5965674453</td>\n      <td>True</td>\n      <td>2023-04-11 09:55:14</td>\n      <td>2000</td>\n      <td>1975</td>\n      <td>1824</td>\n      <td>63</td>\n      <td>60</td>\n      <td>274</td>\n      <td>...</td>\n      <td>[0, 5, -279, -456, -108, 28, 97, 278, 385, 314...</td>\n      <td>[0, -30, -155, -254, 88, -154, -175, -328, -22...</td>\n      <td>[{'start': 532, 'end': 574, 'last_death': 559,...</td>\n      <td>21.0</td>\n      <td>{'647': 129, '6042': 3, '6045': 3, '6224': 1, ...</td>\n      <td>35</td>\n      <td>19</td>\n      <td>[{'order': 1, 'pick': False, 'active_team': 3,...</td>\n      <td>768751</td>\n      <td>1</td>\n    </tr>\n    <tr>\n      <th>4</th>\n      <td>7115496899</td>\n      <td>5977534560</td>\n      <td>True</td>\n      <td>2023-04-20 12:25:02</td>\n      <td>2663</td>\n      <td>1542</td>\n      <td>260</td>\n      <td>15</td>\n      <td>51</td>\n      <td>271</td>\n      <td>...</td>\n      <td>[-312, -254, -181, 4, 832, 29, -12, -1259, -13...</td>\n      <td>[-100, -96, 229, 223, 685, -87, 229, -1240, -7...</td>\n      <td>[{'start': 571, 'end': 632, 'last_death': 617,...</td>\n      <td>21.0</td>\n      <td>{'647': 132, '4212': 0, '4214': 0, '4215': 0, ...</td>\n      <td>48</td>\n      <td>40</td>\n      <td>[{'order': 1, 'pick': False, 'active_team': 3,...</td>\n      <td>771259</td>\n      <td>1</td>\n    </tr>\n    <tr>\n      <th>...</th>\n      <td>...</td>\n      <td>...</td>\n      <td>...</td>\n      <td>...</td>\n      <td>...</td>\n      <td>...</td>\n      <td>...</td>\n      <td>...</td>\n      <td>...</td>\n      <td>...</td>\n      <td>...</td>\n      <td>...</td>\n      <td>...</td>\n      <td>...</td>\n      <td>...</td>\n      <td>...</td>\n      <td>...</td>\n      <td>...</td>\n      <td>...</td>\n      <td>...</td>\n      <td>...</td>\n    </tr>\n    <tr>\n      <th>1057</th>\n      <td>7220548968</td>\n      <td>6071023256</td>\n      <td>False</td>\n      <td>2023-06-29 08:33:53</td>\n      <td>1835</td>\n      <td>1792</td>\n      <td>1974</td>\n      <td>48</td>\n      <td>63</td>\n      <td>151</td>\n      <td>...</td>\n      <td>[0, 347, 242, -66, 48, 71, -478, -63, 1209, 79...</td>\n      <td>[0, 370, 73, -99, -405, -246, -809, -415, 1563...</td>\n      <td>[{'start': 712, 'end': 762, 'last_death': 747,...</td>\n      <td>21.0</td>\n      <td>{'647': 0, '7277': 0, '7580': 1, '7581': 130, ...</td>\n      <td>17</td>\n      <td>27</td>\n      <td>[{'order': 1, 'pick': False, 'active_team': 3,...</td>\n      <td>788348</td>\n      <td>1</td>\n    </tr>\n    <tr>\n      <th>1058</th>\n      <td>7226053436</td>\n      <td>6075962402</td>\n      <td>False</td>\n      <td>2023-07-03 03:35:56</td>\n      <td>2395</td>\n      <td>0</td>\n      <td>2036</td>\n      <td>0</td>\n      <td>63</td>\n      <td>151</td>\n      <td>...</td>\n      <td>[100, 18, -380, -624, -828, -1061, -1468, -152...</td>\n      <td>[70, -14, -122, -432, -256, -558, -1009, -1101...</td>\n      <td>[{'start': -13, 'end': 33, 'last_death': 18, '...</td>\n      <td>21.0</td>\n      <td>{'647': 131, '4869': 130, '4870': 130, '4872':...</td>\n      <td>14</td>\n      <td>40</td>\n      <td>[{'order': 1, 'pick': False, 'active_team': 3,...</td>\n      <td>789394</td>\n      <td>1</td>\n    </tr>\n    <tr>\n      <th>1059</th>\n      <td>7224774802</td>\n      <td>6074812509</td>\n      <td>True</td>\n      <td>2023-07-02 07:53:13</td>\n      <td>1805</td>\n      <td>1983</td>\n      <td>1572</td>\n      <td>63</td>\n      <td>15</td>\n      <td>151</td>\n      <td>...</td>\n      <td>[-463, -113, -260, -201, -244, 164, 221, 1064,...</td>\n      <td>[-99, -162, 101, -82, 154, 96, 271, 1136, 1986...</td>\n      <td>[{'start': 1691, 'end': 1751, 'last_death': 17...</td>\n      <td>21.0</td>\n      <td>{'647': 132, '4648': 2, '4885': 2, '5101': 0, ...</td>\n      <td>20</td>\n      <td>10</td>\n      <td>[{'order': 1, 'pick': False, 'active_team': 3,...</td>\n      <td>789147</td>\n      <td>1</td>\n    </tr>\n    <tr>\n      <th>1060</th>\n      <td>7224708614</td>\n      <td>6074758569</td>\n      <td>False</td>\n      <td>2023-07-02 06:55:07</td>\n      <td>1863</td>\n      <td>1792</td>\n      <td>1974</td>\n      <td>48</td>\n      <td>63</td>\n      <td>154</td>\n      <td>...</td>\n      <td>[0, -581, -480, -471, -438, -67, 457, 711, 685...</td>\n      <td>[0, -422, -106, 25, 51, 31, 430, -223, -166, 1...</td>\n      <td>[{'start': 1167, 'end': 1213, 'last_death': 11...</td>\n      <td>21.0</td>\n      <td>{'647': 128, '746': 2, '5810': 130, '5919': 13...</td>\n      <td>5</td>\n      <td>31</td>\n      <td>[{'order': 1, 'pick': False, 'active_team': 3,...</td>\n      <td>789147</td>\n      <td>1</td>\n    </tr>\n    <tr>\n      <th>1061</th>\n      <td>7223294867</td>\n      <td>6073512927</td>\n      <td>False</td>\n      <td>2023-07-01 08:22:06</td>\n      <td>3421</td>\n      <td>1028</td>\n      <td>1952</td>\n      <td>3</td>\n      <td>63</td>\n      <td>151</td>\n      <td>...</td>\n      <td>[0, 52, 252, 458, 331, 306, 157, 223, 1969, 28...</td>\n      <td>[0, -124, 246, 240, 453, 536, 361, 1457, 2552,...</td>\n      <td>[{'start': 1999, 'end': 2037, 'last_death': 20...</td>\n      <td>21.0</td>\n      <td>{'647': 131, '5917': 0, '6423': 131, '6431': 1...</td>\n      <td>19</td>\n      <td>24</td>\n      <td>[{'order': 1, 'pick': False, 'active_team': 3,...</td>\n      <td>788906</td>\n      <td>1</td>\n    </tr>\n  </tbody>\n</table>\n<p>1056 rows × 39 columns</p>\n</div>"
     },
     "execution_count": 50,
     "metadata": {},
     "output_type": "execute_result"
    }
   ],
   "source": [
    "import pandas as pd\n",
    "\n",
    "# list of files containing match data\n",
    "match_list = [\n",
    "    'matches_dreamleague_19.json',\n",
    "    'matches_dreamleague_20.json',\n",
    "    'matches_dreamleague_21.json',\n",
    "    'matches_major_lima.json',\n",
    "    'matches_major_berlin.json',\n",
    "    'matches_major_bali.json',\n",
    "]\n",
    "\n",
    "# create a list of dataframes\n",
    "match_data = [pd.read_json(m) for m in match_list]\n",
    "\n",
    "# concatenate all of the dataframes into a single, monolithic dataframe\n",
    "matches = pd.concat(\n",
    "    match_data,\n",
    "    ignore_index=True\n",
    ")\n",
    "\n",
    "# there are `picks_bans` entries with null values\n",
    "matches.dropna(subset=['picks_bans'], inplace=True)\n",
    "\n",
    "matches"
   ]
  },
  {
   "cell_type": "code",
   "execution_count": 51,
   "outputs": [
    {
     "name": "stdout",
     "output_type": "stream",
     "text": [
      "match_id\n",
      "match_seq_num\n",
      "radiant_win\n",
      "start_time\n",
      "duration\n",
      "tower_status_radiant\n",
      "tower_status_dire\n",
      "barracks_status_radiant\n",
      "barracks_status_dire\n",
      "cluster\n",
      "first_blood_time\n",
      "lobby_type\n",
      "human_players\n",
      "leagueid\n",
      "positive_votes\n",
      "negative_votes\n",
      "game_mode\n",
      "engine\n",
      "picks_bans\n",
      "radiant_team_id\n",
      "dire_team_id\n",
      "radiant_team_name\n",
      "dire_team_name\n",
      "radiant_team_complete\n",
      "dire_team_complete\n",
      "radiant_captain\n",
      "dire_captain\n",
      "chat\n",
      "objectives\n",
      "radiant_gold_adv\n",
      "radiant_xp_adv\n",
      "teamfights\n",
      "version\n",
      "cosmetics\n",
      "radiant_score\n",
      "dire_score\n",
      "draft_timings\n",
      "series_id\n",
      "series_type\n"
     ]
    }
   ],
   "source": [
    "for i in matches.columns:\n",
    "    print(i)"
   ],
   "metadata": {
    "collapsed": false,
    "ExecuteTime": {
     "end_time": "2023-10-27T02:32:52.587182Z",
     "start_time": "2023-10-27T02:32:52.551928Z"
    }
   },
   "id": "795e96e773c45571"
  },
  {
   "cell_type": "markdown",
   "source": [],
   "metadata": {
    "collapsed": false
   },
   "id": "e59dedc40f7de044"
  },
  {
   "cell_type": "markdown",
   "id": "afa9895b-1696-4306-b90c-b3ec32438aaf",
   "metadata": {},
   "source": [
    "The data is very complex and very structured. A number of columns are nested with complex structures of data. Additionally, the use of ID numbers (also known as *categoricals*) is heavy throughout. This makes the data harder to read as a human, but is much more efficient and easier to manage in code.\n",
    "\n",
    "We want to grab the set of heroes available. Our match data uses ID numbers to represent hero selections, and so we need a way to determine which ID corresponds to which hero."
   ]
  },
  {
   "cell_type": "code",
   "execution_count": 52,
   "id": "171acd6c-a47c-4740-98ad-25e7e133b87b",
   "metadata": {
    "ExecuteTime": {
     "end_time": "2023-10-27T02:32:52.587458Z",
     "start_time": "2023-10-27T02:32:52.554964Z"
    }
   },
   "outputs": [
    {
     "data": {
      "text/plain": "      id                          name  localized_name primary_attr  \\\n0      1        npc_dota_hero_antimage       Anti-Mage          agi   \n1      2             npc_dota_hero_axe             Axe          str   \n2      3            npc_dota_hero_bane            Bane          all   \n3      4     npc_dota_hero_bloodseeker     Bloodseeker          agi   \n4      5  npc_dota_hero_crystal_maiden  Crystal Maiden          int   \n..   ...                           ...             ...          ...   \n119  129            npc_dota_hero_mars            Mars          str   \n120  135     npc_dota_hero_dawnbreaker     Dawnbreaker          str   \n121  136           npc_dota_hero_marci           Marci          all   \n122  137    npc_dota_hero_primal_beast    Primal Beast          str   \n123  138          npc_dota_hero_muerta          Muerta          int   \n\n    attack_type                                          roles  legs  \n0         Melee                         [Carry, Escape, Nuker]     2  \n1         Melee          [Initiator, Durable, Disabler, Carry]     2  \n2        Ranged            [Support, Disabler, Nuker, Durable]     4  \n3         Melee            [Carry, Disabler, Nuker, Initiator]     2  \n4        Ranged                     [Support, Disabler, Nuker]     2  \n..          ...                                            ...   ...  \n119       Melee          [Carry, Initiator, Disabler, Durable]     2  \n120       Melee                               [Carry, Durable]     2  \n121       Melee  [Support, Carry, Initiator, Disabler, Escape]     2  \n122       Melee                 [Initiator, Durable, Disabler]     2  \n123      Ranged                       [Carry, Nuker, Disabler]     2  \n\n[124 rows x 7 columns]",
      "text/html": "<div>\n<style scoped>\n    .dataframe tbody tr th:only-of-type {\n        vertical-align: middle;\n    }\n\n    .dataframe tbody tr th {\n        vertical-align: top;\n    }\n\n    .dataframe thead th {\n        text-align: right;\n    }\n</style>\n<table border=\"1\" class=\"dataframe\">\n  <thead>\n    <tr style=\"text-align: right;\">\n      <th></th>\n      <th>id</th>\n      <th>name</th>\n      <th>localized_name</th>\n      <th>primary_attr</th>\n      <th>attack_type</th>\n      <th>roles</th>\n      <th>legs</th>\n    </tr>\n  </thead>\n  <tbody>\n    <tr>\n      <th>0</th>\n      <td>1</td>\n      <td>npc_dota_hero_antimage</td>\n      <td>Anti-Mage</td>\n      <td>agi</td>\n      <td>Melee</td>\n      <td>[Carry, Escape, Nuker]</td>\n      <td>2</td>\n    </tr>\n    <tr>\n      <th>1</th>\n      <td>2</td>\n      <td>npc_dota_hero_axe</td>\n      <td>Axe</td>\n      <td>str</td>\n      <td>Melee</td>\n      <td>[Initiator, Durable, Disabler, Carry]</td>\n      <td>2</td>\n    </tr>\n    <tr>\n      <th>2</th>\n      <td>3</td>\n      <td>npc_dota_hero_bane</td>\n      <td>Bane</td>\n      <td>all</td>\n      <td>Ranged</td>\n      <td>[Support, Disabler, Nuker, Durable]</td>\n      <td>4</td>\n    </tr>\n    <tr>\n      <th>3</th>\n      <td>4</td>\n      <td>npc_dota_hero_bloodseeker</td>\n      <td>Bloodseeker</td>\n      <td>agi</td>\n      <td>Melee</td>\n      <td>[Carry, Disabler, Nuker, Initiator]</td>\n      <td>2</td>\n    </tr>\n    <tr>\n      <th>4</th>\n      <td>5</td>\n      <td>npc_dota_hero_crystal_maiden</td>\n      <td>Crystal Maiden</td>\n      <td>int</td>\n      <td>Ranged</td>\n      <td>[Support, Disabler, Nuker]</td>\n      <td>2</td>\n    </tr>\n    <tr>\n      <th>...</th>\n      <td>...</td>\n      <td>...</td>\n      <td>...</td>\n      <td>...</td>\n      <td>...</td>\n      <td>...</td>\n      <td>...</td>\n    </tr>\n    <tr>\n      <th>119</th>\n      <td>129</td>\n      <td>npc_dota_hero_mars</td>\n      <td>Mars</td>\n      <td>str</td>\n      <td>Melee</td>\n      <td>[Carry, Initiator, Disabler, Durable]</td>\n      <td>2</td>\n    </tr>\n    <tr>\n      <th>120</th>\n      <td>135</td>\n      <td>npc_dota_hero_dawnbreaker</td>\n      <td>Dawnbreaker</td>\n      <td>str</td>\n      <td>Melee</td>\n      <td>[Carry, Durable]</td>\n      <td>2</td>\n    </tr>\n    <tr>\n      <th>121</th>\n      <td>136</td>\n      <td>npc_dota_hero_marci</td>\n      <td>Marci</td>\n      <td>all</td>\n      <td>Melee</td>\n      <td>[Support, Carry, Initiator, Disabler, Escape]</td>\n      <td>2</td>\n    </tr>\n    <tr>\n      <th>122</th>\n      <td>137</td>\n      <td>npc_dota_hero_primal_beast</td>\n      <td>Primal Beast</td>\n      <td>str</td>\n      <td>Melee</td>\n      <td>[Initiator, Durable, Disabler]</td>\n      <td>2</td>\n    </tr>\n    <tr>\n      <th>123</th>\n      <td>138</td>\n      <td>npc_dota_hero_muerta</td>\n      <td>Muerta</td>\n      <td>int</td>\n      <td>Ranged</td>\n      <td>[Carry, Nuker, Disabler]</td>\n      <td>2</td>\n    </tr>\n  </tbody>\n</table>\n<p>124 rows × 7 columns</p>\n</div>"
     },
     "execution_count": 52,
     "metadata": {},
     "output_type": "execute_result"
    }
   ],
   "source": [
    "# read heroes.json\n",
    "heroes = pd.read_json('heroes.json')\n",
    "heroes"
   ]
  },
  {
   "cell_type": "markdown",
   "id": "61b67c91-fcbf-4ccf-bc5d-7296edc6d4e0",
   "metadata": {},
   "source": [
    "The hero data is pretty standard - **importantly though it allows us to match ID numbers to hero names!**\n",
    "\n",
    "Let's walk through a quick example on how we can look at the hero selections for a particular match. First we can grab the `picks_bans` data for the first match in our list. *The `picks_bans` data is yet another table!* We can take a single entry from that columne, and construct a brand new dataframe from it (as in its raw form it is still just JSON (list of dictionaries))."
   ]
  },
  {
   "cell_type": "code",
   "execution_count": 53,
   "id": "a3fcf454-76af-461b-bc80-f909b596992a",
   "metadata": {
    "ExecuteTime": {
     "end_time": "2023-10-27T02:32:52.587782Z",
     "start_time": "2023-10-27T02:32:52.570724Z"
    }
   },
   "outputs": [
    {
     "data": {
      "text/plain": "    is_pick  hero_id  team  order\n0     False       87     1      0\n1     False       65     0      1\n2     False       51     1      2\n3     False       61     0      3\n4      True       43     1      4\n5      True       74     0      5\n6      True       85     0      6\n7      True       46     1      7\n8     False        6     1      8\n9     False      137     0      9\n10    False      109     1     10\n11    False      136     0     11\n12    False       19     1     12\n13    False       32     0     13\n14     True       86     0     14\n15     True       26     1     15\n16     True       75     1     16\n17     True       38     0     17\n18    False       53     1     18\n19    False       60     0     19\n20    False       81     1     20\n21    False       95     0     21\n22     True       23     1     22\n23     True       14     0     23",
      "text/html": "<div>\n<style scoped>\n    .dataframe tbody tr th:only-of-type {\n        vertical-align: middle;\n    }\n\n    .dataframe tbody tr th {\n        vertical-align: top;\n    }\n\n    .dataframe thead th {\n        text-align: right;\n    }\n</style>\n<table border=\"1\" class=\"dataframe\">\n  <thead>\n    <tr style=\"text-align: right;\">\n      <th></th>\n      <th>is_pick</th>\n      <th>hero_id</th>\n      <th>team</th>\n      <th>order</th>\n    </tr>\n  </thead>\n  <tbody>\n    <tr>\n      <th>0</th>\n      <td>False</td>\n      <td>87</td>\n      <td>1</td>\n      <td>0</td>\n    </tr>\n    <tr>\n      <th>1</th>\n      <td>False</td>\n      <td>65</td>\n      <td>0</td>\n      <td>1</td>\n    </tr>\n    <tr>\n      <th>2</th>\n      <td>False</td>\n      <td>51</td>\n      <td>1</td>\n      <td>2</td>\n    </tr>\n    <tr>\n      <th>3</th>\n      <td>False</td>\n      <td>61</td>\n      <td>0</td>\n      <td>3</td>\n    </tr>\n    <tr>\n      <th>4</th>\n      <td>True</td>\n      <td>43</td>\n      <td>1</td>\n      <td>4</td>\n    </tr>\n    <tr>\n      <th>5</th>\n      <td>True</td>\n      <td>74</td>\n      <td>0</td>\n      <td>5</td>\n    </tr>\n    <tr>\n      <th>6</th>\n      <td>True</td>\n      <td>85</td>\n      <td>0</td>\n      <td>6</td>\n    </tr>\n    <tr>\n      <th>7</th>\n      <td>True</td>\n      <td>46</td>\n      <td>1</td>\n      <td>7</td>\n    </tr>\n    <tr>\n      <th>8</th>\n      <td>False</td>\n      <td>6</td>\n      <td>1</td>\n      <td>8</td>\n    </tr>\n    <tr>\n      <th>9</th>\n      <td>False</td>\n      <td>137</td>\n      <td>0</td>\n      <td>9</td>\n    </tr>\n    <tr>\n      <th>10</th>\n      <td>False</td>\n      <td>109</td>\n      <td>1</td>\n      <td>10</td>\n    </tr>\n    <tr>\n      <th>11</th>\n      <td>False</td>\n      <td>136</td>\n      <td>0</td>\n      <td>11</td>\n    </tr>\n    <tr>\n      <th>12</th>\n      <td>False</td>\n      <td>19</td>\n      <td>1</td>\n      <td>12</td>\n    </tr>\n    <tr>\n      <th>13</th>\n      <td>False</td>\n      <td>32</td>\n      <td>0</td>\n      <td>13</td>\n    </tr>\n    <tr>\n      <th>14</th>\n      <td>True</td>\n      <td>86</td>\n      <td>0</td>\n      <td>14</td>\n    </tr>\n    <tr>\n      <th>15</th>\n      <td>True</td>\n      <td>26</td>\n      <td>1</td>\n      <td>15</td>\n    </tr>\n    <tr>\n      <th>16</th>\n      <td>True</td>\n      <td>75</td>\n      <td>1</td>\n      <td>16</td>\n    </tr>\n    <tr>\n      <th>17</th>\n      <td>True</td>\n      <td>38</td>\n      <td>0</td>\n      <td>17</td>\n    </tr>\n    <tr>\n      <th>18</th>\n      <td>False</td>\n      <td>53</td>\n      <td>1</td>\n      <td>18</td>\n    </tr>\n    <tr>\n      <th>19</th>\n      <td>False</td>\n      <td>60</td>\n      <td>0</td>\n      <td>19</td>\n    </tr>\n    <tr>\n      <th>20</th>\n      <td>False</td>\n      <td>81</td>\n      <td>1</td>\n      <td>20</td>\n    </tr>\n    <tr>\n      <th>21</th>\n      <td>False</td>\n      <td>95</td>\n      <td>0</td>\n      <td>21</td>\n    </tr>\n    <tr>\n      <th>22</th>\n      <td>True</td>\n      <td>23</td>\n      <td>1</td>\n      <td>22</td>\n    </tr>\n    <tr>\n      <th>23</th>\n      <td>True</td>\n      <td>14</td>\n      <td>0</td>\n      <td>23</td>\n    </tr>\n  </tbody>\n</table>\n</div>"
     },
     "execution_count": 53,
     "metadata": {},
     "output_type": "execute_result"
    }
   ],
   "source": [
    "# unpack a single record of picks_bans\n",
    "picks_bans = pd.DataFrame(matches.picks_bans.iloc[0])\n",
    "picks_bans"
   ]
  },
  {
   "cell_type": "markdown",
   "id": "c7bc0284-df7d-4aca-b757-6cc35d53de32",
   "metadata": {},
   "source": [
    "This shows us whether a hero was picked or banned. We do not care much for the heros banned (for now), but we do care about which ones were picked! We also care about the team that picked them, as it will allow us to build out a dataset describing the frequency of wins for heroes throughout the professional circuit.\n",
    "\n",
    "We can use the fact that the `is_pick` column is a *series of booleans*, which means that we can *use it as a mask!*. Let's mask our `picks_bans` from the previous cell using the `is_pick` column."
   ]
  },
  {
   "cell_type": "code",
   "execution_count": 54,
   "id": "504bee11-e55c-4519-9839-6bf2be8ff2be",
   "metadata": {
    "ExecuteTime": {
     "end_time": "2023-10-27T02:32:52.588001Z",
     "start_time": "2023-10-27T02:32:52.575964Z"
    }
   },
   "outputs": [
    {
     "data": {
      "text/plain": "    is_pick  hero_id  team  order\n4      True       43     1      4\n5      True       74     0      5\n6      True       85     0      6\n7      True       46     1      7\n14     True       86     0     14\n15     True       26     1     15\n16     True       75     1     16\n17     True       38     0     17\n22     True       23     1     22\n23     True       14     0     23",
      "text/html": "<div>\n<style scoped>\n    .dataframe tbody tr th:only-of-type {\n        vertical-align: middle;\n    }\n\n    .dataframe tbody tr th {\n        vertical-align: top;\n    }\n\n    .dataframe thead th {\n        text-align: right;\n    }\n</style>\n<table border=\"1\" class=\"dataframe\">\n  <thead>\n    <tr style=\"text-align: right;\">\n      <th></th>\n      <th>is_pick</th>\n      <th>hero_id</th>\n      <th>team</th>\n      <th>order</th>\n    </tr>\n  </thead>\n  <tbody>\n    <tr>\n      <th>4</th>\n      <td>True</td>\n      <td>43</td>\n      <td>1</td>\n      <td>4</td>\n    </tr>\n    <tr>\n      <th>5</th>\n      <td>True</td>\n      <td>74</td>\n      <td>0</td>\n      <td>5</td>\n    </tr>\n    <tr>\n      <th>6</th>\n      <td>True</td>\n      <td>85</td>\n      <td>0</td>\n      <td>6</td>\n    </tr>\n    <tr>\n      <th>7</th>\n      <td>True</td>\n      <td>46</td>\n      <td>1</td>\n      <td>7</td>\n    </tr>\n    <tr>\n      <th>14</th>\n      <td>True</td>\n      <td>86</td>\n      <td>0</td>\n      <td>14</td>\n    </tr>\n    <tr>\n      <th>15</th>\n      <td>True</td>\n      <td>26</td>\n      <td>1</td>\n      <td>15</td>\n    </tr>\n    <tr>\n      <th>16</th>\n      <td>True</td>\n      <td>75</td>\n      <td>1</td>\n      <td>16</td>\n    </tr>\n    <tr>\n      <th>17</th>\n      <td>True</td>\n      <td>38</td>\n      <td>0</td>\n      <td>17</td>\n    </tr>\n    <tr>\n      <th>22</th>\n      <td>True</td>\n      <td>23</td>\n      <td>1</td>\n      <td>22</td>\n    </tr>\n    <tr>\n      <th>23</th>\n      <td>True</td>\n      <td>14</td>\n      <td>0</td>\n      <td>23</td>\n    </tr>\n  </tbody>\n</table>\n</div>"
     },
     "execution_count": 54,
     "metadata": {},
     "output_type": "execute_result"
    }
   ],
   "source": [
    "# mask for picks\n",
    "mask_is_pick_true = picks_bans.is_pick == True\n",
    "picks = picks_bans[mask_is_pick_true]\n",
    "picks"
   ]
  },
  {
   "cell_type": "markdown",
   "id": "f2ee963b-84e3-4533-a465-8a9df029d25c",
   "metadata": {},
   "source": [
    "This tells us... nothing... not directly at least! This is because we do not care about hero IDs! We need to find a way to map the hero ID numbers to hero names.\n",
    "\n",
    "We can use `pandas.merge` to merge the `picks` and `heroes` tables together. This merging process will smash our two tables together matching records in each set to one another where the hero IDs in the picks and bans table match the hero IDs from the heroes table."
   ]
  },
  {
   "cell_type": "code",
   "execution_count": 55,
   "id": "19f03803",
   "metadata": {
    "ExecuteTime": {
     "end_time": "2023-10-27T02:32:52.629916Z",
     "start_time": "2023-10-27T02:32:52.588899Z"
    }
   },
   "outputs": [
    {
     "data": {
      "text/plain": "   is_pick  hero_id  team  order  id                            name  \\\n0     True       43     1      4  43     npc_dota_hero_death_prophet   \n1     True       74     0      5  74           npc_dota_hero_invoker   \n2     True       85     0      6  85           npc_dota_hero_undying   \n3     True       46     1      7  46  npc_dota_hero_templar_assassin   \n4     True       86     0     14  86            npc_dota_hero_rubick   \n5     True       26     1     15  26              npc_dota_hero_lion   \n6     True       75     1     16  75          npc_dota_hero_silencer   \n7     True       38     0     17  38       npc_dota_hero_beastmaster   \n8     True       23     1     22  23            npc_dota_hero_kunkka   \n9     True       14     0     23  14             npc_dota_hero_pudge   \n\n     localized_name primary_attr attack_type  \\\n0     Death Prophet          int      Ranged   \n1           Invoker          all      Ranged   \n2           Undying          str       Melee   \n3  Templar Assassin          agi      Ranged   \n4            Rubick          int      Ranged   \n5              Lion          int      Ranged   \n6          Silencer          int      Ranged   \n7       Beastmaster          all       Melee   \n8            Kunkka          str       Melee   \n9             Pudge          str       Melee   \n\n                                               roles  legs  \n0                   [Carry, Pusher, Nuker, Disabler]     2  \n1           [Carry, Nuker, Disabler, Escape, Pusher]     2  \n2                [Support, Durable, Disabler, Nuker]     2  \n3                                    [Carry, Escape]     2  \n4                         [Support, Disabler, Nuker]     2  \n5              [Support, Disabler, Nuker, Initiator]     2  \n6       [Carry, Support, Disabler, Initiator, Nuker]     2  \n7              [Initiator, Disabler, Durable, Nuker]     2  \n8  [Carry, Support, Disabler, Initiator, Durable,...     2  \n9              [Disabler, Initiator, Durable, Nuker]     2  ",
      "text/html": "<div>\n<style scoped>\n    .dataframe tbody tr th:only-of-type {\n        vertical-align: middle;\n    }\n\n    .dataframe tbody tr th {\n        vertical-align: top;\n    }\n\n    .dataframe thead th {\n        text-align: right;\n    }\n</style>\n<table border=\"1\" class=\"dataframe\">\n  <thead>\n    <tr style=\"text-align: right;\">\n      <th></th>\n      <th>is_pick</th>\n      <th>hero_id</th>\n      <th>team</th>\n      <th>order</th>\n      <th>id</th>\n      <th>name</th>\n      <th>localized_name</th>\n      <th>primary_attr</th>\n      <th>attack_type</th>\n      <th>roles</th>\n      <th>legs</th>\n    </tr>\n  </thead>\n  <tbody>\n    <tr>\n      <th>0</th>\n      <td>True</td>\n      <td>43</td>\n      <td>1</td>\n      <td>4</td>\n      <td>43</td>\n      <td>npc_dota_hero_death_prophet</td>\n      <td>Death Prophet</td>\n      <td>int</td>\n      <td>Ranged</td>\n      <td>[Carry, Pusher, Nuker, Disabler]</td>\n      <td>2</td>\n    </tr>\n    <tr>\n      <th>1</th>\n      <td>True</td>\n      <td>74</td>\n      <td>0</td>\n      <td>5</td>\n      <td>74</td>\n      <td>npc_dota_hero_invoker</td>\n      <td>Invoker</td>\n      <td>all</td>\n      <td>Ranged</td>\n      <td>[Carry, Nuker, Disabler, Escape, Pusher]</td>\n      <td>2</td>\n    </tr>\n    <tr>\n      <th>2</th>\n      <td>True</td>\n      <td>85</td>\n      <td>0</td>\n      <td>6</td>\n      <td>85</td>\n      <td>npc_dota_hero_undying</td>\n      <td>Undying</td>\n      <td>str</td>\n      <td>Melee</td>\n      <td>[Support, Durable, Disabler, Nuker]</td>\n      <td>2</td>\n    </tr>\n    <tr>\n      <th>3</th>\n      <td>True</td>\n      <td>46</td>\n      <td>1</td>\n      <td>7</td>\n      <td>46</td>\n      <td>npc_dota_hero_templar_assassin</td>\n      <td>Templar Assassin</td>\n      <td>agi</td>\n      <td>Ranged</td>\n      <td>[Carry, Escape]</td>\n      <td>2</td>\n    </tr>\n    <tr>\n      <th>4</th>\n      <td>True</td>\n      <td>86</td>\n      <td>0</td>\n      <td>14</td>\n      <td>86</td>\n      <td>npc_dota_hero_rubick</td>\n      <td>Rubick</td>\n      <td>int</td>\n      <td>Ranged</td>\n      <td>[Support, Disabler, Nuker]</td>\n      <td>2</td>\n    </tr>\n    <tr>\n      <th>5</th>\n      <td>True</td>\n      <td>26</td>\n      <td>1</td>\n      <td>15</td>\n      <td>26</td>\n      <td>npc_dota_hero_lion</td>\n      <td>Lion</td>\n      <td>int</td>\n      <td>Ranged</td>\n      <td>[Support, Disabler, Nuker, Initiator]</td>\n      <td>2</td>\n    </tr>\n    <tr>\n      <th>6</th>\n      <td>True</td>\n      <td>75</td>\n      <td>1</td>\n      <td>16</td>\n      <td>75</td>\n      <td>npc_dota_hero_silencer</td>\n      <td>Silencer</td>\n      <td>int</td>\n      <td>Ranged</td>\n      <td>[Carry, Support, Disabler, Initiator, Nuker]</td>\n      <td>2</td>\n    </tr>\n    <tr>\n      <th>7</th>\n      <td>True</td>\n      <td>38</td>\n      <td>0</td>\n      <td>17</td>\n      <td>38</td>\n      <td>npc_dota_hero_beastmaster</td>\n      <td>Beastmaster</td>\n      <td>all</td>\n      <td>Melee</td>\n      <td>[Initiator, Disabler, Durable, Nuker]</td>\n      <td>2</td>\n    </tr>\n    <tr>\n      <th>8</th>\n      <td>True</td>\n      <td>23</td>\n      <td>1</td>\n      <td>22</td>\n      <td>23</td>\n      <td>npc_dota_hero_kunkka</td>\n      <td>Kunkka</td>\n      <td>str</td>\n      <td>Melee</td>\n      <td>[Carry, Support, Disabler, Initiator, Durable,...</td>\n      <td>2</td>\n    </tr>\n    <tr>\n      <th>9</th>\n      <td>True</td>\n      <td>14</td>\n      <td>0</td>\n      <td>23</td>\n      <td>14</td>\n      <td>npc_dota_hero_pudge</td>\n      <td>Pudge</td>\n      <td>str</td>\n      <td>Melee</td>\n      <td>[Disabler, Initiator, Durable, Nuker]</td>\n      <td>2</td>\n    </tr>\n  </tbody>\n</table>\n</div>"
     },
     "execution_count": 55,
     "metadata": {},
     "output_type": "execute_result"
    }
   ],
   "source": [
    "# merge picks and heroes\n",
    "named_picks = pd.merge(picks, heroes, left_on='hero_id', right_on='id')\n",
    "named_picks"
   ]
  },
  {
   "cell_type": "markdown",
   "id": "dfdb0170",
   "metadata": {},
   "source": [
    "Really what we want to do here is combine the picks (and bans) data with the match results. This will let us understand how effective some heroes may be. We can see the winning team by observing the `radiant_win` column."
   ]
  },
  {
   "cell_type": "code",
   "execution_count": 56,
   "id": "275f6bb9-648b-43a7-88f5-62cd0d8a306e",
   "metadata": {
    "ExecuteTime": {
     "end_time": "2023-10-27T02:32:52.630142Z",
     "start_time": "2023-10-27T02:32:52.592463Z"
    }
   },
   "outputs": [
    {
     "data": {
      "text/plain": "False"
     },
     "execution_count": 56,
     "metadata": {},
     "output_type": "execute_result"
    }
   ],
   "source": [
    "# inspect win value\n",
    "matches.radiant_win.iloc[0]"
   ]
  },
  {
   "cell_type": "markdown",
   "id": "b68b6912-f257-4fe4-b61a-04fd2715fd3f",
   "metadata": {},
   "source": [
    "There are two teams in DotA2 - *The Radiant* and *The Dire*. There are no draws, and so the result of any match is always a Radiant win or a Dire win.\n",
    "\n",
    "This allows the data maintainers to use a simple boolean to manage this aspect of the data - there is no `dire_win` column! What we know though is that \"team 0\" refers to Radiant, and \"team 1\" refers to Dire. All we need to do is use that boolean to assign a `win` column to the `picks_bans` table.\n",
    "\n",
    "We can use a little trick when dealing with boolean values - we can directly compare integers and booleans *when the integers are 0 and 1*. This is very convenient for us, all we need to do is check if the `team` column in the `picks_bans` table *is not equal* to the `radiant_win` value from the match!\n",
    "\n",
    "This gives us four combinations:\n",
    "\n",
    "* Radiant Win (True) and hero picked by Radiant (0, or False)\n",
    "* Radiant Win (True) and hero picked by Dire (1, or True)\n",
    "* Radiant Loss (False) and hero picked by Radiant (0, or False)\n",
    "* Radiant Loss (False) and hero picked by Dire (1, or True)\n",
    "\n",
    "Again, note that a hero wins a match when the column indicating who won is not equal to the column indicating what team they played on."
   ]
  },
  {
   "cell_type": "markdown",
   "source": [
    "- 0 = Radiant \n",
    "- 1 = Dire \n",
    "- True = Radiant Win \n",
    "- False = Dire Win "
   ],
   "metadata": {
    "collapsed": false
   },
   "id": "98a6219bc267e969"
  },
  {
   "cell_type": "code",
   "execution_count": 57,
   "outputs": [
    {
     "data": {
      "text/plain": "True"
     },
     "execution_count": 57,
     "metadata": {},
     "output_type": "execute_result"
    }
   ],
   "source": [
    "True != False"
   ],
   "metadata": {
    "collapsed": false,
    "ExecuteTime": {
     "end_time": "2023-10-27T02:32:52.630257Z",
     "start_time": "2023-10-27T02:32:52.595915Z"
    }
   },
   "id": "6044b233345a2671"
  },
  {
   "cell_type": "code",
   "execution_count": 57,
   "outputs": [],
   "source": [],
   "metadata": {
    "collapsed": false,
    "ExecuteTime": {
     "end_time": "2023-10-27T02:32:52.630311Z",
     "start_time": "2023-10-27T02:32:52.599509Z"
    }
   },
   "id": "1bbcdad68b4c9cde"
  },
  {
   "cell_type": "code",
   "execution_count": 58,
   "outputs": [
    {
     "data": {
      "text/plain": "   team     team_name  Radiant_win            heroes    win\n0     0  radiant_pick        False           Undying  False\n1     0  radiant_pick        False  Templar Assassin  False\n2     0  radiant_pick        False          Silencer  False\n3     0  radiant_pick        False            Rubick  False\n4     0  radiant_pick        False             Pudge  False\n5     1     Dire_pick        False              Lion   True\n6     1     Dire_pick        False            Kunkka   True\n7     1     Dire_pick        False           Invoker   True\n8     1     Dire_pick        False     Death Prophet   True\n9     1     Dire_pick        False       Beastmaster   True",
      "text/html": "<div>\n<style scoped>\n    .dataframe tbody tr th:only-of-type {\n        vertical-align: middle;\n    }\n\n    .dataframe tbody tr th {\n        vertical-align: top;\n    }\n\n    .dataframe thead th {\n        text-align: right;\n    }\n</style>\n<table border=\"1\" class=\"dataframe\">\n  <thead>\n    <tr style=\"text-align: right;\">\n      <th></th>\n      <th>team</th>\n      <th>team_name</th>\n      <th>Radiant_win</th>\n      <th>heroes</th>\n      <th>win</th>\n    </tr>\n  </thead>\n  <tbody>\n    <tr>\n      <th>0</th>\n      <td>0</td>\n      <td>radiant_pick</td>\n      <td>False</td>\n      <td>Undying</td>\n      <td>False</td>\n    </tr>\n    <tr>\n      <th>1</th>\n      <td>0</td>\n      <td>radiant_pick</td>\n      <td>False</td>\n      <td>Templar Assassin</td>\n      <td>False</td>\n    </tr>\n    <tr>\n      <th>2</th>\n      <td>0</td>\n      <td>radiant_pick</td>\n      <td>False</td>\n      <td>Silencer</td>\n      <td>False</td>\n    </tr>\n    <tr>\n      <th>3</th>\n      <td>0</td>\n      <td>radiant_pick</td>\n      <td>False</td>\n      <td>Rubick</td>\n      <td>False</td>\n    </tr>\n    <tr>\n      <th>4</th>\n      <td>0</td>\n      <td>radiant_pick</td>\n      <td>False</td>\n      <td>Pudge</td>\n      <td>False</td>\n    </tr>\n    <tr>\n      <th>5</th>\n      <td>1</td>\n      <td>Dire_pick</td>\n      <td>False</td>\n      <td>Lion</td>\n      <td>True</td>\n    </tr>\n    <tr>\n      <th>6</th>\n      <td>1</td>\n      <td>Dire_pick</td>\n      <td>False</td>\n      <td>Kunkka</td>\n      <td>True</td>\n    </tr>\n    <tr>\n      <th>7</th>\n      <td>1</td>\n      <td>Dire_pick</td>\n      <td>False</td>\n      <td>Invoker</td>\n      <td>True</td>\n    </tr>\n    <tr>\n      <th>8</th>\n      <td>1</td>\n      <td>Dire_pick</td>\n      <td>False</td>\n      <td>Death Prophet</td>\n      <td>True</td>\n    </tr>\n    <tr>\n      <th>9</th>\n      <td>1</td>\n      <td>Dire_pick</td>\n      <td>False</td>\n      <td>Beastmaster</td>\n      <td>True</td>\n    </tr>\n  </tbody>\n</table>\n</div>"
     },
     "execution_count": 58,
     "metadata": {},
     "output_type": "execute_result"
    }
   ],
   "source": [
    "import pandas as pd\n",
    "\n",
    "# Create a sample DataFrame with the data\n",
    "data = {'team':[0,0,0,0,0,1,1,1,1,1],'team_name': ['radiant_pick','radiant_pick' , 'radiant_pick', 'radiant_pick', 'radiant_pick', 'Dire_pick','Dire_pick' , 'Dire_pick', 'Dire_pick', 'Dire_pick'], 'Radiant_win':[False for i in range(0,10)],'heroes':[\n",
    "    \"Undying\",\n",
    "    \"Templar Assassin\",\n",
    "    \"Silencer\",\n",
    "    \"Rubick\",\n",
    "    \"Pudge\",\n",
    "    \"Lion\",\n",
    "    \"Kunkka\",\n",
    "    \"Invoker\",\n",
    "    \"Death Prophet\",\n",
    "    \"Beastmaster\"\n",
    "]}\n",
    "\n",
    "named_picks = pd.DataFrame(data)\n",
    "named_picks.set_index('team')\n",
    "# Set the win column based on the comparison\n",
    "named_picks['win'] = named_picks.team != matches.radiant_win.iloc[0]\n",
    "\n",
    "# Display the result\n",
    "named_picks"
   ],
   "metadata": {
    "collapsed": false,
    "ExecuteTime": {
     "end_time": "2023-10-27T02:32:52.688758Z",
     "start_time": "2023-10-27T02:32:52.603790Z"
    }
   },
   "id": "ba44c0a093275c4f"
  },
  {
   "cell_type": "code",
   "execution_count": 59,
   "id": "5050d630-912d-4239-92de-9e0490c52c8c",
   "metadata": {
    "ExecuteTime": {
     "end_time": "2023-10-27T02:32:52.689083Z",
     "start_time": "2023-10-27T02:32:52.614345Z"
    }
   },
   "outputs": [
    {
     "data": {
      "text/plain": "   team     team_name  Radiant_win            heroes    win\n0     0  radiant_pick        False           Undying  False\n1     0  radiant_pick        False  Templar Assassin  False\n2     0  radiant_pick        False          Silencer  False\n3     0  radiant_pick        False            Rubick  False\n4     0  radiant_pick        False             Pudge  False\n5     1     Dire_pick        False              Lion   True\n6     1     Dire_pick        False            Kunkka   True\n7     1     Dire_pick        False           Invoker   True\n8     1     Dire_pick        False     Death Prophet   True\n9     1     Dire_pick        False       Beastmaster   True",
      "text/html": "<div>\n<style scoped>\n    .dataframe tbody tr th:only-of-type {\n        vertical-align: middle;\n    }\n\n    .dataframe tbody tr th {\n        vertical-align: top;\n    }\n\n    .dataframe thead th {\n        text-align: right;\n    }\n</style>\n<table border=\"1\" class=\"dataframe\">\n  <thead>\n    <tr style=\"text-align: right;\">\n      <th></th>\n      <th>team</th>\n      <th>team_name</th>\n      <th>Radiant_win</th>\n      <th>heroes</th>\n      <th>win</th>\n    </tr>\n  </thead>\n  <tbody>\n    <tr>\n      <th>0</th>\n      <td>0</td>\n      <td>radiant_pick</td>\n      <td>False</td>\n      <td>Undying</td>\n      <td>False</td>\n    </tr>\n    <tr>\n      <th>1</th>\n      <td>0</td>\n      <td>radiant_pick</td>\n      <td>False</td>\n      <td>Templar Assassin</td>\n      <td>False</td>\n    </tr>\n    <tr>\n      <th>2</th>\n      <td>0</td>\n      <td>radiant_pick</td>\n      <td>False</td>\n      <td>Silencer</td>\n      <td>False</td>\n    </tr>\n    <tr>\n      <th>3</th>\n      <td>0</td>\n      <td>radiant_pick</td>\n      <td>False</td>\n      <td>Rubick</td>\n      <td>False</td>\n    </tr>\n    <tr>\n      <th>4</th>\n      <td>0</td>\n      <td>radiant_pick</td>\n      <td>False</td>\n      <td>Pudge</td>\n      <td>False</td>\n    </tr>\n    <tr>\n      <th>5</th>\n      <td>1</td>\n      <td>Dire_pick</td>\n      <td>False</td>\n      <td>Lion</td>\n      <td>True</td>\n    </tr>\n    <tr>\n      <th>6</th>\n      <td>1</td>\n      <td>Dire_pick</td>\n      <td>False</td>\n      <td>Kunkka</td>\n      <td>True</td>\n    </tr>\n    <tr>\n      <th>7</th>\n      <td>1</td>\n      <td>Dire_pick</td>\n      <td>False</td>\n      <td>Invoker</td>\n      <td>True</td>\n    </tr>\n    <tr>\n      <th>8</th>\n      <td>1</td>\n      <td>Dire_pick</td>\n      <td>False</td>\n      <td>Death Prophet</td>\n      <td>True</td>\n    </tr>\n    <tr>\n      <th>9</th>\n      <td>1</td>\n      <td>Dire_pick</td>\n      <td>False</td>\n      <td>Beastmaster</td>\n      <td>True</td>\n    </tr>\n  </tbody>\n</table>\n</div>"
     },
     "execution_count": 59,
     "metadata": {},
     "output_type": "execute_result"
    }
   ],
   "source": [
    "    # add wins column\n",
    "named_picks['win'] = named_picks.team != matches.radiant_win.iloc[0]\n",
    "named_picks"
   ]
  },
  {
   "cell_type": "markdown",
   "id": "a1ab979b-0b93-48a8-9d79-8c3db6ffcc7b",
   "metadata": {},
   "source": [
    "This is just for a single match though! What we need to do is apply this sort of processing to every match in our table. We need to create a dataframe that includes all of the hero statistics across all matches. This requires us to convert every `picks_ban` element into a  dataframe, and then concatenate all of those dataframes into a single dataframe. \n",
    "\n",
    "To do this, we need to define a new function "
   ]
  },
  {
   "cell_type": "code",
   "execution_count": 60,
   "outputs": [
    {
     "data": {
      "text/plain": "    is_pick  hero_id  team  order\n4      True       43     1      4\n5      True       74     0      5\n6      True       85     0      6\n7      True       46     1      7\n14     True       86     0     14\n15     True       26     1     15\n16     True       75     1     16\n17     True       38     0     17\n22     True       23     1     22\n23     True       14     0     23",
      "text/html": "<div>\n<style scoped>\n    .dataframe tbody tr th:only-of-type {\n        vertical-align: middle;\n    }\n\n    .dataframe tbody tr th {\n        vertical-align: top;\n    }\n\n    .dataframe thead th {\n        text-align: right;\n    }\n</style>\n<table border=\"1\" class=\"dataframe\">\n  <thead>\n    <tr style=\"text-align: right;\">\n      <th></th>\n      <th>is_pick</th>\n      <th>hero_id</th>\n      <th>team</th>\n      <th>order</th>\n    </tr>\n  </thead>\n  <tbody>\n    <tr>\n      <th>4</th>\n      <td>True</td>\n      <td>43</td>\n      <td>1</td>\n      <td>4</td>\n    </tr>\n    <tr>\n      <th>5</th>\n      <td>True</td>\n      <td>74</td>\n      <td>0</td>\n      <td>5</td>\n    </tr>\n    <tr>\n      <th>6</th>\n      <td>True</td>\n      <td>85</td>\n      <td>0</td>\n      <td>6</td>\n    </tr>\n    <tr>\n      <th>7</th>\n      <td>True</td>\n      <td>46</td>\n      <td>1</td>\n      <td>7</td>\n    </tr>\n    <tr>\n      <th>14</th>\n      <td>True</td>\n      <td>86</td>\n      <td>0</td>\n      <td>14</td>\n    </tr>\n    <tr>\n      <th>15</th>\n      <td>True</td>\n      <td>26</td>\n      <td>1</td>\n      <td>15</td>\n    </tr>\n    <tr>\n      <th>16</th>\n      <td>True</td>\n      <td>75</td>\n      <td>1</td>\n      <td>16</td>\n    </tr>\n    <tr>\n      <th>17</th>\n      <td>True</td>\n      <td>38</td>\n      <td>0</td>\n      <td>17</td>\n    </tr>\n    <tr>\n      <th>22</th>\n      <td>True</td>\n      <td>23</td>\n      <td>1</td>\n      <td>22</td>\n    </tr>\n    <tr>\n      <th>23</th>\n      <td>True</td>\n      <td>14</td>\n      <td>0</td>\n      <td>23</td>\n    </tr>\n  </tbody>\n</table>\n</div>"
     },
     "execution_count": 60,
     "metadata": {},
     "output_type": "execute_result"
    }
   ],
   "source": [
    "for_match_7102649472_pick_bans = pd.DataFrame(matches[matches.match_id == 7102649472].picks_bans[0])\n",
    "for_match_7102649472_pick_bans_win_mask = for_match_7102649472_pick_bans.is_pick ==True\n",
    "for_match_7102649472_pick_bans[for_match_7102649472_pick_bans_win_mask]\n"
   ],
   "metadata": {
    "collapsed": false,
    "ExecuteTime": {
     "end_time": "2023-10-27T02:32:52.689311Z",
     "start_time": "2023-10-27T02:32:52.618002Z"
    }
   },
   "id": "3b5c062d5c2c1688"
  },
  {
   "cell_type": "code",
   "execution_count": 61,
   "outputs": [
    {
     "data": {
      "text/plain": "     match_id  match_seq_num  radiant_win          start_time  duration  \\\n0  7102649472     5966088132        False 2023-04-11 14:59:51      3878   \n\n   tower_status_radiant  tower_status_dire  barracks_status_radiant  \\\n0                     0               1828                        0   \n\n   barracks_status_dire  cluster  ...  \\\n0                    63      274  ...   \n\n                                    radiant_gold_adv  \\\n0  [416, 1124, 1330, 2115, 1858, 2024, 1445, 1756...   \n\n                                      radiant_xp_adv  \\\n0  [150, -93, 427, 1133, 718, 888, 619, 864, 559,...   \n\n                                          teamfights  version  \\\n0  [{'start': 187, 'end': 240, 'last_death': 225,...     21.0   \n\n                                           cosmetics  radiant_score  \\\n0  {'647': 129, '5470': 129, '6199': 1, '6694': 1...             40   \n\n   dire_score                                      draft_timings series_id  \\\n0          42  [{'order': 1, 'pick': False, 'active_team': 3,...    768803   \n\n   series_type  \n0            1  \n\n[1 rows x 39 columns]",
      "text/html": "<div>\n<style scoped>\n    .dataframe tbody tr th:only-of-type {\n        vertical-align: middle;\n    }\n\n    .dataframe tbody tr th {\n        vertical-align: top;\n    }\n\n    .dataframe thead th {\n        text-align: right;\n    }\n</style>\n<table border=\"1\" class=\"dataframe\">\n  <thead>\n    <tr style=\"text-align: right;\">\n      <th></th>\n      <th>match_id</th>\n      <th>match_seq_num</th>\n      <th>radiant_win</th>\n      <th>start_time</th>\n      <th>duration</th>\n      <th>tower_status_radiant</th>\n      <th>tower_status_dire</th>\n      <th>barracks_status_radiant</th>\n      <th>barracks_status_dire</th>\n      <th>cluster</th>\n      <th>...</th>\n      <th>radiant_gold_adv</th>\n      <th>radiant_xp_adv</th>\n      <th>teamfights</th>\n      <th>version</th>\n      <th>cosmetics</th>\n      <th>radiant_score</th>\n      <th>dire_score</th>\n      <th>draft_timings</th>\n      <th>series_id</th>\n      <th>series_type</th>\n    </tr>\n  </thead>\n  <tbody>\n    <tr>\n      <th>0</th>\n      <td>7102649472</td>\n      <td>5966088132</td>\n      <td>False</td>\n      <td>2023-04-11 14:59:51</td>\n      <td>3878</td>\n      <td>0</td>\n      <td>1828</td>\n      <td>0</td>\n      <td>63</td>\n      <td>274</td>\n      <td>...</td>\n      <td>[416, 1124, 1330, 2115, 1858, 2024, 1445, 1756...</td>\n      <td>[150, -93, 427, 1133, 718, 888, 619, 864, 559,...</td>\n      <td>[{'start': 187, 'end': 240, 'last_death': 225,...</td>\n      <td>21.0</td>\n      <td>{'647': 129, '5470': 129, '6199': 1, '6694': 1...</td>\n      <td>40</td>\n      <td>42</td>\n      <td>[{'order': 1, 'pick': False, 'active_team': 3,...</td>\n      <td>768803</td>\n      <td>1</td>\n    </tr>\n  </tbody>\n</table>\n<p>1 rows × 39 columns</p>\n</div>"
     },
     "execution_count": 61,
     "metadata": {},
     "output_type": "execute_result"
    }
   ],
   "source": [
    "matches[matches.match_id ==7102649472]"
   ],
   "metadata": {
    "collapsed": false,
    "ExecuteTime": {
     "end_time": "2023-10-27T02:32:52.755937Z",
     "start_time": "2023-10-27T02:32:52.625843Z"
    }
   },
   "id": "c8815f78f3316d41"
  },
  {
   "cell_type": "markdown",
   "source": [],
   "metadata": {
    "collapsed": false
   },
   "id": "2883f7db8605b0cf"
  },
  {
   "cell_type": "code",
   "execution_count": 62,
   "outputs": [
    {
     "data": {
      "text/plain": "       hero_id  team  order    match_id    win\n0           43     1      4  7102649472   True\n1           74     0      5  7102649472  False\n2           85     0      6  7102649472  False\n3           46     1      7  7102649472   True\n4           86     0     14  7102649472  False\n...        ...   ...    ...         ...    ...\n10555       86     1     15  7223294867   True\n10556       69     1     16  7223294867   True\n10557      136     0     17  7223294867  False\n10558       89     1     22  7223294867   True\n10559       55     0     23  7223294867  False\n\n[10560 rows x 5 columns]",
      "text/html": "<div>\n<style scoped>\n    .dataframe tbody tr th:only-of-type {\n        vertical-align: middle;\n    }\n\n    .dataframe tbody tr th {\n        vertical-align: top;\n    }\n\n    .dataframe thead th {\n        text-align: right;\n    }\n</style>\n<table border=\"1\" class=\"dataframe\">\n  <thead>\n    <tr style=\"text-align: right;\">\n      <th></th>\n      <th>hero_id</th>\n      <th>team</th>\n      <th>order</th>\n      <th>match_id</th>\n      <th>win</th>\n    </tr>\n  </thead>\n  <tbody>\n    <tr>\n      <th>0</th>\n      <td>43</td>\n      <td>1</td>\n      <td>4</td>\n      <td>7102649472</td>\n      <td>True</td>\n    </tr>\n    <tr>\n      <th>1</th>\n      <td>74</td>\n      <td>0</td>\n      <td>5</td>\n      <td>7102649472</td>\n      <td>False</td>\n    </tr>\n    <tr>\n      <th>2</th>\n      <td>85</td>\n      <td>0</td>\n      <td>6</td>\n      <td>7102649472</td>\n      <td>False</td>\n    </tr>\n    <tr>\n      <th>3</th>\n      <td>46</td>\n      <td>1</td>\n      <td>7</td>\n      <td>7102649472</td>\n      <td>True</td>\n    </tr>\n    <tr>\n      <th>4</th>\n      <td>86</td>\n      <td>0</td>\n      <td>14</td>\n      <td>7102649472</td>\n      <td>False</td>\n    </tr>\n    <tr>\n      <th>...</th>\n      <td>...</td>\n      <td>...</td>\n      <td>...</td>\n      <td>...</td>\n      <td>...</td>\n    </tr>\n    <tr>\n      <th>10555</th>\n      <td>86</td>\n      <td>1</td>\n      <td>15</td>\n      <td>7223294867</td>\n      <td>True</td>\n    </tr>\n    <tr>\n      <th>10556</th>\n      <td>69</td>\n      <td>1</td>\n      <td>16</td>\n      <td>7223294867</td>\n      <td>True</td>\n    </tr>\n    <tr>\n      <th>10557</th>\n      <td>136</td>\n      <td>0</td>\n      <td>17</td>\n      <td>7223294867</td>\n      <td>False</td>\n    </tr>\n    <tr>\n      <th>10558</th>\n      <td>89</td>\n      <td>1</td>\n      <td>22</td>\n      <td>7223294867</td>\n      <td>True</td>\n    </tr>\n    <tr>\n      <th>10559</th>\n      <td>55</td>\n      <td>0</td>\n      <td>23</td>\n      <td>7223294867</td>\n      <td>False</td>\n    </tr>\n  </tbody>\n</table>\n<p>10560 rows × 5 columns</p>\n</div>"
     },
     "execution_count": 62,
     "metadata": {},
     "output_type": "execute_result"
    }
   ],
   "source": [
    "# build out pick statistics\n",
    "def get_hero_statistics(x):\n",
    "    # print(x)\n",
    "    picks_bans = pd.DataFrame(x.picks_bans)\n",
    "    picks = picks_bans[picks_bans.is_pick].drop(['is_pick'], axis=1)\n",
    "    picks['match_id'] = x.match_id\n",
    "    picks['win'] = picks.team != x.radiant_win\n",
    "    return picks.reset_index(drop=True)\n",
    "# We are telling the pandas to strip the data and send the values after applying the applied selection. \n",
    "# Here we are getting a slice of the data and we apply the get_hero_statistics function to each row. \n",
    "# Axis= 1 means apply to the row and axis =0 means apply to each col\n",
    "matches_heroes = matches[['match_id', 'radiant_win', 'picks_bans']].apply(get_hero_statistics, axis=1)\n",
    "y = matches_heroes.tolist()\n",
    "matches_heroes = pd.concat(y, ignore_index=True)\n",
    "matches_heroes"
   ],
   "metadata": {
    "collapsed": false,
    "ExecuteTime": {
     "end_time": "2023-10-27T02:32:53.746751Z",
     "start_time": "2023-10-27T02:32:52.650485Z"
    }
   },
   "id": "13f7a154b56b28a1"
  },
  {
   "cell_type": "code",
   "execution_count": 63,
   "outputs": [
    {
     "data": {
      "text/plain": "   hero_id  team  order    match_id    win\n0       43     1      4  7102649472   True\n1       74     0      5  7102649472  False\n2       85     0      6  7102649472  False\n3       46     1      7  7102649472   True\n4       86     0     14  7102649472  False\n5       26     1     15  7102649472   True\n6       75     1     16  7102649472   True\n7       38     0     17  7102649472  False\n8       23     1     22  7102649472   True\n9       14     0     23  7102649472  False",
      "text/html": "<div>\n<style scoped>\n    .dataframe tbody tr th:only-of-type {\n        vertical-align: middle;\n    }\n\n    .dataframe tbody tr th {\n        vertical-align: top;\n    }\n\n    .dataframe thead th {\n        text-align: right;\n    }\n</style>\n<table border=\"1\" class=\"dataframe\">\n  <thead>\n    <tr style=\"text-align: right;\">\n      <th></th>\n      <th>hero_id</th>\n      <th>team</th>\n      <th>order</th>\n      <th>match_id</th>\n      <th>win</th>\n    </tr>\n  </thead>\n  <tbody>\n    <tr>\n      <th>0</th>\n      <td>43</td>\n      <td>1</td>\n      <td>4</td>\n      <td>7102649472</td>\n      <td>True</td>\n    </tr>\n    <tr>\n      <th>1</th>\n      <td>74</td>\n      <td>0</td>\n      <td>5</td>\n      <td>7102649472</td>\n      <td>False</td>\n    </tr>\n    <tr>\n      <th>2</th>\n      <td>85</td>\n      <td>0</td>\n      <td>6</td>\n      <td>7102649472</td>\n      <td>False</td>\n    </tr>\n    <tr>\n      <th>3</th>\n      <td>46</td>\n      <td>1</td>\n      <td>7</td>\n      <td>7102649472</td>\n      <td>True</td>\n    </tr>\n    <tr>\n      <th>4</th>\n      <td>86</td>\n      <td>0</td>\n      <td>14</td>\n      <td>7102649472</td>\n      <td>False</td>\n    </tr>\n    <tr>\n      <th>5</th>\n      <td>26</td>\n      <td>1</td>\n      <td>15</td>\n      <td>7102649472</td>\n      <td>True</td>\n    </tr>\n    <tr>\n      <th>6</th>\n      <td>75</td>\n      <td>1</td>\n      <td>16</td>\n      <td>7102649472</td>\n      <td>True</td>\n    </tr>\n    <tr>\n      <th>7</th>\n      <td>38</td>\n      <td>0</td>\n      <td>17</td>\n      <td>7102649472</td>\n      <td>False</td>\n    </tr>\n    <tr>\n      <th>8</th>\n      <td>23</td>\n      <td>1</td>\n      <td>22</td>\n      <td>7102649472</td>\n      <td>True</td>\n    </tr>\n    <tr>\n      <th>9</th>\n      <td>14</td>\n      <td>0</td>\n      <td>23</td>\n      <td>7102649472</td>\n      <td>False</td>\n    </tr>\n  </tbody>\n</table>\n</div>"
     },
     "execution_count": 63,
     "metadata": {},
     "output_type": "execute_result"
    }
   ],
   "source": [
    "matches_heroes[matches_heroes.match_id == 7102649472]"
   ],
   "metadata": {
    "collapsed": false,
    "ExecuteTime": {
     "end_time": "2023-10-27T02:32:53.790527Z",
     "start_time": "2023-10-27T02:32:53.749803Z"
    }
   },
   "id": "518442c547448d24"
  },
  {
   "cell_type": "markdown",
   "source": [
    "# MY CODE BELOW "
   ],
   "metadata": {
    "collapsed": false
   },
   "id": "5f211a072be2ec1d"
  },
  {
   "cell_type": "code",
   "execution_count": 64,
   "id": "9b38925a-307e-492a-b732-2befdbbe25b3",
   "metadata": {
    "ExecuteTime": {
     "end_time": "2023-10-27T02:32:54.641806Z",
     "start_time": "2023-10-27T02:32:53.759804Z"
    }
   },
   "outputs": [
    {
     "data": {
      "text/plain": "       hero_id  team  order    match_id    win\n0           43     1      4  7102649472   True\n1           74     0      5  7102649472  False\n2           85     0      6  7102649472  False\n3           46     1      7  7102649472   True\n4           86     0     14  7102649472  False\n...        ...   ...    ...         ...    ...\n10555       86     1     15  7223294867   True\n10556       69     1     16  7223294867   True\n10557      136     0     17  7223294867  False\n10558       89     1     22  7223294867   True\n10559       55     0     23  7223294867  False\n\n[10560 rows x 5 columns]",
      "text/html": "<div>\n<style scoped>\n    .dataframe tbody tr th:only-of-type {\n        vertical-align: middle;\n    }\n\n    .dataframe tbody tr th {\n        vertical-align: top;\n    }\n\n    .dataframe thead th {\n        text-align: right;\n    }\n</style>\n<table border=\"1\" class=\"dataframe\">\n  <thead>\n    <tr style=\"text-align: right;\">\n      <th></th>\n      <th>hero_id</th>\n      <th>team</th>\n      <th>order</th>\n      <th>match_id</th>\n      <th>win</th>\n    </tr>\n  </thead>\n  <tbody>\n    <tr>\n      <th>0</th>\n      <td>43</td>\n      <td>1</td>\n      <td>4</td>\n      <td>7102649472</td>\n      <td>True</td>\n    </tr>\n    <tr>\n      <th>1</th>\n      <td>74</td>\n      <td>0</td>\n      <td>5</td>\n      <td>7102649472</td>\n      <td>False</td>\n    </tr>\n    <tr>\n      <th>2</th>\n      <td>85</td>\n      <td>0</td>\n      <td>6</td>\n      <td>7102649472</td>\n      <td>False</td>\n    </tr>\n    <tr>\n      <th>3</th>\n      <td>46</td>\n      <td>1</td>\n      <td>7</td>\n      <td>7102649472</td>\n      <td>True</td>\n    </tr>\n    <tr>\n      <th>4</th>\n      <td>86</td>\n      <td>0</td>\n      <td>14</td>\n      <td>7102649472</td>\n      <td>False</td>\n    </tr>\n    <tr>\n      <th>...</th>\n      <td>...</td>\n      <td>...</td>\n      <td>...</td>\n      <td>...</td>\n      <td>...</td>\n    </tr>\n    <tr>\n      <th>10555</th>\n      <td>86</td>\n      <td>1</td>\n      <td>15</td>\n      <td>7223294867</td>\n      <td>True</td>\n    </tr>\n    <tr>\n      <th>10556</th>\n      <td>69</td>\n      <td>1</td>\n      <td>16</td>\n      <td>7223294867</td>\n      <td>True</td>\n    </tr>\n    <tr>\n      <th>10557</th>\n      <td>136</td>\n      <td>0</td>\n      <td>17</td>\n      <td>7223294867</td>\n      <td>False</td>\n    </tr>\n    <tr>\n      <th>10558</th>\n      <td>89</td>\n      <td>1</td>\n      <td>22</td>\n      <td>7223294867</td>\n      <td>True</td>\n    </tr>\n    <tr>\n      <th>10559</th>\n      <td>55</td>\n      <td>0</td>\n      <td>23</td>\n      <td>7223294867</td>\n      <td>False</td>\n    </tr>\n  </tbody>\n</table>\n<p>10560 rows × 5 columns</p>\n</div>"
     },
     "execution_count": 64,
     "metadata": {},
     "output_type": "execute_result"
    }
   ],
   "source": [
    "# build out pick statistics\n",
    "def get_hero_statistics(x):\n",
    "    # print(x)\n",
    "    picks_bans = pd.DataFrame(x.picks_bans)\n",
    "    picks = picks_bans[picks_bans.is_pick].drop(['is_pick'], axis=1)\n",
    "    # print(f\"Picks value = picks = picks_bans[picks_bans.is_pick].drop([/'is_pick/'], axis=1 ) \\n\",picks)\n",
    "    picks['match_id'] = x.match_id\n",
    "    # print('Value of Picks with match Id \\n',picks)\n",
    "    picks['win'] = picks.team != x.radiant_win\n",
    "    # print('Value of Picks with Win Mask Id \\n',picks)\n",
    "    # picks.reset_index(drop=True)\n",
    "    # print('after Reset Index \\n',picks.reset_index(drop=True))\n",
    "    return picks.reset_index(drop=True)\n",
    "\n",
    "# We are telling the pandas to strip the data and send the values after applying the applied selection. \n",
    "# Here we are getting a slice of the data and we apply the get_hero_statistics function to each row. \n",
    "# Axis= 1 means apply to the row and axis =0 means apply to each col\n",
    "matches_heroes = matches[['match_id', 'radiant_win', 'picks_bans']].apply(get_hero_statistics, axis=1)\n",
    "y = matches_heroes.tolist()\n",
    "matches_heroes = pd.concat(y, ignore_index=True)\n",
    "matches_heroes"
   ]
  },
  {
   "cell_type": "markdown",
   "id": "4ffd161a-1546-4db3-a30e-b8bfa12fcdfc",
   "metadata": {},
   "source": [
    "Now that our hero stats table is complete, we are ready to merge it with the actual hero metadata to form a complete set of hero data."
   ]
  },
  {
   "cell_type": "code",
   "execution_count": 65,
   "id": "f6d2eb05-4c8e-48ec-a3b4-cddd9d262c14",
   "metadata": {
    "ExecuteTime": {
     "end_time": "2023-10-27T02:32:54.642246Z",
     "start_time": "2023-10-27T02:32:54.638122Z"
    }
   },
   "outputs": [
    {
     "data": {
      "text/plain": "       hero_id  team  order    match_id    win  id  \\\n0           43     1      4  7102649472   True  43   \n1           43     0      4  7102798112   True  43   \n2           43     1     15  7103690699   True  43   \n3           43     0      5  7101146267  False  43   \n4           43     1      7  7101260263  False  43   \n...        ...   ...    ...         ...    ...  ..   \n10555       50     1     15  7342166210  False  50   \n10556       50     1      6  7126048768  False  50   \n10557       27     1     22  7341448039  False  27   \n10558       27     0     22  7033635338   True  27   \n10559       27     0     15  7128914194  False  27   \n\n                              name localized_name primary_attr attack_type  \\\n0      npc_dota_hero_death_prophet  Death Prophet          int      Ranged   \n1      npc_dota_hero_death_prophet  Death Prophet          int      Ranged   \n2      npc_dota_hero_death_prophet  Death Prophet          int      Ranged   \n3      npc_dota_hero_death_prophet  Death Prophet          int      Ranged   \n4      npc_dota_hero_death_prophet  Death Prophet          int      Ranged   \n...                            ...            ...          ...         ...   \n10555         npc_dota_hero_dazzle         Dazzle          all      Ranged   \n10556         npc_dota_hero_dazzle         Dazzle          all      Ranged   \n10557  npc_dota_hero_shadow_shaman  Shadow Shaman          int      Ranged   \n10558  npc_dota_hero_shadow_shaman  Shadow Shaman          int      Ranged   \n10559  npc_dota_hero_shadow_shaman  Shadow Shaman          int      Ranged   \n\n                                               roles  legs  \n0                   [Carry, Pusher, Nuker, Disabler]     2  \n1                   [Carry, Pusher, Nuker, Disabler]     2  \n2                   [Carry, Pusher, Nuker, Disabler]     2  \n3                   [Carry, Pusher, Nuker, Disabler]     2  \n4                   [Carry, Pusher, Nuker, Disabler]     2  \n...                                              ...   ...  \n10555                     [Support, Nuker, Disabler]     2  \n10556                     [Support, Nuker, Disabler]     2  \n10557  [Support, Pusher, Disabler, Nuker, Initiator]     2  \n10558  [Support, Pusher, Disabler, Nuker, Initiator]     2  \n10559  [Support, Pusher, Disabler, Nuker, Initiator]     2  \n\n[10560 rows x 12 columns]",
      "text/html": "<div>\n<style scoped>\n    .dataframe tbody tr th:only-of-type {\n        vertical-align: middle;\n    }\n\n    .dataframe tbody tr th {\n        vertical-align: top;\n    }\n\n    .dataframe thead th {\n        text-align: right;\n    }\n</style>\n<table border=\"1\" class=\"dataframe\">\n  <thead>\n    <tr style=\"text-align: right;\">\n      <th></th>\n      <th>hero_id</th>\n      <th>team</th>\n      <th>order</th>\n      <th>match_id</th>\n      <th>win</th>\n      <th>id</th>\n      <th>name</th>\n      <th>localized_name</th>\n      <th>primary_attr</th>\n      <th>attack_type</th>\n      <th>roles</th>\n      <th>legs</th>\n    </tr>\n  </thead>\n  <tbody>\n    <tr>\n      <th>0</th>\n      <td>43</td>\n      <td>1</td>\n      <td>4</td>\n      <td>7102649472</td>\n      <td>True</td>\n      <td>43</td>\n      <td>npc_dota_hero_death_prophet</td>\n      <td>Death Prophet</td>\n      <td>int</td>\n      <td>Ranged</td>\n      <td>[Carry, Pusher, Nuker, Disabler]</td>\n      <td>2</td>\n    </tr>\n    <tr>\n      <th>1</th>\n      <td>43</td>\n      <td>0</td>\n      <td>4</td>\n      <td>7102798112</td>\n      <td>True</td>\n      <td>43</td>\n      <td>npc_dota_hero_death_prophet</td>\n      <td>Death Prophet</td>\n      <td>int</td>\n      <td>Ranged</td>\n      <td>[Carry, Pusher, Nuker, Disabler]</td>\n      <td>2</td>\n    </tr>\n    <tr>\n      <th>2</th>\n      <td>43</td>\n      <td>1</td>\n      <td>15</td>\n      <td>7103690699</td>\n      <td>True</td>\n      <td>43</td>\n      <td>npc_dota_hero_death_prophet</td>\n      <td>Death Prophet</td>\n      <td>int</td>\n      <td>Ranged</td>\n      <td>[Carry, Pusher, Nuker, Disabler]</td>\n      <td>2</td>\n    </tr>\n    <tr>\n      <th>3</th>\n      <td>43</td>\n      <td>0</td>\n      <td>5</td>\n      <td>7101146267</td>\n      <td>False</td>\n      <td>43</td>\n      <td>npc_dota_hero_death_prophet</td>\n      <td>Death Prophet</td>\n      <td>int</td>\n      <td>Ranged</td>\n      <td>[Carry, Pusher, Nuker, Disabler]</td>\n      <td>2</td>\n    </tr>\n    <tr>\n      <th>4</th>\n      <td>43</td>\n      <td>1</td>\n      <td>7</td>\n      <td>7101260263</td>\n      <td>False</td>\n      <td>43</td>\n      <td>npc_dota_hero_death_prophet</td>\n      <td>Death Prophet</td>\n      <td>int</td>\n      <td>Ranged</td>\n      <td>[Carry, Pusher, Nuker, Disabler]</td>\n      <td>2</td>\n    </tr>\n    <tr>\n      <th>...</th>\n      <td>...</td>\n      <td>...</td>\n      <td>...</td>\n      <td>...</td>\n      <td>...</td>\n      <td>...</td>\n      <td>...</td>\n      <td>...</td>\n      <td>...</td>\n      <td>...</td>\n      <td>...</td>\n      <td>...</td>\n    </tr>\n    <tr>\n      <th>10555</th>\n      <td>50</td>\n      <td>1</td>\n      <td>15</td>\n      <td>7342166210</td>\n      <td>False</td>\n      <td>50</td>\n      <td>npc_dota_hero_dazzle</td>\n      <td>Dazzle</td>\n      <td>all</td>\n      <td>Ranged</td>\n      <td>[Support, Nuker, Disabler]</td>\n      <td>2</td>\n    </tr>\n    <tr>\n      <th>10556</th>\n      <td>50</td>\n      <td>1</td>\n      <td>6</td>\n      <td>7126048768</td>\n      <td>False</td>\n      <td>50</td>\n      <td>npc_dota_hero_dazzle</td>\n      <td>Dazzle</td>\n      <td>all</td>\n      <td>Ranged</td>\n      <td>[Support, Nuker, Disabler]</td>\n      <td>2</td>\n    </tr>\n    <tr>\n      <th>10557</th>\n      <td>27</td>\n      <td>1</td>\n      <td>22</td>\n      <td>7341448039</td>\n      <td>False</td>\n      <td>27</td>\n      <td>npc_dota_hero_shadow_shaman</td>\n      <td>Shadow Shaman</td>\n      <td>int</td>\n      <td>Ranged</td>\n      <td>[Support, Pusher, Disabler, Nuker, Initiator]</td>\n      <td>2</td>\n    </tr>\n    <tr>\n      <th>10558</th>\n      <td>27</td>\n      <td>0</td>\n      <td>22</td>\n      <td>7033635338</td>\n      <td>True</td>\n      <td>27</td>\n      <td>npc_dota_hero_shadow_shaman</td>\n      <td>Shadow Shaman</td>\n      <td>int</td>\n      <td>Ranged</td>\n      <td>[Support, Pusher, Disabler, Nuker, Initiator]</td>\n      <td>2</td>\n    </tr>\n    <tr>\n      <th>10559</th>\n      <td>27</td>\n      <td>0</td>\n      <td>15</td>\n      <td>7128914194</td>\n      <td>False</td>\n      <td>27</td>\n      <td>npc_dota_hero_shadow_shaman</td>\n      <td>Shadow Shaman</td>\n      <td>int</td>\n      <td>Ranged</td>\n      <td>[Support, Pusher, Disabler, Nuker, Initiator]</td>\n      <td>2</td>\n    </tr>\n  </tbody>\n</table>\n<p>10560 rows × 12 columns</p>\n</div>"
     },
     "execution_count": 65,
     "metadata": {},
     "output_type": "execute_result"
    }
   ],
   "source": [
    "# merge pick statistics with heroes\n",
    "matches_heroes = matches_heroes.merge(heroes, left_on='hero_id', right_on='id')\n",
    "matches_heroes"
   ]
  },
  {
   "cell_type": "markdown",
   "id": "7244bb7a-7bb5-4a6a-a1d2-d5f6fc960e7c",
   "metadata": {},
   "source": [
    "We want to look at how popular and how successful heroes are. We want to get the total number of wins, total number of picks, and average pick place (how early was a hero picked in the draft).\n",
    "\n",
    "We can treat booleans like integers here and so simply applying a sum to the `win` column tells us how many wins that hero has. Similarly, we can just count the column to get the total number of picks. Then all we need to do is take the mean of the `order` column and we have our data!\n",
    "\n",
    "Here we are applying the aggregation and then sorting by the number of wins (it looks a bit odd though - our column name that we are sorting by is... `('win', 'sum')`?)"
   ]
  },
  {
   "cell_type": "code",
   "execution_count": 66,
   "outputs": [
    {
     "data": {
      "text/plain": "     hero_id  team  order    match_id    win  id                         name  \\\n0         43     1      4  7102649472   True  43  npc_dota_hero_death_prophet   \n1         43     0      4  7102798112   True  43  npc_dota_hero_death_prophet   \n2         43     1     15  7103690699   True  43  npc_dota_hero_death_prophet   \n3         43     0      5  7101146267  False  43  npc_dota_hero_death_prophet   \n4         43     1      7  7101260263  False  43  npc_dota_hero_death_prophet   \n..       ...   ...    ...         ...    ...  ..                          ...   \n99        43     1      6  7126054805  False  43  npc_dota_hero_death_prophet   \n100       43     1     16  7128286493  False  43  npc_dota_hero_death_prophet   \n101       43     0     16  7224971628   True  43  npc_dota_hero_death_prophet   \n102       43     0     23  7232498660   True  43  npc_dota_hero_death_prophet   \n103       43     0     22  7225993831   True  43  npc_dota_hero_death_prophet   \n\n    localized_name primary_attr attack_type                             roles  \\\n0    Death Prophet          int      Ranged  [Carry, Pusher, Nuker, Disabler]   \n1    Death Prophet          int      Ranged  [Carry, Pusher, Nuker, Disabler]   \n2    Death Prophet          int      Ranged  [Carry, Pusher, Nuker, Disabler]   \n3    Death Prophet          int      Ranged  [Carry, Pusher, Nuker, Disabler]   \n4    Death Prophet          int      Ranged  [Carry, Pusher, Nuker, Disabler]   \n..             ...          ...         ...                               ...   \n99   Death Prophet          int      Ranged  [Carry, Pusher, Nuker, Disabler]   \n100  Death Prophet          int      Ranged  [Carry, Pusher, Nuker, Disabler]   \n101  Death Prophet          int      Ranged  [Carry, Pusher, Nuker, Disabler]   \n102  Death Prophet          int      Ranged  [Carry, Pusher, Nuker, Disabler]   \n103  Death Prophet          int      Ranged  [Carry, Pusher, Nuker, Disabler]   \n\n     legs  \n0       2  \n1       2  \n2       2  \n3       2  \n4       2  \n..    ...  \n99      2  \n100     2  \n101     2  \n102     2  \n103     2  \n\n[104 rows x 12 columns]",
      "text/html": "<div>\n<style scoped>\n    .dataframe tbody tr th:only-of-type {\n        vertical-align: middle;\n    }\n\n    .dataframe tbody tr th {\n        vertical-align: top;\n    }\n\n    .dataframe thead th {\n        text-align: right;\n    }\n</style>\n<table border=\"1\" class=\"dataframe\">\n  <thead>\n    <tr style=\"text-align: right;\">\n      <th></th>\n      <th>hero_id</th>\n      <th>team</th>\n      <th>order</th>\n      <th>match_id</th>\n      <th>win</th>\n      <th>id</th>\n      <th>name</th>\n      <th>localized_name</th>\n      <th>primary_attr</th>\n      <th>attack_type</th>\n      <th>roles</th>\n      <th>legs</th>\n    </tr>\n  </thead>\n  <tbody>\n    <tr>\n      <th>0</th>\n      <td>43</td>\n      <td>1</td>\n      <td>4</td>\n      <td>7102649472</td>\n      <td>True</td>\n      <td>43</td>\n      <td>npc_dota_hero_death_prophet</td>\n      <td>Death Prophet</td>\n      <td>int</td>\n      <td>Ranged</td>\n      <td>[Carry, Pusher, Nuker, Disabler]</td>\n      <td>2</td>\n    </tr>\n    <tr>\n      <th>1</th>\n      <td>43</td>\n      <td>0</td>\n      <td>4</td>\n      <td>7102798112</td>\n      <td>True</td>\n      <td>43</td>\n      <td>npc_dota_hero_death_prophet</td>\n      <td>Death Prophet</td>\n      <td>int</td>\n      <td>Ranged</td>\n      <td>[Carry, Pusher, Nuker, Disabler]</td>\n      <td>2</td>\n    </tr>\n    <tr>\n      <th>2</th>\n      <td>43</td>\n      <td>1</td>\n      <td>15</td>\n      <td>7103690699</td>\n      <td>True</td>\n      <td>43</td>\n      <td>npc_dota_hero_death_prophet</td>\n      <td>Death Prophet</td>\n      <td>int</td>\n      <td>Ranged</td>\n      <td>[Carry, Pusher, Nuker, Disabler]</td>\n      <td>2</td>\n    </tr>\n    <tr>\n      <th>3</th>\n      <td>43</td>\n      <td>0</td>\n      <td>5</td>\n      <td>7101146267</td>\n      <td>False</td>\n      <td>43</td>\n      <td>npc_dota_hero_death_prophet</td>\n      <td>Death Prophet</td>\n      <td>int</td>\n      <td>Ranged</td>\n      <td>[Carry, Pusher, Nuker, Disabler]</td>\n      <td>2</td>\n    </tr>\n    <tr>\n      <th>4</th>\n      <td>43</td>\n      <td>1</td>\n      <td>7</td>\n      <td>7101260263</td>\n      <td>False</td>\n      <td>43</td>\n      <td>npc_dota_hero_death_prophet</td>\n      <td>Death Prophet</td>\n      <td>int</td>\n      <td>Ranged</td>\n      <td>[Carry, Pusher, Nuker, Disabler]</td>\n      <td>2</td>\n    </tr>\n    <tr>\n      <th>...</th>\n      <td>...</td>\n      <td>...</td>\n      <td>...</td>\n      <td>...</td>\n      <td>...</td>\n      <td>...</td>\n      <td>...</td>\n      <td>...</td>\n      <td>...</td>\n      <td>...</td>\n      <td>...</td>\n      <td>...</td>\n    </tr>\n    <tr>\n      <th>99</th>\n      <td>43</td>\n      <td>1</td>\n      <td>6</td>\n      <td>7126054805</td>\n      <td>False</td>\n      <td>43</td>\n      <td>npc_dota_hero_death_prophet</td>\n      <td>Death Prophet</td>\n      <td>int</td>\n      <td>Ranged</td>\n      <td>[Carry, Pusher, Nuker, Disabler]</td>\n      <td>2</td>\n    </tr>\n    <tr>\n      <th>100</th>\n      <td>43</td>\n      <td>1</td>\n      <td>16</td>\n      <td>7128286493</td>\n      <td>False</td>\n      <td>43</td>\n      <td>npc_dota_hero_death_prophet</td>\n      <td>Death Prophet</td>\n      <td>int</td>\n      <td>Ranged</td>\n      <td>[Carry, Pusher, Nuker, Disabler]</td>\n      <td>2</td>\n    </tr>\n    <tr>\n      <th>101</th>\n      <td>43</td>\n      <td>0</td>\n      <td>16</td>\n      <td>7224971628</td>\n      <td>True</td>\n      <td>43</td>\n      <td>npc_dota_hero_death_prophet</td>\n      <td>Death Prophet</td>\n      <td>int</td>\n      <td>Ranged</td>\n      <td>[Carry, Pusher, Nuker, Disabler]</td>\n      <td>2</td>\n    </tr>\n    <tr>\n      <th>102</th>\n      <td>43</td>\n      <td>0</td>\n      <td>23</td>\n      <td>7232498660</td>\n      <td>True</td>\n      <td>43</td>\n      <td>npc_dota_hero_death_prophet</td>\n      <td>Death Prophet</td>\n      <td>int</td>\n      <td>Ranged</td>\n      <td>[Carry, Pusher, Nuker, Disabler]</td>\n      <td>2</td>\n    </tr>\n    <tr>\n      <th>103</th>\n      <td>43</td>\n      <td>0</td>\n      <td>22</td>\n      <td>7225993831</td>\n      <td>True</td>\n      <td>43</td>\n      <td>npc_dota_hero_death_prophet</td>\n      <td>Death Prophet</td>\n      <td>int</td>\n      <td>Ranged</td>\n      <td>[Carry, Pusher, Nuker, Disabler]</td>\n      <td>2</td>\n    </tr>\n  </tbody>\n</table>\n<p>104 rows × 12 columns</p>\n</div>"
     },
     "execution_count": 66,
     "metadata": {},
     "output_type": "execute_result"
    }
   ],
   "source": [
    "mask_death = matches_heroes.localized_name == 'Death Prophet'\n",
    "x = matches_heroes[mask_death]\n",
    "x"
   ],
   "metadata": {
    "collapsed": false,
    "ExecuteTime": {
     "end_time": "2023-10-27T02:32:54.642579Z",
     "start_time": "2023-10-27T02:32:54.638247Z"
    }
   },
   "id": "6c4fa50bd1f965ef"
  },
  {
   "cell_type": "code",
   "execution_count": 67,
   "outputs": [
    {
     "data": {
      "text/plain": "0.4807692307692308"
     },
     "execution_count": 67,
     "metadata": {},
     "output_type": "execute_result"
    }
   ],
   "source": [
    "50/104\n"
   ],
   "metadata": {
    "collapsed": false,
    "ExecuteTime": {
     "end_time": "2023-10-27T02:32:54.656959Z",
     "start_time": "2023-10-27T02:32:54.640032Z"
    }
   },
   "id": "ba1936927d5fccb2"
  },
  {
   "cell_type": "code",
   "execution_count": 68,
   "outputs": [
    {
     "ename": "NameError",
     "evalue": "name 'pick_da' is not defined",
     "output_type": "error",
     "traceback": [
      "\u001B[0;31m---------------------------------------------------------------------------\u001B[0m",
      "\u001B[0;31mNameError\u001B[0m                                 Traceback (most recent call last)",
      "Cell \u001B[0;32mIn[68], line 1\u001B[0m\n\u001B[0;32m----> 1\u001B[0m \u001B[43mpick_da\u001B[49m\n",
      "\u001B[0;31mNameError\u001B[0m: name 'pick_da' is not defined"
     ]
    }
   ],
   "source": [
    "pick_da"
   ],
   "metadata": {
    "collapsed": false,
    "ExecuteTime": {
     "end_time": "2023-10-27T02:32:54.657264Z",
     "start_time": "2023-10-27T02:32:54.646292Z"
    }
   },
   "id": "21238fbc9aa30da5"
  },
  {
   "cell_type": "code",
   "execution_count": null,
   "id": "8cd4ee93-2c90-4503-9b3a-cc4ed441b4df",
   "metadata": {
    "ExecuteTime": {
     "start_time": "2023-10-27T02:32:54.655997Z"
    }
   },
   "outputs": [],
   "source": [
    "# aggregate data\n",
    "aggregator = {\n",
    "    'win': ['sum', 'count'],\n",
    "    'order': ['mean'],\n",
    "}\n",
    "\n",
    "pick_data = matches_heroes.groupby('localized_name').agg(aggregator)\n",
    "\n",
    "pick_data.sort_values(by=('win', 'sum'), ascending=False)"
   ]
  },
  {
   "cell_type": "code",
   "execution_count": null,
   "outputs": [],
   "source": [],
   "metadata": {
    "collapsed": false,
    "ExecuteTime": {
     "end_time": "2023-10-27T02:32:54.668688Z",
     "start_time": "2023-10-27T02:32:54.658017Z"
    }
   },
   "id": "3323717b98ebef3"
  },
  {
   "cell_type": "markdown",
   "source": [
    "## MY CODE BELOW "
   ],
   "metadata": {
    "collapsed": false
   },
   "id": "992d6af05530eff9"
  },
  {
   "cell_type": "markdown",
   "source": [
    "```# aggregate data\n",
    "aggregator = {\n",
    "    'win': ['sum', 'count'],\n",
    "    'order': ['mean'],\n",
    "}\n",
    "\n",
    "pick_data = matches_heroes.groupby('localized_name').agg(aggregator)\n",
    "\n",
    "pick_data.sort_values(by=('win', 'sum'), ascending=True)\n",
    "pick_data['index'] = ([i for i in range(0,124)])\n",
    "# pick_data.set_index('index',inplace=True)\n",
    "pick_data.sort_values(('win','sum'),ascending=False)\n",
    "sorted_data = pick_data.sort_values(by=('win', 'sum'), ascending=False)\n",
    "sorted_data\n",
    "```"
   ],
   "metadata": {
    "collapsed": false
   },
   "id": "13b38a1875b5df9e"
  },
  {
   "cell_type": "markdown",
   "id": "95890f91-36ef-4fc7-be11-731d5adacf33",
   "metadata": {},
   "source": [
    "Let's fix our columns - they are not the easiest to work with and we can be a little more descriptive. We then provide the same sorting as before to view the same data:"
   ]
  },
  {
   "cell_type": "code",
   "execution_count": null,
   "id": "7fbb424c-7927-40c6-a147-907ba3ef5957",
   "metadata": {
    "ExecuteTime": {
     "start_time": "2023-10-27T02:32:54.659627Z"
    }
   },
   "outputs": [],
   "source": [
    "# clean and sort pick data\n",
    "pick_data.columns = ['wins', 'picks', 'avg_pick']\n",
    "pick_data.sort_values(by='wins', ascending=False).head(10)\n"
   ]
  },
  {
   "cell_type": "markdown",
   "id": "e1f71c2e-46cc-48d3-b6ba-54fd96ff015b",
   "metadata": {},
   "source": [
    "From here we can do a lot! We can compute the win percentage of each hero; let's only select the heroes that have been selected 200 or more times (~20% of matches picked):"
   ]
  },
  {
   "cell_type": "code",
   "execution_count": null,
   "id": "b392cb13-a93b-4a6d-8e6c-ab1f2cdcd264",
   "metadata": {
    "ExecuteTime": {
     "start_time": "2023-10-27T02:32:54.661832Z"
    }
   },
   "outputs": [],
   "source": [
    "# add win_pct column to pick data\n",
    "pick_data['win_pct'] = 100.0*pick_data.wins/pick_data.picks\n",
    "pick_data[pick_data.picks >= 100].sort_values(by=['win_pct', 'picks'], ascending=False).head(20)"
   ]
  },
  {
   "cell_type": "markdown",
   "id": "61694157-76dc-4526-89ab-28d4e1278a0c",
   "metadata": {},
   "source": [
    "Or we can sort by `avg_pick` to figure out how eagerly some heroes are selected! The lower the average pick, the earlier the hero was selected."
   ]
  },
  {
   "cell_type": "code",
   "execution_count": null,
   "id": "ff310f3d-5e33-498f-a843-e2f2609e662c",
   "metadata": {
    "ExecuteTime": {
     "start_time": "2023-10-27T02:32:54.663685Z"
    }
   },
   "outputs": [],
   "source": [
    "# sort pick data by the avg_pick\n",
    "pick_data[pick_data.picks > 200].sort_values(by='avg_pick').head(10)"
   ]
  },
  {
   "cell_type": "markdown",
   "id": "ce89e047-2475-4b3e-8bf5-931689850e0f",
   "metadata": {},
   "source": [
    "## Bans\n",
    "\n",
    "Something we explicitly cut out of the above analysis is the *ban* aspect of the hero selection data. In competitive matches, not only are heroes picked, but they are also *banned*. When a hero is banned, they cannot be selected by either team. Some teams may be exceptionalyl adept at playing certain heroes and so the other team may want to remove those heroes from the game. Or perhaps a team is susceptible to a particular hero, so they ban that hero. Or perhaps a hero is known to be exceptionally powerful and difficult to play against, and so a team decides to ban that hero simply so that no one can have them.\n",
    "\n",
    "We want to perform the above analysis, but instead of looking at picks and win percentages, we want to take a look at how often heroes are banned.\n",
    "\n",
    "Follow along with the steps below:"
   ]
  },
  {
   "cell_type": "markdown",
   "id": "a2a3d741-a0c2-4878-9999-76986364f578",
   "metadata": {},
   "source": [
    "Create a new data frame named `matches_banned_heroes` very similar to our `matches_heroes` data frame, except we want to only work with the heroes that have been banned! This requires us to negate `picks_bans.is_pick`. This data set also does not benefit from having a `win` column, and so we do not need to produce that for this part."
   ]
  },
  {
   "cell_type": "markdown",
   "id": "ac30fcbf",
   "metadata": {},
   "source": [
    "## <span style = \"color:red\">We add the ~sign to negate the picks_bans: See the comment in the tab</span>"
   ]
  },
  {
   "cell_type": "code",
   "execution_count": null,
   "id": "5ffc551e-3299-4669-83e1-03da671e00b8",
   "metadata": {
    "ExecuteTime": {
     "start_time": "2023-10-27T02:32:54.665674Z"
    }
   },
   "outputs": [],
   "source": [
    "# get ban statistics\n",
    "# build out pick statistics\n",
    "def get_baned_hero_statistics(match_data):\n",
    "    picks_bans = pd.DataFrame(match_data.picks_bans)\n",
    "    # We added ~ which means not picked\n",
    "    bans = picks_bans[~picks_bans.is_pick].drop(['is_pick'], axis=1)\n",
    "    bans['match_id'] = match_data.match_id\n",
    "    return bans.reset_index(drop=True)\n",
    "\n",
    "\n",
    "# We are telling the pandas to strip the data and send the values after applying the applied selection. \n",
    "# Here we are getting a slice of the data and we apply the get_hero_statistics function to each row. \n",
    "# Axis= 1 means apply to the row and axis =0 means apply to each col\n",
    "banned_matches_heroes = matches[['match_id', 'radiant_win', 'picks_bans']].apply(get_baned_hero_statistics, axis=1)\n",
    "banned_matches_heroes = pd.concat(banned_matches_heroes.tolist(), ignore_index=True)\n",
    "banned_matches_heroes\n"
   ]
  },
  {
   "cell_type": "markdown",
   "id": "c5f27903-e053-4997-8c6a-c81066c42280",
   "metadata": {},
   "source": [
    "Next we will merge `matches_banned_heroes` with our `heroes` data frame from before just as we did when working with the previous pieces of data. Here we can just overwrite `matches_banned_heroes` with the merged data."
   ]
  },
  {
   "cell_type": "code",
   "execution_count": null,
   "id": "61159cca-764c-4fe6-a4ee-664b22c2e665",
   "metadata": {
    "ExecuteTime": {
     "start_time": "2023-10-27T02:32:54.668040Z"
    }
   },
   "outputs": [],
   "source": [
    "# merge with heroes\n",
    "\n",
    "banned_matches_heroes = banned_matches_heroes.merge(heroes, left_on='hero_id', right_on='id')\n",
    "banned_matches_heroes"
   ]
  },
  {
   "cell_type": "markdown",
   "id": "30c835b7-5789-4edd-926f-dd3e039b30ee",
   "metadata": {},
   "source": [
    "With our ban data ready we can group `matches_banned_heroes` by the `localized_name` and then apply a `count` aggregation to the `id` column. This will produce a series object with the total number of bans per hero (the heroes' localized names will appear in the index). We can save off these counts in new variable named `ban_data`.\n",
    "\n",
    "We will also want to ensure that `ban_data` is a data frame and not a series - we can use the following to ensure it is a dataframe with the proper column names:"
   ]
  },
  {
   "cell_type": "markdown",
   "id": "7726c4d3",
   "metadata": {},
   "source": [
    "# QUIZ: find the band_ hero that is not showing the below list "
   ]
  },
  {
   "cell_type": "code",
   "execution_count": null,
   "outputs": [],
   "source": [
    "banned_matches_heroes[banned_matches_heroes.localized_name == 'Abaddon']"
   ],
   "metadata": {
    "collapsed": false,
    "ExecuteTime": {
     "end_time": "2023-10-27T02:32:54.718219Z",
     "start_time": "2023-10-27T02:32:54.670240Z"
    }
   },
   "id": "7c6bb0123e3f7586"
  },
  {
   "cell_type": "code",
   "execution_count": null,
   "id": "25c66b85-c8c8-458f-a160-439048c3c3fb",
   "metadata": {
    "ExecuteTime": {
     "start_time": "2023-10-27T02:32:54.672886Z"
    }
   },
   "outputs": [],
   "source": [
    "ban_data = banned_matches_heroes.groupby('localized_name').id.count().to_frame()\n",
    "ban_data.columns = ['bans']\n",
    "ban_data"
   ]
  },
  {
   "cell_type": "code",
   "execution_count": null,
   "outputs": [],
   "source": [
    "for i in heroes.localized_name:\n",
    "    if i not in ban_data.index:\n",
    "        print(i)"
   ],
   "metadata": {
    "collapsed": false,
    "ExecuteTime": {
     "start_time": "2023-10-27T02:32:54.674911Z"
    }
   },
   "id": "db415cd72b9fb725"
  },
  {
   "cell_type": "markdown",
   "id": "d1c76e92-a5ef-480b-a60f-7dac9755eaf7",
   "metadata": {},
   "source": [
    "Next we want to grab the 10 most banned heroes - we can do this by sorting `ban_data` descending and then taking 10 values from the `head` of the resulting data frame."
   ]
  },
  {
   "cell_type": "code",
   "execution_count": null,
   "id": "3b591844-86c1-4c3c-aca6-50f67f564be1",
   "metadata": {
    "ExecuteTime": {
     "start_time": "2023-10-27T02:32:54.676936Z"
    }
   },
   "outputs": [],
   "source": [
    "# sort ban data\n",
    "# most_banned_heroes = ban_data.sort_values(by='bans',ascending=False).head(10)\n",
    "most_banned_heroes = ban_data.sort_values(by='bans',ascending=False).head(10)\n",
    "most_banned_heroes"
   ]
  },
  {
   "cell_type": "markdown",
   "id": "a4a87bac-af9e-4e20-8a7e-b632d0e3f42d",
   "metadata": {},
   "source": [
    "## Putting it all Together\n",
    "\n",
    "Next we want to extract the performance of the 10 most banned heroes and merge that with the pick data from the first section (`pick_data`)."
   ]
  },
  {
   "cell_type": "code",
   "execution_count": null,
   "id": "3be3f4d6-6e11-4a0f-ab20-a1290fd6518b",
   "metadata": {
    "ExecuteTime": {
     "start_time": "2023-10-27T02:32:54.678965Z"
    }
   },
   "outputs": [],
   "source": [
    "most_banned_hero_performances = most_banned_heroes.merge(\n",
    "    pick_data,\n",
    "    left_index=True,\n",
    "    right_index=True\n",
    ")\n",
    "most_banned_hero_performances"
   ]
  },
  {
   "cell_type": "markdown",
   "id": "9d8695b1-9c19-4970-b72d-b979eaebb884",
   "metadata": {},
   "source": [
    "Now we can scatter this data, putting the `picks` on the x, `bans` on the y, and coloring by `win_pct` (it is also a good idea to use a different colormap (`cmap`) as the default is not the most useful)."
   ]
  },
  {
   "cell_type": "code",
   "execution_count": null,
   "id": "9b0d06a3-2293-4f9c-a410-3df2399ee5fc",
   "metadata": {
    "ExecuteTime": {
     "start_time": "2023-10-27T02:32:54.680729Z"
    }
   },
   "outputs": [],
   "source": [
    "import hvplot.pandas\n",
    "most_banned_hero_performances.hvplot.scatter(\n",
    "    x='picks',\n",
    "    y='bans',\n",
    "    c='win_pct',\n",
    "    hover_cols=['localized_name']\n",
    ").opts(\n",
    "    default_tools=['box_zoom', 'reset'],\n",
    "    show_grid=True,\n",
    "    width=768,\n",
    "    height=512\n",
    ")"
   ]
  },
  {
   "cell_type": "markdown",
   "id": "2fb91d0a-29d4-45c3-9d48-8aeda07521bd",
   "metadata": {},
   "source": [
    "This plot is fine, but it does not show us much. It would be great to look at these data points in the context of all of the other heroes in our data set. We need to merge our `pick_data` with the `ban_data` to get the complete picture. use the following code:"
   ]
  },
  {
   "cell_type": "code",
   "execution_count": null,
   "id": "40cbc20b-b0ab-4663-80c5-11a1c5d1de7c",
   "metadata": {
    "ExecuteTime": {
     "start_time": "2023-10-27T02:32:54.682405Z"
    }
   },
   "outputs": [],
   "source": [
    "all_picks_vs_bans = pick_data.merge(\n",
    "    ban_data,\n",
    "    left_index=True,\n",
    "    right_index=True,\n",
    "    how='left'\n",
    ").fillna(0).astype({'bans': int})\n",
    "all_picks_vs_bans"
   ]
  },
  {
   "cell_type": "markdown",
   "id": "ac9b8cac-b02c-48e3-8b0f-fdc06115ee65",
   "metadata": {},
   "source": [
    "In the code above we are merging `pick_data` and `ban_data` by their indices. The problem here though is that there are some heroes that were never picked/banned, and so we need to account for that. After the merge is completed we end up with some values that are `NaN`, or not-a-number. This happens because there are some heroes that were picked but never banned, and so when the `bans` column is merged in, those heroes do not have ban data to incorporate. `pandas` in this case defaults them to `NaN` and converts the column to a floating point type. To get around this we need to fill the `NaN` values with 0, and then cast the `bans` column to an `int` type.\n",
    "\n",
    "With that behind us we can now scatter plot the `picks` vs `wins`, sizing *and* coloring the points by the number of `bans`. The use of `bans` to both color and size the points gives a reinforced view of the data."
   ]
  },
  {
   "cell_type": "code",
   "execution_count": null,
   "id": "eb4ba423-4bac-416e-94d1-cae62313c4b2",
   "metadata": {
    "ExecuteTime": {
     "start_time": "2023-10-27T02:32:54.684317Z"
    }
   },
   "outputs": [],
   "source": [
    "# scatter all_picks_vs_bans as specified above\n",
    "x = all_picks_vs_bans.hvplot.scatter(\n",
    "    x='picks',\n",
    "    y='avg_pick',\n",
    "    c='bans',\n",
    "    s='bans',\n",
    "    hover_cols=['localized_name'],\n",
    ").opts(\n",
    "    default_tools=['box_zoom', 'reset'],\n",
    "    show_grid=True,\n",
    "    width=768,\n",
    "    height=512\n",
    ")"
   ]
  },
  {
   "cell_type": "code",
   "execution_count": null,
   "outputs": [],
   "source": [
    "import hvplot.pandas\n",
    "import holoviews as hv\n",
    "hv.extension('bokeh')\n",
    "from bokeh.plotting import show\n",
    "\n",
    "show(hv.render(x))"
   ],
   "metadata": {
    "collapsed": false,
    "ExecuteTime": {
     "start_time": "2023-10-27T02:32:54.685894Z"
    }
   },
   "id": "a49768c2830657ee"
  },
  {
   "cell_type": "markdown",
   "id": "7ded7988",
   "metadata": {},
   "source": [
    "## Looking Further into the Data\n",
    "\n",
    "While our analysis helps us understand what players are doing when they select, we have not answered why. We want to take the most successful and popular heroes, and attempt to find the heroes that Pangolier is most successful against, and most unsuccessful against.\n",
    "\n",
    "We will take a look at a single hero - *Pangolier*. Pangolier is the most successful hero that has been picked at least 20% of the time in matches. To find which heroes Pangolier accels against and the ones he struggles against, we first need to find all of the matches in which Pangolier was picked. As we find those matches, we can use another mask to split the matches where Pangolier wins from those where he loses. Ultimately we want to find the match IDs of all of these matches, and so we will utilize the `match_id` column. Your task is to perform the following:\n",
    "\n",
    "1. Create a mask on `matches_heroes` to select the localized name `Pangolier`\n",
    "\n",
    "2. Create variables `pangolier_matches_wins` and `pangolier_matches_losses` that combines the above mask with the `wins` column (which we can use as a mask) and pull out the `match_id`\n",
    "    * you can *negate* a mask by putting a `~` in front of it!\n",
    "\n",
    "3. Create a new aggregator dictionary that applies a `count` operation to the `win` column \n",
    "\n",
    "4. Create a new mask on `matches_heroes` to select losses and where the `match_id` is one of the values in `pangolier_matches_wins`\n",
    "    * for the first piece of the mask just negate the `win` column\n",
    "    * for the secon piece of the mask we can use the special `isin` operator of a series\n",
    "\n",
    "5. Create a new mask on `matches_heroes` to select wins and where the `match_id` is one of the values in `pangolier_matches_losses`\n",
    "    * for the first piece of the mask just use the `win` column as it is\n",
    "    * for the secon piece of the mask we can use the special `isin` operator of a series\n",
    "\n",
    "6. Create a new variable `pangolier_wins` by applying the mask from step 4 to `matches_heroes`, then group the dataframe by `localized_name` and apply the aggregation\n",
    "    * rename the columns in `pangolier_wins` to `['losses_to_pangolier']`\n",
    "\n",
    "7. Create a new variable `pangolier_losses` by applying the mask from step 5 to `matches_heroes`, then group the dataframe by `localized_name` and apply the aggregation\n",
    "    * rename the columns in `pangolier_losses` to `['wins_against_pangolier']`\n",
    "\n",
    "8. Merge `pangolier_wins` and `pangolier_losses` using:\n",
    "\n",
    "    `pangolier_stats = pw.merge(pl, left_index=True, right_index=True).fillna(0)`\n",
    "\n",
    "9. Add a `win_pct` column using the `losses_to_pangolier` and `wins_against_pangolier` columns"
   ]
  },
  {
   "cell_type": "code",
   "execution_count": null,
   "outputs": [],
   "source": [
    "matches_heroes"
   ],
   "metadata": {
    "collapsed": false,
    "ExecuteTime": {
     "start_time": "2023-10-27T02:32:54.687463Z"
    }
   },
   "id": "5f80a7f9bab37f49"
  },
  {
   "cell_type": "code",
   "execution_count": null,
   "id": "51a070a1",
   "metadata": {
    "ExecuteTime": {
     "start_time": "2023-10-27T02:32:54.688707Z"
    }
   },
   "outputs": [],
   "source": [
    "# perform steps 1-2 here\n",
    "# Step 1: Create a mask to select matches with localized name \"Pangolier\"\n",
    "\n",
    "#Match Win Mask \n",
    "pangolier_mask = matches_heroes['localized_name'] == 'Pangolier'\n",
    "pangolier_matches = matches_heroes[pangolier_mask]\n",
    "pangolier_win_mask = pangolier_matches.win == True \n",
    "pangolier_matches_wins = matches_heroes[pangolier_mask & pangolier_win_mask]\n",
    "\n",
    "\n",
    "# Match Lost Mask \n",
    "pangolier_loss_mask = ~pangolier_win_mask\n",
    "pangolier_matches_loss = matches_heroes[pangolier_mask & pangolier_loss_mask]\n",
    "# Step 2: Create variables to combine the mask with wins and losses\n",
    "\n",
    "# Display the results\n",
    "\n",
    "# pangolier_matches_wins\n",
    "# pangolier_matches_lose\n",
    "pangolier_matches_wins_match_id = pangolier_matches_wins['match_id']\n",
    "\n",
    "pangolier_matches_loss_match_id = pangolier_matches_loss['match_id']\n",
    "\n",
    "pangolier_matches_wins_match_id\n",
    "pangolier_matches_loss_match_id\n",
    "\n",
    "\n",
    "\n",
    "\n"
   ]
  },
  {
   "cell_type": "markdown",
   "id": "d789efa2",
   "metadata": {},
   "source": [
    "With the matches identified, we can now filter our matches on those match IDs to find all heroes involved in those matches."
   ]
  },
  {
   "cell_type": "markdown",
   "source": [],
   "metadata": {
    "collapsed": false
   },
   "id": "5bf0ce5956b26ae2"
  },
  {
   "cell_type": "code",
   "execution_count": null,
   "id": "04ea378e",
   "metadata": {
    "ExecuteTime": {
     "start_time": "2023-10-27T02:32:54.690074Z"
    }
   },
   "outputs": [],
   "source": [
    "# perform steps 3-7 here\n",
    "aggregator_win={\n",
    "    'win':'count'\n",
    "}\n",
    "pangolier_match_win_count = pangolier_matches_wins.groupby('win').agg(aggregator_win)\n",
    "# pangolier_match_win_count\n",
    "\n",
    "total_match_win_loss_count = matches_heroes.groupby('win').agg(aggregator_win)\n",
    "\n",
    "# 4.____________\n",
    "matches_heroes_loss_mask = matches_heroes.win == False\n",
    "match_id_one_of_pangoliar_match_win_mask = matches_heroes.match_id.isin(pangolier_matches_wins_match_id)\n",
    "\n",
    "combined_pangolier_match_heroes__win_mask = matches_heroes_loss_mask & match_id_one_of_pangoliar_match_win_mask\n",
    "\n",
    "# 5. ___________\n",
    "matches_heroes_win_mask = ~matches_heroes_loss_mask\n",
    "match_id_one_of_pangolier_match_loss_mask = matches_heroes.match_id.isin(pangolier_matches_loss_match_id)\n",
    "\n",
    "# 6._______________\n",
    "pangolier_win = matches_heroes[match_id_one_of_pangoliar_match_win_mask].groupby('localized_name').agg(aggregator_win)\n",
    "\n",
    "pangolier_win.rename(columns={'win':'losses_to_pangolier'},inplace = True)\n",
    "\n",
    "# 7.________________\n",
    "pangolier_loss = matches_heroes[match_id_one_of_pangolier_match_loss_mask].groupby('localized_name').agg(aggregator_win)\n",
    "pangolier_loss.rename(columns={'win':'wins_to_pangolier'},inplace=True)\n",
    "pangolier_loss\n"
   ]
  },
  {
   "cell_type": "markdown",
   "source": [
    "8. Merge `pangolier_wins` and `pangolier_losses` using:\n",
    "\n",
    "    `pangolier_stats = pw.merge(pl, left_index=True, right_index=True).fillna(0)`\n",
    "\n",
    "9. Add a `win_pct` column using the `losses_to_pangolier` and `wins_against_pangolier` columns"
   ],
   "metadata": {
    "collapsed": false
   },
   "id": "3aef742fb0bcce24"
  },
  {
   "cell_type": "code",
   "execution_count": null,
   "id": "36eec284",
   "metadata": {
    "ExecuteTime": {
     "start_time": "2023-10-27T02:32:54.691341Z"
    }
   },
   "outputs": [],
   "source": [
    "# perform steps 8-9 here\n",
    "pangolier_stats = pangolier_win.merge(pangolier_loss, left_index=True, right_index=True).fillna(0)\n",
    "pangolier_stats['win_pct'] = (pangolier_win['losses_to_pangolier']/(pangolier_win['losses_to_pangolier'] + pangolier_loss['wins_to_pangolier']))*100"
   ]
  },
  {
   "cell_type": "code",
   "execution_count": null,
   "outputs": [],
   "source": [
    "pangolier_stats"
   ],
   "metadata": {
    "collapsed": false,
    "ExecuteTime": {
     "start_time": "2023-10-27T02:32:54.692676Z"
    }
   },
   "id": "4c024b158648ce23"
  },
  {
   "cell_type": "code",
   "execution_count": null,
   "id": "13d9e40e",
   "metadata": {
    "ExecuteTime": {
     "start_time": "2023-10-27T02:32:54.693674Z"
    }
   },
   "outputs": [],
   "source": [
    "pangolier_stats.sort_values('win_pct', ascending=False).head(20)"
   ]
  },
  {
   "cell_type": "markdown",
   "id": "fc859619",
   "metadata": {},
   "source": [
    "Now that we have our data for the success rates against `Pangolier`, we can plot the data along with an identity line to help us identify the best and worst heroes to play against `Pangolier`."
   ]
  },
  {
   "cell_type": "code",
   "execution_count": 71,
   "id": "18db6acb",
   "metadata": {
    "ExecuteTime": {
     "end_time": "2023-10-27T02:34:40.482929Z",
     "start_time": "2023-10-27T02:34:40.345641Z"
    }
   },
   "outputs": [
    {
     "name": "stderr",
     "output_type": "stream",
     "text": [
      "WARNING:param.OverlayPlot02831: Tool of type 'pan' could not be found and could not be activated by default.\n",
      "WARNING:param.OverlayPlot02831: Tool of type 'wheel_zoom' could not be found and could not be activated by default.\n"
     ]
    },
    {
     "data": {},
     "metadata": {},
     "output_type": "display_data"
    },
    {
     "data": {
      "text/html": "<div id='p1392'>\n  <div id=\"e262269d-c270-4a61-9279-eadb6a381ee0\" data-root-id=\"p1392\" style=\"display: contents;\"></div>\n</div>\n<script type=\"application/javascript\">(function(root) {\n  var docs_json = {\"f467b53b-f654-4ee7-89eb-073435187a82\":{\"version\":\"3.2.2\",\"title\":\"Bokeh Application\",\"roots\":[{\"type\":\"object\",\"name\":\"Row\",\"id\":\"p1392\",\"attributes\":{\"name\":\"Row02804\",\"tags\":[\"embedded\"],\"stylesheets\":[\"\\n:host(.pn-loading.pn-arc):before, .pn-loading.pn-arc:before {\\n  background-image: url(\\\"data:image/svg+xml;base64,PHN2ZyB4bWxucz0iaHR0cDovL3d3dy53My5vcmcvMjAwMC9zdmciIHN0eWxlPSJtYXJnaW46IGF1dG87IGJhY2tncm91bmQ6IG5vbmU7IGRpc3BsYXk6IGJsb2NrOyBzaGFwZS1yZW5kZXJpbmc6IGF1dG87IiB2aWV3Qm94PSIwIDAgMTAwIDEwMCIgcHJlc2VydmVBc3BlY3RSYXRpbz0ieE1pZFlNaWQiPiAgPGNpcmNsZSBjeD0iNTAiIGN5PSI1MCIgZmlsbD0ibm9uZSIgc3Ryb2tlPSIjYzNjM2MzIiBzdHJva2Utd2lkdGg9IjEwIiByPSIzNSIgc3Ryb2tlLWRhc2hhcnJheT0iMTY0LjkzMzYxNDMxMzQ2NDE1IDU2Ljk3Nzg3MTQzNzgyMTM4Ij4gICAgPGFuaW1hdGVUcmFuc2Zvcm0gYXR0cmlidXRlTmFtZT0idHJhbnNmb3JtIiB0eXBlPSJyb3RhdGUiIHJlcGVhdENvdW50PSJpbmRlZmluaXRlIiBkdXI9IjFzIiB2YWx1ZXM9IjAgNTAgNTA7MzYwIDUwIDUwIiBrZXlUaW1lcz0iMDsxIj48L2FuaW1hdGVUcmFuc2Zvcm0+ICA8L2NpcmNsZT48L3N2Zz4=\\\");\\n  background-size: auto calc(min(50%, 400px));\\n}\",{\"type\":\"object\",\"name\":\"ImportedStyleSheet\",\"id\":\"p1395\",\"attributes\":{\"url\":\"https://cdn.holoviz.org/panel/1.2.3/dist/css/loading.css\"}},{\"type\":\"object\",\"name\":\"ImportedStyleSheet\",\"id\":\"p1461\",\"attributes\":{\"url\":\"https://cdn.holoviz.org/panel/1.2.3/dist/css/listpanel.css\"}},{\"type\":\"object\",\"name\":\"ImportedStyleSheet\",\"id\":\"p1393\",\"attributes\":{\"url\":\"https://cdn.holoviz.org/panel/1.2.3/dist/bundled/theme/default.css\"}},{\"type\":\"object\",\"name\":\"ImportedStyleSheet\",\"id\":\"p1394\",\"attributes\":{\"url\":\"https://cdn.holoviz.org/panel/1.2.3/dist/bundled/theme/native.css\"}}],\"min_width\":768,\"margin\":0,\"sizing_mode\":\"stretch_width\",\"align\":\"start\",\"children\":[{\"type\":\"object\",\"name\":\"Spacer\",\"id\":\"p1396\",\"attributes\":{\"name\":\"HSpacer02815\",\"stylesheets\":[\"\\n:host(.pn-loading.pn-arc):before, .pn-loading.pn-arc:before {\\n  background-image: url(\\\"data:image/svg+xml;base64,PHN2ZyB4bWxucz0iaHR0cDovL3d3dy53My5vcmcvMjAwMC9zdmciIHN0eWxlPSJtYXJnaW46IGF1dG87IGJhY2tncm91bmQ6IG5vbmU7IGRpc3BsYXk6IGJsb2NrOyBzaGFwZS1yZW5kZXJpbmc6IGF1dG87IiB2aWV3Qm94PSIwIDAgMTAwIDEwMCIgcHJlc2VydmVBc3BlY3RSYXRpbz0ieE1pZFlNaWQiPiAgPGNpcmNsZSBjeD0iNTAiIGN5PSI1MCIgZmlsbD0ibm9uZSIgc3Ryb2tlPSIjYzNjM2MzIiBzdHJva2Utd2lkdGg9IjEwIiByPSIzNSIgc3Ryb2tlLWRhc2hhcnJheT0iMTY0LjkzMzYxNDMxMzQ2NDE1IDU2Ljk3Nzg3MTQzNzgyMTM4Ij4gICAgPGFuaW1hdGVUcmFuc2Zvcm0gYXR0cmlidXRlTmFtZT0idHJhbnNmb3JtIiB0eXBlPSJyb3RhdGUiIHJlcGVhdENvdW50PSJpbmRlZmluaXRlIiBkdXI9IjFzIiB2YWx1ZXM9IjAgNTAgNTA7MzYwIDUwIDUwIiBrZXlUaW1lcz0iMDsxIj48L2FuaW1hdGVUcmFuc2Zvcm0+ICA8L2NpcmNsZT48L3N2Zz4=\\\");\\n  background-size: auto calc(min(50%, 400px));\\n}\",{\"id\":\"p1395\"},{\"id\":\"p1393\"},{\"id\":\"p1394\"}],\"margin\":0,\"sizing_mode\":\"stretch_width\",\"align\":\"start\"}},{\"type\":\"object\",\"name\":\"Figure\",\"id\":\"p1402\",\"attributes\":{\"width\":768,\"height\":512,\"margin\":[5,10],\"sizing_mode\":\"fixed\",\"align\":\"start\",\"x_range\":{\"type\":\"object\",\"name\":\"Range1d\",\"id\":\"p1397\",\"attributes\":{\"tags\":[[[\"losses_to_pangolier\",\"losses_to_pangolier\",null]],[]],\"start\":-8.0,\"end\":128.0,\"reset_start\":-8.0,\"reset_end\":128.0}},\"y_range\":{\"type\":\"object\",\"name\":\"Range1d\",\"id\":\"p1398\",\"attributes\":{\"tags\":[[[\"wins_to_pangolier\",\"wins_to_pangolier\",null]],{\"type\":\"map\",\"entries\":[[\"invert_yaxis\",false],[\"autorange\",false]]}],\"start\":-12.0,\"end\":132.0,\"reset_start\":-12.0,\"reset_end\":132.0}},\"x_scale\":{\"type\":\"object\",\"name\":\"LinearScale\",\"id\":\"p1412\"},\"y_scale\":{\"type\":\"object\",\"name\":\"LinearScale\",\"id\":\"p1413\"},\"title\":{\"type\":\"object\",\"name\":\"Title\",\"id\":\"p1405\",\"attributes\":{\"text_color\":\"black\",\"text_font_size\":\"12pt\"}},\"renderers\":[{\"type\":\"object\",\"name\":\"GlyphRenderer\",\"id\":\"p1439\",\"attributes\":{\"data_source\":{\"type\":\"object\",\"name\":\"ColumnDataSource\",\"id\":\"p1428\",\"attributes\":{\"selected\":{\"type\":\"object\",\"name\":\"Selection\",\"id\":\"p1429\",\"attributes\":{\"indices\":[],\"line_indices\":[]}},\"selection_policy\":{\"type\":\"object\",\"name\":\"UnionRenderers\",\"id\":\"p1430\"},\"data\":{\"type\":\"map\",\"entries\":[[\"losses_to_pangolier\",{\"type\":\"ndarray\",\"array\":{\"type\":\"bytes\",\"data\":\"DQAAAAEAAAAGAAAAAQAAAAcAAAAWAAAAGAAAABEAAAAHAAAABAAAAAwAAAAFAAAAAwAAAAUAAAAQAAAAEwAAAAsAAAAJAAAABAAAAA4AAAAXAAAAFwAAAAcAAAAEAAAABgAAAAUAAAAEAAAAEwAAACIAAAAPAAAACQAAAAYAAAADAAAABwAAAAMAAAAIAAAAAQAAAAQAAAASAAAAAwAAAAMAAAAFAAAACQAAAAUAAAAIAAAABgAAAAEAAAADAAAABgAAAAsAAAAGAAAABwAAABAAAAAUAAAACgAAABIAAAAJAAAADwAAAAsAAAAFAAAAAQAAAAUAAAByAAAABgAAAAcAAAAMAAAACgAAAAMAAAADAAAACQAAAAQAAAABAAAABQAAADQAAAAUAAAABAAAABEAAAAKAAAAEgAAAA0AAAADAAAAAwAAAAcAAAATAAAABAAAAAsAAAALAAAAFQAAAAgAAAAJAAAAEgAAAAwAAAAFAAAAEQAAAA4AAAAZAAAACAAAAAYAAAAJAAAABAAAAAYAAAADAAAACgAAAAEAAAADAAAAAQAAAA==\"},\"shape\":[106],\"dtype\":\"int32\",\"order\":\"little\"}],[\"wins_to_pangolier\",{\"type\":\"ndarray\",\"array\":{\"type\":\"bytes\",\"data\":\"BwAAAAIAAAAGAAAAAwAAAAkAAAAQAAAAEQAAAAcAAAAGAAAAAQAAAAwAAAAEAAAABAAAAAYAAAAPAAAACAAAAAoAAAAEAAAAAQAAAAoAAAATAAAAEwAAAAoAAAAKAAAAAwAAAAQAAAADAAAAEQAAAB0AAAAIAAAACAAAAAIAAAABAAAAAgAAAAEAAAAHAAAAAwAAAAgAAAAPAAAABAAAAAQAAAAMAAAABAAAAAYAAAADAAAABgAAAAEAAAACAAAABQAAAAQAAAAHAAAABAAAAAsAAAANAAAACgAAABUAAAAIAAAABwAAABQAAAABAAAAAQAAAAEAAABdAAAABAAAAAYAAAAHAAAADQAAAAgAAAADAAAABwAAAAQAAAACAAAACAAAACYAAAANAAAABQAAAAoAAAANAAAABwAAAA8AAAABAAAAAgAAAAkAAAAFAAAABAAAABYAAAAMAAAADwAAAAYAAAAOAAAACwAAAAsAAAACAAAABwAAAAkAAAAcAAAABgAAAAQAAAACAAAABQAAAAYAAAAFAAAABgAAAAIAAAACAAAAAQAAAA==\"},\"shape\":[106],\"dtype\":\"int32\",\"order\":\"little\"}],[\"win_pct\",{\"type\":\"ndarray\",\"array\":{\"type\":\"bytes\",\"data\":\"AAAAAABAUECqqqqqqqpAQAAAAAAAAElAAAAAAAAAOUAAAAAAAOBFQCmvobyG8kxARO1K1K5ETUBWVVVVVbVRQMVO7MRO7EpAAAAAAAAAVEAAAAAAAABJQHIcx3Ecx0tA27Zt27ZtRUC66KKLLrpGQM4555xzzklAewntJbSXUUANwzAMwzBKQOzETuzETlFAAAAAAAAAVECrqqqqqipNQBmGYRiGYUtAGYZhGIZhS0CWlpaWlpZEQCRJkiRJkjxAqqqqqqqqUEByHMdxHMdLQCRJkiRJkkxAOY7jOI5jSkC/7/u+7/tKQPWmN73pTVBAeXh4eHh4SkAAAAAAAMBSQAAAAAAAwFJAHcdxHMdxU0AAAAAAAMBSQKuqqqqqqkpAAAAAAAAAOUCqqqqqqqpAQEUXXXTRRUtA27Zt27ZtRUDbtm3btm1FQGppaWlpaT1A7MRO7MROUUC66KKLLrpGQC+66KKLLlJAAAAAAAAASUAAAAAAAABJQAAAAAAAAE5ARRdddNFFS0BVVVVVVVVSQDuxEzuxE0dA0UUXXXTRT0AS2ktoL6FNQE422WSTTU5AAAAAAAAASUA7sRM7sRNHQHl4eHh4eEpAiy666KILUUC+9957771BQFZVVVVV1VRAAAAAAAAASUBWVVVVVdVUQPkZJX5GiUtAAAAAAAAATkDFTuzETuxKQEN5DeU1lE9AnN70pje9RUBFF1100UU7QAAAAAAAAElAAAAAAAAgTEAAAAAAAABJQKqqqqqqqkBAshM7sRM7Q0A4juM4juNMQE422WSTTU5AjuM4juM4RkC0l9BeQntPQJze9KY3vUVAAAAAAAAAUkBu27Zt2zZHQAAAAAAAwFJAAAAAAAAATkAAAAAAAOBFQKqqqqqqylNAAAAAAAAASUCqqqqqqqpAQN/0pje96UdAq6qqqqoqTUAkSZIkSZJMQFnIQhaykENAPo2w3NMIT0AhC1nIQhZKQLdt27Zt21FAVlVVVVW1UUCoN73pTW9OQOiQmmC8lUdAJEmSJEmSTEAAAAAAAABOQHXRRRdddFRAjuM4juM4RkAAAAAAAABJQAAAAAAAwEJAAAAAAABAT0CqqqqqqqpAQAAAAAAAAE5AAAAAAAAASUA=\"},\"shape\":[106],\"dtype\":\"float64\",\"order\":\"little\"}],[\"localized_name\",[\"Alchemist\",\"Ancient Apparition\",\"Anti-Mage\",\"Axe\",\"Bane\",\"Batrider\",\"Beastmaster\",\"Bloodseeker\",\"Bounty Hunter\",\"Brewmaster\",\"Broodmother\",\"Centaur Warrunner\",\"Chaos Knight\",\"Chen\",\"Clockwerk\",\"Crystal Maiden\",\"Dark Seer\",\"Dark Willow\",\"Dawnbreaker\",\"Death Prophet\",\"Disruptor\",\"Doom\",\"Dragon Knight\",\"Drow Ranger\",\"Earth Spirit\",\"Earthshaker\",\"Elder Titan\",\"Ember Spirit\",\"Enchantress\",\"Enigma\",\"Faceless Void\",\"Grimstroke\",\"Gyrocopter\",\"Hoodwink\",\"Invoker\",\"Io\",\"Jakiro\",\"Juggernaut\",\"Keeper of the Light\",\"Kunkka\",\"Legion Commander\",\"Leshrac\",\"Lich\",\"Lifestealer\",\"Lina\",\"Lion\",\"Lone Druid\",\"Luna\",\"Lycan\",\"Magnus\",\"Marci\",\"Mars\",\"Medusa\",\"Mirana\",\"Monkey King\",\"Morphling\",\"Muerta\",\"Naga Siren\",\"Nature's Prophet\",\"Night Stalker\",\"Omniknight\",\"Oracle\",\"Pangolier\",\"Phantom Assassin\",\"Phantom Lancer\",\"Phoenix\",\"Primal Beast\",\"Puck\",\"Pudge\",\"Pugna\",\"Queen of Pain\",\"Razor\",\"Riki\",\"Rubick\",\"Shadow Demon\",\"Shadow Fiend\",\"Silencer\",\"Skywrath Mage\",\"Slark\",\"Snapfire\",\"Sniper\",\"Spectre\",\"Spirit Breaker\",\"Storm Spirit\",\"Sven\",\"Techies\",\"Templar Assassin\",\"Terrorblade\",\"Tidehunter\",\"Timbersaw\",\"Tiny\",\"Treant Protector\",\"Troll Warlord\",\"Tusk\",\"Underlord\",\"Undying\",\"Ursa\",\"Vengeful Spirit\",\"Venomancer\",\"Visage\",\"Void Spirit\",\"Warlock\",\"Windranger\",\"Winter Wyvern\",\"Wraith King\",\"Zeus\"]],[\"color\",{\"type\":\"ndarray\",\"array\":{\"type\":\"bytes\",\"data\":\"AAAAAABAUECqqqqqqqpAQAAAAAAAAElAAAAAAAAAOUAAAAAAAOBFQCmvobyG8kxARO1K1K5ETUBWVVVVVbVRQMVO7MRO7EpAAAAAAAAAVEAAAAAAAABJQHIcx3Ecx0tA27Zt27ZtRUC66KKLLrpGQM4555xzzklAewntJbSXUUANwzAMwzBKQOzETuzETlFAAAAAAAAAVECrqqqqqipNQBmGYRiGYUtAGYZhGIZhS0CWlpaWlpZEQCRJkiRJkjxAqqqqqqqqUEByHMdxHMdLQCRJkiRJkkxAOY7jOI5jSkC/7/u+7/tKQPWmN73pTVBAeXh4eHh4SkAAAAAAAMBSQAAAAAAAwFJAHcdxHMdxU0AAAAAAAMBSQKuqqqqqqkpAAAAAAAAAOUCqqqqqqqpAQEUXXXTRRUtA27Zt27ZtRUDbtm3btm1FQGppaWlpaT1A7MRO7MROUUC66KKLLrpGQC+66KKLLlJAAAAAAAAASUAAAAAAAABJQAAAAAAAAE5ARRdddNFFS0BVVVVVVVVSQDuxEzuxE0dA0UUXXXTRT0AS2ktoL6FNQE422WSTTU5AAAAAAAAASUA7sRM7sRNHQHl4eHh4eEpAiy666KILUUC+9957771BQFZVVVVV1VRAAAAAAAAASUBWVVVVVdVUQPkZJX5GiUtAAAAAAAAATkDFTuzETuxKQEN5DeU1lE9AnN70pje9RUBFF1100UU7QAAAAAAAAElAAAAAAAAgTEAAAAAAAABJQKqqqqqqqkBAshM7sRM7Q0A4juM4juNMQE422WSTTU5AjuM4juM4RkC0l9BeQntPQJze9KY3vUVAAAAAAAAAUkBu27Zt2zZHQAAAAAAAwFJAAAAAAAAATkAAAAAAAOBFQKqqqqqqylNAAAAAAAAASUCqqqqqqqpAQN/0pje96UdAq6qqqqoqTUAkSZIkSZJMQFnIQhaykENAPo2w3NMIT0AhC1nIQhZKQLdt27Zt21FAVlVVVVW1UUCoN73pTW9OQOiQmmC8lUdAJEmSJEmSTEAAAAAAAABOQHXRRRdddFRAjuM4juM4RkAAAAAAAABJQAAAAAAAwEJAAAAAAABAT0CqqqqqqqpAQAAAAAAAAE5AAAAAAAAASUA=\"},\"shape\":[106],\"dtype\":\"float64\",\"order\":\"little\"}],[\"size\",{\"type\":\"ndarray\",\"array\":{\"type\":\"bytes\",\"data\":\"0LphP+AfIEDjP/QWERgXQMAKHwDGSBxAAAAAAAAAFEAkt0eUH3UaQADmtMJ4bx5AdFAe64qaHkC8F2hCH9UgQGosyQ8bWh1AqPSXm3fjIUDACh8AxkgcQMKXUgNy0B1AdeKLUacvGkCW5Ml8zvcaQIDpfheivBxAiMgTVQTHIECIzPj6KvMcQAwqOPYYpCBAqPSXm3fjIUDeMiPf7YweQIi/cVa7mR1AiL9xVruZHUBvzFwT5aoZQDQtuJ6CYRVAppsHZnZUIEDCl1IDctAdQOD1UWC2PB5A9IH8ATAPHUDPBafKnmIdQGHx1uPFJiBAK4RFxLEaHUDrLzfRDFIhQOsvN9EMUiFAGHraYmqjIUDrLzfRDFIhQL/cSBg9Nh1AAAAAAAAAFEDjP/QWERgXQKFOqb+9ih1AdeKLUacvGkB14otRpy8aQFu+x3JrsRVADCo49hikIECW5Ml8zvcaQFJ9ksVZDiFAwAofAMZIHEDACh8AxkgcQNpOT7He+x5AoU6pv72KHUCJLLmMgSAhQPLo98i1LBtAy6/jsbHoH0AvVfBzwcoeQFfFrUXUIx9AwAofAMZIHEDy6PfItSwbQCuERcSxGh1ALXtva7ODIECnjOJIzNMXQPeJLS/mQSJAwAofAMZIHED3iS0v5kEiQJSkhTgwrx1A2k5Psd77HkBqLMkPG1odQKQd4kLtyR9AczwiWQ5gGkCUSStkquMUQMAKHwDGSBxAAAAAAAAAHkDACh8AxkgcQOM/9BYRGBdA8ry9EpTOGEDkw0L6mGceQFfFrUXUIx9Aq6qqqqqqGkCP2RXLW70fQHM8IlkOYBpA2WzfzHb4IEBi8oNFYkEbQOsvN9EMUiFA2k5Psd77HkAkt0eUH3UaQMstzqqNyyFAwAofAMZIHEDjP/QWERgXQGKTb7qdqRtA3jIj3+2MHkDg9VFgtjweQGBephOQBRlA3dy0nHeDH0DCEIm+geQcQEWvspUw5yBAvBdoQh/VIEBB7uP0IzUfQHzyP2LceBtA4PVRYLY8HkDaTk+x3vseQKQRRNk2FyJAq6qqqqqqGkDACh8AxkgcQHppC5mxfhhAJ/KQSW6fH0DjP/QWERgXQNpOT7He+x5AwAofAMZIHEA=\"},\"shape\":[106],\"dtype\":\"float64\",\"order\":\"little\"}]]}}},\"view\":{\"type\":\"object\",\"name\":\"CDSView\",\"id\":\"p1440\",\"attributes\":{\"filter\":{\"type\":\"object\",\"name\":\"AllIndices\",\"id\":\"p1441\"}}},\"glyph\":{\"type\":\"object\",\"name\":\"Scatter\",\"id\":\"p1434\",\"attributes\":{\"tags\":[\"apply_ranges\"],\"x\":{\"type\":\"field\",\"field\":\"losses_to_pangolier\"},\"y\":{\"type\":\"field\",\"field\":\"wins_to_pangolier\"},\"size\":{\"type\":\"field\",\"field\":\"size\"},\"line_color\":{\"type\":\"field\",\"field\":\"color\",\"transform\":{\"type\":\"object\",\"name\":\"LinearColorMapper\",\"id\":\"p1427\",\"attributes\":{\"palette\":[\"#b3fef5\",\"#b0fef5\",\"#adfdf5\",\"#a9fcf5\",\"#a6fbf6\",\"#a3faf6\",\"#a0faf6\",\"#9df9f6\",\"#9af8f6\",\"#97f7f6\",\"#93f7f6\",\"#90f6f6\",\"#8df5f6\",\"#8af4f7\",\"#87f3f7\",\"#83f2f7\",\"#80f2f7\",\"#7df1f7\",\"#79f0f7\",\"#76eff7\",\"#73eef7\",\"#6fedf8\",\"#6cecf8\",\"#68ecf8\",\"#65ebf8\",\"#61eaf8\",\"#5ee9f8\",\"#5ae8f8\",\"#57e7f8\",\"#53e6f8\",\"#50e5f9\",\"#4ce4f9\",\"#49e3f9\",\"#45e2f9\",\"#42e1f9\",\"#3ee0f9\",\"#3bdff9\",\"#38def9\",\"#35ddf9\",\"#32dcf9\",\"#30dbfa\",\"#2ed9fa\",\"#2dd8fa\",\"#2cd7fa\",\"#2bd6fa\",\"#2bd5fa\",\"#2ad3fa\",\"#2ad2fa\",\"#29d1fa\",\"#29d0fb\",\"#29cffb\",\"#28cdfb\",\"#28ccfb\",\"#28cbfb\",\"#28cafb\",\"#28c8fb\",\"#28c7fb\",\"#29c6fb\",\"#29c5fb\",\"#29c4fb\",\"#29c2fb\",\"#2ac1fb\",\"#2ac0fb\",\"#2bbffb\",\"#2bbdfc\",\"#2cbcfc\",\"#2dbbfc\",\"#2db9fc\",\"#2eb8fc\",\"#2fb7fc\",\"#2fb6fc\",\"#30b4fc\",\"#31b3fc\",\"#32b2fc\",\"#32b0fc\",\"#33affc\",\"#33aefc\",\"#34adfc\",\"#34abfc\",\"#34aafc\",\"#35a9fc\",\"#35a8fc\",\"#35a6fc\",\"#35a5fc\",\"#35a4fc\",\"#35a3fc\",\"#35a1fc\",\"#35a0fc\",\"#359ffc\",\"#359dfc\",\"#359cfc\",\"#359bfc\",\"#349afd\",\"#3498fd\",\"#3497fd\",\"#3396fd\",\"#3395fd\",\"#3293fd\",\"#3292fd\",\"#3191fd\",\"#3090fd\",\"#308ffd\",\"#2f8dfd\",\"#2f8cfd\",\"#2e8bfd\",\"#2e8afd\",\"#2d88fd\",\"#2d87fd\",\"#2c86fd\",\"#2c84fd\",\"#2c83fd\",\"#2c82fd\",\"#2b81fd\",\"#2b7ffd\",\"#2b7efd\",\"#2b7dfd\",\"#2b7bfd\",\"#2b7afd\",\"#2b79fd\",\"#2b77fd\",\"#2b76fd\",\"#2b75fd\",\"#2b73fd\",\"#2c72fd\",\"#2c71fd\",\"#2c6ffd\",\"#2c6efd\",\"#2d6cfd\",\"#2d6bfd\",\"#2d6afc\",\"#2e68fc\",\"#2e67fc\",\"#2e65fc\",\"#2e64fc\",\"#2f62fc\",\"#2f61fc\",\"#2f5ffc\",\"#2f5efc\",\"#2f5dfc\",\"#2f5bfc\",\"#2f5afc\",\"#2f58fb\",\"#2f57fb\",\"#2f55fb\",\"#2f53fb\",\"#2f52fb\",\"#2f50fb\",\"#2f4ffb\",\"#2f4dfb\",\"#2e4cfb\",\"#2e4afb\",\"#2e48fb\",\"#2e47fa\",\"#2d45fa\",\"#2d43fa\",\"#2d42fa\",\"#2d40fa\",\"#2c3efa\",\"#2c3dfa\",\"#2b3bf9\",\"#2b39f9\",\"#2a37f9\",\"#2a36f8\",\"#2934f8\",\"#2832f7\",\"#2831f7\",\"#272ff6\",\"#262ef5\",\"#252cf5\",\"#252af4\",\"#2429f3\",\"#2327f2\",\"#2226f1\",\"#2124f0\",\"#2023ef\",\"#1f22ee\",\"#1e20ed\",\"#1d1feb\",\"#1c1eea\",\"#1b1ce9\",\"#1a1be7\",\"#181ae6\",\"#1719e5\",\"#1618e3\",\"#1417e1\",\"#1316e0\",\"#1215de\",\"#1014dc\",\"#0f13db\",\"#0e12d9\",\"#0d11d7\",\"#0c10d5\",\"#0b0fd3\",\"#0a0ed1\",\"#090dd0\",\"#080dce\",\"#080ccc\",\"#070bca\",\"#070ac8\",\"#0709c6\",\"#0708c4\",\"#0707c2\",\"#0707bf\",\"#0806bd\",\"#0806bb\",\"#0905b9\",\"#0904b7\",\"#0a04b5\",\"#0a04b2\",\"#0b03b0\",\"#0c03ae\",\"#0d02ab\",\"#0e02a9\",\"#0e02a7\",\"#0f02a4\",\"#0f01a2\",\"#1001a0\",\"#10019d\",\"#10019b\",\"#100199\",\"#100197\",\"#100194\",\"#0f0192\",\"#0f0190\",\"#0f018e\",\"#0e018b\",\"#0e0189\",\"#0d0187\",\"#0d0185\",\"#0c0183\",\"#0b0181\",\"#0b017e\",\"#0a017c\",\"#09017a\",\"#090178\",\"#080276\",\"#070274\",\"#060272\",\"#060270\",\"#05026e\",\"#04026c\",\"#030269\",\"#030267\",\"#020265\",\"#010263\",\"#010261\",\"#00025f\",\"#00025d\",\"#00025b\",\"#000259\",\"#000257\",\"#000255\",\"#000154\",\"#000152\",\"#000150\",\"#00004e\"],\"low\":25.0,\"high\":83.33333333333334}}},\"fill_color\":{\"type\":\"field\",\"field\":\"color\",\"transform\":{\"id\":\"p1427\"}},\"hatch_color\":{\"type\":\"field\",\"field\":\"color\",\"transform\":{\"id\":\"p1427\"}}}},\"selection_glyph\":{\"type\":\"object\",\"name\":\"Scatter\",\"id\":\"p1436\",\"attributes\":{\"tags\":[\"apply_ranges\"],\"x\":{\"type\":\"field\",\"field\":\"losses_to_pangolier\"},\"y\":{\"type\":\"field\",\"field\":\"wins_to_pangolier\"},\"size\":{\"type\":\"field\",\"field\":\"size\"},\"line_color\":{\"type\":\"field\",\"field\":\"color\",\"transform\":{\"id\":\"p1427\"}},\"fill_color\":{\"type\":\"field\",\"field\":\"color\",\"transform\":{\"id\":\"p1427\"}},\"hatch_color\":{\"type\":\"field\",\"field\":\"color\",\"transform\":{\"id\":\"p1427\"}}}},\"nonselection_glyph\":{\"type\":\"object\",\"name\":\"Scatter\",\"id\":\"p1435\",\"attributes\":{\"tags\":[\"apply_ranges\"],\"x\":{\"type\":\"field\",\"field\":\"losses_to_pangolier\"},\"y\":{\"type\":\"field\",\"field\":\"wins_to_pangolier\"},\"size\":{\"type\":\"field\",\"field\":\"size\"},\"line_color\":{\"type\":\"field\",\"field\":\"color\",\"transform\":{\"id\":\"p1427\"}},\"line_alpha\":{\"type\":\"value\",\"value\":0.1},\"fill_color\":{\"type\":\"field\",\"field\":\"color\",\"transform\":{\"id\":\"p1427\"}},\"fill_alpha\":{\"type\":\"value\",\"value\":0.1},\"hatch_color\":{\"type\":\"field\",\"field\":\"color\",\"transform\":{\"id\":\"p1427\"}},\"hatch_alpha\":{\"type\":\"value\",\"value\":0.1}}},\"hover_glyph\":{\"type\":\"object\",\"name\":\"Scatter\",\"id\":\"p1437\",\"attributes\":{\"tags\":[\"apply_ranges\"],\"x\":{\"type\":\"field\",\"field\":\"losses_to_pangolier\"},\"y\":{\"type\":\"field\",\"field\":\"wins_to_pangolier\"},\"size\":{\"type\":\"field\",\"field\":\"size\"},\"line_color\":{\"type\":\"field\",\"field\":\"color\",\"transform\":{\"id\":\"p1427\"}},\"fill_color\":{\"type\":\"field\",\"field\":\"color\",\"transform\":{\"id\":\"p1427\"}},\"hatch_color\":{\"type\":\"field\",\"field\":\"color\",\"transform\":{\"id\":\"p1427\"}}}},\"muted_glyph\":{\"type\":\"object\",\"name\":\"Scatter\",\"id\":\"p1438\",\"attributes\":{\"tags\":[\"apply_ranges\"],\"x\":{\"type\":\"field\",\"field\":\"losses_to_pangolier\"},\"y\":{\"type\":\"field\",\"field\":\"wins_to_pangolier\"},\"size\":{\"type\":\"field\",\"field\":\"size\"},\"line_color\":{\"type\":\"field\",\"field\":\"color\",\"transform\":{\"id\":\"p1427\"}},\"line_alpha\":{\"type\":\"value\",\"value\":0.2},\"fill_color\":{\"type\":\"field\",\"field\":\"color\",\"transform\":{\"id\":\"p1427\"}},\"fill_alpha\":{\"type\":\"value\",\"value\":0.2},\"hatch_color\":{\"type\":\"field\",\"field\":\"color\",\"transform\":{\"id\":\"p1427\"}},\"hatch_alpha\":{\"type\":\"value\",\"value\":0.2}}}}},{\"type\":\"object\",\"name\":\"GlyphRenderer\",\"id\":\"p1454\",\"attributes\":{\"data_source\":{\"type\":\"object\",\"name\":\"ColumnDataSource\",\"id\":\"p1445\",\"attributes\":{\"selected\":{\"type\":\"object\",\"name\":\"Selection\",\"id\":\"p1446\",\"attributes\":{\"indices\":[],\"line_indices\":[]}},\"selection_policy\":{\"type\":\"object\",\"name\":\"UnionRenderers\",\"id\":\"p1447\"},\"data\":{\"type\":\"map\",\"entries\":[[\"xs\",[{\"type\":\"ndarray\",\"array\":{\"type\":\"bytes\",\"data\":\"AAAAAHgAAAA=\"},\"shape\":[2],\"dtype\":\"int32\",\"order\":\"little\"}]],[\"ys\",[{\"type\":\"ndarray\",\"array\":{\"type\":\"bytes\",\"data\":\"AAAAAHgAAAA=\"},\"shape\":[2],\"dtype\":\"int32\",\"order\":\"little\"}]]]}}},\"view\":{\"type\":\"object\",\"name\":\"CDSView\",\"id\":\"p1455\",\"attributes\":{\"filter\":{\"type\":\"object\",\"name\":\"AllIndices\",\"id\":\"p1456\"}}},\"glyph\":{\"type\":\"object\",\"name\":\"MultiLine\",\"id\":\"p1451\",\"attributes\":{\"tags\":[\"apply_ranges\"],\"xs\":{\"type\":\"field\",\"field\":\"xs\"},\"ys\":{\"type\":\"field\",\"field\":\"ys\"},\"line_color\":{\"type\":\"value\",\"value\":\"red\"}}},\"selection_glyph\":{\"type\":\"object\",\"name\":\"MultiLine\",\"id\":\"p1457\",\"attributes\":{\"tags\":[\"apply_ranges\"],\"xs\":{\"type\":\"field\",\"field\":\"xs\"},\"ys\":{\"type\":\"field\",\"field\":\"ys\"},\"line_color\":{\"type\":\"value\",\"value\":\"red\"},\"line_alpha\":{\"type\":\"value\",\"value\":1.0},\"line_width\":{\"type\":\"value\",\"value\":1},\"line_join\":{\"type\":\"value\",\"value\":\"bevel\"},\"line_cap\":{\"type\":\"value\",\"value\":\"butt\"},\"line_dash\":{\"type\":\"value\",\"value\":[]},\"line_dash_offset\":{\"type\":\"value\",\"value\":0}}},\"nonselection_glyph\":{\"type\":\"object\",\"name\":\"MultiLine\",\"id\":\"p1452\",\"attributes\":{\"tags\":[\"apply_ranges\"],\"xs\":{\"type\":\"field\",\"field\":\"xs\"},\"ys\":{\"type\":\"field\",\"field\":\"ys\"},\"line_color\":{\"type\":\"value\",\"value\":\"red\"},\"line_alpha\":{\"type\":\"value\",\"value\":0.1}}},\"muted_glyph\":{\"type\":\"object\",\"name\":\"MultiLine\",\"id\":\"p1453\",\"attributes\":{\"tags\":[\"apply_ranges\"],\"xs\":{\"type\":\"field\",\"field\":\"xs\"},\"ys\":{\"type\":\"field\",\"field\":\"ys\"},\"line_color\":{\"type\":\"value\",\"value\":\"red\"},\"line_alpha\":{\"type\":\"value\",\"value\":0.2}}}}}],\"toolbar\":{\"type\":\"object\",\"name\":\"Toolbar\",\"id\":\"p1411\",\"attributes\":{\"tools\":[{\"type\":\"object\",\"name\":\"HoverTool\",\"id\":\"p1401\",\"attributes\":{\"tags\":[\"hv_created\"],\"renderers\":[{\"id\":\"p1439\"}],\"tooltips\":[[\"losses_to_pangolier\",\"@{losses_to_pangolier}\"],[\"wins_to_pangolier\",\"@{wins_to_pangolier}\"],[\"win_pct\",\"@{win_pct}\"],[\"localized_name\",\"@{localized_name}\"]]}},{\"type\":\"object\",\"name\":\"BoxZoomTool\",\"id\":\"p1424\",\"attributes\":{\"overlay\":{\"type\":\"object\",\"name\":\"BoxAnnotation\",\"id\":\"p1425\",\"attributes\":{\"syncable\":false,\"level\":\"overlay\",\"visible\":false,\"left_units\":\"canvas\",\"right_units\":\"canvas\",\"bottom_units\":\"canvas\",\"top_units\":\"canvas\",\"line_color\":\"black\",\"line_alpha\":1.0,\"line_width\":2,\"line_dash\":[4,4],\"fill_color\":\"lightgrey\",\"fill_alpha\":0.5}}}},{\"type\":\"object\",\"name\":\"ResetTool\",\"id\":\"p1426\"}]}},\"left\":[{\"type\":\"object\",\"name\":\"LinearAxis\",\"id\":\"p1419\",\"attributes\":{\"ticker\":{\"type\":\"object\",\"name\":\"BasicTicker\",\"id\":\"p1420\",\"attributes\":{\"mantissas\":[1,2,5]}},\"formatter\":{\"type\":\"object\",\"name\":\"BasicTickFormatter\",\"id\":\"p1421\"},\"axis_label\":\"wins_to_pangolier\",\"major_label_policy\":{\"type\":\"object\",\"name\":\"AllLabels\",\"id\":\"p1422\"}}}],\"right\":[{\"type\":\"object\",\"name\":\"ColorBar\",\"id\":\"p1443\",\"attributes\":{\"location\":[0,0],\"ticker\":{\"type\":\"object\",\"name\":\"BasicTicker\",\"id\":\"p1442\",\"attributes\":{\"mantissas\":[1,2,5]}},\"major_label_policy\":{\"type\":\"object\",\"name\":\"NoOverlap\",\"id\":\"p1444\"},\"label_standoff\":8,\"major_tick_line_color\":\"black\",\"bar_line_color\":\"black\",\"color_mapper\":{\"id\":\"p1427\"}}}],\"below\":[{\"type\":\"object\",\"name\":\"LinearAxis\",\"id\":\"p1414\",\"attributes\":{\"ticker\":{\"type\":\"object\",\"name\":\"BasicTicker\",\"id\":\"p1415\",\"attributes\":{\"mantissas\":[1,2,5]}},\"formatter\":{\"type\":\"object\",\"name\":\"BasicTickFormatter\",\"id\":\"p1416\"},\"axis_label\":\"losses_to_pangolier\",\"major_label_policy\":{\"type\":\"object\",\"name\":\"AllLabels\",\"id\":\"p1417\"}}}],\"center\":[{\"type\":\"object\",\"name\":\"Grid\",\"id\":\"p1418\",\"attributes\":{\"axis\":{\"id\":\"p1414\"},\"ticker\":{\"id\":\"p1415\"}}},{\"type\":\"object\",\"name\":\"Grid\",\"id\":\"p1423\",\"attributes\":{\"dimension\":1,\"axis\":{\"id\":\"p1419\"},\"ticker\":{\"id\":\"p1420\"}}}],\"min_border_top\":10,\"min_border_bottom\":10,\"min_border_left\":10,\"min_border_right\":10,\"output_backend\":\"webgl\"}},{\"type\":\"object\",\"name\":\"Spacer\",\"id\":\"p1459\",\"attributes\":{\"name\":\"HSpacer02818\",\"stylesheets\":[\"\\n:host(.pn-loading.pn-arc):before, .pn-loading.pn-arc:before {\\n  background-image: url(\\\"data:image/svg+xml;base64,PHN2ZyB4bWxucz0iaHR0cDovL3d3dy53My5vcmcvMjAwMC9zdmciIHN0eWxlPSJtYXJnaW46IGF1dG87IGJhY2tncm91bmQ6IG5vbmU7IGRpc3BsYXk6IGJsb2NrOyBzaGFwZS1yZW5kZXJpbmc6IGF1dG87IiB2aWV3Qm94PSIwIDAgMTAwIDEwMCIgcHJlc2VydmVBc3BlY3RSYXRpbz0ieE1pZFlNaWQiPiAgPGNpcmNsZSBjeD0iNTAiIGN5PSI1MCIgZmlsbD0ibm9uZSIgc3Ryb2tlPSIjYzNjM2MzIiBzdHJva2Utd2lkdGg9IjEwIiByPSIzNSIgc3Ryb2tlLWRhc2hhcnJheT0iMTY0LjkzMzYxNDMxMzQ2NDE1IDU2Ljk3Nzg3MTQzNzgyMTM4Ij4gICAgPGFuaW1hdGVUcmFuc2Zvcm0gYXR0cmlidXRlTmFtZT0idHJhbnNmb3JtIiB0eXBlPSJyb3RhdGUiIHJlcGVhdENvdW50PSJpbmRlZmluaXRlIiBkdXI9IjFzIiB2YWx1ZXM9IjAgNTAgNTA7MzYwIDUwIDUwIiBrZXlUaW1lcz0iMDsxIj48L2FuaW1hdGVUcmFuc2Zvcm0+ICA8L2NpcmNsZT48L3N2Zz4=\\\");\\n  background-size: auto calc(min(50%, 400px));\\n}\",{\"id\":\"p1395\"},{\"id\":\"p1393\"},{\"id\":\"p1394\"}],\"margin\":0,\"sizing_mode\":\"stretch_width\",\"align\":\"start\"}}]}}],\"defs\":[{\"type\":\"model\",\"name\":\"ReactiveHTML1\"},{\"type\":\"model\",\"name\":\"FlexBox1\",\"properties\":[{\"name\":\"align_content\",\"kind\":\"Any\",\"default\":\"flex-start\"},{\"name\":\"align_items\",\"kind\":\"Any\",\"default\":\"flex-start\"},{\"name\":\"flex_direction\",\"kind\":\"Any\",\"default\":\"row\"},{\"name\":\"flex_wrap\",\"kind\":\"Any\",\"default\":\"wrap\"},{\"name\":\"justify_content\",\"kind\":\"Any\",\"default\":\"flex-start\"}]},{\"type\":\"model\",\"name\":\"FloatPanel1\",\"properties\":[{\"name\":\"config\",\"kind\":\"Any\",\"default\":{\"type\":\"map\"}},{\"name\":\"contained\",\"kind\":\"Any\",\"default\":true},{\"name\":\"position\",\"kind\":\"Any\",\"default\":\"right-top\"},{\"name\":\"offsetx\",\"kind\":\"Any\",\"default\":null},{\"name\":\"offsety\",\"kind\":\"Any\",\"default\":null},{\"name\":\"theme\",\"kind\":\"Any\",\"default\":\"primary\"},{\"name\":\"status\",\"kind\":\"Any\",\"default\":\"normalized\"}]},{\"type\":\"model\",\"name\":\"GridStack1\",\"properties\":[{\"name\":\"mode\",\"kind\":\"Any\",\"default\":\"warn\"},{\"name\":\"ncols\",\"kind\":\"Any\",\"default\":null},{\"name\":\"nrows\",\"kind\":\"Any\",\"default\":null},{\"name\":\"allow_resize\",\"kind\":\"Any\",\"default\":true},{\"name\":\"allow_drag\",\"kind\":\"Any\",\"default\":true},{\"name\":\"state\",\"kind\":\"Any\",\"default\":[]}]},{\"type\":\"model\",\"name\":\"drag1\",\"properties\":[{\"name\":\"slider_width\",\"kind\":\"Any\",\"default\":5},{\"name\":\"slider_color\",\"kind\":\"Any\",\"default\":\"black\"},{\"name\":\"value\",\"kind\":\"Any\",\"default\":50}]},{\"type\":\"model\",\"name\":\"click1\",\"properties\":[{\"name\":\"terminal_output\",\"kind\":\"Any\",\"default\":\"\"},{\"name\":\"debug_name\",\"kind\":\"Any\",\"default\":\"\"},{\"name\":\"clears\",\"kind\":\"Any\",\"default\":0}]},{\"type\":\"model\",\"name\":\"FastWrapper1\",\"properties\":[{\"name\":\"object\",\"kind\":\"Any\",\"default\":null},{\"name\":\"style\",\"kind\":\"Any\",\"default\":null}]},{\"type\":\"model\",\"name\":\"NotificationAreaBase1\",\"properties\":[{\"name\":\"js_events\",\"kind\":\"Any\",\"default\":{\"type\":\"map\"}},{\"name\":\"position\",\"kind\":\"Any\",\"default\":\"bottom-right\"},{\"name\":\"_clear\",\"kind\":\"Any\",\"default\":0}]},{\"type\":\"model\",\"name\":\"NotificationArea1\",\"properties\":[{\"name\":\"js_events\",\"kind\":\"Any\",\"default\":{\"type\":\"map\"}},{\"name\":\"notifications\",\"kind\":\"Any\",\"default\":[]},{\"name\":\"position\",\"kind\":\"Any\",\"default\":\"bottom-right\"},{\"name\":\"_clear\",\"kind\":\"Any\",\"default\":0},{\"name\":\"types\",\"kind\":\"Any\",\"default\":[{\"type\":\"map\",\"entries\":[[\"type\",\"warning\"],[\"background\",\"#ffc107\"],[\"icon\",{\"type\":\"map\",\"entries\":[[\"className\",\"fas fa-exclamation-triangle\"],[\"tagName\",\"i\"],[\"color\",\"white\"]]}]]},{\"type\":\"map\",\"entries\":[[\"type\",\"info\"],[\"background\",\"#007bff\"],[\"icon\",{\"type\":\"map\",\"entries\":[[\"className\",\"fas fa-info-circle\"],[\"tagName\",\"i\"],[\"color\",\"white\"]]}]]}]}]},{\"type\":\"model\",\"name\":\"Notification\",\"properties\":[{\"name\":\"background\",\"kind\":\"Any\",\"default\":null},{\"name\":\"duration\",\"kind\":\"Any\",\"default\":3000},{\"name\":\"icon\",\"kind\":\"Any\",\"default\":null},{\"name\":\"message\",\"kind\":\"Any\",\"default\":\"\"},{\"name\":\"notification_type\",\"kind\":\"Any\",\"default\":null},{\"name\":\"_destroyed\",\"kind\":\"Any\",\"default\":false}]},{\"type\":\"model\",\"name\":\"TemplateActions1\",\"properties\":[{\"name\":\"open_modal\",\"kind\":\"Any\",\"default\":0},{\"name\":\"close_modal\",\"kind\":\"Any\",\"default\":0}]},{\"type\":\"model\",\"name\":\"BootstrapTemplateActions1\",\"properties\":[{\"name\":\"open_modal\",\"kind\":\"Any\",\"default\":0},{\"name\":\"close_modal\",\"kind\":\"Any\",\"default\":0}]},{\"type\":\"model\",\"name\":\"MaterialTemplateActions1\",\"properties\":[{\"name\":\"open_modal\",\"kind\":\"Any\",\"default\":0},{\"name\":\"close_modal\",\"kind\":\"Any\",\"default\":0}]}]}};\n  var render_items = [{\"docid\":\"f467b53b-f654-4ee7-89eb-073435187a82\",\"roots\":{\"p1392\":\"e262269d-c270-4a61-9279-eadb6a381ee0\"},\"root_ids\":[\"p1392\"]}];\n  var docs = Object.values(docs_json)\n  if (!docs) {\n    return\n  }\n  const py_version = docs[0].version.replace('rc', '-rc.').replace('.dev', '-dev.')\n  const is_dev = py_version.indexOf(\"+\") !== -1 || py_version.indexOf(\"-\") !== -1\n  function embed_document(root) {\n    var Bokeh = get_bokeh(root)\n    Bokeh.embed.embed_items_notebook(docs_json, render_items);\n    for (const render_item of render_items) {\n      for (const root_id of render_item.root_ids) {\n\tconst id_el = document.getElementById(root_id)\n\tif (id_el.children.length && (id_el.children[0].className === 'bk-root')) {\n\t  const root_el = id_el.children[0]\n\t  root_el.id = root_el.id + '-rendered'\n\t}\n      }\n    }\n  }\n  function get_bokeh(root) {\n    if (root.Bokeh === undefined) {\n      return null\n    } else if (root.Bokeh.version !== py_version && !is_dev) {\n      if (root.Bokeh.versions === undefined || !root.Bokeh.versions.has(py_version)) {\n\treturn null\n      }\n      return root.Bokeh.versions.get(py_version);\n    } else if (root.Bokeh.version === py_version) {\n      return root.Bokeh\n    }\n    return null\n  }\n  function is_loaded(root) {\n    var Bokeh = get_bokeh(root)\n    return (Bokeh != null && Bokeh.Panel !== undefined)\n  }\n  if (is_loaded(root)) {\n    embed_document(root);\n  } else {\n    var attempts = 0;\n    var timer = setInterval(function(root) {\n      if (is_loaded(root)) {\n        clearInterval(timer);\n        embed_document(root);\n      } else if (document.readyState == \"complete\") {\n        attempts++;\n        if (attempts > 200) {\n          clearInterval(timer);\n\t  var Bokeh = get_bokeh(root)\n\t  if (Bokeh == null || Bokeh.Panel == null) {\n            console.warn(\"Panel: ERROR: Unable to run Panel code because Bokeh or Panel library is missing\");\n\t  } else {\n\t    console.warn(\"Panel: WARNING: Attempting to render but not all required libraries could be resolved.\")\n\t    embed_document(root)\n\t  }\n        }\n      }\n    }, 25, root)\n  }\n})(window);</script>",
      "application/vnd.holoviews_exec.v0+json": "",
      "text/plain": ":Overlay\n   .Scatter.I :Scatter   [losses_to_pangolier]   (wins_to_pangolier,win_pct,localized_name)\n   .Path.I    :Path   [x,y]"
     },
     "execution_count": 71,
     "metadata": {
      "application/vnd.holoviews_exec.v0+json": {
       "id": "p1392"
      }
     },
     "output_type": "execute_result"
    }
   ],
   "source": [
    "import holoviews as hv\n",
    "(\n",
    "    pangolier_stats.hvplot.scatter(\n",
    "        x='losses_to_pangolier',\n",
    "        y='wins_to_pangolier',\n",
    "        s='win_pct',\n",
    "        c='win_pct',\n",
    "        hover_cols=['localized_name']\n",
    "    ).opts(default_tools=['box_zoom', 'reset']) * hv.Path(\n",
    "        [[[0,0,0], [120,120,0]]]\n",
    "    ).opts(color='red', default_tools=['box_zoom', 'reset'],\n",
    ")\n",
    ").opts(\n",
    "    show_grid=True,\n",
    "    width=768,\n",
    "    height=512\n",
    ")"
   ]
  },
  {
   "cell_type": "markdown",
   "id": "fcab5769",
   "metadata": {},
   "source": [
    "The red line represents the even win/loss ratio for a hero against Pangolier. The farther above the line, the more successful a hero is against `Pangolier`, whereas the father below the line, the less successful a hero is. We can clearly see that the hero `Leshrac` is the most successful hero against `Pangolier`, and `Storm Spirit` is the least successful.\n",
    "\n",
    "What else can we analyze?"
   ]
  },
  {
   "cell_type": "code",
   "execution_count": null,
   "outputs": [],
   "source": [],
   "metadata": {
    "collapsed": false,
    "ExecuteTime": {
     "start_time": "2023-10-27T02:32:54.695927Z"
    }
   },
   "id": "5bace760987f00cf"
  }
 ],
 "metadata": {
  "kernelspec": {
   "display_name": "Python 3 (ipykernel)",
   "language": "python",
   "name": "python3"
  },
  "language_info": {
   "codemirror_mode": {
    "name": "ipython",
    "version": 3
   },
   "file_extension": ".py",
   "mimetype": "text/x-python",
   "name": "python",
   "nbconvert_exporter": "python",
   "pygments_lexer": "ipython3",
   "version": "3.11.4"
  }
 },
 "nbformat": 4,
 "nbformat_minor": 5
}
