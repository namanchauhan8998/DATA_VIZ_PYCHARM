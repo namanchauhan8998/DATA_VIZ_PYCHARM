{
 "cells": [
  {
   "cell_type": "code",
   "execution_count": 1,
   "metadata": {
    "ExecuteTime": {
     "end_time": "2023-10-21T20:08:35.581557Z",
     "start_time": "2023-10-21T20:08:35.511872Z"
    }
   },
   "outputs": [],
   "source": [
    "the_office = ['michael', 'dwight', 'pam', 'jim', 'meredith', 'angela']\n"
   ]
  },
  {
   "cell_type": "code",
   "execution_count": 2,
   "metadata": {
    "ExecuteTime": {
     "end_time": "2023-10-21T20:08:35.581845Z",
     "start_time": "2023-10-21T20:08:35.516614Z"
    }
   },
   "outputs": [
    {
     "data": {
      "text/plain": "['angela', 'dwight', 'jim', 'meredith', 'michael', 'pam']"
     },
     "execution_count": 2,
     "metadata": {},
     "output_type": "execute_result"
    }
   ],
   "source": [
    "sorted(the_office)"
   ]
  },
  {
   "cell_type": "code",
   "execution_count": 3,
   "outputs": [
    {
     "data": {
      "text/plain": "['michael', 'dwight', 'pam', 'jim', 'meredith', 'angela']"
     },
     "execution_count": 3,
     "metadata": {},
     "output_type": "execute_result"
    }
   ],
   "source": [
    "the_office"
   ],
   "metadata": {
    "collapsed": false,
    "ExecuteTime": {
     "end_time": "2023-10-21T20:08:35.581945Z",
     "start_time": "2023-10-21T20:08:35.520992Z"
    }
   }
  },
  {
   "cell_type": "code",
   "execution_count": 4,
   "metadata": {
    "ExecuteTime": {
     "end_time": "2023-10-21T20:08:35.582052Z",
     "start_time": "2023-10-21T20:08:35.523905Z"
    }
   },
   "outputs": [
    {
     "data": {
      "text/plain": "['pam', 'jim', 'dwight', 'angela', 'michael', 'meredith']"
     },
     "execution_count": 4,
     "metadata": {},
     "output_type": "execute_result"
    }
   ],
   "source": [
    "# We want to sort based on the size of the name \n",
    "sorted(the_office, key=len)    # This first finds the len and then sort it"
   ]
  },
  {
   "cell_type": "code",
   "execution_count": 5,
   "metadata": {
    "ExecuteTime": {
     "end_time": "2023-10-21T20:08:35.582281Z",
     "start_time": "2023-10-21T20:08:35.528104Z"
    }
   },
   "outputs": [
    {
     "data": {
      "text/plain": "['jim', 'pam', 'angela', 'dwight', 'michael', 'meredith']"
     },
     "execution_count": 5,
     "metadata": {},
     "output_type": "execute_result"
    }
   ],
   "source": [
    "\n",
    "def alphabetical_length(name):\n",
    "    lenght = len(name)\n",
    "    return (lenght , name)\n",
    "\n",
    "sorted(the_office , key=alphabetical_length)\n"
   ]
  },
  {
   "cell_type": "markdown",
   "metadata": {},
   "source": [
    "# LAMDA FUNCTIONS"
   ]
  },
  {
   "cell_type": "code",
   "execution_count": 6,
   "metadata": {
    "ExecuteTime": {
     "end_time": "2023-10-21T20:08:35.582392Z",
     "start_time": "2023-10-21T20:08:35.530661Z"
    }
   },
   "outputs": [],
   "source": [
    "alphabetical_length = lambda name: (len(name),name)"
   ]
  },
  {
   "cell_type": "code",
   "execution_count": 7,
   "metadata": {
    "ExecuteTime": {
     "end_time": "2023-10-21T20:08:35.582505Z",
     "start_time": "2023-10-21T20:08:35.533286Z"
    }
   },
   "outputs": [
    {
     "data": {
      "text/plain": "['jim', 'pam', 'angela', 'dwight', 'michael', 'meredith']"
     },
     "execution_count": 7,
     "metadata": {},
     "output_type": "execute_result"
    }
   ],
   "source": [
    "sorted(the_office , key=alphabetical_length)"
   ]
  },
  {
   "cell_type": "code",
   "execution_count": 8,
   "metadata": {
    "ExecuteTime": {
     "end_time": "2023-10-21T20:08:35.582582Z",
     "start_time": "2023-10-21T20:08:35.536638Z"
    }
   },
   "outputs": [
    {
     "data": {
      "text/plain": "['michael', 'dwight', 'pam', 'jim', 'meredith', 'angela']"
     },
     "execution_count": 8,
     "metadata": {},
     "output_type": "execute_result"
    }
   ],
   "source": [
    "the_office"
   ]
  },
  {
   "cell_type": "markdown",
   "source": [
    "The following code is giving 'pam' since max function is currently sorting the list based on the Dictionary, that is, Pam will be at the end of the list if sorted as per the English Dictionary. "
   ],
   "metadata": {
    "collapsed": false
   }
  },
  {
   "cell_type": "code",
   "execution_count": 25,
   "metadata": {
    "ExecuteTime": {
     "end_time": "2023-10-21T20:10:19.727937Z",
     "start_time": "2023-10-21T20:10:19.723039Z"
    }
   },
   "outputs": [
    {
     "data": {
      "text/plain": "'pam'"
     },
     "execution_count": 25,
     "metadata": {},
     "output_type": "execute_result"
    }
   ],
   "source": [
    "max(the_office)"
   ]
  },
  {
   "cell_type": "code",
   "execution_count": 26,
   "metadata": {
    "ExecuteTime": {
     "end_time": "2023-10-21T20:10:25.170811Z",
     "start_time": "2023-10-21T20:10:25.164700Z"
    }
   },
   "outputs": [
    {
     "data": {
      "text/plain": "'meredith'"
     },
     "execution_count": 26,
     "metadata": {},
     "output_type": "execute_result"
    }
   ],
   "source": [
    "max(the_office, key=len)"
   ]
  },
  {
   "cell_type": "code",
   "execution_count": 27,
   "metadata": {
    "ExecuteTime": {
     "end_time": "2023-10-21T20:10:32.430858Z",
     "start_time": "2023-10-21T20:10:32.423927Z"
    }
   },
   "outputs": [
    {
     "data": {
      "text/plain": "['jim', 'pam', 'angela', 'dwight', 'michael', 'meredith']"
     },
     "execution_count": 27,
     "metadata": {},
     "output_type": "execute_result"
    }
   ],
   "source": [
    "\n",
    "sorted(the_office, key=lambda name: (len(name),name))"
   ]
  },
  {
   "cell_type": "code",
   "execution_count": 28,
   "metadata": {
    "ExecuteTime": {
     "end_time": "2023-10-21T20:10:37.753190Z",
     "start_time": "2023-10-21T20:10:37.747139Z"
    }
   },
   "outputs": [
    {
     "data": {
      "text/plain": "3"
     },
     "execution_count": 28,
     "metadata": {},
     "output_type": "execute_result"
    }
   ],
   "source": [
    "plus = lambda x,y: x + y \n",
    "\n",
    "plus(1,2)"
   ]
  },
  {
   "cell_type": "code",
   "execution_count": 29,
   "metadata": {
    "ExecuteTime": {
     "end_time": "2023-10-21T20:10:38.666591Z",
     "start_time": "2023-10-21T20:10:38.660774Z"
    }
   },
   "outputs": [],
   "source": [
    "do = lambda : print('Hello ')"
   ]
  },
  {
   "cell_type": "code",
   "execution_count": 30,
   "metadata": {
    "ExecuteTime": {
     "end_time": "2023-10-21T20:10:44.667771Z",
     "start_time": "2023-10-21T20:10:44.661914Z"
    }
   },
   "outputs": [
    {
     "name": "stdout",
     "output_type": "stream",
     "text": [
      "Hello \n"
     ]
    }
   ],
   "source": [
    "do()"
   ]
  },
  {
   "cell_type": "markdown",
   "metadata": {},
   "source": [
    "# TUPLES. ()"
   ]
  },
  {
   "cell_type": "code",
   "execution_count": 31,
   "metadata": {
    "ExecuteTime": {
     "end_time": "2023-10-21T20:11:16.483579Z",
     "start_time": "2023-10-21T20:11:16.477298Z"
    }
   },
   "outputs": [],
   "source": [
    "a = (1, 'A')\n",
    "b = (1, 'B')\n",
    "c = (2, 'A')"
   ]
  },
  {
   "cell_type": "code",
   "execution_count": 32,
   "metadata": {
    "ExecuteTime": {
     "end_time": "2023-10-21T20:11:17.118262Z",
     "start_time": "2023-10-21T20:11:17.112228Z"
    }
   },
   "outputs": [
    {
     "data": {
      "text/plain": "True"
     },
     "execution_count": 32,
     "metadata": {},
     "output_type": "execute_result"
    }
   ],
   "source": [
    "a < b"
   ]
  },
  {
   "cell_type": "markdown",
   "source": [
    "- ### This is checking the values one by one of the tuples. \n",
    "- ### It checked first if ```a(1) < b(1)``` this was no \n",
    "- ### After this it checked the ```a('A') < b('B')``` this was true so it showed True "
   ],
   "metadata": {
    "collapsed": false
   }
  },
  {
   "cell_type": "code",
   "execution_count": 18,
   "metadata": {
    "ExecuteTime": {
     "end_time": "2023-10-21T20:08:35.583749Z",
     "start_time": "2023-10-21T20:08:35.567665Z"
    }
   },
   "outputs": [
    {
     "data": {
      "text/plain": "False"
     },
     "execution_count": 18,
     "metadata": {},
     "output_type": "execute_result"
    }
   ],
   "source": [
    "a == b"
   ]
  },
  {
   "cell_type": "code",
   "execution_count": 19,
   "metadata": {
    "ExecuteTime": {
     "end_time": "2023-10-21T20:08:35.583834Z",
     "start_time": "2023-10-21T20:08:35.571095Z"
    }
   },
   "outputs": [
    {
     "data": {
      "text/plain": "False"
     },
     "execution_count": 19,
     "metadata": {},
     "output_type": "execute_result"
    }
   ],
   "source": [
    "a > b"
   ]
  },
  {
   "cell_type": "code",
   "execution_count": 20,
   "metadata": {
    "ExecuteTime": {
     "end_time": "2023-10-21T20:08:35.583914Z",
     "start_time": "2023-10-21T20:08:35.574458Z"
    }
   },
   "outputs": [
    {
     "data": {
      "text/plain": "True"
     },
     "execution_count": 20,
     "metadata": {},
     "output_type": "execute_result"
    }
   ],
   "source": [
    "b < c"
   ]
  },
  {
   "cell_type": "code",
   "execution_count": 21,
   "metadata": {
    "ExecuteTime": {
     "end_time": "2023-10-21T20:08:35.583991Z",
     "start_time": "2023-10-21T20:08:35.577506Z"
    }
   },
   "outputs": [
    {
     "data": {
      "text/plain": "['a', 'Andrew', 'from', 'is', 'string', 'test', 'This']"
     },
     "execution_count": 21,
     "metadata": {},
     "output_type": "execute_result"
    }
   ],
   "source": [
    "sorted(\"This is a test string from Andrew\".split(), key=str.lower)"
   ]
  },
  {
   "cell_type": "code",
   "execution_count": 22,
   "metadata": {
    "ExecuteTime": {
     "end_time": "2023-10-21T20:08:35.585892Z",
     "start_time": "2023-10-21T20:08:35.580467Z"
    }
   },
   "outputs": [
    {
     "data": {
      "text/plain": "['This', 'is', 'a', 'test', 'string', 'from', 'Andrew']"
     },
     "execution_count": 22,
     "metadata": {},
     "output_type": "execute_result"
    }
   ],
   "source": [
    "\"This is a test string from Andrew\".split()"
   ]
  },
  {
   "cell_type": "code",
   "execution_count": 23,
   "metadata": {
    "ExecuteTime": {
     "end_time": "2023-10-21T20:08:35.605719Z",
     "start_time": "2023-10-21T20:08:35.583245Z"
    }
   },
   "outputs": [
    {
     "data": {
      "text/plain": "<method 'lower' of 'str' objects>"
     },
     "execution_count": 23,
     "metadata": {},
     "output_type": "execute_result"
    }
   ],
   "source": [
    "str.lower"
   ]
  },
  {
   "cell_type": "code",
   "execution_count": 24,
   "metadata": {
    "ExecuteTime": {
     "end_time": "2023-10-21T20:08:35.606352Z",
     "start_time": "2023-10-21T20:08:35.586536Z"
    }
   },
   "outputs": [
    {
     "data": {
      "text/plain": "['Andrew', 'Az', 'from', 'is', 'string', 'test', 'This']"
     },
     "execution_count": 24,
     "metadata": {},
     "output_type": "execute_result"
    }
   ],
   "source": [
    "sorted(\"This is Az test string from Andrew\".split(),key=str.upper)"
   ]
  },
  {
   "cell_type": "code",
   "execution_count": 24,
   "metadata": {
    "ExecuteTime": {
     "end_time": "2023-10-21T20:08:35.606460Z",
     "start_time": "2023-10-21T20:08:35.588537Z"
    }
   },
   "outputs": [],
   "source": []
  }
 ],
 "metadata": {
  "kernelspec": {
   "display_name": "Python 3 (ipykernel)",
   "language": "python",
   "name": "python3"
  },
  "language_info": {
   "codemirror_mode": {
    "name": "ipython",
    "version": 3
   },
   "file_extension": ".py",
   "mimetype": "text/x-python",
   "name": "python",
   "nbconvert_exporter": "python",
   "pygments_lexer": "ipython3",
   "version": "3.11.4"
  }
 },
 "nbformat": 4,
 "nbformat_minor": 4
}
