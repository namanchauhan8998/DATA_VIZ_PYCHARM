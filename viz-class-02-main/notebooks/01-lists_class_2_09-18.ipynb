{
 "cells": [
  {
   "cell_type": "markdown",
   "metadata": {},
   "source": [
    "# LIST CONCEPT "
   ]
  },
  {
   "cell_type": "code",
   "execution_count": 52,
   "metadata": {
    "ExecuteTime": {
     "end_time": "2023-10-21T19:40:18.421615Z",
     "start_time": "2023-10-21T19:40:18.417986Z"
    }
   },
   "outputs": [
    {
     "data": {
      "text/plain": "[10, 20, 30]"
     },
     "execution_count": 52,
     "metadata": {},
     "output_type": "execute_result"
    }
   ],
   "source": [
    "distance_m =[10,20,30]\n",
    "distance_m\n"
   ]
  },
  {
   "cell_type": "code",
   "execution_count": 53,
   "metadata": {
    "ExecuteTime": {
     "end_time": "2023-10-21T19:40:18.897600Z",
     "start_time": "2023-10-21T19:40:18.894184Z"
    }
   },
   "outputs": [
    {
     "data": {
      "text/plain": "10"
     },
     "execution_count": 53,
     "metadata": {},
     "output_type": "execute_result"
    }
   ],
   "source": [
    "distance_m[0]"
   ]
  },
  {
   "cell_type": "code",
   "execution_count": 54,
   "metadata": {
    "ExecuteTime": {
     "end_time": "2023-10-21T19:40:19.371325Z",
     "start_time": "2023-10-21T19:40:19.369014Z"
    }
   },
   "outputs": [
    {
     "data": {
      "text/plain": "20"
     },
     "execution_count": 54,
     "metadata": {},
     "output_type": "execute_result"
    }
   ],
   "source": [
    "distance_m[1]"
   ]
  },
  {
   "cell_type": "code",
   "execution_count": 55,
   "metadata": {
    "ExecuteTime": {
     "end_time": "2023-10-21T19:40:19.628557Z",
     "start_time": "2023-10-21T19:40:19.624706Z"
    }
   },
   "outputs": [
    {
     "data": {
      "text/plain": "30"
     },
     "execution_count": 55,
     "metadata": {},
     "output_type": "execute_result"
    }
   ],
   "source": [
    "distance_m[2]"
   ]
  },
  {
   "cell_type": "code",
   "execution_count": 56,
   "metadata": {
    "ExecuteTime": {
     "end_time": "2023-10-21T19:40:19.862750Z",
     "start_time": "2023-10-21T19:40:19.846572Z"
    }
   },
   "outputs": [
    {
     "ename": "IndexError",
     "evalue": "list index out of range",
     "output_type": "error",
     "traceback": [
      "\u001B[0;31m---------------------------------------------------------------------------\u001B[0m",
      "\u001B[0;31mIndexError\u001B[0m                                Traceback (most recent call last)",
      "Cell \u001B[0;32mIn[56], line 1\u001B[0m\n\u001B[0;32m----> 1\u001B[0m \u001B[43mdistance_m\u001B[49m\u001B[43m[\u001B[49m\u001B[38;5;241;43m3\u001B[39;49m\u001B[43m]\u001B[49m\n",
      "\u001B[0;31mIndexError\u001B[0m: list index out of range"
     ]
    }
   ],
   "source": [
    "distance_m[3]"
   ]
  },
  {
   "cell_type": "markdown",
   "metadata": {},
   "source": [
    "## Py allows us to start from the back as well"
   ]
  },
  {
   "cell_type": "code",
   "execution_count": 57,
   "metadata": {
    "ExecuteTime": {
     "end_time": "2023-10-21T19:40:20.920655Z",
     "start_time": "2023-10-21T19:40:20.917818Z"
    }
   },
   "outputs": [
    {
     "data": {
      "text/plain": "30"
     },
     "execution_count": 57,
     "metadata": {},
     "output_type": "execute_result"
    }
   ],
   "source": [
    "distance_m[-1]"
   ]
  },
  {
   "cell_type": "code",
   "execution_count": 58,
   "metadata": {
    "ExecuteTime": {
     "end_time": "2023-10-21T19:40:21.357442Z",
     "start_time": "2023-10-21T19:40:21.353496Z"
    }
   },
   "outputs": [
    {
     "data": {
      "text/plain": "20"
     },
     "execution_count": 58,
     "metadata": {},
     "output_type": "execute_result"
    }
   ],
   "source": [
    "distance_m[-2]"
   ]
  },
  {
   "cell_type": "code",
   "execution_count": 59,
   "metadata": {
    "ExecuteTime": {
     "end_time": "2023-10-21T19:40:21.690330Z",
     "start_time": "2023-10-21T19:40:21.686222Z"
    }
   },
   "outputs": [
    {
     "data": {
      "text/plain": "10"
     },
     "execution_count": 59,
     "metadata": {},
     "output_type": "execute_result"
    }
   ],
   "source": [
    "distance_m[-3]"
   ]
  },
  {
   "cell_type": "code",
   "execution_count": 60,
   "metadata": {
    "ExecuteTime": {
     "end_time": "2023-10-21T19:40:21.921789Z",
     "start_time": "2023-10-21T19:40:21.918670Z"
    }
   },
   "outputs": [],
   "source": [
    "# Initializing an empty list \n",
    "numbers = []"
   ]
  },
  {
   "cell_type": "code",
   "execution_count": 61,
   "metadata": {
    "ExecuteTime": {
     "end_time": "2023-10-21T19:40:22.170393Z",
     "start_time": "2023-10-21T19:40:22.167774Z"
    }
   },
   "outputs": [
    {
     "data": {
      "text/plain": "[]"
     },
     "execution_count": 61,
     "metadata": {},
     "output_type": "execute_result"
    }
   ],
   "source": [
    "numbers"
   ]
  },
  {
   "cell_type": "code",
   "execution_count": 62,
   "metadata": {
    "ExecuteTime": {
     "end_time": "2023-10-21T19:40:22.654698Z",
     "start_time": "2023-10-21T19:40:22.651635Z"
    }
   },
   "outputs": [],
   "source": [
    "numbers.append(56)"
   ]
  },
  {
   "cell_type": "code",
   "execution_count": 62,
   "metadata": {
    "ExecuteTime": {
     "end_time": "2023-10-21T19:40:23.182617Z",
     "start_time": "2023-10-21T19:40:23.178302Z"
    }
   },
   "outputs": [],
   "source": []
  },
  {
   "cell_type": "code",
   "execution_count": 63,
   "metadata": {
    "ExecuteTime": {
     "end_time": "2023-10-21T19:40:23.559493Z",
     "start_time": "2023-10-21T19:40:23.553180Z"
    }
   },
   "outputs": [
    {
     "data": {
      "text/plain": "[56]"
     },
     "execution_count": 63,
     "metadata": {},
     "output_type": "execute_result"
    }
   ],
   "source": [
    "numbers"
   ]
  },
  {
   "cell_type": "code",
   "execution_count": 64,
   "outputs": [],
   "source": [
    "numbers.extend(distance_m)"
   ],
   "metadata": {
    "collapsed": false,
    "ExecuteTime": {
     "end_time": "2023-10-21T19:40:23.801813Z",
     "start_time": "2023-10-21T19:40:23.797181Z"
    }
   }
  },
  {
   "cell_type": "code",
   "execution_count": 65,
   "metadata": {
    "ExecuteTime": {
     "end_time": "2023-10-21T19:40:24.368849Z",
     "start_time": "2023-10-21T19:40:24.359778Z"
    }
   },
   "outputs": [
    {
     "data": {
      "text/plain": "list"
     },
     "execution_count": 65,
     "metadata": {},
     "output_type": "execute_result"
    }
   ],
   "source": [
    "type(numbers)"
   ]
  },
  {
   "cell_type": "code",
   "execution_count": 66,
   "outputs": [
    {
     "data": {
      "text/plain": "[56, 10, 20, 30]"
     },
     "execution_count": 66,
     "metadata": {},
     "output_type": "execute_result"
    }
   ],
   "source": [
    "numbers"
   ],
   "metadata": {
    "collapsed": false,
    "ExecuteTime": {
     "end_time": "2023-10-21T19:40:24.912345Z",
     "start_time": "2023-10-21T19:40:24.905670Z"
    }
   }
  },
  {
   "cell_type": "markdown",
   "metadata": {},
   "source": [
    "## Notice we can have a string and an Int in a same list "
   ]
  },
  {
   "cell_type": "code",
   "execution_count": 67,
   "metadata": {
    "ExecuteTime": {
     "end_time": "2023-10-21T19:40:26.479732Z",
     "start_time": "2023-10-21T19:40:26.476093Z"
    }
   },
   "outputs": [
    {
     "name": "stdout",
     "output_type": "stream",
     "text": [
      "<class 'int'> <class 'str'>\n"
     ]
    },
    {
     "data": {
      "text/plain": "[56, 10, 20, 30, 'Naman']"
     },
     "execution_count": 67,
     "metadata": {},
     "output_type": "execute_result"
    }
   ],
   "source": [
    "numbers.append('Naman')\n",
    "print (type(numbers[0]), type(numbers[-1]))\n",
    "numbers"
   ]
  },
  {
   "cell_type": "code",
   "execution_count": 68,
   "metadata": {
    "ExecuteTime": {
     "end_time": "2023-10-21T19:40:27.034029Z",
     "start_time": "2023-10-21T19:40:27.021177Z"
    }
   },
   "outputs": [],
   "source": [
    "numbers =[]\n",
    "numbers.append(56)"
   ]
  },
  {
   "cell_type": "code",
   "execution_count": 69,
   "metadata": {
    "ExecuteTime": {
     "end_time": "2023-10-21T19:40:27.479320Z",
     "start_time": "2023-10-21T19:40:27.476370Z"
    }
   },
   "outputs": [
    {
     "data": {
      "text/plain": "[56]"
     },
     "execution_count": 69,
     "metadata": {},
     "output_type": "execute_result"
    }
   ],
   "source": [
    "numbers"
   ]
  },
  {
   "cell_type": "code",
   "execution_count": 70,
   "metadata": {
    "ExecuteTime": {
     "end_time": "2023-10-21T19:40:28.705677Z",
     "start_time": "2023-10-21T19:40:28.694627Z"
    }
   },
   "outputs": [],
   "source": [
    "numbers = numbers + distance_m"
   ]
  },
  {
   "cell_type": "code",
   "execution_count": 71,
   "metadata": {
    "ExecuteTime": {
     "end_time": "2023-10-21T19:40:29.145376Z",
     "start_time": "2023-10-21T19:40:29.142903Z"
    }
   },
   "outputs": [
    {
     "data": {
      "text/plain": "[56, 10, 20, 30]"
     },
     "execution_count": 71,
     "metadata": {},
     "output_type": "execute_result"
    }
   ],
   "source": [
    "numbers"
   ]
  },
  {
   "cell_type": "code",
   "execution_count": 72,
   "metadata": {
    "ExecuteTime": {
     "end_time": "2023-10-21T19:40:29.643304Z",
     "start_time": "2023-10-21T19:40:29.639987Z"
    }
   },
   "outputs": [
    {
     "data": {
      "text/plain": "True"
     },
     "execution_count": 72,
     "metadata": {},
     "output_type": "execute_result"
    }
   ],
   "source": [
    "20 in numbers"
   ]
  },
  {
   "cell_type": "code",
   "execution_count": 73,
   "metadata": {
    "ExecuteTime": {
     "end_time": "2023-10-21T19:40:30.254815Z",
     "start_time": "2023-10-21T19:40:30.243707Z"
    }
   },
   "outputs": [
    {
     "data": {
      "text/plain": "False"
     },
     "execution_count": 73,
     "metadata": {},
     "output_type": "execute_result"
    }
   ],
   "source": [
    "20121 in numbers"
   ]
  },
  {
   "cell_type": "code",
   "execution_count": 74,
   "metadata": {
    "ExecuteTime": {
     "end_time": "2023-10-21T19:40:30.672697Z",
     "start_time": "2023-10-21T19:40:30.669373Z"
    }
   },
   "outputs": [
    {
     "data": {
      "text/plain": "[56, 10, 20, 30]"
     },
     "execution_count": 74,
     "metadata": {},
     "output_type": "execute_result"
    }
   ],
   "source": [
    "numbers"
   ]
  },
  {
   "cell_type": "code",
   "execution_count": 75,
   "metadata": {
    "ExecuteTime": {
     "end_time": "2023-10-21T19:40:31.444464Z",
     "start_time": "2023-10-21T19:40:31.441320Z"
    }
   },
   "outputs": [
    {
     "data": {
      "text/plain": "[56, 10, 20]"
     },
     "execution_count": 75,
     "metadata": {},
     "output_type": "execute_result"
    }
   ],
   "source": [
    "numbers.remove(30)\n",
    "numbers"
   ]
  },
  {
   "cell_type": "code",
   "execution_count": 76,
   "metadata": {
    "ExecuteTime": {
     "end_time": "2023-10-21T19:40:31.984392Z",
     "start_time": "2023-10-21T19:40:31.981570Z"
    }
   },
   "outputs": [],
   "source": [
    "numbers = [1,1,2,2]"
   ]
  },
  {
   "cell_type": "code",
   "execution_count": 77,
   "metadata": {
    "ExecuteTime": {
     "end_time": "2023-10-21T19:40:51.757012Z",
     "start_time": "2023-10-21T19:40:51.747325Z"
    }
   },
   "outputs": [],
   "source": [
    "numbers.remove(1)"
   ]
  },
  {
   "cell_type": "markdown",
   "metadata": {},
   "source": [
    "It removes the first value it founds"
   ]
  },
  {
   "cell_type": "code",
   "execution_count": 78,
   "metadata": {
    "ExecuteTime": {
     "end_time": "2023-10-21T19:40:54.210737Z",
     "start_time": "2023-10-21T19:40:54.205335Z"
    }
   },
   "outputs": [
    {
     "data": {
      "text/plain": "[1, 2, 2]"
     },
     "execution_count": 78,
     "metadata": {},
     "output_type": "execute_result"
    }
   ],
   "source": [
    "numbers"
   ]
  },
  {
   "cell_type": "code",
   "execution_count": 79,
   "metadata": {
    "ExecuteTime": {
     "end_time": "2023-10-21T19:41:04.188412Z",
     "start_time": "2023-10-21T19:41:04.177423Z"
    }
   },
   "outputs": [
    {
     "data": {
      "text/plain": "2"
     },
     "execution_count": 79,
     "metadata": {},
     "output_type": "execute_result"
    }
   ],
   "source": [
    "numbers.pop()\n"
   ]
  },
  {
   "cell_type": "code",
   "execution_count": 80,
   "metadata": {
    "ExecuteTime": {
     "end_time": "2023-10-21T19:41:06.814129Z",
     "start_time": "2023-10-21T19:41:06.805025Z"
    }
   },
   "outputs": [
    {
     "data": {
      "text/plain": "[1, 2]"
     },
     "execution_count": 80,
     "metadata": {},
     "output_type": "execute_result"
    }
   ],
   "source": [
    "numbers"
   ]
  },
  {
   "cell_type": "code",
   "execution_count": 81,
   "metadata": {
    "ExecuteTime": {
     "end_time": "2023-10-21T19:43:14.203992Z",
     "start_time": "2023-10-21T19:43:14.194740Z"
    }
   },
   "outputs": [
    {
     "data": {
      "text/plain": "[2]"
     },
     "execution_count": 81,
     "metadata": {},
     "output_type": "execute_result"
    }
   ],
   "source": [
    "numbers.pop(0) # Remove the selceted element\n",
    "numbers"
   ]
  },
  {
   "cell_type": "code",
   "execution_count": 82,
   "outputs": [
    {
     "data": {
      "text/plain": "[2]"
     },
     "execution_count": 82,
     "metadata": {},
     "output_type": "execute_result"
    }
   ],
   "source": [
    "numbers"
   ],
   "metadata": {
    "collapsed": false,
    "ExecuteTime": {
     "end_time": "2023-10-21T19:43:19.172010Z",
     "start_time": "2023-10-21T19:43:19.167968Z"
    }
   }
  },
  {
   "cell_type": "code",
   "execution_count": 83,
   "metadata": {
    "ExecuteTime": {
     "end_time": "2023-10-21T19:43:25.091389Z",
     "start_time": "2023-10-21T19:43:25.082612Z"
    }
   },
   "outputs": [
    {
     "data": {
      "text/plain": "5"
     },
     "execution_count": 83,
     "metadata": {},
     "output_type": "execute_result"
    }
   ],
   "source": [
    "numbers = [1,2,3,4,5]\n",
    "numbers.pop(-1)"
   ]
  },
  {
   "cell_type": "markdown",
   "metadata": {},
   "source": [
    "# SORTING "
   ]
  },
  {
   "cell_type": "markdown",
   "metadata": {},
   "source": [
    "Inplace sorting is better to save momory "
   ]
  },
  {
   "cell_type": "code",
   "execution_count": 84,
   "metadata": {
    "ExecuteTime": {
     "end_time": "2023-10-21T19:43:58.772152Z",
     "start_time": "2023-10-21T19:43:58.767032Z"
    }
   },
   "outputs": [],
   "source": [
    "numbers = [3,1,4,1,5,9,2,6,5,3,5,8,9]\n",
    "numbers.sort() # Here the number variable itself is sorted"
   ]
  },
  {
   "cell_type": "code",
   "execution_count": 85,
   "metadata": {
    "ExecuteTime": {
     "end_time": "2023-10-21T19:44:00.543927Z",
     "start_time": "2023-10-21T19:44:00.535040Z"
    }
   },
   "outputs": [
    {
     "data": {
      "text/plain": "[1, 1, 2, 3, 3, 4, 5, 5, 5, 6, 8, 9, 9]"
     },
     "execution_count": 85,
     "metadata": {},
     "output_type": "execute_result"
    }
   ],
   "source": [
    "numbers"
   ]
  },
  {
   "cell_type": "code",
   "execution_count": 86,
   "metadata": {
    "ExecuteTime": {
     "end_time": "2023-10-21T19:44:54.798029Z",
     "start_time": "2023-10-21T19:44:54.789555Z"
    }
   },
   "outputs": [
    {
     "name": "stdout",
     "output_type": "stream",
     "text": [
      "[1, 1, 2, 3, 3, 4, 5, 5, 5, 6, 8, 9, 9]\n",
      "[3, 1, 4, 1, 5, 9, 2, 6, 5, 3, 5, 8, 9]\n"
     ]
    }
   ],
   "source": [
    "numbers = [3,1,4,1,5,9,2,6,5,3,5,8,9]\n",
    "other_numbers = sorted(numbers)   # This does not change the original data \n",
    "# This is an expancive operation. \n",
    "# We are making a new Copy at the expence of more memory \n",
    "print(other_numbers)\n",
    "print(numbers)"
   ]
  },
  {
   "cell_type": "code",
   "execution_count": null,
   "metadata": {},
   "outputs": [],
   "source": []
  },
  {
   "cell_type": "code",
   "execution_count": null,
   "metadata": {},
   "outputs": [],
   "source": []
  }
 ],
 "metadata": {
  "kernelspec": {
   "display_name": "Python 3 (ipykernel)",
   "language": "python",
   "name": "python3"
  },
  "language_info": {
   "codemirror_mode": {
    "name": "ipython",
    "version": 3
   },
   "file_extension": ".py",
   "mimetype": "text/x-python",
   "name": "python",
   "nbconvert_exporter": "python",
   "pygments_lexer": "ipython3",
   "version": "3.11.4"
  }
 },
 "nbformat": 4,
 "nbformat_minor": 4
}
