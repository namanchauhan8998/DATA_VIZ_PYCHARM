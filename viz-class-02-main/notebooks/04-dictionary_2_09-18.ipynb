{
 "cells": [
  {
   "cell_type": "markdown",
   "metadata": {},
   "source": [
    "# Dictionary "
   ]
  },
  {
   "cell_type": "code",
   "execution_count": 34,
   "metadata": {
    "ExecuteTime": {
     "end_time": "2023-10-21T20:33:45.080359Z",
     "start_time": "2023-10-21T20:33:45.075725Z"
    }
   },
   "outputs": [],
   "source": [
    "shapes = {'green':'star','purple':'cylinder','orange':'cube'}"
   ]
  },
  {
   "cell_type": "code",
   "execution_count": 35,
   "metadata": {
    "ExecuteTime": {
     "end_time": "2023-10-21T20:33:45.301991Z",
     "start_time": "2023-10-21T20:33:45.297093Z"
    }
   },
   "outputs": [
    {
     "data": {
      "text/plain": "{'green': 'star', 'purple': 'cylinder', 'orange': 'cube'}"
     },
     "execution_count": 35,
     "metadata": {},
     "output_type": "execute_result"
    }
   ],
   "source": [
    "shapes"
   ]
  },
  {
   "cell_type": "code",
   "execution_count": 36,
   "metadata": {
    "ExecuteTime": {
     "end_time": "2023-10-21T20:33:45.486959Z",
     "start_time": "2023-10-21T20:33:45.482909Z"
    }
   },
   "outputs": [],
   "source": [
    "list_1 = (shapes.keys())"
   ]
  },
  {
   "cell_type": "code",
   "execution_count": 37,
   "outputs": [
    {
     "data": {
      "text/plain": "True"
     },
     "execution_count": 37,
     "metadata": {},
     "output_type": "execute_result"
    }
   ],
   "source": [
    "type(list_1) == type(shapes.keys())"
   ],
   "metadata": {
    "collapsed": false,
    "ExecuteTime": {
     "end_time": "2023-10-21T20:33:45.653004Z",
     "start_time": "2023-10-21T20:33:45.650430Z"
    }
   }
  },
  {
   "cell_type": "code",
   "execution_count": 38,
   "outputs": [
    {
     "name": "stdout",
     "output_type": "stream",
     "text": [
      "green\n",
      "purple\n",
      "orange\n"
     ]
    }
   ],
   "source": [
    "for i in shapes.keys():\n",
    "    print(i)"
   ],
   "metadata": {
    "collapsed": false,
    "ExecuteTime": {
     "end_time": "2023-10-21T20:33:45.860382Z",
     "start_time": "2023-10-21T20:33:45.857378Z"
    }
   }
  },
  {
   "cell_type": "code",
   "execution_count": 39,
   "metadata": {
    "ExecuteTime": {
     "end_time": "2023-10-21T20:33:46.074034Z",
     "start_time": "2023-10-21T20:33:46.071355Z"
    }
   },
   "outputs": [
    {
     "data": {
      "text/plain": "'star'"
     },
     "execution_count": 39,
     "metadata": {},
     "output_type": "execute_result"
    }
   ],
   "source": [
    "shapes['green']"
   ]
  },
  {
   "cell_type": "markdown",
   "source": [
    "# Keys should be unique "
   ],
   "metadata": {
    "collapsed": false
   }
  },
  {
   "cell_type": "code",
   "execution_count": 40,
   "outputs": [
    {
     "data": {
      "text/plain": "dict_items([('green', 'star'), ('purple', 'cylinder'), ('orange', 'cube')])"
     },
     "execution_count": 40,
     "metadata": {},
     "output_type": "execute_result"
    }
   ],
   "source": [
    "shapes.items()"
   ],
   "metadata": {
    "collapsed": false,
    "ExecuteTime": {
     "end_time": "2023-10-21T20:33:47.090259Z",
     "start_time": "2023-10-21T20:33:47.085084Z"
    }
   }
  },
  {
   "cell_type": "code",
   "execution_count": 41,
   "metadata": {
    "ExecuteTime": {
     "end_time": "2023-10-21T20:33:47.498521Z",
     "start_time": "2023-10-21T20:33:47.493963Z"
    }
   },
   "outputs": [
    {
     "name": "stdout",
     "output_type": "stream",
     "text": [
      "the green is star\n",
      "the purple is cylinder\n",
      "the orange is cube\n"
     ]
    }
   ],
   "source": [
    "for key,value in shapes.items():\n",
    "    print('the {} is {}'.format(key,value))"
   ]
  },
  {
   "cell_type": "code",
   "execution_count": 42,
   "metadata": {
    "ExecuteTime": {
     "end_time": "2023-10-21T20:33:48.838499Z",
     "start_time": "2023-10-21T20:33:48.833246Z"
    }
   },
   "outputs": [
    {
     "name": "stdout",
     "output_type": "stream",
     "text": [
      "the star is green\n",
      "the cylinder is purple\n",
      "the cube is orange\n"
     ]
    }
   ],
   "source": [
    "for key,value in shapes.items():\n",
    "    print('the {} is {}'.format(value,key))"
   ]
  },
  {
   "cell_type": "code",
   "execution_count": 43,
   "metadata": {
    "ExecuteTime": {
     "end_time": "2023-10-21T20:33:49.209936Z",
     "start_time": "2023-10-21T20:33:49.206836Z"
    }
   },
   "outputs": [],
   "source": [
    "shapes['red'] = 'X'"
   ]
  },
  {
   "cell_type": "code",
   "execution_count": 44,
   "metadata": {
    "ExecuteTime": {
     "end_time": "2023-10-21T20:33:50.087915Z",
     "start_time": "2023-10-21T20:33:50.083375Z"
    }
   },
   "outputs": [
    {
     "data": {
      "text/plain": "{'green': 'star', 'purple': 'cylinder', 'orange': 'cube', 'red': 'X'}"
     },
     "execution_count": 44,
     "metadata": {},
     "output_type": "execute_result"
    }
   ],
   "source": [
    "shapes"
   ]
  },
  {
   "cell_type": "code",
   "execution_count": 45,
   "metadata": {
    "ExecuteTime": {
     "end_time": "2023-10-21T20:34:21.095897Z",
     "start_time": "2023-10-21T20:34:21.092340Z"
    }
   },
   "outputs": [
    {
     "data": {
      "text/plain": "'star'"
     },
     "execution_count": 45,
     "metadata": {},
     "output_type": "execute_result"
    }
   ],
   "source": [
    "shapes.pop('green')"
   ]
  },
  {
   "cell_type": "code",
   "execution_count": 46,
   "metadata": {
    "ExecuteTime": {
     "end_time": "2023-10-21T20:34:21.909802Z",
     "start_time": "2023-10-21T20:34:21.906765Z"
    }
   },
   "outputs": [
    {
     "data": {
      "text/plain": "{'purple': 'cylinder', 'orange': 'cube', 'red': 'X'}"
     },
     "execution_count": 46,
     "metadata": {},
     "output_type": "execute_result"
    }
   ],
   "source": [
    "shapes"
   ]
  },
  {
   "cell_type": "markdown",
   "metadata": {},
   "source": [
    "We will get an assignment Due: Before next class\n",
    "Have quiz "
   ]
  },
  {
   "cell_type": "markdown",
   "metadata": {},
   "source": []
  }
 ],
 "metadata": {
  "kernelspec": {
   "display_name": "Python 3 (ipykernel)",
   "language": "python",
   "name": "python3"
  },
  "language_info": {
   "codemirror_mode": {
    "name": "ipython",
    "version": 3
   },
   "file_extension": ".py",
   "mimetype": "text/x-python",
   "name": "python",
   "nbconvert_exporter": "python",
   "pygments_lexer": "ipython3",
   "version": "3.11.4"
  }
 },
 "nbformat": 4,
 "nbformat_minor": 2
}
