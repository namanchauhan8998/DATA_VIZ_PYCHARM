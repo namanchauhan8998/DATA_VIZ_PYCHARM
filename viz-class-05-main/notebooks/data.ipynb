{
 "cells": [
  {
   "cell_type": "code",
   "execution_count": 1,
   "metadata": {},
   "outputs": [],
   "source": [
    "import json\n",
    "import requests"
   ]
  },
  {
   "cell_type": "code",
   "execution_count": 1,
   "metadata": {},
   "outputs": [],
   "source": [
    "data = requests.get('https://api.opendota.com/api/leagues/15089/matches').json()\n",
    "with open('matches_esl_one_lima.json', 'w') as f: json.dump(data, f, indent=4)\n",
    "\n",
    "data = requests.get('https://api.opendota.com/api/leagues/15251/matches').json()\n",
    "with open('matches_esl_one_berlin.json', 'w') as f: json.dump(data, f, indent=4)\n",
    "\n",
    "data = requests.get('https://api.opendota.com/api/leagues/15438/matches').json()\n",
    "with open('matches_esl_one_bali.json', 'w') as f: json.dump(data, f, indent=4)\n",
    "\n",
    "data = requests.get('https://api.opendota.com/api/leagues/15196/matches').json()\n",
    "with open('matches_dreamleague_19.json', 'w') as f: json.dump(data, f, indent=4)\n",
    "\n",
    "data = requests.get('https://api.opendota.com/api/leagues/15439/matches').json()\n",
    "with open('matches_dreamleague_20.json', 'w') as f: json.dump(data, f, indent=4)\n",
    "\n",
    "data = requests.get('https://api.opendota.com/api/leagues/15739/matches').json()\n",
    "with open('matches_dreamleague_21.json', 'w') as f: json.dump(data, f, indent=4)"
   ]
  },
  {
   "cell_type": "code",
   "execution_count": 2,
   "metadata": {},
   "outputs": [],
   "source": [
    "data = requests.get('https://api.opendota.com/api/heroes').json()\n",
    "with open('heroes.json', 'w') as f: json.dump(data, f, indent=4)"
   ]
  },
  {
   "cell_type": "code",
   "execution_count": null,
   "metadata": {},
   "outputs": [],
   "source": []
  }
 ],
 "metadata": {
  "kernelspec": {
   "display_name": "Python 3",
   "language": "python",
   "name": "python3"
  },
  "language_info": {
   "codemirror_mode": {
    "name": "ipython",
    "version": 3
   },
   "file_extension": ".py",
   "mimetype": "text/x-python",
   "name": "python",
   "nbconvert_exporter": "python",
   "pygments_lexer": "ipython3",
   "version": "3.11.5"
  }
 },
 "nbformat": 4,
 "nbformat_minor": 2
}
