{
 "cells": [
  {
   "cell_type": "code",
   "execution_count": null,
   "metadata": {
    "ExecuteTime": {
     "end_time": "2023-10-22T17:06:05.215701Z",
     "start_time": "2023-10-22T17:06:04.837196Z"
    }
   },
   "outputs": [],
   "source": []
  },
  {
   "cell_type": "markdown",
   "metadata": {},
   "source": [
    "# pandas\n",
    "\n",
    "> `pandas` is a fast, powerful, flexible and easy to use open source data analysis and manipulation tool,\n",
    "built on top of the Python programming language.\n",
    "\n",
    "`pandas` is one of the most powerful tools in the entire data science ecosystem. It allows us to work with tabular and multidimensional data with extreme ease and flexibility, and is incredibly easy to jump into. \n",
    "\n",
    "## Contents\n"
   ]
  },
  {
   "cell_type": "markdown",
   "metadata": {},
   "source": [
    "# MY NOTES: \n",
    "- Like numpy \n",
    "- NUMPY - HOMEOGENOUS\n",
    "- PANDAS - HETROGENOUS"
   ]
  },
  {
   "cell_type": "markdown",
   "metadata": {},
   "source": [
    "## Series & Dataframes\n",
    "\n",
    "To start we will learn about the two primary data strucures that `pandas` defines: series and dataframes.\n",
    "\n",
    "### Series\n",
    "\n",
    "`pandas` series (in code `pd.Series`) are arrays of data (much like a NumPy array). They usually contain elements that are of the same type, but this is not a requirement. We can generally think of a series as a column of data, where we can label rows. Let's make a simple series from random NumPy data by simply passing a NumPy array into the constructor:"
   ]
  },
  {
   "cell_type": "markdown",
   "source": [
    "### pandas.Series\n",
    "## ```pandas.Series(data=None, index=None, dtype=None, name=None, copy=None, fastpath=False)```"
   ],
   "metadata": {
    "collapsed": false
   }
  },
  {
   "cell_type": "code",
   "execution_count": 1,
   "metadata": {
    "ExecuteTime": {
     "end_time": "2023-10-22T17:06:05.863368Z",
     "start_time": "2023-10-22T17:06:04.856371Z"
    }
   },
   "outputs": [
    {
     "name": "stdout",
     "output_type": "stream",
     "text": [
      "[5 8 9 5 0 0 1 7 6 9]\n",
      "index data\n"
     ]
    },
    {
     "data": {
      "text/plain": "1     5\n2     8\n3     9\n4     5\n5     0\n6     0\n7     1\n8     7\n9     6\n10    9\nName: Value, dtype: int64"
     },
     "execution_count": 1,
     "metadata": {},
     "output_type": "execute_result"
    }
   ],
   "source": [
    "import random\n",
    "import numpy as np\n",
    "import pandas as pd  # it is standard to import pandas with the \n",
    "np.random.seed(1)\n",
    "random_data = np.random.randint(0,10,10)\n",
    "print(random_data)\n",
    "print(f'index data')\n",
    "random_series = pd.Series(data=random_data,index=[i for i in range(1,11)],name='Value')  # create a series containing 10 random integers in the half-open set [0,10)\n",
    "random_series"
   ]
  },
  {
   "cell_type": "markdown",
   "metadata": {},
   "source": [
    "Displaying a series will show both the row-numbers (also called the index) on the left, with the data to the right. As expected the row numbers range from 0 to 9, and the numbers in our column seem sufficiently random. `pandas` also determined that the `dtype`` for the series should be 64-bit integer (since that was the type that NumPy generated using `randint`).\n",
    "\n",
    "We can access the elements of our series in the same familiar ways as before, but there are also some new ways we need to understand."
   ]
  },
  {
   "cell_type": "markdown",
   "metadata": {},
   "source": [
    "# MY NOTES: \n",
    "- We can access series using square braces. [This is depricated]. Can not access using this. \n",
    "- Access elements using ```loc[] and iloc[]```\n",
    "- loc: access the row with index label 1\n",
    "- iloc: is accessing by the exact position of the element. "
   ]
  },
  {
   "cell_type": "code",
   "execution_count": 2,
   "metadata": {
    "ExecuteTime": {
     "end_time": "2023-10-22T17:06:05.863560Z",
     "start_time": "2023-10-22T17:06:05.145306Z"
    }
   },
   "outputs": [
    {
     "data": {
      "text/plain": "(5, 7, 6)"
     },
     "execution_count": 2,
     "metadata": {},
     "output_type": "execute_result"
    }
   ],
   "source": [
    "(\n",
    "    random_series[1],      # standard access, but deprecated! don't access a series like this!\n",
    "    random_series.loc[8],  # access the row with index label 1\n",
    "    random_series.iloc[8]  # access the row with index position 1\n",
    ")"
   ]
  },
  {
   "cell_type": "code",
   "execution_count": 3,
   "outputs": [
    {
     "data": {
      "text/plain": "1     5\n2     8\n3     9\n4     5\n5     0\n6     0\n7     1\n8     7\n9     6\n10    9\nName: Value, dtype: int64"
     },
     "execution_count": 3,
     "metadata": {},
     "output_type": "execute_result"
    }
   ],
   "source": [
    "random_series"
   ],
   "metadata": {
    "collapsed": false,
    "ExecuteTime": {
     "end_time": "2023-10-22T17:06:05.869991Z",
     "start_time": "2023-10-22T17:06:05.150843Z"
    }
   }
  },
  {
   "cell_type": "code",
   "execution_count": 4,
   "outputs": [
    {
     "name": "stdout",
     "output_type": "stream",
     "text": [
      "random_series[1] =5 \n",
      " random_series.loc[1] = 5 This checked for the column index value. At index 1 value is 5 \n",
      " random-series.iloc[1] = 8 This started the counter from 0 and then 1. At python_index= 1 it found value 8\n"
     ]
    }
   ],
   "source": [
    "\n",
    "print('random_series[1] ={} \\n random_series.loc[1] = {} This checked for the column index value. At index 1 value is 5 \\n random-series.iloc[1] = {} This started the counter from 0 and then 1. At python_index= 1 it found value 8'.format(random_series[1],      # standard access, but deprecated! don't access a series like this!\n",
    "    random_series.loc[1],  # access the row with index label 1\n",
    "    random_series.iloc[1]))"
   ],
   "metadata": {
    "collapsed": false,
    "ExecuteTime": {
     "end_time": "2023-10-22T17:06:05.870117Z",
     "start_time": "2023-10-22T17:06:05.157817Z"
    }
   }
  },
  {
   "cell_type": "markdown",
   "metadata": {},
   "source": [
    "Why would we need these new methods for accessing data from a series? It may make more sense if we add different *labels* to our index. We can access the index of a series easily:"
   ]
  },
  {
   "cell_type": "markdown",
   "metadata": {},
   "source": [
    "# MY NOTES: \n",
    "- Rather than storing the index pandas uses the range function to show the value "
   ]
  },
  {
   "cell_type": "code",
   "execution_count": 5,
   "outputs": [
    {
     "name": "stdout",
     "output_type": "stream",
     "text": [
      "[5 8 9 5 0 0 1 7 6 9]\n",
      "index data\n"
     ]
    },
    {
     "data": {
      "text/plain": "0    5\n1    8\n2    9\n3    5\n4    0\n5    0\n6    1\n7    7\n8    6\n9    9\nName: Value, dtype: int64"
     },
     "execution_count": 5,
     "metadata": {},
     "output_type": "execute_result"
    }
   ],
   "source": [
    "import random\n",
    "import numpy as np\n",
    "import pandas as pd  # it is standard to import pandas with the \n",
    "np.random.seed(1)\n",
    "random_data = np.random.randint(0,10,10)\n",
    "print(random_data)\n",
    "print(f'index data')\n",
    "random_series = pd.Series(data=random_data,name='Value')  # create a series containing 10 random integers in the half-open set [0,10)\n",
    "random_series"
   ],
   "metadata": {
    "collapsed": false,
    "ExecuteTime": {
     "end_time": "2023-10-22T17:06:05.888369Z",
     "start_time": "2023-10-22T17:06:05.163310Z"
    }
   }
  },
  {
   "cell_type": "code",
   "execution_count": 6,
   "metadata": {
    "ExecuteTime": {
     "end_time": "2023-10-22T17:06:05.888537Z",
     "start_time": "2023-10-22T17:06:05.168435Z"
    }
   },
   "outputs": [
    {
     "data": {
      "text/plain": "RangeIndex(start=0, stop=10, step=1)"
     },
     "execution_count": 6,
     "metadata": {},
     "output_type": "execute_result"
    }
   ],
   "source": [
    "random_series.index"
   ]
  },
  {
   "cell_type": "markdown",
   "metadata": {},
   "source": [
    "Because we initialized the series with a list, `pandas` efficiently just represents the index using an integer range to represent row numbers. Numerical labeling is the default behavior for `pandas`. We can manually override this index with a new one of the same size. Here we are going to manually replace the existing index with a new one from a list of labels."
   ]
  },
  {
   "cell_type": "markdown",
   "metadata": {},
   "source": [
    "# MY NOTES: \n",
    "- Changing the index values  "
   ]
  },
  {
   "cell_type": "code",
   "execution_count": 7,
   "metadata": {
    "ExecuteTime": {
     "end_time": "2023-10-22T17:06:05.912370Z",
     "start_time": "2023-10-22T17:06:05.174486Z"
    }
   },
   "outputs": [
    {
     "data": {
      "text/plain": "q    5\nw    8\ne    9\nr    5\nt    0\ny    0\nu    1\ni    7\no    6\np    9\nName: Value, dtype: int64"
     },
     "execution_count": 7,
     "metadata": {},
     "output_type": "execute_result"
    }
   ],
   "source": [
    "random_series.index = ['q','w','e','r','t','y','u','i','o','p']  # this must have the same length as the previous index!\n",
    "random_series"
   ]
  },
  {
   "cell_type": "markdown",
   "metadata": {},
   "source": [
    "Now we can access the series' elements by their index labels:"
   ]
  },
  {
   "cell_type": "code",
   "execution_count": 8,
   "metadata": {
    "ExecuteTime": {
     "end_time": "2023-10-22T17:06:05.913172Z",
     "start_time": "2023-10-22T17:06:05.179381Z"
    }
   },
   "outputs": [
    {
     "data": {
      "text/plain": "0"
     },
     "execution_count": 8,
     "metadata": {},
     "output_type": "execute_result"
    }
   ],
   "source": [
    "random_series.loc['t']  # access the row with index label 't'"
   ]
  },
  {
   "cell_type": "code",
   "execution_count": 9,
   "metadata": {
    "ExecuteTime": {
     "end_time": "2023-10-22T17:06:05.929679Z",
     "start_time": "2023-10-22T17:06:05.185223Z"
    }
   },
   "outputs": [
    {
     "data": {
      "text/plain": "0"
     },
     "execution_count": 9,
     "metadata": {},
     "output_type": "execute_result"
    }
   ],
   "source": [
    "random_series.iloc[4]"
   ]
  },
  {
   "cell_type": "markdown",
   "metadata": {},
   "source": [
    "We can also access an element directly by the index label *if and only if the label is a string!*"
   ]
  },
  {
   "cell_type": "markdown",
   "metadata": {},
   "source": [
    "# MY NOTES: \n",
    "- If the index/labels are string, then we can do the following\n",
    "- Because the index is string we can access using .index/labels \n",
    "- Cant do this with strings "
   ]
  },
  {
   "cell_type": "code",
   "execution_count": 10,
   "metadata": {
    "ExecuteTime": {
     "end_time": "2023-10-22T17:06:05.929833Z",
     "start_time": "2023-10-22T17:06:05.193516Z"
    }
   },
   "outputs": [
    {
     "data": {
      "text/plain": "0"
     },
     "execution_count": 10,
     "metadata": {},
     "output_type": "execute_result"
    }
   ],
   "source": [
    "random_series.t"
   ]
  },
  {
   "cell_type": "markdown",
   "metadata": {},
   "source": [
    "We can also slice series just like lists:"
   ]
  },
  {
   "cell_type": "code",
   "execution_count": 11,
   "metadata": {
    "ExecuteTime": {
     "end_time": "2023-10-22T17:06:05.929946Z",
     "start_time": "2023-10-22T17:06:05.200205Z"
    }
   },
   "outputs": [
    {
     "data": {
      "text/plain": "r    5\nt    0\ny    0\nu    1\nName: Value, dtype: int64"
     },
     "execution_count": 11,
     "metadata": {},
     "output_type": "execute_result"
    }
   ],
   "source": [
    "random_series.iloc[3:7]"
   ]
  },
  {
   "cell_type": "markdown",
   "metadata": {},
   "source": [
    "But note that because our index is no longer a range, we cannot slice `loc` using integers. Instead, we can slice `loc` using the labels!"
   ]
  },
  {
   "cell_type": "code",
   "execution_count": 12,
   "metadata": {
    "ExecuteTime": {
     "end_time": "2023-10-22T17:06:05.930162Z",
     "start_time": "2023-10-22T17:06:05.205345Z"
    }
   },
   "outputs": [
    {
     "data": {
      "text/plain": "r    5\nt    0\ny    0\nu    1\nName: Value, dtype: int64"
     },
     "execution_count": 12,
     "metadata": {},
     "output_type": "execute_result"
    }
   ],
   "source": [
    "random_series.loc['r':'u']"
   ]
  },
  {
   "cell_type": "markdown",
   "metadata": {},
   "source": [
    "We can perform operations on series like we can with arrays and lists, but we should take care to *never write an explicit loop*. Instead we should use the `apply` method to apply functions to a series "
   ]
  },
  {
   "cell_type": "markdown",
   "metadata": {},
   "source": [
    "# My NOTES:\n",
    "- Dont use for loop. Use pandas function. \n",
    "- Use ```apply()```\n",
    "- We do each element iteration \n",
    "- **We CANNOT NO INPLACE OPERATION. WE ALWAYS GET A NEW LIST.** "
   ]
  },
  {
   "cell_type": "code",
   "execution_count": 13,
   "metadata": {
    "ExecuteTime": {
     "end_time": "2023-10-22T17:06:05.930268Z",
     "start_time": "2023-10-22T17:06:05.209316Z"
    }
   },
   "outputs": [
    {
     "data": {
      "text/plain": "q    25\nw    64\ne    81\nr    25\nt     0\ny     0\nu     1\ni    49\no    36\np    81\nName: Value, dtype: int64"
     },
     "execution_count": 13,
     "metadata": {},
     "output_type": "execute_result"
    }
   ],
   "source": [
    "random_series.apply(lambda x: x * x)  \n",
    "# random_series # re\"turns a new series! no in-place operations available!"
   ]
  },
  {
   "cell_type": "code",
   "execution_count": 14,
   "outputs": [
    {
     "data": {
      "text/plain": "q    5\nw    8\ne    9\nr    5\nt    0\ny    0\nu    1\ni    7\no    6\np    9\nName: Value, dtype: int64"
     },
     "execution_count": 14,
     "metadata": {},
     "output_type": "execute_result"
    }
   ],
   "source": [
    "random_series"
   ],
   "metadata": {
    "collapsed": false,
    "ExecuteTime": {
     "end_time": "2023-10-22T17:06:05.930410Z",
     "start_time": "2023-10-22T17:06:05.212865Z"
    }
   }
  },
  {
   "cell_type": "markdown",
   "metadata": {},
   "source": [
    "Assuming that two series share the same index, we can perform methematical operations like addition using two series. "
   ]
  },
  {
   "cell_type": "code",
   "execution_count": 15,
   "metadata": {
    "ExecuteTime": {
     "end_time": "2023-10-22T17:06:05.932207Z",
     "start_time": "2023-10-22T17:06:05.218046Z"
    }
   },
   "outputs": [
    {
     "data": {
      "text/plain": "q    14\nw    12\ne     9\nr     6\nt     9\ny     0\nu     2\ni    15\no    15\np     9\ndtype: int64"
     },
     "execution_count": 15,
     "metadata": {},
     "output_type": "execute_result"
    }
   ],
   "source": [
    "np.random.seed(10)\n",
    "other_random_series = pd.Series(np.random.randint(0,10,10), index=['q','w','e','r','t','y','u','i','o','p'])\n",
    "random_series + other_random_series"
   ]
  },
  {
   "cell_type": "code",
   "execution_count": 16,
   "metadata": {
    "ExecuteTime": {
     "end_time": "2023-10-22T17:06:05.932310Z",
     "start_time": "2023-10-22T17:06:05.222126Z"
    }
   },
   "outputs": [
    {
     "data": {
      "text/plain": "q    14\nw    12\ne     9\nr     6\nt     9\ny     0\nu     2\ni    15\no    15\np     9\ndtype: int64"
     },
     "execution_count": 16,
     "metadata": {},
     "output_type": "execute_result"
    }
   ],
   "source": [
    "np.random.seed(10)\n",
    "other_random_series = pd.Series(np.random.randint(0,10,10), index=random_series.index)\n",
    "random_series + other_random_series"
   ]
  },
  {
   "cell_type": "markdown",
   "metadata": {},
   "source": [
    "What happens when our indices do not match?"
   ]
  },
  {
   "cell_type": "markdown",
   "metadata": {},
   "source": [
    "# MY NOTES: \n",
    "- Below here we did not mention the index, so it got confused and gave shit. \n",
    "- 0-9 and then p to random \n",
    "- It searched for index q from random_series and then tried to saerch for index q in the other_random_series list. \n",
    "- Note that the type is a Float64. \n",
    "- NaN is a Floating point. "
   ]
  },
  {
   "cell_type": "code",
   "execution_count": 17,
   "metadata": {
    "ExecuteTime": {
     "end_time": "2023-10-22T17:06:05.932447Z",
     "start_time": "2023-10-22T17:06:05.225040Z"
    }
   },
   "outputs": [
    {
     "data": {
      "text/plain": "0   NaN\n1   NaN\n2   NaN\n3   NaN\n4   NaN\n5   NaN\n6   NaN\n7   NaN\n8   NaN\n9   NaN\ne   NaN\ni   NaN\no   NaN\np   NaN\nq   NaN\nr   NaN\nt   NaN\nu   NaN\nw   NaN\ny   NaN\ndtype: float64"
     },
     "execution_count": 17,
     "metadata": {},
     "output_type": "execute_result"
    }
   ],
   "source": [
    "other_random_series = pd.Series(np.random.randint(0,10,10))\n",
    "random_series + other_random_series"
   ]
  },
  {
   "cell_type": "markdown",
   "metadata": {},
   "source": [
    "When performing an operation like addition wiht two series, `pandas` will attempt to add elements that have common labels. Any labels that don't have a pair are effectively converted to `NaN`, or a value indicating \"not a number\".\n",
    "\n",
    "If we ever need to change our series into a list or NumPy array, we can use the methods `to_list` and `to_numpy`:"
   ]
  },
  {
   "cell_type": "markdown",
   "metadata": {},
   "source": [
    "# MY NOTES: \n",
    "- TO change the data back to python list and to numpy we can do using the following function: \n",
    "    - ```to_list() or to_numpy()```"
   ]
  },
  {
   "cell_type": "code",
   "execution_count": 18,
   "outputs": [
    {
     "data": {
      "text/plain": "[5, 8, 9, 5, 0, 0, 1, 7, 6, 9]"
     },
     "execution_count": 18,
     "metadata": {},
     "output_type": "execute_result"
    }
   ],
   "source": [
    "random_series.to_list()"
   ],
   "metadata": {
    "collapsed": false,
    "ExecuteTime": {
     "end_time": "2023-10-22T17:06:05.932558Z",
     "start_time": "2023-10-22T17:06:05.231028Z"
    }
   }
  },
  {
   "cell_type": "code",
   "execution_count": 19,
   "outputs": [
    {
     "data": {
      "text/plain": "q    5\nw    8\ne    9\nr    5\nt    0\ny    0\nu    1\ni    7\no    6\np    9\nName: Value, dtype: int64"
     },
     "execution_count": 19,
     "metadata": {},
     "output_type": "execute_result"
    }
   ],
   "source": [
    "random_series"
   ],
   "metadata": {
    "collapsed": false,
    "ExecuteTime": {
     "end_time": "2023-10-22T17:06:05.932657Z",
     "start_time": "2023-10-22T17:06:05.234422Z"
    }
   }
  },
  {
   "cell_type": "code",
   "execution_count": 20,
   "metadata": {
    "ExecuteTime": {
     "end_time": "2023-10-22T17:06:05.932776Z",
     "start_time": "2023-10-22T17:06:05.237660Z"
    }
   },
   "outputs": [
    {
     "data": {
      "text/plain": "([5, 8, 9, 5, 0, 0, 1, 7, 6, 9], array([5, 8, 9, 5, 0, 0, 1, 7, 6, 9]))"
     },
     "execution_count": 20,
     "metadata": {},
     "output_type": "execute_result"
    }
   ],
   "source": [
    "random_series.to_list(), random_series.to_numpy()"
   ]
  },
  {
   "cell_type": "markdown",
   "metadata": {},
   "source": [
    "## Dataframes\n",
    "\n",
    "\n"
   ]
  },
  {
   "cell_type": "markdown",
   "metadata": {},
   "source": [
    "Having individual columns of data is much less useful than actually having a table of data, especially if all of the series are aligned on their index! A dataframe is a tabular piece of data with a row index just like series, but also contains a column index. A common way of creating dataframes is from dictionaries, mapping column names to lists/arrays/series of data."
   ]
  },
  {
   "cell_type": "markdown",
   "source": [
    "# My CODE \n",
    "- ## If we use the list, then the elements are considered as ROWS \n",
    "- ## If we provide the Directory then the \n",
    "    - ## (KEY: Becomes the Name of the Col) \n",
    "    - ## (VALUES: Become the data of the Column)"
   ],
   "metadata": {
    "collapsed": false
   }
  },
  {
   "cell_type": "code",
   "execution_count": 21,
   "outputs": [
    {
     "data": {
      "text/plain": "             0   1   2   3   4\ntetrahedron  4   8   6  20  12\ncube         6  12  12  30  30\noctohedron   4   6   8  12  20",
      "text/html": "<div>\n<style scoped>\n    .dataframe tbody tr th:only-of-type {\n        vertical-align: middle;\n    }\n\n    .dataframe tbody tr th {\n        vertical-align: top;\n    }\n\n    .dataframe thead th {\n        text-align: right;\n    }\n</style>\n<table border=\"1\" class=\"dataframe\">\n  <thead>\n    <tr style=\"text-align: right;\">\n      <th></th>\n      <th>0</th>\n      <th>1</th>\n      <th>2</th>\n      <th>3</th>\n      <th>4</th>\n    </tr>\n  </thead>\n  <tbody>\n    <tr>\n      <th>tetrahedron</th>\n      <td>4</td>\n      <td>8</td>\n      <td>6</td>\n      <td>20</td>\n      <td>12</td>\n    </tr>\n    <tr>\n      <th>cube</th>\n      <td>6</td>\n      <td>12</td>\n      <td>12</td>\n      <td>30</td>\n      <td>30</td>\n    </tr>\n    <tr>\n      <th>octohedron</th>\n      <td>4</td>\n      <td>6</td>\n      <td>8</td>\n      <td>12</td>\n      <td>20</td>\n    </tr>\n  </tbody>\n</table>\n</div>"
     },
     "execution_count": 21,
     "metadata": {},
     "output_type": "execute_result"
    }
   ],
   "source": [
    "platonic_properties = [\n",
    "    [4, 8, 6, 20, 12],\n",
    "    [6, 12, 12, 30, 30],\n",
    "   [4, 6, 8, 12, 20],\n",
    "]\n",
    "\n",
    "names = ['tetrahedron', 'cube', 'octohedron']\n",
    "x = pd.DataFrame(platonic_properties,index=names)\n",
    "x"
   ],
   "metadata": {
    "collapsed": false,
    "ExecuteTime": {
     "end_time": "2023-10-22T17:06:05.933008Z",
     "start_time": "2023-10-22T17:06:05.242184Z"
    }
   }
  },
  {
   "cell_type": "code",
   "execution_count": 22,
   "metadata": {
    "ExecuteTime": {
     "end_time": "2023-10-22T17:06:05.952293Z",
     "start_time": "2023-10-22T17:06:05.250023Z"
    }
   },
   "outputs": [
    {
     "data": {
      "text/plain": "              vertices  edges  faces\ntetrahedron          4      6      4\ncube                 8     12      6\noctohedron           6     12      8\ndodecahedron        20     30     12\nicosahedron         12     30     20",
      "text/html": "<div>\n<style scoped>\n    .dataframe tbody tr th:only-of-type {\n        vertical-align: middle;\n    }\n\n    .dataframe tbody tr th {\n        vertical-align: top;\n    }\n\n    .dataframe thead th {\n        text-align: right;\n    }\n</style>\n<table border=\"1\" class=\"dataframe\">\n  <thead>\n    <tr style=\"text-align: right;\">\n      <th></th>\n      <th>vertices</th>\n      <th>edges</th>\n      <th>faces</th>\n    </tr>\n  </thead>\n  <tbody>\n    <tr>\n      <th>tetrahedron</th>\n      <td>4</td>\n      <td>6</td>\n      <td>4</td>\n    </tr>\n    <tr>\n      <th>cube</th>\n      <td>8</td>\n      <td>12</td>\n      <td>6</td>\n    </tr>\n    <tr>\n      <th>octohedron</th>\n      <td>6</td>\n      <td>12</td>\n      <td>8</td>\n    </tr>\n    <tr>\n      <th>dodecahedron</th>\n      <td>20</td>\n      <td>30</td>\n      <td>12</td>\n    </tr>\n    <tr>\n      <th>icosahedron</th>\n      <td>12</td>\n      <td>30</td>\n      <td>20</td>\n    </tr>\n  </tbody>\n</table>\n</div>"
     },
     "execution_count": 22,
     "metadata": {},
     "output_type": "execute_result"
    }
   ],
   "source": [
    "# DICT\n",
    "platonic_properties = {\n",
    "    'vertices': [4, 8, 6, 20, 12],\n",
    "    'edges': [6, 12, 12, 30, 30],\n",
    "    'faces': [4, 6, 8, 12, 20],\n",
    "}\n",
    "names = ['tetrahedron', 'cube', 'octohedron', 'dodecahedron', 'icosahedron']\n",
    "\n",
    "platonic_solids = pd.DataFrame(platonic_properties, index=names)\n",
    "platonic_solids"
   ]
  },
  {
   "cell_type": "markdown",
   "metadata": {},
   "source": [
    "This dataframe contains properties of platonic solids. It has an index (again, these are the row labels) corresponding to each platonic solid. The dataframe also has 3 columns: vertices, edges, and faces.\n",
    "\n",
    "We can call the `info` function of the dataframe to observe some of its properties:"
   ]
  },
  {
   "cell_type": "code",
   "execution_count": 23,
   "metadata": {
    "ExecuteTime": {
     "end_time": "2023-10-22T17:06:05.952456Z",
     "start_time": "2023-10-22T17:06:05.255468Z"
    }
   },
   "outputs": [
    {
     "name": "stdout",
     "output_type": "stream",
     "text": [
      "<class 'pandas.core.frame.DataFrame'>\n",
      "Index: 5 entries, tetrahedron to icosahedron\n",
      "Data columns (total 3 columns):\n",
      " #   Column    Non-Null Count  Dtype\n",
      "---  ------    --------------  -----\n",
      " 0   vertices  5 non-null      int64\n",
      " 1   edges     5 non-null      int64\n",
      " 2   faces     5 non-null      int64\n",
      "dtypes: int64(3)\n",
      "memory usage: 160.0+ bytes\n"
     ]
    }
   ],
   "source": [
    "platonic_solids.info()"
   ]
  },
  {
   "cell_type": "markdown",
   "metadata": {},
   "source": [
    "We can also use the `describe` method to numerically summarize the table, or the `memory_usage` method to look at the specific memory usage per column.\n",
    "\n",
    "We can access data by row, by column, or by individual elements directly. We can access all of these pieces of data in multiple ways. Generally when accessing *rows* of data, we will use the `loc` or `iloc` attributes. Generally when accessing columns of data we will use the column name directly."
   ]
  },
  {
   "cell_type": "code",
   "execution_count": 24,
   "metadata": {
    "ExecuteTime": {
     "end_time": "2023-10-22T17:06:05.952579Z",
     "start_time": "2023-10-22T17:06:05.258705Z"
    }
   },
   "outputs": [
    {
     "data": {
      "text/plain": "vertices    20\nedges       30\nfaces       12\nName: dodecahedron, dtype: int64"
     },
     "execution_count": 24,
     "metadata": {},
     "output_type": "execute_result"
    }
   ],
   "source": [
    "# access the data for a dodecahedron\n",
    "platonic_solids.loc['dodecahedron']"
   ]
  },
  {
   "cell_type": "code",
   "execution_count": 25,
   "metadata": {
    "ExecuteTime": {
     "end_time": "2023-10-22T17:06:05.952684Z",
     "start_time": "2023-10-22T17:06:05.262608Z"
    }
   },
   "outputs": [
    {
     "data": {
      "text/plain": "tetrahedron      6\ncube            12\noctohedron      12\ndodecahedron    30\nName: edges, dtype: int64"
     },
     "execution_count": 25,
     "metadata": {},
     "output_type": "execute_result"
    }
   ],
   "source": [
    "# access the number of edges for each solid\n",
    "platonic_solids.loc[ 'tetrahedron':'dodecahedron','edges']"
   ]
  },
  {
   "cell_type": "code",
   "execution_count": 26,
   "metadata": {
    "ExecuteTime": {
     "end_time": "2023-10-22T17:06:05.952788Z",
     "start_time": "2023-10-22T17:06:05.265758Z"
    }
   },
   "outputs": [
    {
     "data": {
      "text/plain": "tetrahedron      6\ncube            12\noctohedron      12\ndodecahedron    30\nicosahedron     30\nName: edges, dtype: int64"
     },
     "execution_count": 26,
     "metadata": {},
     "output_type": "execute_result"
    }
   ],
   "source": [
    "# we can abbreviate selecting an entire column\n",
    "platonic_solids['edges']  # or even platonic_solids.edges"
   ]
  },
  {
   "cell_type": "code",
   "execution_count": 27,
   "metadata": {
    "ExecuteTime": {
     "end_time": "2023-10-22T17:06:05.952888Z",
     "start_time": "2023-10-22T17:06:05.268849Z"
    }
   },
   "outputs": [
    {
     "data": {
      "text/plain": "20"
     },
     "execution_count": 27,
     "metadata": {},
     "output_type": "execute_result"
    }
   ],
   "source": [
    "# access the number of vertices that a dodecahedron has\n",
    "platonic_solids.loc['dodecahedron', 'vertices']"
   ]
  },
  {
   "cell_type": "markdown",
   "metadata": {},
   "source": [
    "The true power of `pandas` comes with selecting data. Selecting slices and individual elements are fine, but we usually need more than that. Let's say we want to select all platonic solids with 12 edges. To do so we need to *create a mask*. A mask is list/array/series of bools that indicates whether or not to select the value at its associated position. Creating a mask is as simple as just applying some comparison directly to a series/column:"
   ]
  },
  {
   "cell_type": "code",
   "execution_count": 28,
   "metadata": {
    "ExecuteTime": {
     "end_time": "2023-10-22T17:06:05.953056Z",
     "start_time": "2023-10-22T17:06:05.276969Z"
    }
   },
   "outputs": [
    {
     "data": {
      "text/plain": "              vertices  edges  faces\ntetrahedron          4      6      4\ncube                 8     12      6\noctohedron           6     12      8\ndodecahedron        20     30     12\nicosahedron         12     30     20",
      "text/html": "<div>\n<style scoped>\n    .dataframe tbody tr th:only-of-type {\n        vertical-align: middle;\n    }\n\n    .dataframe tbody tr th {\n        vertical-align: top;\n    }\n\n    .dataframe thead th {\n        text-align: right;\n    }\n</style>\n<table border=\"1\" class=\"dataframe\">\n  <thead>\n    <tr style=\"text-align: right;\">\n      <th></th>\n      <th>vertices</th>\n      <th>edges</th>\n      <th>faces</th>\n    </tr>\n  </thead>\n  <tbody>\n    <tr>\n      <th>tetrahedron</th>\n      <td>4</td>\n      <td>6</td>\n      <td>4</td>\n    </tr>\n    <tr>\n      <th>cube</th>\n      <td>8</td>\n      <td>12</td>\n      <td>6</td>\n    </tr>\n    <tr>\n      <th>octohedron</th>\n      <td>6</td>\n      <td>12</td>\n      <td>8</td>\n    </tr>\n    <tr>\n      <th>dodecahedron</th>\n      <td>20</td>\n      <td>30</td>\n      <td>12</td>\n    </tr>\n    <tr>\n      <th>icosahedron</th>\n      <td>12</td>\n      <td>30</td>\n      <td>20</td>\n    </tr>\n  </tbody>\n</table>\n</div>"
     },
     "execution_count": 28,
     "metadata": {},
     "output_type": "execute_result"
    }
   ],
   "source": [
    "platonic_solids"
   ]
  },
  {
   "cell_type": "markdown",
   "metadata": {},
   "source": [
    "Here edge is a index"
   ]
  },
  {
   "cell_type": "code",
   "execution_count": 29,
   "metadata": {
    "ExecuteTime": {
     "end_time": "2023-10-22T17:06:05.953169Z",
     "start_time": "2023-10-22T17:06:05.280529Z"
    }
   },
   "outputs": [
    {
     "data": {
      "text/plain": "tetrahedron     False\ncube             True\noctohedron       True\ndodecahedron    False\nicosahedron     False\nName: edges, dtype: bool"
     },
     "execution_count": 29,
     "metadata": {},
     "output_type": "execute_result"
    }
   ],
   "source": [
    "edge_mask = platonic_solids.edges == 12\n",
    "edge_mask"
   ]
  },
  {
   "cell_type": "markdown",
   "metadata": {},
   "source": [
    "We can use this mask to then access the rows that satisfy the comparison above"
   ]
  },
  {
   "cell_type": "code",
   "execution_count": 30,
   "metadata": {
    "ExecuteTime": {
     "end_time": "2023-10-22T17:06:05.953329Z",
     "start_time": "2023-10-22T17:06:05.285122Z"
    }
   },
   "outputs": [
    {
     "data": {
      "text/plain": "            vertices  edges  faces\ncube               8     12      6\noctohedron         6     12      8",
      "text/html": "<div>\n<style scoped>\n    .dataframe tbody tr th:only-of-type {\n        vertical-align: middle;\n    }\n\n    .dataframe tbody tr th {\n        vertical-align: top;\n    }\n\n    .dataframe thead th {\n        text-align: right;\n    }\n</style>\n<table border=\"1\" class=\"dataframe\">\n  <thead>\n    <tr style=\"text-align: right;\">\n      <th></th>\n      <th>vertices</th>\n      <th>edges</th>\n      <th>faces</th>\n    </tr>\n  </thead>\n  <tbody>\n    <tr>\n      <th>cube</th>\n      <td>8</td>\n      <td>12</td>\n      <td>6</td>\n    </tr>\n    <tr>\n      <th>octohedron</th>\n      <td>6</td>\n      <td>12</td>\n      <td>8</td>\n    </tr>\n  </tbody>\n</table>\n</div>"
     },
     "execution_count": 30,
     "metadata": {},
     "output_type": "execute_result"
    }
   ],
   "source": [
    "platonic_solids.loc[edge_mask]"
   ]
  },
  {
   "cell_type": "markdown",
   "metadata": {},
   "source": [
    "## Exercise\n",
    "\n",
    "Create a mask to select rows where the number of vertices is greater than the number of faces."
   ]
  },
  {
   "cell_type": "code",
   "execution_count": 31,
   "metadata": {
    "ExecuteTime": {
     "end_time": "2023-10-22T17:06:05.953482Z",
     "start_time": "2023-10-22T17:06:05.289395Z"
    }
   },
   "outputs": [
    {
     "data": {
      "text/plain": "              vertices  edges  faces\ntetrahedron          4      6      4\ncube                 8     12      6\noctohedron           6     12      8\ndodecahedron        20     30     12\nicosahedron         12     30     20",
      "text/html": "<div>\n<style scoped>\n    .dataframe tbody tr th:only-of-type {\n        vertical-align: middle;\n    }\n\n    .dataframe tbody tr th {\n        vertical-align: top;\n    }\n\n    .dataframe thead th {\n        text-align: right;\n    }\n</style>\n<table border=\"1\" class=\"dataframe\">\n  <thead>\n    <tr style=\"text-align: right;\">\n      <th></th>\n      <th>vertices</th>\n      <th>edges</th>\n      <th>faces</th>\n    </tr>\n  </thead>\n  <tbody>\n    <tr>\n      <th>tetrahedron</th>\n      <td>4</td>\n      <td>6</td>\n      <td>4</td>\n    </tr>\n    <tr>\n      <th>cube</th>\n      <td>8</td>\n      <td>12</td>\n      <td>6</td>\n    </tr>\n    <tr>\n      <th>octohedron</th>\n      <td>6</td>\n      <td>12</td>\n      <td>8</td>\n    </tr>\n    <tr>\n      <th>dodecahedron</th>\n      <td>20</td>\n      <td>30</td>\n      <td>12</td>\n    </tr>\n    <tr>\n      <th>icosahedron</th>\n      <td>12</td>\n      <td>30</td>\n      <td>20</td>\n    </tr>\n  </tbody>\n</table>\n</div>"
     },
     "execution_count": 31,
     "metadata": {},
     "output_type": "execute_result"
    }
   ],
   "source": [
    "platonic_solids"
   ]
  },
  {
   "cell_type": "code",
   "execution_count": 32,
   "metadata": {
    "ExecuteTime": {
     "end_time": "2023-10-22T17:06:05.953528Z",
     "start_time": "2023-10-22T17:06:05.292183Z"
    }
   },
   "outputs": [],
   "source": [
    "## KEY take away is that we can create a mask to compare values of two "
   ]
  },
  {
   "cell_type": "code",
   "execution_count": 33,
   "metadata": {
    "ExecuteTime": {
     "end_time": "2023-10-22T17:06:05.953686Z",
     "start_time": "2023-10-22T17:06:05.296523Z"
    }
   },
   "outputs": [
    {
     "data": {
      "text/plain": "              vertices  edges  faces\ncube                 8     12      6\ndodecahedron        20     30     12",
      "text/html": "<div>\n<style scoped>\n    .dataframe tbody tr th:only-of-type {\n        vertical-align: middle;\n    }\n\n    .dataframe tbody tr th {\n        vertical-align: top;\n    }\n\n    .dataframe thead th {\n        text-align: right;\n    }\n</style>\n<table border=\"1\" class=\"dataframe\">\n  <thead>\n    <tr style=\"text-align: right;\">\n      <th></th>\n      <th>vertices</th>\n      <th>edges</th>\n      <th>faces</th>\n    </tr>\n  </thead>\n  <tbody>\n    <tr>\n      <th>cube</th>\n      <td>8</td>\n      <td>12</td>\n      <td>6</td>\n    </tr>\n    <tr>\n      <th>dodecahedron</th>\n      <td>20</td>\n      <td>30</td>\n      <td>12</td>\n    </tr>\n  </tbody>\n</table>\n</div>"
     },
     "execution_count": 33,
     "metadata": {},
     "output_type": "execute_result"
    }
   ],
   "source": [
    "## Exercise\n",
    "edge_mask_vert_greater_faces = platonic_solids.vertices > platonic_solids.faces\n",
    "edge_mask_vert_greater_faces\n",
    "platonic_solids.loc[edge_mask_vert_greater_faces]\n",
    "##"
   ]
  },
  {
   "cell_type": "code",
   "execution_count": 34,
   "outputs": [
    {
     "data": {
      "text/plain": "             vertices  edges  faces\noctohedron          6     12      8\nicosahedron        12     30     20",
      "text/html": "<div>\n<style scoped>\n    .dataframe tbody tr th:only-of-type {\n        vertical-align: middle;\n    }\n\n    .dataframe tbody tr th {\n        vertical-align: top;\n    }\n\n    .dataframe thead th {\n        text-align: right;\n    }\n</style>\n<table border=\"1\" class=\"dataframe\">\n  <thead>\n    <tr style=\"text-align: right;\">\n      <th></th>\n      <th>vertices</th>\n      <th>edges</th>\n      <th>faces</th>\n    </tr>\n  </thead>\n  <tbody>\n    <tr>\n      <th>octohedron</th>\n      <td>6</td>\n      <td>12</td>\n      <td>8</td>\n    </tr>\n    <tr>\n      <th>icosahedron</th>\n      <td>12</td>\n      <td>30</td>\n      <td>20</td>\n    </tr>\n  </tbody>\n</table>\n</div>"
     },
     "execution_count": 34,
     "metadata": {},
     "output_type": "execute_result"
    }
   ],
   "source": [
    "edge_mask_2 = platonic_solids.vertices < platonic_solids.faces \n",
    "platonic_solids[edge_mask_2]"
   ],
   "metadata": {
    "collapsed": false,
    "ExecuteTime": {
     "end_time": "2023-10-22T17:06:05.953843Z",
     "start_time": "2023-10-22T17:06:05.301262Z"
    }
   }
  },
  {
   "cell_type": "markdown",
   "metadata": {},
   "source": [
    "`pandas` makes it super easy to load data from a file. We have a file in this repository called `nj_counties` that contains some census data detailing the population of each county of NJ for the year 2020, and estimates and projections for 2021 and 2022. We can tell `pandas` to automatically read a CSV into a dataframe using the `read_csv` method."
   ]
  },
  {
   "cell_type": "code",
   "execution_count": 124,
   "metadata": {
    "ExecuteTime": {
     "end_time": "2023-10-22T17:28:20.814655Z",
     "start_time": "2023-10-22T17:28:20.777834Z"
    }
   },
   "outputs": [
    {
     "data": {
      "text/plain": "               County    2020    2021    2022\n0     Atlantic County  274172  275130  275638\n1       Bergen County  953617  954879  952997\n2   Burlington County  461648  464411  466103\n3       Camden County  523074  524124  524907\n4     Cape May County   95040   95768   95634\n5   Cumberland County  153692  152089  151356\n6        Essex County  859924  854121  849477\n7   Gloucester County  302554  304620  306601\n8       Hudson County  721832  703447  703366\n9    Hunterdon County  128786  129668  129777\n10      Mercer County  386441  382116  380688\n11   Middlesex County  861314  862328  861418\n12    Monmouth County  642771  646392  644098\n13      Morris County  508384  510444  511151\n14       Ocean County  638422  649741  655735\n15     Passaic County  523406  518345  513936\n16       Salem County   64842   65058   65117\n17    Somerset County  344725  346331  346875\n18      Sussex County  143915  145645  146084\n19       Union County  573617  572810  569815\n20      Warren County  109513  110494  110926",
      "text/html": "<div>\n<style scoped>\n    .dataframe tbody tr th:only-of-type {\n        vertical-align: middle;\n    }\n\n    .dataframe tbody tr th {\n        vertical-align: top;\n    }\n\n    .dataframe thead th {\n        text-align: right;\n    }\n</style>\n<table border=\"1\" class=\"dataframe\">\n  <thead>\n    <tr style=\"text-align: right;\">\n      <th></th>\n      <th>County</th>\n      <th>2020</th>\n      <th>2021</th>\n      <th>2022</th>\n    </tr>\n  </thead>\n  <tbody>\n    <tr>\n      <th>0</th>\n      <td>Atlantic County</td>\n      <td>274172</td>\n      <td>275130</td>\n      <td>275638</td>\n    </tr>\n    <tr>\n      <th>1</th>\n      <td>Bergen County</td>\n      <td>953617</td>\n      <td>954879</td>\n      <td>952997</td>\n    </tr>\n    <tr>\n      <th>2</th>\n      <td>Burlington County</td>\n      <td>461648</td>\n      <td>464411</td>\n      <td>466103</td>\n    </tr>\n    <tr>\n      <th>3</th>\n      <td>Camden County</td>\n      <td>523074</td>\n      <td>524124</td>\n      <td>524907</td>\n    </tr>\n    <tr>\n      <th>4</th>\n      <td>Cape May County</td>\n      <td>95040</td>\n      <td>95768</td>\n      <td>95634</td>\n    </tr>\n    <tr>\n      <th>5</th>\n      <td>Cumberland County</td>\n      <td>153692</td>\n      <td>152089</td>\n      <td>151356</td>\n    </tr>\n    <tr>\n      <th>6</th>\n      <td>Essex County</td>\n      <td>859924</td>\n      <td>854121</td>\n      <td>849477</td>\n    </tr>\n    <tr>\n      <th>7</th>\n      <td>Gloucester County</td>\n      <td>302554</td>\n      <td>304620</td>\n      <td>306601</td>\n    </tr>\n    <tr>\n      <th>8</th>\n      <td>Hudson County</td>\n      <td>721832</td>\n      <td>703447</td>\n      <td>703366</td>\n    </tr>\n    <tr>\n      <th>9</th>\n      <td>Hunterdon County</td>\n      <td>128786</td>\n      <td>129668</td>\n      <td>129777</td>\n    </tr>\n    <tr>\n      <th>10</th>\n      <td>Mercer County</td>\n      <td>386441</td>\n      <td>382116</td>\n      <td>380688</td>\n    </tr>\n    <tr>\n      <th>11</th>\n      <td>Middlesex County</td>\n      <td>861314</td>\n      <td>862328</td>\n      <td>861418</td>\n    </tr>\n    <tr>\n      <th>12</th>\n      <td>Monmouth County</td>\n      <td>642771</td>\n      <td>646392</td>\n      <td>644098</td>\n    </tr>\n    <tr>\n      <th>13</th>\n      <td>Morris County</td>\n      <td>508384</td>\n      <td>510444</td>\n      <td>511151</td>\n    </tr>\n    <tr>\n      <th>14</th>\n      <td>Ocean County</td>\n      <td>638422</td>\n      <td>649741</td>\n      <td>655735</td>\n    </tr>\n    <tr>\n      <th>15</th>\n      <td>Passaic County</td>\n      <td>523406</td>\n      <td>518345</td>\n      <td>513936</td>\n    </tr>\n    <tr>\n      <th>16</th>\n      <td>Salem County</td>\n      <td>64842</td>\n      <td>65058</td>\n      <td>65117</td>\n    </tr>\n    <tr>\n      <th>17</th>\n      <td>Somerset County</td>\n      <td>344725</td>\n      <td>346331</td>\n      <td>346875</td>\n    </tr>\n    <tr>\n      <th>18</th>\n      <td>Sussex County</td>\n      <td>143915</td>\n      <td>145645</td>\n      <td>146084</td>\n    </tr>\n    <tr>\n      <th>19</th>\n      <td>Union County</td>\n      <td>573617</td>\n      <td>572810</td>\n      <td>569815</td>\n    </tr>\n    <tr>\n      <th>20</th>\n      <td>Warren County</td>\n      <td>109513</td>\n      <td>110494</td>\n      <td>110926</td>\n    </tr>\n  </tbody>\n</table>\n</div>"
     },
     "execution_count": 124,
     "metadata": {},
     "output_type": "execute_result"
    }
   ],
   "source": [
    "nj_county_data = pd.read_csv('data/nj_counties.csv')\n",
    "nj_county_data"
   ]
  },
  {
   "cell_type": "markdown",
   "metadata": {},
   "source": [
    "Let's organize this dataframe a little, to make it a little easier to work with. We want to move the column \"County\" to be the index of the dataframe, and we want to make sure that the column names are actual integers. When we parse columns from a CSV, `pandas` will automatically make them strings. This is usually OK, but since we are working with years, which are conventially integers, we want to make that conversion.\n",
    "\n",
    "For the index we can tell `pandas` to use a column as the index using the method `set_index`. To update the columns, we can tell `pandas` to reinterpret the labels as integers and overwrite them with the integer version."
   ]
  },
  {
   "cell_type": "code",
   "execution_count": 125,
   "outputs": [
    {
     "data": {
      "text/plain": "RangeIndex(start=0, stop=21, step=1)"
     },
     "execution_count": 125,
     "metadata": {},
     "output_type": "execute_result"
    }
   ],
   "source": [
    "nj_county_data.index"
   ],
   "metadata": {
    "collapsed": false,
    "ExecuteTime": {
     "end_time": "2023-10-22T17:28:21.518240Z",
     "start_time": "2023-10-22T17:28:21.500615Z"
    }
   }
  },
  {
   "cell_type": "code",
   "execution_count": 126,
   "metadata": {
    "ExecuteTime": {
     "end_time": "2023-10-22T17:28:21.713781Z",
     "start_time": "2023-10-22T17:28:21.697752Z"
    }
   },
   "outputs": [],
   "source": [
    "nj_county_data.set_index('County', inplace=True)  # pandas operations by default returns copies, but many operations can be told to be inplace!\n",
    "nj_county_data.columns = nj_county_data.columns.astype(int)\n"
   ]
  },
  {
   "cell_type": "code",
   "execution_count": 127,
   "outputs": [
    {
     "data": {
      "text/plain": "                     2020    2021    2022\nCounty                                   \nAtlantic County    274172  275130  275638\nBergen County      953617  954879  952997\nBurlington County  461648  464411  466103\nCamden County      523074  524124  524907\nCape May County     95040   95768   95634\nCumberland County  153692  152089  151356\nEssex County       859924  854121  849477\nGloucester County  302554  304620  306601\nHudson County      721832  703447  703366\nHunterdon County   128786  129668  129777\nMercer County      386441  382116  380688\nMiddlesex County   861314  862328  861418\nMonmouth County    642771  646392  644098\nMorris County      508384  510444  511151\nOcean County       638422  649741  655735\nPassaic County     523406  518345  513936\nSalem County        64842   65058   65117\nSomerset County    344725  346331  346875\nSussex County      143915  145645  146084\nUnion County       573617  572810  569815\nWarren County      109513  110494  110926",
      "text/html": "<div>\n<style scoped>\n    .dataframe tbody tr th:only-of-type {\n        vertical-align: middle;\n    }\n\n    .dataframe tbody tr th {\n        vertical-align: top;\n    }\n\n    .dataframe thead th {\n        text-align: right;\n    }\n</style>\n<table border=\"1\" class=\"dataframe\">\n  <thead>\n    <tr style=\"text-align: right;\">\n      <th></th>\n      <th>2020</th>\n      <th>2021</th>\n      <th>2022</th>\n    </tr>\n    <tr>\n      <th>County</th>\n      <th></th>\n      <th></th>\n      <th></th>\n    </tr>\n  </thead>\n  <tbody>\n    <tr>\n      <th>Atlantic County</th>\n      <td>274172</td>\n      <td>275130</td>\n      <td>275638</td>\n    </tr>\n    <tr>\n      <th>Bergen County</th>\n      <td>953617</td>\n      <td>954879</td>\n      <td>952997</td>\n    </tr>\n    <tr>\n      <th>Burlington County</th>\n      <td>461648</td>\n      <td>464411</td>\n      <td>466103</td>\n    </tr>\n    <tr>\n      <th>Camden County</th>\n      <td>523074</td>\n      <td>524124</td>\n      <td>524907</td>\n    </tr>\n    <tr>\n      <th>Cape May County</th>\n      <td>95040</td>\n      <td>95768</td>\n      <td>95634</td>\n    </tr>\n    <tr>\n      <th>Cumberland County</th>\n      <td>153692</td>\n      <td>152089</td>\n      <td>151356</td>\n    </tr>\n    <tr>\n      <th>Essex County</th>\n      <td>859924</td>\n      <td>854121</td>\n      <td>849477</td>\n    </tr>\n    <tr>\n      <th>Gloucester County</th>\n      <td>302554</td>\n      <td>304620</td>\n      <td>306601</td>\n    </tr>\n    <tr>\n      <th>Hudson County</th>\n      <td>721832</td>\n      <td>703447</td>\n      <td>703366</td>\n    </tr>\n    <tr>\n      <th>Hunterdon County</th>\n      <td>128786</td>\n      <td>129668</td>\n      <td>129777</td>\n    </tr>\n    <tr>\n      <th>Mercer County</th>\n      <td>386441</td>\n      <td>382116</td>\n      <td>380688</td>\n    </tr>\n    <tr>\n      <th>Middlesex County</th>\n      <td>861314</td>\n      <td>862328</td>\n      <td>861418</td>\n    </tr>\n    <tr>\n      <th>Monmouth County</th>\n      <td>642771</td>\n      <td>646392</td>\n      <td>644098</td>\n    </tr>\n    <tr>\n      <th>Morris County</th>\n      <td>508384</td>\n      <td>510444</td>\n      <td>511151</td>\n    </tr>\n    <tr>\n      <th>Ocean County</th>\n      <td>638422</td>\n      <td>649741</td>\n      <td>655735</td>\n    </tr>\n    <tr>\n      <th>Passaic County</th>\n      <td>523406</td>\n      <td>518345</td>\n      <td>513936</td>\n    </tr>\n    <tr>\n      <th>Salem County</th>\n      <td>64842</td>\n      <td>65058</td>\n      <td>65117</td>\n    </tr>\n    <tr>\n      <th>Somerset County</th>\n      <td>344725</td>\n      <td>346331</td>\n      <td>346875</td>\n    </tr>\n    <tr>\n      <th>Sussex County</th>\n      <td>143915</td>\n      <td>145645</td>\n      <td>146084</td>\n    </tr>\n    <tr>\n      <th>Union County</th>\n      <td>573617</td>\n      <td>572810</td>\n      <td>569815</td>\n    </tr>\n    <tr>\n      <th>Warren County</th>\n      <td>109513</td>\n      <td>110494</td>\n      <td>110926</td>\n    </tr>\n  </tbody>\n</table>\n</div>"
     },
     "execution_count": 127,
     "metadata": {},
     "output_type": "execute_result"
    }
   ],
   "source": [
    "nj_county_data"
   ],
   "metadata": {
    "collapsed": false,
    "ExecuteTime": {
     "end_time": "2023-10-22T17:28:21.916802Z",
     "start_time": "2023-10-22T17:28:21.889317Z"
    }
   }
  },
  {
   "cell_type": "markdown",
   "metadata": {},
   "source": [
    "By setting the index to the county, we can now access rows by their county, and now we can access yearly data more intuitively:"
   ]
  },
  {
   "cell_type": "code",
   "execution_count": 128,
   "metadata": {
    "ExecuteTime": {
     "end_time": "2023-10-22T17:28:22.604013Z",
     "start_time": "2023-10-22T17:28:22.572200Z"
    }
   },
   "outputs": [
    {
     "data": {
      "text/plain": "524907"
     },
     "execution_count": 128,
     "metadata": {},
     "output_type": "execute_result"
    }
   ],
   "source": [
    "nj_county_data.loc['Camden County', 2022]"
   ]
  },
  {
   "cell_type": "markdown",
   "metadata": {},
   "source": [
    "Let's add two columns to our dataframe called \"Change\" and \"Percent Change\" (respectively the difference from 2020 to 2022, and that difference divided by the counts of 2020). Because columns are just series (that share the same index!) we can easily use methemtical operations to create new series! For example:"
   ]
  },
  {
   "cell_type": "code",
   "execution_count": 128,
   "outputs": [],
   "source": [],
   "metadata": {
    "collapsed": false,
    "ExecuteTime": {
     "end_time": "2023-10-22T17:28:23.403453Z",
     "start_time": "2023-10-22T17:28:23.385238Z"
    }
   }
  },
  {
   "cell_type": "code",
   "execution_count": 129,
   "metadata": {
    "ExecuteTime": {
     "end_time": "2023-10-22T17:28:23.969789Z",
     "start_time": "2023-10-22T17:28:23.937987Z"
    }
   },
   "outputs": [
    {
     "data": {
      "text/plain": "County\nAtlantic County       1466\nBergen County         -620\nBurlington County     4455\nCamden County         1833\nCape May County        594\nCumberland County    -2336\nEssex County        -10447\nGloucester County     4047\nHudson County       -18466\nHunterdon County       991\nMercer County        -5753\nMiddlesex County       104\nMonmouth County       1327\nMorris County         2767\nOcean County         17313\nPassaic County       -9470\nSalem County           275\nSomerset County       2150\nSussex County         2169\nUnion County         -3802\nWarren County         1413\ndtype: int64"
     },
     "execution_count": 129,
     "metadata": {},
     "output_type": "execute_result"
    }
   ],
   "source": [
    "nj_county_data[2022] - nj_county_data[2020]"
   ]
  },
  {
   "cell_type": "markdown",
   "metadata": {},
   "source": [
    "We can assign this expression to a new column; all we need to do is use the subscript operator to access the new column and assign it some data that either has the same index as the dataframe, or the same length:"
   ]
  },
  {
   "cell_type": "markdown",
   "metadata": {},
   "source": [
    "# MY NOTES: \n",
    "- We are making new column here \n",
    "- "
   ]
  },
  {
   "cell_type": "code",
   "execution_count": 131,
   "metadata": {
    "ExecuteTime": {
     "end_time": "2023-10-22T17:28:46.674195Z",
     "start_time": "2023-10-22T17:28:46.655011Z"
    }
   },
   "outputs": [
    {
     "data": {
      "text/plain": "                     2020    2021    2022  Change_2020_to_2022  \\\nCounty                                                           \nAtlantic County    274172  275130  275638                 1466   \nBergen County      953617  954879  952997                 -620   \nBurlington County  461648  464411  466103                 4455   \nCamden County      523074  524124  524907                 1833   \nCape May County     95040   95768   95634                  594   \nCumberland County  153692  152089  151356                -2336   \nEssex County       859924  854121  849477               -10447   \nGloucester County  302554  304620  306601                 4047   \nHudson County      721832  703447  703366               -18466   \nHunterdon County   128786  129668  129777                  991   \nMercer County      386441  382116  380688                -5753   \nMiddlesex County   861314  862328  861418                  104   \nMonmouth County    642771  646392  644098                 1327   \nMorris County      508384  510444  511151                 2767   \nOcean County       638422  649741  655735                17313   \nPassaic County     523406  518345  513936                -9470   \nSalem County        64842   65058   65117                  275   \nSomerset County    344725  346331  346875                 2150   \nSussex County      143915  145645  146084                 2169   \nUnion County       573617  572810  569815                -3802   \nWarren County      109513  110494  110926                 1413   \n\n                   Percent_Change_2020_to_2022  \nCounty                                          \nAtlantic County                       0.534701  \nBergen County                        -0.065016  \nBurlington County                     0.965021  \nCamden County                         0.350428  \nCape May County                       0.625000  \nCumberland County                    -1.519923  \nEssex County                         -1.214875  \nGloucester County                     1.337612  \nHudson County                        -2.558213  \nHunterdon County                      0.769494  \nMercer County                        -1.488714  \nMiddlesex County                      0.012075  \nMonmouth County                       0.206450  \nMorris County                         0.544274  \nOcean County                          2.711843  \nPassaic County                       -1.809303  \nSalem County                          0.424108  \nSomerset County                       0.623686  \nSussex County                         1.507140  \nUnion County                         -0.662812  \nWarren County                         1.290258  ",
      "text/html": "<div>\n<style scoped>\n    .dataframe tbody tr th:only-of-type {\n        vertical-align: middle;\n    }\n\n    .dataframe tbody tr th {\n        vertical-align: top;\n    }\n\n    .dataframe thead th {\n        text-align: right;\n    }\n</style>\n<table border=\"1\" class=\"dataframe\">\n  <thead>\n    <tr style=\"text-align: right;\">\n      <th></th>\n      <th>2020</th>\n      <th>2021</th>\n      <th>2022</th>\n      <th>Change_2020_to_2022</th>\n      <th>Percent_Change_2020_to_2022</th>\n    </tr>\n    <tr>\n      <th>County</th>\n      <th></th>\n      <th></th>\n      <th></th>\n      <th></th>\n      <th></th>\n    </tr>\n  </thead>\n  <tbody>\n    <tr>\n      <th>Atlantic County</th>\n      <td>274172</td>\n      <td>275130</td>\n      <td>275638</td>\n      <td>1466</td>\n      <td>0.534701</td>\n    </tr>\n    <tr>\n      <th>Bergen County</th>\n      <td>953617</td>\n      <td>954879</td>\n      <td>952997</td>\n      <td>-620</td>\n      <td>-0.065016</td>\n    </tr>\n    <tr>\n      <th>Burlington County</th>\n      <td>461648</td>\n      <td>464411</td>\n      <td>466103</td>\n      <td>4455</td>\n      <td>0.965021</td>\n    </tr>\n    <tr>\n      <th>Camden County</th>\n      <td>523074</td>\n      <td>524124</td>\n      <td>524907</td>\n      <td>1833</td>\n      <td>0.350428</td>\n    </tr>\n    <tr>\n      <th>Cape May County</th>\n      <td>95040</td>\n      <td>95768</td>\n      <td>95634</td>\n      <td>594</td>\n      <td>0.625000</td>\n    </tr>\n    <tr>\n      <th>Cumberland County</th>\n      <td>153692</td>\n      <td>152089</td>\n      <td>151356</td>\n      <td>-2336</td>\n      <td>-1.519923</td>\n    </tr>\n    <tr>\n      <th>Essex County</th>\n      <td>859924</td>\n      <td>854121</td>\n      <td>849477</td>\n      <td>-10447</td>\n      <td>-1.214875</td>\n    </tr>\n    <tr>\n      <th>Gloucester County</th>\n      <td>302554</td>\n      <td>304620</td>\n      <td>306601</td>\n      <td>4047</td>\n      <td>1.337612</td>\n    </tr>\n    <tr>\n      <th>Hudson County</th>\n      <td>721832</td>\n      <td>703447</td>\n      <td>703366</td>\n      <td>-18466</td>\n      <td>-2.558213</td>\n    </tr>\n    <tr>\n      <th>Hunterdon County</th>\n      <td>128786</td>\n      <td>129668</td>\n      <td>129777</td>\n      <td>991</td>\n      <td>0.769494</td>\n    </tr>\n    <tr>\n      <th>Mercer County</th>\n      <td>386441</td>\n      <td>382116</td>\n      <td>380688</td>\n      <td>-5753</td>\n      <td>-1.488714</td>\n    </tr>\n    <tr>\n      <th>Middlesex County</th>\n      <td>861314</td>\n      <td>862328</td>\n      <td>861418</td>\n      <td>104</td>\n      <td>0.012075</td>\n    </tr>\n    <tr>\n      <th>Monmouth County</th>\n      <td>642771</td>\n      <td>646392</td>\n      <td>644098</td>\n      <td>1327</td>\n      <td>0.206450</td>\n    </tr>\n    <tr>\n      <th>Morris County</th>\n      <td>508384</td>\n      <td>510444</td>\n      <td>511151</td>\n      <td>2767</td>\n      <td>0.544274</td>\n    </tr>\n    <tr>\n      <th>Ocean County</th>\n      <td>638422</td>\n      <td>649741</td>\n      <td>655735</td>\n      <td>17313</td>\n      <td>2.711843</td>\n    </tr>\n    <tr>\n      <th>Passaic County</th>\n      <td>523406</td>\n      <td>518345</td>\n      <td>513936</td>\n      <td>-9470</td>\n      <td>-1.809303</td>\n    </tr>\n    <tr>\n      <th>Salem County</th>\n      <td>64842</td>\n      <td>65058</td>\n      <td>65117</td>\n      <td>275</td>\n      <td>0.424108</td>\n    </tr>\n    <tr>\n      <th>Somerset County</th>\n      <td>344725</td>\n      <td>346331</td>\n      <td>346875</td>\n      <td>2150</td>\n      <td>0.623686</td>\n    </tr>\n    <tr>\n      <th>Sussex County</th>\n      <td>143915</td>\n      <td>145645</td>\n      <td>146084</td>\n      <td>2169</td>\n      <td>1.507140</td>\n    </tr>\n    <tr>\n      <th>Union County</th>\n      <td>573617</td>\n      <td>572810</td>\n      <td>569815</td>\n      <td>-3802</td>\n      <td>-0.662812</td>\n    </tr>\n    <tr>\n      <th>Warren County</th>\n      <td>109513</td>\n      <td>110494</td>\n      <td>110926</td>\n      <td>1413</td>\n      <td>1.290258</td>\n    </tr>\n  </tbody>\n</table>\n</div>"
     },
     "execution_count": 131,
     "metadata": {},
     "output_type": "execute_result"
    }
   ],
   "source": [
    "nj_county_data['Change_2020_to_2022'] = nj_county_data[2022] - nj_county_data[2020]\n",
    "nj_county_data['Percent_Change_2020_to_2022'] = 100.0 * nj_county_data['Change_2020_to_2022'] / nj_county_data[2020]\n",
    "nj_county_data"
   ]
  },
  {
   "cell_type": "markdown",
   "metadata": {},
   "source": [
    "We can more clearly see how each county's population has changed - let's sort the dataframe according to the percent changes, in descending order:"
   ]
  },
  {
   "cell_type": "code",
   "execution_count": 133,
   "metadata": {
    "ExecuteTime": {
     "end_time": "2023-10-22T17:29:02.477837Z",
     "start_time": "2023-10-22T17:29:02.461650Z"
    }
   },
   "outputs": [
    {
     "data": {
      "text/plain": "                     2020    2021    2022  Change_2020_to_2022  \\\nCounty                                                           \nOcean County       638422  649741  655735                17313   \nSussex County      143915  145645  146084                 2169   \nGloucester County  302554  304620  306601                 4047   \nWarren County      109513  110494  110926                 1413   \nBurlington County  461648  464411  466103                 4455   \nHunterdon County   128786  129668  129777                  991   \nCape May County     95040   95768   95634                  594   \nSomerset County    344725  346331  346875                 2150   \nMorris County      508384  510444  511151                 2767   \nAtlantic County    274172  275130  275638                 1466   \nSalem County        64842   65058   65117                  275   \nCamden County      523074  524124  524907                 1833   \nMonmouth County    642771  646392  644098                 1327   \nMiddlesex County   861314  862328  861418                  104   \nBergen County      953617  954879  952997                 -620   \nUnion County       573617  572810  569815                -3802   \nEssex County       859924  854121  849477               -10447   \nMercer County      386441  382116  380688                -5753   \nCumberland County  153692  152089  151356                -2336   \nPassaic County     523406  518345  513936                -9470   \nHudson County      721832  703447  703366               -18466   \n\n                   Percent_Change_2020_to_2022  \nCounty                                          \nOcean County                          2.711843  \nSussex County                         1.507140  \nGloucester County                     1.337612  \nWarren County                         1.290258  \nBurlington County                     0.965021  \nHunterdon County                      0.769494  \nCape May County                       0.625000  \nSomerset County                       0.623686  \nMorris County                         0.544274  \nAtlantic County                       0.534701  \nSalem County                          0.424108  \nCamden County                         0.350428  \nMonmouth County                       0.206450  \nMiddlesex County                      0.012075  \nBergen County                        -0.065016  \nUnion County                         -0.662812  \nEssex County                         -1.214875  \nMercer County                        -1.488714  \nCumberland County                    -1.519923  \nPassaic County                       -1.809303  \nHudson County                        -2.558213  ",
      "text/html": "<div>\n<style scoped>\n    .dataframe tbody tr th:only-of-type {\n        vertical-align: middle;\n    }\n\n    .dataframe tbody tr th {\n        vertical-align: top;\n    }\n\n    .dataframe thead th {\n        text-align: right;\n    }\n</style>\n<table border=\"1\" class=\"dataframe\">\n  <thead>\n    <tr style=\"text-align: right;\">\n      <th></th>\n      <th>2020</th>\n      <th>2021</th>\n      <th>2022</th>\n      <th>Change_2020_to_2022</th>\n      <th>Percent_Change_2020_to_2022</th>\n    </tr>\n    <tr>\n      <th>County</th>\n      <th></th>\n      <th></th>\n      <th></th>\n      <th></th>\n      <th></th>\n    </tr>\n  </thead>\n  <tbody>\n    <tr>\n      <th>Ocean County</th>\n      <td>638422</td>\n      <td>649741</td>\n      <td>655735</td>\n      <td>17313</td>\n      <td>2.711843</td>\n    </tr>\n    <tr>\n      <th>Sussex County</th>\n      <td>143915</td>\n      <td>145645</td>\n      <td>146084</td>\n      <td>2169</td>\n      <td>1.507140</td>\n    </tr>\n    <tr>\n      <th>Gloucester County</th>\n      <td>302554</td>\n      <td>304620</td>\n      <td>306601</td>\n      <td>4047</td>\n      <td>1.337612</td>\n    </tr>\n    <tr>\n      <th>Warren County</th>\n      <td>109513</td>\n      <td>110494</td>\n      <td>110926</td>\n      <td>1413</td>\n      <td>1.290258</td>\n    </tr>\n    <tr>\n      <th>Burlington County</th>\n      <td>461648</td>\n      <td>464411</td>\n      <td>466103</td>\n      <td>4455</td>\n      <td>0.965021</td>\n    </tr>\n    <tr>\n      <th>Hunterdon County</th>\n      <td>128786</td>\n      <td>129668</td>\n      <td>129777</td>\n      <td>991</td>\n      <td>0.769494</td>\n    </tr>\n    <tr>\n      <th>Cape May County</th>\n      <td>95040</td>\n      <td>95768</td>\n      <td>95634</td>\n      <td>594</td>\n      <td>0.625000</td>\n    </tr>\n    <tr>\n      <th>Somerset County</th>\n      <td>344725</td>\n      <td>346331</td>\n      <td>346875</td>\n      <td>2150</td>\n      <td>0.623686</td>\n    </tr>\n    <tr>\n      <th>Morris County</th>\n      <td>508384</td>\n      <td>510444</td>\n      <td>511151</td>\n      <td>2767</td>\n      <td>0.544274</td>\n    </tr>\n    <tr>\n      <th>Atlantic County</th>\n      <td>274172</td>\n      <td>275130</td>\n      <td>275638</td>\n      <td>1466</td>\n      <td>0.534701</td>\n    </tr>\n    <tr>\n      <th>Salem County</th>\n      <td>64842</td>\n      <td>65058</td>\n      <td>65117</td>\n      <td>275</td>\n      <td>0.424108</td>\n    </tr>\n    <tr>\n      <th>Camden County</th>\n      <td>523074</td>\n      <td>524124</td>\n      <td>524907</td>\n      <td>1833</td>\n      <td>0.350428</td>\n    </tr>\n    <tr>\n      <th>Monmouth County</th>\n      <td>642771</td>\n      <td>646392</td>\n      <td>644098</td>\n      <td>1327</td>\n      <td>0.206450</td>\n    </tr>\n    <tr>\n      <th>Middlesex County</th>\n      <td>861314</td>\n      <td>862328</td>\n      <td>861418</td>\n      <td>104</td>\n      <td>0.012075</td>\n    </tr>\n    <tr>\n      <th>Bergen County</th>\n      <td>953617</td>\n      <td>954879</td>\n      <td>952997</td>\n      <td>-620</td>\n      <td>-0.065016</td>\n    </tr>\n    <tr>\n      <th>Union County</th>\n      <td>573617</td>\n      <td>572810</td>\n      <td>569815</td>\n      <td>-3802</td>\n      <td>-0.662812</td>\n    </tr>\n    <tr>\n      <th>Essex County</th>\n      <td>859924</td>\n      <td>854121</td>\n      <td>849477</td>\n      <td>-10447</td>\n      <td>-1.214875</td>\n    </tr>\n    <tr>\n      <th>Mercer County</th>\n      <td>386441</td>\n      <td>382116</td>\n      <td>380688</td>\n      <td>-5753</td>\n      <td>-1.488714</td>\n    </tr>\n    <tr>\n      <th>Cumberland County</th>\n      <td>153692</td>\n      <td>152089</td>\n      <td>151356</td>\n      <td>-2336</td>\n      <td>-1.519923</td>\n    </tr>\n    <tr>\n      <th>Passaic County</th>\n      <td>523406</td>\n      <td>518345</td>\n      <td>513936</td>\n      <td>-9470</td>\n      <td>-1.809303</td>\n    </tr>\n    <tr>\n      <th>Hudson County</th>\n      <td>721832</td>\n      <td>703447</td>\n      <td>703366</td>\n      <td>-18466</td>\n      <td>-2.558213</td>\n    </tr>\n  </tbody>\n</table>\n</div>"
     },
     "execution_count": 133,
     "metadata": {},
     "output_type": "execute_result"
    }
   ],
   "source": [
    "nj_county_data.sort_values(by='Percent_Change_2020_to_2022', ascending=False, inplace=True)\n",
    "nj_county_data"
   ]
  },
  {
   "cell_type": "markdown",
   "metadata": {},
   "source": [
    "While looking at raw changes are useful, it can be just as useful looking at percentage changes. Percentages can normalize a dataset, and can help highlight substantial fluctuations within the data (e.g. a change of 20k people in Bergen County is siginificantly less impactful than a change of 20k people in Salem County). "
   ]
  },
  {
   "cell_type": "markdown",
   "metadata": {},
   "source": [
    "## Exercise\n",
    "\n",
    "We want to take our NJ population data and filter it on multiple criteria. We can apply logical combinations of masks using the `&` (bitwise and) and `|` (bitwise or) operators. These are considered \"bitwise\" operations in the sense that each element of a mask is effectively a \"bit\" and we are performing logical operations bit by bit.\n",
    "\n",
    "We want to get all counties whos `Percent Change` has an absolute value grater than 1 and a 2022 estimated population greater than 500000.0. Create a mask for each of those two criteria, and then create a third mask that is created by joining the first two using a *bitwise-and* operation."
   ]
  },
  {
   "cell_type": "code",
   "execution_count": null,
   "outputs": [],
   "source": [],
   "metadata": {
    "collapsed": false
   }
  },
  {
   "cell_type": "code",
   "execution_count": 135,
   "metadata": {
    "ExecuteTime": {
     "end_time": "2023-10-22T17:40:03.343307Z",
     "start_time": "2023-10-22T17:40:03.317002Z"
    }
   },
   "outputs": [
    {
     "name": "stdout",
     "output_type": "stream",
     "text": [
      "County\n",
      "Ocean County          True\n",
      "Sussex County         True\n",
      "Gloucester County     True\n",
      "Warren County         True\n",
      "Burlington County    False\n",
      "Hunterdon County     False\n",
      "Cape May County      False\n",
      "Somerset County      False\n",
      "Morris County        False\n",
      "Atlantic County      False\n",
      "Salem County         False\n",
      "Camden County        False\n",
      "Monmouth County      False\n",
      "Middlesex County     False\n",
      "Bergen County        False\n",
      "Union County         False\n",
      "Essex County          True\n",
      "Mercer County         True\n",
      "Cumberland County     True\n",
      "Passaic County        True\n",
      "Hudson County         True\n",
      "Name: Percent_Change_2020_to_2022, dtype: bool\n",
      "------------\n",
      "County\n",
      "Ocean County          True\n",
      "Sussex County        False\n",
      "Gloucester County    False\n",
      "Warren County        False\n",
      "Burlington County    False\n",
      "Hunterdon County     False\n",
      "Cape May County      False\n",
      "Somerset County      False\n",
      "Morris County         True\n",
      "Atlantic County      False\n",
      "Salem County         False\n",
      "Camden County         True\n",
      "Monmouth County       True\n",
      "Middlesex County      True\n",
      "Bergen County         True\n",
      "Union County          True\n",
      "Essex County          True\n",
      "Mercer County        False\n",
      "Cumberland County    False\n",
      "Passaic County        True\n",
      "Hudson County         True\n",
      "Name: 2022, dtype: bool\n"
     ]
    },
    {
     "data": {
      "text/plain": "                  2020    2021    2022  Change_2020_to_2022  \\\nCounty                                                        \nOcean County    638422  649741  655735                17313   \nEssex County    859924  854121  849477               -10447   \nPassaic County  523406  518345  513936                -9470   \nHudson County   721832  703447  703366               -18466   \n\n                Percent_Change_2020_to_2022  \nCounty                                       \nOcean County                       2.711843  \nEssex County                      -1.214875  \nPassaic County                    -1.809303  \nHudson County                     -2.558213  ",
      "text/html": "<div>\n<style scoped>\n    .dataframe tbody tr th:only-of-type {\n        vertical-align: middle;\n    }\n\n    .dataframe tbody tr th {\n        vertical-align: top;\n    }\n\n    .dataframe thead th {\n        text-align: right;\n    }\n</style>\n<table border=\"1\" class=\"dataframe\">\n  <thead>\n    <tr style=\"text-align: right;\">\n      <th></th>\n      <th>2020</th>\n      <th>2021</th>\n      <th>2022</th>\n      <th>Change_2020_to_2022</th>\n      <th>Percent_Change_2020_to_2022</th>\n    </tr>\n    <tr>\n      <th>County</th>\n      <th></th>\n      <th></th>\n      <th></th>\n      <th></th>\n      <th></th>\n    </tr>\n  </thead>\n  <tbody>\n    <tr>\n      <th>Ocean County</th>\n      <td>638422</td>\n      <td>649741</td>\n      <td>655735</td>\n      <td>17313</td>\n      <td>2.711843</td>\n    </tr>\n    <tr>\n      <th>Essex County</th>\n      <td>859924</td>\n      <td>854121</td>\n      <td>849477</td>\n      <td>-10447</td>\n      <td>-1.214875</td>\n    </tr>\n    <tr>\n      <th>Passaic County</th>\n      <td>523406</td>\n      <td>518345</td>\n      <td>513936</td>\n      <td>-9470</td>\n      <td>-1.809303</td>\n    </tr>\n    <tr>\n      <th>Hudson County</th>\n      <td>721832</td>\n      <td>703447</td>\n      <td>703366</td>\n      <td>-18466</td>\n      <td>-2.558213</td>\n    </tr>\n  </tbody>\n</table>\n</div>"
     },
     "execution_count": 135,
     "metadata": {},
     "output_type": "execute_result"
    }
   ],
   "source": [
    "mask_percentage_change = nj_county_data['Percent_Change_2020_to_2022'].abs() > 1\n",
    "mask_greater_than_5m = nj_county_data[2022] > 500000\n",
    "\n",
    "print(mask_percentage_change)\n",
    "print('------------')\n",
    "print(mask_greater_than_5m)\n",
    "\n",
    "final_mask = mask_greater_than_5m & mask_percentage_change\n",
    "\n",
    "nj_county_data[final_mask]\n",
    "\n"
   ]
  },
  {
   "cell_type": "code",
   "execution_count": 136,
   "metadata": {
    "ExecuteTime": {
     "end_time": "2023-10-22T17:41:41.225464Z",
     "start_time": "2023-10-22T17:41:41.212552Z"
    }
   },
   "outputs": [],
   "source": [
    "def foo(x, y):\n",
    "    return 2*x + y - 1"
   ]
  },
  {
   "cell_type": "code",
   "execution_count": 137,
   "metadata": {
    "ExecuteTime": {
     "end_time": "2023-10-22T17:41:46.037666Z",
     "start_time": "2023-10-22T17:41:45.988511Z"
    }
   },
   "outputs": [
    {
     "name": "stdout",
     "output_type": "stream",
     "text": [
      "do something else\n"
     ]
    }
   ],
   "source": [
    "if foo(10, 10) > 300:\n",
    "    print('do something')\n",
    "else:\n",
    "    print('do something else') "
   ]
  },
  {
   "cell_type": "code",
   "execution_count": 138,
   "outputs": [
    {
     "name": "stdout",
     "output_type": "stream",
     "text": [
      "2\n",
      "4\n",
      "6\n",
      "2\n",
      "4\n",
      "6\n",
      "2\n",
      "4\n",
      "6\n",
      "2\n",
      "4\n",
      "6\n",
      "2\n",
      "4\n",
      "6\n",
      "2\n",
      "4\n",
      "6\n",
      "2\n",
      "4\n",
      "6\n",
      "2\n",
      "4\n",
      "6\n",
      "2\n",
      "4\n",
      "6\n",
      "2\n",
      "4\n",
      "6\n",
      "2\n",
      "4\n",
      "6\n",
      "2\n",
      "4\n",
      "6\n",
      "2\n",
      "4\n",
      "6\n",
      "2\n",
      "4\n",
      "6\n",
      "2\n",
      "4\n",
      "6\n",
      "2\n",
      "4\n",
      "6\n",
      "2\n",
      "4\n",
      "6\n",
      "2\n",
      "4\n",
      "6\n",
      "2\n",
      "4\n",
      "6\n",
      "2\n",
      "4\n",
      "6\n",
      "2\n",
      "4\n",
      "6\n",
      "2\n",
      "4\n",
      "6\n",
      "2\n",
      "4\n",
      "6\n",
      "2\n",
      "4\n",
      "6\n",
      "2\n",
      "4\n",
      "6\n",
      "2\n",
      "4\n",
      "6\n",
      "2\n",
      "4\n",
      "6\n",
      "2\n",
      "4\n",
      "6\n",
      "2\n",
      "4\n",
      "6\n",
      "2\n",
      "4\n",
      "6\n",
      "2\n",
      "4\n",
      "6\n",
      "2\n",
      "4\n",
      "6\n",
      "2\n",
      "4\n",
      "6\n",
      "2\n",
      "4\n",
      "6\n",
      "2\n",
      "4\n",
      "6\n",
      "2\n",
      "4\n",
      "6\n",
      "2\n",
      "4\n",
      "6\n",
      "2\n",
      "4\n",
      "6\n",
      "2\n",
      "4\n",
      "6\n",
      "2\n",
      "4\n",
      "6\n",
      "2\n",
      "4\n",
      "6\n",
      "2\n",
      "4\n",
      "6\n",
      "2\n",
      "4\n",
      "6\n",
      "2\n",
      "4\n",
      "6\n",
      "2\n",
      "4\n",
      "6\n",
      "2\n",
      "4\n",
      "6\n",
      "2\n",
      "4\n",
      "6\n",
      "2\n",
      "4\n",
      "6\n",
      "2\n",
      "4\n",
      "6\n",
      "2\n",
      "4\n",
      "6\n",
      "2\n",
      "4\n",
      "6\n",
      "2\n",
      "4\n",
      "6\n",
      "2\n",
      "4\n",
      "6\n",
      "2\n",
      "4\n",
      "6\n",
      "2\n",
      "4\n",
      "6\n",
      "2\n",
      "4\n",
      "6\n",
      "2\n",
      "4\n",
      "6\n",
      "2\n",
      "4\n",
      "6\n",
      "2\n",
      "4\n",
      "6\n",
      "2\n",
      "4\n",
      "6\n",
      "2\n",
      "4\n",
      "6\n",
      "2\n",
      "4\n",
      "6\n",
      "2\n",
      "4\n",
      "6\n",
      "2\n",
      "4\n",
      "6\n",
      "2\n",
      "4\n",
      "6\n",
      "2\n",
      "4\n",
      "6\n",
      "2\n",
      "4\n",
      "6\n",
      "2\n",
      "4\n",
      "6\n",
      "2\n",
      "4\n",
      "6\n",
      "2\n",
      "4\n",
      "6\n",
      "2\n",
      "4\n",
      "6\n",
      "2\n",
      "4\n",
      "6\n",
      "2\n",
      "4\n",
      "6\n",
      "2\n",
      "4\n",
      "6\n",
      "2\n",
      "4\n",
      "6\n",
      "2\n",
      "4\n",
      "6\n",
      "2\n",
      "4\n",
      "6\n",
      "2\n",
      "4\n",
      "6\n",
      "2\n",
      "4\n",
      "6\n",
      "2\n",
      "4\n",
      "6\n",
      "2\n",
      "4\n",
      "6\n",
      "2\n",
      "4\n",
      "6\n",
      "2\n",
      "4\n",
      "6\n",
      "2\n",
      "4\n",
      "6\n",
      "2\n",
      "4\n",
      "6\n",
      "2\n",
      "4\n",
      "6\n",
      "2\n",
      "4\n",
      "6\n",
      "2\n",
      "4\n",
      "6\n",
      "2\n",
      "4\n",
      "6\n",
      "2\n",
      "4\n",
      "6\n",
      "2\n",
      "4\n",
      "6\n",
      "2\n",
      "4\n",
      "6\n",
      "2\n",
      "4\n",
      "6\n",
      "2\n",
      "4\n",
      "6\n",
      "2\n",
      "4\n",
      "6\n",
      "2\n",
      "4\n",
      "6\n",
      "2\n",
      "4\n",
      "6\n",
      "2\n",
      "4\n",
      "6\n",
      "2\n",
      "4\n",
      "6\n",
      "2\n",
      "4\n",
      "6\n"
     ]
    }
   ],
   "source": [
    "a = [1, 2, 3] * 100\n",
    "for i in a:\n",
    "    print(i * 2)"
   ],
   "metadata": {
    "collapsed": false,
    "ExecuteTime": {
     "end_time": "2023-10-22T17:41:58.854156Z",
     "start_time": "2023-10-22T17:41:58.766576Z"
    }
   }
  },
  {
   "cell_type": "code",
   "execution_count": 139,
   "outputs": [],
   "source": [
    "mat = np.array([[1, 2, 3, 4, 5], [6, 7, 8, 9, 10], [11, 12, 13, 14, 15]]) # 3x5 matrix"
   ],
   "metadata": {
    "collapsed": false,
    "ExecuteTime": {
     "end_time": "2023-10-22T17:43:12.379765Z",
     "start_time": "2023-10-22T17:43:12.328399Z"
    }
   }
  },
  {
   "cell_type": "code",
   "execution_count": 140,
   "outputs": [
    {
     "data": {
      "text/plain": "array([[ 1,  2,  3,  4,  5],\n       [ 6,  7,  8,  9, 10],\n       [11, 12, 13, 14, 15]])"
     },
     "execution_count": 140,
     "metadata": {},
     "output_type": "execute_result"
    }
   ],
   "source": [
    "mat"
   ],
   "metadata": {
    "collapsed": false,
    "ExecuteTime": {
     "end_time": "2023-10-22T17:43:18.150542Z",
     "start_time": "2023-10-22T17:43:18.094366Z"
    }
   }
  },
  {
   "cell_type": "code",
   "execution_count": 141,
   "outputs": [],
   "source": [
    "mat_slice = mat[:, 1:4] # from every row take the middle 3 elements "
   ],
   "metadata": {
    "collapsed": false,
    "ExecuteTime": {
     "end_time": "2023-10-22T17:43:20.259335Z",
     "start_time": "2023-10-22T17:43:20.208323Z"
    }
   }
  },
  {
   "cell_type": "code",
   "execution_count": 142,
   "outputs": [
    {
     "data": {
      "text/plain": "array([[ 2,  3,  4],\n       [ 7,  8,  9],\n       [12, 13, 14]])"
     },
     "execution_count": 142,
     "metadata": {},
     "output_type": "execute_result"
    }
   ],
   "source": [
    "mat_slice"
   ],
   "metadata": {
    "collapsed": false,
    "ExecuteTime": {
     "end_time": "2023-10-22T17:43:24.814396Z",
     "start_time": "2023-10-22T17:43:24.730118Z"
    }
   }
  },
  {
   "cell_type": "code",
   "execution_count": 143,
   "outputs": [],
   "source": [
    "arr1 = np.array([1, 2, 3, 4, 5])\n",
    "arr2 = np.array([6, 7, 8, 9, 10])\n",
    "arr3 = arr1 * arr2"
   ],
   "metadata": {
    "collapsed": false,
    "ExecuteTime": {
     "end_time": "2023-10-22T17:43:43.659975Z",
     "start_time": "2023-10-22T17:43:43.597942Z"
    }
   }
  },
  {
   "cell_type": "code",
   "execution_count": 144,
   "outputs": [
    {
     "data": {
      "text/plain": "array([ 6, 14, 24, 36, 50])"
     },
     "execution_count": 144,
     "metadata": {},
     "output_type": "execute_result"
    }
   ],
   "source": [
    "arr3"
   ],
   "metadata": {
    "collapsed": false,
    "ExecuteTime": {
     "end_time": "2023-10-22T17:43:46.723196Z",
     "start_time": "2023-10-22T17:43:46.655887Z"
    }
   }
  },
  {
   "cell_type": "code",
   "execution_count": 145,
   "outputs": [],
   "source": [
    "arr1 = np.linspace(0.0, 100.0, 50) # create 50 evenly spaced numbers in the closed range [0.0, 100.0]"
   ],
   "metadata": {
    "collapsed": false,
    "ExecuteTime": {
     "end_time": "2023-10-22T17:44:03.636297Z",
     "start_time": "2023-10-22T17:44:03.576977Z"
    }
   }
  },
  {
   "cell_type": "code",
   "execution_count": 146,
   "outputs": [
    {
     "data": {
      "text/plain": "array([  0.        ,   2.04081633,   4.08163265,   6.12244898,\n         8.16326531,  10.20408163,  12.24489796,  14.28571429,\n        16.32653061,  18.36734694,  20.40816327,  22.44897959,\n        24.48979592,  26.53061224,  28.57142857,  30.6122449 ,\n        32.65306122,  34.69387755,  36.73469388,  38.7755102 ,\n        40.81632653,  42.85714286,  44.89795918,  46.93877551,\n        48.97959184,  51.02040816,  53.06122449,  55.10204082,\n        57.14285714,  59.18367347,  61.2244898 ,  63.26530612,\n        65.30612245,  67.34693878,  69.3877551 ,  71.42857143,\n        73.46938776,  75.51020408,  77.55102041,  79.59183673,\n        81.63265306,  83.67346939,  85.71428571,  87.75510204,\n        89.79591837,  91.83673469,  93.87755102,  95.91836735,\n        97.95918367, 100.        ])"
     },
     "execution_count": 146,
     "metadata": {},
     "output_type": "execute_result"
    }
   ],
   "source": [
    "arr1"
   ],
   "metadata": {
    "collapsed": false,
    "ExecuteTime": {
     "end_time": "2023-10-22T17:44:06.330290Z",
     "start_time": "2023-10-22T17:44:06.270410Z"
    }
   }
  },
  {
   "cell_type": "code",
   "execution_count": null,
   "outputs": [],
   "source": [],
   "metadata": {
    "collapsed": false
   }
  }
 ],
 "metadata": {
  "kernelspec": {
   "display_name": "Python 3",
   "language": "python",
   "name": "python3"
  },
  "language_info": {
   "codemirror_mode": {
    "name": "ipython",
    "version": 3
   },
   "file_extension": ".py",
   "mimetype": "text/x-python",
   "name": "python",
   "nbconvert_exporter": "python",
   "pygments_lexer": "ipython3",
   "version": "3.11.5"
  },
  "orig_nbformat": 4
 },
 "nbformat": 4,
 "nbformat_minor": 2
}
