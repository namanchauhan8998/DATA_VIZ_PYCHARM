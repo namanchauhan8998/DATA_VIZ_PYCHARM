{
 "cells": [
  {
   "cell_type": "code",
   "execution_count": null,
   "metadata": {},
   "outputs": [],
   "source": [
    "# DO NOT MODIFY THIS CODE!\n",
    "import warnings\n",
    "warnings.simplefilter(action='ignore', category=FutureWarning)\n",
    "# DO NOT MODIFY THIS CODE!"
   ]
  },
  {
   "cell_type": "markdown",
   "metadata": {},
   "source": [
    "# Task-01\n",
    "\n",
    "We want to create to use NumPy to help us loosely simulate a cannonball being launched. Our simulation will be extremely basic - we will only care about 2-dimensional space and gravity (no aerodynamics or other external forces). This leaves us with a simple equation for modeling the altitude of a cannonball launched from ground-level.\n",
    "\n",
    "Given an *elapsed-time* $t$ and an initial velocity $v_{0y}t$, we can compute the altitude $y$ of the cannonball at any given moment using the equation:\n",
    "\n",
    "$$y = v_{0y}t - 4.905t^{2}$$\n",
    "\n",
    "Our solution requires only a few steps:\n",
    "\n",
    "1. Using `np.linspace` create a linear spacing from `0.0` to `10.0` using `50` steps, which represent discrete points of time in our simulation. Store this linear space in a variable named `times_s`\n",
    "2. Write a function `compute_altitude` that implements the equations above; while this equation has *two* variables, our function is going to assume that $v_0y$ is simply equal to 49.05, and so our function only needs to take in a single input named $time_s$. This changes our above equation to:\n",
    "\n",
    "    $$y = 49.05t - 4.905t^{2}$$\n",
    "\n",
    "3. We need to *vectorize* our function so that we can easily apply it to NumPy arrays (this is easy, even if we haven't learned it yet!)\n",
    "    * There are two ways we can do this, for now we are going to use the \"longer\" way; **after we have have defined our function**, we will replace it with a vectorized version of itself using this line code:\n",
    "\n",
    "        `compute_altitude = np.vectorize(compute_altitude)`\n",
    "\n",
    "        This make it so that we can pass NumPy arrays into our function, and our *original function* will be applied to every element in the array!\n",
    "4. And finally, we will call the function `compute_altitude` with `times_s` as the input, storing the result in a new variable named `altitudes_m`.\n"
   ]
  },
  {
   "cell_type": "code",
   "execution_count": 1,
   "metadata": {},
   "outputs": [
    {
     "name": "stdout",
     "output_type": "stream",
     "text": [
      "[ 0.          0.20408163  0.40816327  0.6122449   0.81632653  1.02040816\n",
      "  1.2244898   1.42857143  1.63265306  1.83673469  2.04081633  2.24489796\n",
      "  2.44897959  2.65306122  2.85714286  3.06122449  3.26530612  3.46938776\n",
      "  3.67346939  3.87755102  4.08163265  4.28571429  4.48979592  4.69387755\n",
      "  4.89795918  5.10204082  5.30612245  5.51020408  5.71428571  5.91836735\n",
      "  6.12244898  6.32653061  6.53061224  6.73469388  6.93877551  7.14285714\n",
      "  7.34693878  7.55102041  7.75510204  7.95918367  8.16326531  8.36734694\n",
      "  8.57142857  8.7755102   8.97959184  9.18367347  9.3877551   9.59183673\n",
      "  9.79591837 10.        ]\n"
     ]
    }
   ],
   "source": [
    "## SOLUTION START\n",
    "# You will ultimately need variables `altitudes_m` and `times_s` for the test code to work properly!\n",
    "import numpy as np \n",
    "times_s=np.linspace(0.0,10.0,50)\n",
    "print(times_s)\n",
    "def compute_altitude(time):\n",
    "    return 49.05*time - time*time*4.905\n",
    "## SOLUTION END"
   ]
  },
  {
   "cell_type": "code",
   "execution_count": null,
   "metadata": {},
   "outputs": [],
   "source": [
    "# DO NOT MODIFY THIS CODE!\n",
    "print(altitudes_m)\n",
    "import holoviews as hv\n",
    "hv.extension('bokeh')\n",
    "hv.Scatter(zip(times_s, altitudes_m)).opts(height=512, width=512, title='Basic Cannonball', xlabel='Time (s)', ylabel='Altitude (m)', show_grid=True)\n",
    "# DO NOT MODIFY THIS CODE!"
   ]
  }
 ],
 "metadata": {
  "kernelspec": {
   "display_name": "Python 3 (ipykernel)",
   "language": "python",
   "name": "python3"
  },
  "language_info": {
   "codemirror_mode": {
    "name": "ipython",
    "version": 3
   },
   "file_extension": ".py",
   "mimetype": "text/x-python",
   "name": "python",
   "nbconvert_exporter": "python",
   "pygments_lexer": "ipython3",
   "version": "3.11.4"
  }
 },
 "nbformat": 4,
 "nbformat_minor": 2
}
